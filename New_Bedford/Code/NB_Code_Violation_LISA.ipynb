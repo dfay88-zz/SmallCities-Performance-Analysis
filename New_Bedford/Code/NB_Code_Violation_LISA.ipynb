{
 "cells": [
  {
   "cell_type": "markdown",
   "metadata": {
    "deletable": true,
    "editable": true
   },
   "source": [
    "# New Bedford Code Violation Local Indicators of Spatial Association\n",
    "#### Daniel Fay"
   ]
  },
  {
   "cell_type": "code",
   "execution_count": 40,
   "metadata": {
    "collapsed": false,
    "deletable": true,
    "editable": true
   },
   "outputs": [],
   "source": [
    "# Import necessary packages\n",
    "import pandas as pd\n",
    "import geopandas as gpd\n",
    "import numpy as np\n",
    "import pysal as ps\n",
    "import matplotlib.pyplot as plt\n",
    "import seaborn\n",
    "%matplotlib inline"
   ]
  },
  {
   "cell_type": "code",
   "execution_count": 47,
   "metadata": {
    "collapsed": false,
    "deletable": true,
    "editable": true
   },
   "outputs": [],
   "source": [
    "# Import data\n",
    "codeViolations = gpd.read_file('../Data/New_Bedford_CodeViolation_Shapefiles/code_violation_count.shp')\n",
    "codeViolations.crs = {'init' :'epsg:4326'}\n"
   ]
  },
  {
   "cell_type": "code",
   "execution_count": 49,
   "metadata": {
    "collapsed": false
   },
   "outputs": [
    {
     "data": {
      "text/plain": [
       "1138"
      ]
     },
     "execution_count": 49,
     "metadata": {},
     "output_type": "execute_result"
    }
   ],
   "source": [
    "cvCount = codeViolations.Code_Viola\n",
    "len(codeViolations)"
   ]
  },
  {
   "cell_type": "code",
   "execution_count": 50,
   "metadata": {
    "collapsed": false,
    "deletable": true,
    "editable": true
   },
   "outputs": [
    {
     "name": "stderr",
     "output_type": "stream",
     "text": [
      "/Users/Danny1/anaconda/lib/python2.7/site-packages/pysal/weights/weights.py:190: UserWarning: Island ids: 188, 415, 462, 464, 967, 969, 1035, 1117\n",
      "  warnings.warn(\"Island ids: %s\" % ', '.join(str(island) for island in self.islands))\n"
     ]
    }
   ],
   "source": [
    "# Import and convert to spatial weigths\n",
    "spatialWeights = ps.queen_from_shapefile('../Data/New_Bedford_CodeViolation_Shapefiles/code_violation_count.shp')"
   ]
  },
  {
   "cell_type": "code",
   "execution_count": 51,
   "metadata": {
    "collapsed": false,
    "deletable": true,
    "editable": true
   },
   "outputs": [],
   "source": [
    "# Calculate spatial lag\n",
    "spatialLag = ps.lag_spatial(spatialWeights, cvCount)"
   ]
  },
  {
   "cell_type": "code",
   "execution_count": 52,
   "metadata": {
    "collapsed": false,
    "deletable": true,
    "editable": true
   },
   "outputs": [
    {
     "name": "stdout",
     "output_type": "stream",
     "text": [
      "('WARNING: ', 188, ' is an island (no neighbors)')\n",
      "('WARNING: ', 415, ' is an island (no neighbors)')\n",
      "('WARNING: ', 462, ' is an island (no neighbors)')\n",
      "('WARNING: ', 464, ' is an island (no neighbors)')\n",
      "('WARNING: ', 967, ' is an island (no neighbors)')\n",
      "('WARNING: ', 969, ' is an island (no neighbors)')\n",
      "('WARNING: ', 1035, ' is an island (no neighbors)')\n",
      "('WARNING: ', 1117, ' is an island (no neighbors)')\n"
     ]
    },
    {
     "name": "stderr",
     "output_type": "stream",
     "text": [
      "/Users/Danny1/anaconda/lib/python2.7/site-packages/pysal/esda/moran.py:835: RuntimeWarning: invalid value encountered in divide\n",
      "  self.z_sim = (self.Is - self.EI_sim) / self.seI_sim\n"
     ]
    }
   ],
   "source": [
    "# Calculate Local Morans I\n",
    "localMorans = ps.Moran_Local(cvCount, spatialWeights, permutations=999)"
   ]
  },
  {
   "cell_type": "code",
   "execution_count": 53,
   "metadata": {
    "collapsed": false,
    "deletable": true,
    "editable": true
   },
   "outputs": [],
   "source": [
    "# Calculate Global Morans I\n",
    "globalMorans = ps.Moran(cvCount, spatialWeights)"
   ]
  },
  {
   "cell_type": "code",
   "execution_count": 54,
   "metadata": {
    "collapsed": false,
    "deletable": true,
    "editable": true
   },
   "outputs": [],
   "source": [
    "# Find significant values\n",
    "sigs = cvCount[localMorans.p_sim <= .05]\n",
    "insigs = cvCount[localMorans.p_sim > .05]\n",
    "\n",
    "W_sigs = spatialLag[localMorans.p_sim <= .05]\n",
    "W_insigs = spatialLag[localMorans.p_sim > .05]"
   ]
  },
  {
   "cell_type": "code",
   "execution_count": null,
   "metadata": {
    "collapsed": false,
    "deletable": true,
    "editable": true
   },
   "outputs": [],
   "source": [
    "b,a = np.polyfit(cvCount, spatialLag, 1)\n",
    "\n",
    "f, ax = plt.subplots(figsize=(10, 8))\n",
    "plt.plot(sigs, W_sigs, '.', color='firebrick')\n",
    "plt.plot(insigs, W_insigs, '.k', alpha=.4)\n",
    "plt.text(s='$I = %.3f$' % globalMorans.I, x=100, y=100, fontsize=18)\n",
    "\n",
    " # dashed vert at mean of the last year's PCI\n",
    "plt.vlines(cvCount.mean(), spatialLag.min(), spatialLag.max(), linestyle='--')\n",
    " # dashed horizontal at mean of lagged PCI\n",
    "plt.hlines(spatialLag.mean(), cvCount.min(), cvCount.max(), linestyle='--')\n",
    "\n",
    "# red line of best fit using global I as slope\n",
    "plt.plot(cvCount, a + b*cvCount, 'r')\n",
    "plt.title('Moran Scatterplot', fontsize=20)\n",
    "plt.ylabel('Spatial Lag of Code Violations', fontsize=16)\n",
    "plt.xlabel('Code Violations', fontsize=16)"
   ]
  },
  {
   "cell_type": "code",
   "execution_count": 55,
   "metadata": {
    "collapsed": false,
    "deletable": true,
    "editable": true
   },
   "outputs": [
    {
     "name": "stdout",
     "output_type": "stream",
     "text": [
      "('Number of Hot-Hot spots:', 32)\n",
      "('Number of Cold-Cold spots:', 139)\n",
      "('Number of Hot-Cold spots:', 19)\n",
      "('Number of Cold-Hot spots:', 16)\n"
     ]
    }
   ],
   "source": [
    "sig = localMorans.p_sim < 0.05\n",
    "insig = localMorans.p_sim >= 0.05\n",
    "hot_hot = localMorans.q==1 * sig\n",
    "cold_cold = localMorans.q==3 * sig\n",
    "hot_cold= localMorans.q==2 * sig\n",
    "cold_hot = localMorans.q==4 * sig\n",
    "\n",
    "print (\"Number of Hot-Hot spots:\", hot_hot.sum())\n",
    "print (\"Number of Cold-Cold spots:\", cold_cold.sum())\n",
    "print (\"Number of Hot-Cold spots:\", hot_cold.sum())\n",
    "print (\"Number of Cold-Hot spots:\", cold_hot.sum())"
   ]
  },
  {
   "cell_type": "code",
   "execution_count": 56,
   "metadata": {
    "collapsed": false,
    "deletable": true,
    "editable": true
   },
   "outputs": [
    {
     "data": {
      "text/html": [
       "<div>\n",
       "<table border=\"1\" class=\"dataframe\">\n",
       "  <thead>\n",
       "    <tr style=\"text-align: right;\">\n",
       "      <th></th>\n",
       "      <th>Census_Tra</th>\n",
       "      <th>Code_Viola</th>\n",
       "      <th>geometry</th>\n",
       "      <th>hot_hot</th>\n",
       "      <th>hot_cold</th>\n",
       "      <th>cold_cold</th>\n",
       "      <th>cold_hot</th>\n",
       "      <th>insig</th>\n",
       "      <th>localMorans</th>\n",
       "    </tr>\n",
       "  </thead>\n",
       "  <tbody>\n",
       "    <tr>\n",
       "      <th>0</th>\n",
       "      <td>250056501011001</td>\n",
       "      <td>6.722689</td>\n",
       "      <td>POLYGON ((-70.95696500049569 41.73801399964196...</td>\n",
       "      <td>0</td>\n",
       "      <td>0</td>\n",
       "      <td>0</td>\n",
       "      <td>0</td>\n",
       "      <td>1</td>\n",
       "      <td>0.065797</td>\n",
       "    </tr>\n",
       "    <tr>\n",
       "      <th>1</th>\n",
       "      <td>250056501011003</td>\n",
       "      <td>8.333333</td>\n",
       "      <td>POLYGON ((-70.9530680005213 41.7323549996479, ...</td>\n",
       "      <td>0</td>\n",
       "      <td>0</td>\n",
       "      <td>0</td>\n",
       "      <td>0</td>\n",
       "      <td>1</td>\n",
       "      <td>-0.060103</td>\n",
       "    </tr>\n",
       "    <tr>\n",
       "      <th>2</th>\n",
       "      <td>250056501011006</td>\n",
       "      <td>28.571429</td>\n",
       "      <td>POLYGON ((-70.95271000000064 41.73432400033531...</td>\n",
       "      <td>0</td>\n",
       "      <td>0</td>\n",
       "      <td>0</td>\n",
       "      <td>0</td>\n",
       "      <td>1</td>\n",
       "      <td>-0.078469</td>\n",
       "    </tr>\n",
       "    <tr>\n",
       "      <th>3</th>\n",
       "      <td>250056501011007</td>\n",
       "      <td>12.500000</td>\n",
       "      <td>POLYGON ((-70.94453000055297 41.73790199969402...</td>\n",
       "      <td>0</td>\n",
       "      <td>0</td>\n",
       "      <td>0</td>\n",
       "      <td>0</td>\n",
       "      <td>1</td>\n",
       "      <td>0.032371</td>\n",
       "    </tr>\n",
       "    <tr>\n",
       "      <th>4</th>\n",
       "      <td>250056501011008</td>\n",
       "      <td>2.424242</td>\n",
       "      <td>POLYGON ((-70.94141700052184 41.739900999809, ...</td>\n",
       "      <td>0</td>\n",
       "      <td>0</td>\n",
       "      <td>0</td>\n",
       "      <td>0</td>\n",
       "      <td>1</td>\n",
       "      <td>0.154124</td>\n",
       "    </tr>\n",
       "  </tbody>\n",
       "</table>\n",
       "</div>"
      ],
      "text/plain": [
       "        Census_Tra  Code_Viola  \\\n",
       "0  250056501011001    6.722689   \n",
       "1  250056501011003    8.333333   \n",
       "2  250056501011006   28.571429   \n",
       "3  250056501011007   12.500000   \n",
       "4  250056501011008    2.424242   \n",
       "\n",
       "                                            geometry  hot_hot  hot_cold  \\\n",
       "0  POLYGON ((-70.95696500049569 41.73801399964196...        0         0   \n",
       "1  POLYGON ((-70.9530680005213 41.7323549996479, ...        0         0   \n",
       "2  POLYGON ((-70.95271000000064 41.73432400033531...        0         0   \n",
       "3  POLYGON ((-70.94453000055297 41.73790199969402...        0         0   \n",
       "4  POLYGON ((-70.94141700052184 41.739900999809, ...        0         0   \n",
       "\n",
       "   cold_cold  cold_hot  insig  localMorans  \n",
       "0          0         0      1     0.065797  \n",
       "1          0         0      1    -0.060103  \n",
       "2          0         0      1    -0.078469  \n",
       "3          0         0      1     0.032371  \n",
       "4          0         0      1     0.154124  "
      ]
     },
     "execution_count": 56,
     "metadata": {},
     "output_type": "execute_result"
    }
   ],
   "source": [
    "codeViolations['hot_hot'] = hot_hot.astype(int)\n",
    "codeViolations['hot_cold'] = hot_cold.astype(int)\n",
    "codeViolations['cold_cold'] = cold_cold.astype(int)\n",
    "codeViolations['cold_hot'] = cold_hot.astype(int)\n",
    "codeViolations['insig'] = insig.astype(int)\n",
    "codeViolations['localMorans'] = localMorans.Is\n",
    "codeViolations.head()"
   ]
  },
  {
   "cell_type": "code",
   "execution_count": 57,
   "metadata": {
    "collapsed": false,
    "deletable": true,
    "editable": true
   },
   "outputs": [],
   "source": [
    "codeViolations.to_file('../Data/New_Bedford_CodeViolation_Shapefiles/hot_cold_spots.shp')"
   ]
  },
  {
   "cell_type": "code",
   "execution_count": 58,
   "metadata": {
    "collapsed": false,
    "deletable": true,
    "editable": true
   },
   "outputs": [],
   "source": [
    "codeViolations_LM = codeViolations[['Census_Tra', 'localMorans', 'geometry']]\n",
    "codeViolations_LM.to_file('../Data/New_Bedford_CodeViolation_Shapefiles/local_morans.shp')"
   ]
  },
  {
   "cell_type": "code",
   "execution_count": null,
   "metadata": {
    "collapsed": true,
    "deletable": true,
    "editable": true
   },
   "outputs": [],
   "source": []
  }
 ],
 "metadata": {
  "anaconda-cloud": {},
  "kernelspec": {
   "display_name": "Python [default]",
   "language": "python",
   "name": "python2"
  },
  "language_info": {
   "codemirror_mode": {
    "name": "ipython",
    "version": 2
   },
   "file_extension": ".py",
   "mimetype": "text/x-python",
   "name": "python",
   "nbconvert_exporter": "python",
   "pygments_lexer": "ipython2",
   "version": "2.7.8"
  }
 },
 "nbformat": 4,
 "nbformat_minor": 2
}
