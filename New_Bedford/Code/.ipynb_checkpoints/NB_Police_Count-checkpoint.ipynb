{
 "cells": [
  {
   "cell_type": "markdown",
   "metadata": {
    "deletable": true,
    "editable": true
   },
   "source": [
    "# New Bedford Police Data Analysis\n",
    "#### Daniel Fay"
   ]
  },
  {
   "cell_type": "code",
   "execution_count": 1,
   "metadata": {
    "collapsed": true,
    "deletable": true,
    "editable": true
   },
   "outputs": [],
   "source": [
    "# Import necessary packages\n",
    "import pandas as pd\n",
    "import geopandas as gpd\n",
    "import numpy as np\n",
    "import datetime as dt\n",
    "from shapely.geometry import Point\n",
    "import matplotlib.pyplot as plt\n",
    "import matplotlib.dates as mdates\n",
    "import seaborn\n",
    "%matplotlib inline"
   ]
  },
  {
   "cell_type": "code",
   "execution_count": 2,
   "metadata": {
    "collapsed": false,
    "deletable": true,
    "editable": true
   },
   "outputs": [],
   "source": [
    "# Import data\n",
    "policeData = pd.read_csv('../Data/NB_Police_Data.csv', index_col=0)\n",
    "geoCodes = pd.read_csv('../Data/NBPD_geocodes.csv', index_col=0)"
   ]
  },
  {
   "cell_type": "code",
   "execution_count": 3,
   "metadata": {
    "collapsed": false,
    "deletable": true,
    "editable": true
   },
   "outputs": [
    {
     "data": {
      "text/plain": [
       "34023"
      ]
     },
     "execution_count": 3,
     "metadata": {},
     "output_type": "execute_result"
    }
   ],
   "source": [
    "# Merge geocodes with police data\n",
    "policeData = pd.merge(policeData, geoCodes, how='left', on='address')\n",
    "policeData.drop_duplicates(inplace=True)\n",
    "len(policeData)"
   ]
  },
  {
   "cell_type": "code",
   "execution_count": 4,
   "metadata": {
    "collapsed": false,
    "deletable": true,
    "editable": true
   },
   "outputs": [
    {
     "data": {
      "text/html": [
       "<div>\n",
       "<table border=\"1\" class=\"dataframe\">\n",
       "  <thead>\n",
       "    <tr style=\"text-align: right;\">\n",
       "      <th></th>\n",
       "      <th>RptDate</th>\n",
       "      <th>RptTime</th>\n",
       "      <th>IBR</th>\n",
       "      <th>IBRDesc</th>\n",
       "      <th>address</th>\n",
       "      <th>rpt_date</th>\n",
       "      <th>coordinate</th>\n",
       "    </tr>\n",
       "  </thead>\n",
       "  <tbody>\n",
       "    <tr>\n",
       "      <th>0</th>\n",
       "      <td>20140114</td>\n",
       "      <td>1709</td>\n",
       "      <td>99</td>\n",
       "      <td>Traffic, Town By-Law Offenses</td>\n",
       "      <td>393    S Front                   St   New Bedf...</td>\n",
       "      <td>2014-01-14 17:09:00</td>\n",
       "      <td>(41.6214342, -70.9196667)</td>\n",
       "    </tr>\n",
       "    <tr>\n",
       "      <th>1</th>\n",
       "      <td>20140114</td>\n",
       "      <td>1632</td>\n",
       "      <td>120</td>\n",
       "      <td>Robbery</td>\n",
       "      <td>95     Brook                     St   New Bedf...</td>\n",
       "      <td>2014-01-14 16:32:00</td>\n",
       "      <td>(41.66028499999999, -70.932615)</td>\n",
       "    </tr>\n",
       "    <tr>\n",
       "      <th>4</th>\n",
       "      <td>20140114</td>\n",
       "      <td>2237</td>\n",
       "      <td>120</td>\n",
       "      <td>Robbery</td>\n",
       "      <td>2136   Acushnet                  Ave  New Bedf...</td>\n",
       "      <td>2014-01-14 22:37:00</td>\n",
       "      <td>(41.6804513, -70.9221044)</td>\n",
       "    </tr>\n",
       "    <tr>\n",
       "      <th>8</th>\n",
       "      <td>20140114</td>\n",
       "      <td>1355</td>\n",
       "      <td>120</td>\n",
       "      <td>Robbery</td>\n",
       "      <td>308    Raymond                   St   New Bedf...</td>\n",
       "      <td>2014-01-14 13:55:00</td>\n",
       "      <td>(41.6859839, -70.9325798)</td>\n",
       "    </tr>\n",
       "    <tr>\n",
       "      <th>9</th>\n",
       "      <td>20140114</td>\n",
       "      <td>1217</td>\n",
       "      <td>220</td>\n",
       "      <td>Burglary / Breaking and Entering</td>\n",
       "      <td>531    Wood                      St   New Bedf...</td>\n",
       "      <td>2014-01-14 12:17:00</td>\n",
       "      <td>(41.6790397, -70.9356025)</td>\n",
       "    </tr>\n",
       "  </tbody>\n",
       "</table>\n",
       "</div>"
      ],
      "text/plain": [
       "    RptDate  RptTime  IBR                           IBRDesc  \\\n",
       "0  20140114     1709  99      Traffic, Town By-Law Offenses   \n",
       "1  20140114     1632  120                           Robbery   \n",
       "4  20140114     2237  120                           Robbery   \n",
       "8  20140114     1355  120                           Robbery   \n",
       "9  20140114     1217  220  Burglary / Breaking and Entering   \n",
       "\n",
       "                                             address             rpt_date  \\\n",
       "0  393    S Front                   St   New Bedf...  2014-01-14 17:09:00   \n",
       "1  95     Brook                     St   New Bedf...  2014-01-14 16:32:00   \n",
       "4  2136   Acushnet                  Ave  New Bedf...  2014-01-14 22:37:00   \n",
       "8  308    Raymond                   St   New Bedf...  2014-01-14 13:55:00   \n",
       "9  531    Wood                      St   New Bedf...  2014-01-14 12:17:00   \n",
       "\n",
       "                        coordinate  \n",
       "0        (41.6214342, -70.9196667)  \n",
       "1  (41.66028499999999, -70.932615)  \n",
       "4        (41.6804513, -70.9221044)  \n",
       "8        (41.6859839, -70.9325798)  \n",
       "9        (41.6790397, -70.9356025)  "
      ]
     },
     "execution_count": 4,
     "metadata": {},
     "output_type": "execute_result"
    }
   ],
   "source": [
    "policeData.head()"
   ]
  },
  {
   "cell_type": "markdown",
   "metadata": {
    "collapsed": true,
    "deletable": true,
    "editable": true
   },
   "source": [
    "#### Find Top 10 Crime Types"
   ]
  },
  {
   "cell_type": "code",
   "execution_count": 5,
   "metadata": {
    "collapsed": false,
    "deletable": true,
    "editable": true
   },
   "outputs": [
    {
     "data": {
      "text/html": [
       "<div>\n",
       "<table border=\"1\" class=\"dataframe\">\n",
       "  <thead>\n",
       "    <tr style=\"text-align: right;\">\n",
       "      <th></th>\n",
       "      <th>Count</th>\n",
       "    </tr>\n",
       "    <tr>\n",
       "      <th>IBRDesc</th>\n",
       "      <th></th>\n",
       "    </tr>\n",
       "  </thead>\n",
       "  <tbody>\n",
       "    <tr>\n",
       "      <th>Traffic, Town By-Law Offenses</th>\n",
       "      <td>4329</td>\n",
       "    </tr>\n",
       "    <tr>\n",
       "      <th>Destruction / Damage / Vandalism of Property</th>\n",
       "      <td>3612</td>\n",
       "    </tr>\n",
       "    <tr>\n",
       "      <th>All Other Larceny</th>\n",
       "      <td>3097</td>\n",
       "    </tr>\n",
       "    <tr>\n",
       "      <th>All Other Offenses</th>\n",
       "      <td>2358</td>\n",
       "    </tr>\n",
       "    <tr>\n",
       "      <th>Burglary / Breaking and Entering</th>\n",
       "      <td>2351</td>\n",
       "    </tr>\n",
       "    <tr>\n",
       "      <th>Simple Assault</th>\n",
       "      <td>2289</td>\n",
       "    </tr>\n",
       "    <tr>\n",
       "      <th>Intimidation</th>\n",
       "      <td>1964</td>\n",
       "    </tr>\n",
       "    <tr>\n",
       "      <th>Drunkenness</th>\n",
       "      <td>1515</td>\n",
       "    </tr>\n",
       "    <tr>\n",
       "      <th>Drug / Narcotic Violations</th>\n",
       "      <td>1446</td>\n",
       "    </tr>\n",
       "    <tr>\n",
       "      <th>Aggravated Assault</th>\n",
       "      <td>1340</td>\n",
       "    </tr>\n",
       "  </tbody>\n",
       "</table>\n",
       "</div>"
      ],
      "text/plain": [
       "                                              Count\n",
       "IBRDesc                                            \n",
       "Traffic, Town By-Law Offenses                  4329\n",
       "Destruction / Damage / Vandalism of Property   3612\n",
       "All Other Larceny                              3097\n",
       "All Other Offenses                             2358\n",
       "Burglary / Breaking and Entering               2351\n",
       "Simple Assault                                 2289\n",
       "Intimidation                                   1964\n",
       "Drunkenness                                    1515\n",
       "Drug / Narcotic Violations                     1446\n",
       "Aggravated Assault                             1340"
      ]
     },
     "execution_count": 5,
     "metadata": {},
     "output_type": "execute_result"
    }
   ],
   "source": [
    "policeDataCount = policeData.groupby('IBRDesc').count()\n",
    "policeDataCount = policeDataCount[['RptDate']]\n",
    "policeDataCount.columns = ['Count']\n",
    "policeDataCount.sort_values('Count', inplace=True, ascending=False)\n",
    "policeDataCount.head(10)"
   ]
  },
  {
   "cell_type": "code",
   "execution_count": 6,
   "metadata": {
    "collapsed": false,
    "deletable": true,
    "editable": true
   },
   "outputs": [
    {
     "data": {
      "text/plain": [
       "<matplotlib.text.Text at 0x1020cbe10>"
      ]
     },
     "execution_count": 6,
     "metadata": {},
     "output_type": "execute_result"
    },
    {
     "data": {
      "image/png": "[encoded data removed]",
      "text/plain": [
       "<matplotlib.figure.Figure at 0x112253390>"
      ]
     },
     "metadata": {},
     "output_type": "display_data"
    }
   ],
   "source": [
    "fig, ax = plt.subplots(figsize = (10,6))\n",
    "policeDataCount.head(10).sort_values('Count').plot.barh(fontsize=11, ax=ax)\n",
    "ax.set_title('Top 10 Crime Types', fontsize=18)\n",
    "ax.set_ylabel('Crime Types', fontsize=14)"
   ]
  },
  {
   "cell_type": "markdown",
   "metadata": {
    "deletable": true,
    "editable": true
   },
   "source": [
    "#### Find Total Crimes per Month"
   ]
  },
  {
   "cell_type": "code",
   "execution_count": 7,
   "metadata": {
    "collapsed": false,
    "deletable": true,
    "editable": true
   },
   "outputs": [
    {
     "data": {
      "text/html": [
       "<div>\n",
       "<table border=\"1\" class=\"dataframe\">\n",
       "  <thead>\n",
       "    <tr style=\"text-align: right;\">\n",
       "      <th></th>\n",
       "      <th>date</th>\n",
       "      <th>Total Crimes</th>\n",
       "    </tr>\n",
       "  </thead>\n",
       "  <tbody>\n",
       "    <tr>\n",
       "      <th>0</th>\n",
       "      <td>2014-01-01</td>\n",
       "      <td>449</td>\n",
       "    </tr>\n",
       "    <tr>\n",
       "      <th>1</th>\n",
       "      <td>2014-02-01</td>\n",
       "      <td>644</td>\n",
       "    </tr>\n",
       "    <tr>\n",
       "      <th>2</th>\n",
       "      <td>2014-03-01</td>\n",
       "      <td>744</td>\n",
       "    </tr>\n",
       "    <tr>\n",
       "      <th>3</th>\n",
       "      <td>2014-04-01</td>\n",
       "      <td>909</td>\n",
       "    </tr>\n",
       "    <tr>\n",
       "      <th>4</th>\n",
       "      <td>2014-05-01</td>\n",
       "      <td>958</td>\n",
       "    </tr>\n",
       "  </tbody>\n",
       "</table>\n",
       "</div>"
      ],
      "text/plain": [
       "        date  Total Crimes\n",
       "0 2014-01-01           449\n",
       "1 2014-02-01           644\n",
       "2 2014-03-01           744\n",
       "3 2014-04-01           909\n",
       "4 2014-05-01           958"
      ]
     },
     "execution_count": 7,
     "metadata": {},
     "output_type": "execute_result"
    }
   ],
   "source": [
    "policeData['rpt_date'] = pd.to_datetime(policeData['rpt_date'])\n",
    "policeData['Month'] = policeData['rpt_date'].dt.month\n",
    "policeData['Year'] = policeData['rpt_date'].dt.year\n",
    "policeData_month = policeData.groupby(['Year', 'Month']).count()\n",
    "policeData_month = policeData_month[['address']]\n",
    "policeData_month.columns = ['Total Crimes']\n",
    "policeData_month.reset_index(inplace=True)\n",
    "policeData_month['date'] = policeData_month.Year.astype(str) + '-' + policeData_month.Month.astype(str)\n",
    "policeData_month = policeData_month[['date', 'Total Crimes']]\n",
    "policeData_month['date'] = pd.to_datetime(policeData_month['date'], format='%Y-%m')\n",
    "policeData_month.head()"
   ]
  },
  {
   "cell_type": "code",
   "execution_count": 8,
   "metadata": {
    "collapsed": false,
    "deletable": true,
    "editable": true
   },
   "outputs": [
    {
     "data": {
      "image/png": "[encoded data removed]",
      "text/plain": [
       "<matplotlib.figure.Figure at 0x1123ce390>"
      ]
     },
     "metadata": {},
     "output_type": "display_data"
    }
   ],
   "source": [
    "fig, ax = plt.subplots(figsize = (14,8))\n",
    "#years = mdates.YearLocator() \n",
    "months = mdates.MonthLocator()\n",
    "yearsFmt = mdates.DateFormatter('%Y-%m')\n",
    "\n",
    "ax.plot(policeData_month.date[1:-1], policeData_month['Total Crimes'][1:-1])\n",
    "ax.xaxis.set(major_formatter=yearsFmt, major_locator=months)\n",
    "\n",
    "ax.set_title('Total Crimes per Month', fontsize=18, y=1.025)\n",
    "ax.set_ylabel('Total Crimes', fontsize=14)\n",
    "ax.set_xlabel('Month', fontsize=14)\n",
    "ax.xaxis.set_label_coords(0.5, -0.15)\n",
    "ax.yaxis.set_label_coords(-.05, 0.5)\n",
    "plt.xticks(rotation=75)\n",
    "plt.legend(fontsize=12)\n",
    "plt.show()"
   ]
  },
  {
   "cell_type": "markdown",
   "metadata": {
    "deletable": true,
    "editable": true
   },
   "source": [
    "#### Find Count of Crimes in Each Census Block"
   ]
  },
  {
   "cell_type": "code",
   "execution_count": 9,
   "metadata": {
    "collapsed": false,
    "deletable": true,
    "editable": true
   },
   "outputs": [],
   "source": [
    "censusBlocks = gpd.read_file('../Data/CENSUS2010_BLK_BG_TRCT_SHP/CensusBlockClip.shp')\n",
    "censusBlocks = censusBlocks.to_crs({'init' :'epsg:4326'})"
   ]
  },
  {
   "cell_type": "code",
   "execution_count": 10,
   "metadata": {
    "collapsed": false,
    "deletable": true,
    "editable": true
   },
   "outputs": [
    {
     "data": {
      "text/plain": [
       "33989"
      ]
     },
     "execution_count": 10,
     "metadata": {},
     "output_type": "execute_result"
    }
   ],
   "source": [
    "policeData.dropna(inplace=True)\n",
    "len(policeData)"
   ]
  },
  {
   "cell_type": "code",
   "execution_count": 11,
   "metadata": {
    "collapsed": false,
    "deletable": true,
    "editable": true
   },
   "outputs": [],
   "source": [
    "lat = []\n",
    "lon = []\n",
    "for ix, row in policeData.iterrows():\n",
    "    latitude = row['coordinate'].split('(')[1].split(',')[0]\n",
    "    longitude = row['coordinate'].split(')')[0].split(',')[1]\n",
    "    lat.append(latitude)\n",
    "    lon.append(longitude)"
   ]
  },
  {
   "cell_type": "code",
   "execution_count": 12,
   "metadata": {
    "collapsed": false,
    "deletable": true,
    "editable": true
   },
   "outputs": [
    {
     "name": "stdout",
     "output_type": "stream",
     "text": [
      "33989\n",
      "33989\n"
     ]
    }
   ],
   "source": [
    "print len(lat)\n",
    "print len(lon)"
   ]
  },
  {
   "cell_type": "code",
   "execution_count": 13,
   "metadata": {
    "collapsed": false,
    "deletable": true,
    "editable": true
   },
   "outputs": [
    {
     "data": {
      "text/html": [
       "<div>\n",
       "<table border=\"1\" class=\"dataframe\">\n",
       "  <thead>\n",
       "    <tr style=\"text-align: right;\">\n",
       "      <th></th>\n",
       "      <th>RptDate</th>\n",
       "      <th>RptTime</th>\n",
       "      <th>IBR</th>\n",
       "      <th>IBRDesc</th>\n",
       "      <th>address</th>\n",
       "      <th>rpt_date</th>\n",
       "      <th>coordinate</th>\n",
       "      <th>Month</th>\n",
       "      <th>Year</th>\n",
       "      <th>latitude</th>\n",
       "      <th>longitude</th>\n",
       "      <th>geometry</th>\n",
       "    </tr>\n",
       "  </thead>\n",
       "  <tbody>\n",
       "    <tr>\n",
       "      <th>0</th>\n",
       "      <td>20140114</td>\n",
       "      <td>1709</td>\n",
       "      <td>99</td>\n",
       "      <td>Traffic, Town By-Law Offenses</td>\n",
       "      <td>393    S Front                   St   New Bedf...</td>\n",
       "      <td>2014-01-14 17:09:00</td>\n",
       "      <td>(41.6214342, -70.9196667)</td>\n",
       "      <td>1</td>\n",
       "      <td>2014</td>\n",
       "      <td>41.621434</td>\n",
       "      <td>-70.919667</td>\n",
       "      <td>POINT (-70.91966669999999 41.6214342)</td>\n",
       "    </tr>\n",
       "    <tr>\n",
       "      <th>1</th>\n",
       "      <td>20140114</td>\n",
       "      <td>1632</td>\n",
       "      <td>120</td>\n",
       "      <td>Robbery</td>\n",
       "      <td>95     Brook                     St   New Bedf...</td>\n",
       "      <td>2014-01-14 16:32:00</td>\n",
       "      <td>(41.66028499999999, -70.932615)</td>\n",
       "      <td>1</td>\n",
       "      <td>2014</td>\n",
       "      <td>41.660285</td>\n",
       "      <td>-70.932615</td>\n",
       "      <td>POINT (-70.932615 41.66028499999999)</td>\n",
       "    </tr>\n",
       "    <tr>\n",
       "      <th>2</th>\n",
       "      <td>20140114</td>\n",
       "      <td>2237</td>\n",
       "      <td>120</td>\n",
       "      <td>Robbery</td>\n",
       "      <td>2136   Acushnet                  Ave  New Bedf...</td>\n",
       "      <td>2014-01-14 22:37:00</td>\n",
       "      <td>(41.6804513, -70.9221044)</td>\n",
       "      <td>1</td>\n",
       "      <td>2014</td>\n",
       "      <td>41.680451</td>\n",
       "      <td>-70.922104</td>\n",
       "      <td>POINT (-70.92210439999999 41.6804513)</td>\n",
       "    </tr>\n",
       "    <tr>\n",
       "      <th>3</th>\n",
       "      <td>20140114</td>\n",
       "      <td>1355</td>\n",
       "      <td>120</td>\n",
       "      <td>Robbery</td>\n",
       "      <td>308    Raymond                   St   New Bedf...</td>\n",
       "      <td>2014-01-14 13:55:00</td>\n",
       "      <td>(41.6859839, -70.9325798)</td>\n",
       "      <td>1</td>\n",
       "      <td>2014</td>\n",
       "      <td>41.685984</td>\n",
       "      <td>-70.932580</td>\n",
       "      <td>POINT (-70.9325798 41.6859839)</td>\n",
       "    </tr>\n",
       "    <tr>\n",
       "      <th>4</th>\n",
       "      <td>20140114</td>\n",
       "      <td>1217</td>\n",
       "      <td>220</td>\n",
       "      <td>Burglary / Breaking and Entering</td>\n",
       "      <td>531    Wood                      St   New Bedf...</td>\n",
       "      <td>2014-01-14 12:17:00</td>\n",
       "      <td>(41.6790397, -70.9356025)</td>\n",
       "      <td>1</td>\n",
       "      <td>2014</td>\n",
       "      <td>41.679040</td>\n",
       "      <td>-70.935603</td>\n",
       "      <td>POINT (-70.9356025 41.6790397)</td>\n",
       "    </tr>\n",
       "  </tbody>\n",
       "</table>\n",
       "</div>"
      ],
      "text/plain": [
       "    RptDate  RptTime  IBR                           IBRDesc  \\\n",
       "0  20140114     1709  99      Traffic, Town By-Law Offenses   \n",
       "1  20140114     1632  120                           Robbery   \n",
       "2  20140114     2237  120                           Robbery   \n",
       "3  20140114     1355  120                           Robbery   \n",
       "4  20140114     1217  220  Burglary / Breaking and Entering   \n",
       "\n",
       "                                             address            rpt_date  \\\n",
       "0  393    S Front                   St   New Bedf... 2014-01-14 17:09:00   \n",
       "1  95     Brook                     St   New Bedf... 2014-01-14 16:32:00   \n",
       "2  2136   Acushnet                  Ave  New Bedf... 2014-01-14 22:37:00   \n",
       "3  308    Raymond                   St   New Bedf... 2014-01-14 13:55:00   \n",
       "4  531    Wood                      St   New Bedf... 2014-01-14 12:17:00   \n",
       "\n",
       "                        coordinate  Month  Year   latitude  longitude  \\\n",
       "0        (41.6214342, -70.9196667)      1  2014  41.621434 -70.919667   \n",
       "1  (41.66028499999999, -70.932615)      1  2014  41.660285 -70.932615   \n",
       "2        (41.6804513, -70.9221044)      1  2014  41.680451 -70.922104   \n",
       "3        (41.6859839, -70.9325798)      1  2014  41.685984 -70.932580   \n",
       "4        (41.6790397, -70.9356025)      1  2014  41.679040 -70.935603   \n",
       "\n",
       "                                geometry  \n",
       "0  POINT (-70.91966669999999 41.6214342)  \n",
       "1   POINT (-70.932615 41.66028499999999)  \n",
       "2  POINT (-70.92210439999999 41.6804513)  \n",
       "3         POINT (-70.9325798 41.6859839)  \n",
       "4         POINT (-70.9356025 41.6790397)  "
      ]
     },
     "execution_count": 13,
     "metadata": {},
     "output_type": "execute_result"
    }
   ],
   "source": [
    "policeData['latitude'] = lat\n",
    "policeData['longitude'] = lon\n",
    "policeData['latitude'] = policeData['latitude'].astype(float)\n",
    "policeData['longitude'] = policeData['longitude'].astype(float)\n",
    "policeData.reset_index(inplace=True)\n",
    "policeData.drop('index', axis=1, inplace=True)\n",
    "geometry = gpd.GeoSeries([Point(xy) for xy in zip(policeData.longitude, policeData.latitude)])\n",
    "policeData_shape = gpd.GeoDataFrame(policeData, geometry=geometry)\n",
    "policeData_shape.crs = {'init' :'epsg:4326'}\n",
    "policeData_shape.head()"
   ]
  },
  {
   "cell_type": "code",
   "execution_count": 14,
   "metadata": {
    "collapsed": false,
    "deletable": true,
    "editable": true
   },
   "outputs": [
    {
     "data": {
      "text/plain": [
       "33989"
      ]
     },
     "execution_count": 14,
     "metadata": {},
     "output_type": "execute_result"
    }
   ],
   "source": [
    "len(policeData_shape)"
   ]
  },
  {
   "cell_type": "code",
   "execution_count": 15,
   "metadata": {
    "collapsed": false,
    "deletable": true,
    "editable": true
   },
   "outputs": [],
   "source": [
    "policeData_shape_cb = gpd.sjoin(policeData_shape, censusBlocks, how='right', op='within')"
   ]
  },
  {
   "cell_type": "code",
   "execution_count": 16,
   "metadata": {
    "collapsed": false,
    "deletable": true,
    "editable": true
   },
   "outputs": [
    {
     "data": {
      "text/plain": [
       "34454"
      ]
     },
     "execution_count": 16,
     "metadata": {},
     "output_type": "execute_result"
    }
   ],
   "source": [
    "len(policeData_shape_cb)"
   ]
  },
  {
   "cell_type": "code",
   "execution_count": 17,
   "metadata": {
    "collapsed": false,
    "deletable": true,
    "editable": true
   },
   "outputs": [
    {
     "data": {
      "text/html": [
       "<div>\n",
       "<table border=\"1\" class=\"dataframe\">\n",
       "  <thead>\n",
       "    <tr style=\"text-align: right;\">\n",
       "      <th></th>\n",
       "      <th>Census_Block</th>\n",
       "      <th>Total_Crimes</th>\n",
       "    </tr>\n",
       "  </thead>\n",
       "  <tbody>\n",
       "    <tr>\n",
       "      <th>0</th>\n",
       "      <td>250056171021013</td>\n",
       "      <td>0</td>\n",
       "    </tr>\n",
       "    <tr>\n",
       "      <th>1</th>\n",
       "      <td>250056171021016</td>\n",
       "      <td>0</td>\n",
       "    </tr>\n",
       "    <tr>\n",
       "      <th>2</th>\n",
       "      <td>250056171021031</td>\n",
       "      <td>0</td>\n",
       "    </tr>\n",
       "    <tr>\n",
       "      <th>3</th>\n",
       "      <td>250056171021040</td>\n",
       "      <td>0</td>\n",
       "    </tr>\n",
       "    <tr>\n",
       "      <th>4</th>\n",
       "      <td>250056171022048</td>\n",
       "      <td>0</td>\n",
       "    </tr>\n",
       "  </tbody>\n",
       "</table>\n",
       "</div>"
      ],
      "text/plain": [
       "      Census_Block  Total_Crimes\n",
       "0  250056171021013             0\n",
       "1  250056171021016             0\n",
       "2  250056171021031             0\n",
       "3  250056171021040             0\n",
       "4  250056171022048             0"
      ]
     },
     "execution_count": 17,
     "metadata": {},
     "output_type": "execute_result"
    }
   ],
   "source": [
    "policeData_count = policeData_shape_cb.groupby('GEOID10').count()\n",
    "policeData_count = policeData_count[['RptDate']]\n",
    "policeData_count.reset_index(inplace=True)\n",
    "policeData_count.columns = ['Census_Block', 'Total_Crimes']\n",
    "policeData_count.head()"
   ]
  },
  {
   "cell_type": "code",
   "execution_count": 18,
   "metadata": {
    "collapsed": false,
    "deletable": true,
    "editable": true
   },
   "outputs": [
    {
     "data": {
      "text/plain": [
       "2142"
      ]
     },
     "execution_count": 18,
     "metadata": {},
     "output_type": "execute_result"
    }
   ],
   "source": [
    "len(policeData_count)"
   ]
  },
  {
   "cell_type": "code",
   "execution_count": 19,
   "metadata": {
    "collapsed": true,
    "deletable": true,
    "editable": true
   },
   "outputs": [],
   "source": [
    "policeData_count_shp = pd.merge(policeData_count, censusBlocks, how='inner', \\\n",
    "                                     left_on='Census_Block', right_on='GEOID10')"
   ]
  },
  {
   "cell_type": "code",
   "execution_count": 20,
   "metadata": {
    "collapsed": false,
    "deletable": true,
    "editable": true
   },
   "outputs": [
    {
     "data": {
      "text/plain": [
       "2142"
      ]
     },
     "execution_count": 20,
     "metadata": {},
     "output_type": "execute_result"
    }
   ],
   "source": [
    "len(policeData_count_shp)"
   ]
  },
  {
   "cell_type": "code",
   "execution_count": 21,
   "metadata": {
    "collapsed": false,
    "deletable": true,
    "editable": true
   },
   "outputs": [
    {
     "data": {
      "text/html": [
       "<div>\n",
       "<table border=\"1\" class=\"dataframe\">\n",
       "  <thead>\n",
       "    <tr style=\"text-align: right;\">\n",
       "      <th></th>\n",
       "      <th>Census_Block</th>\n",
       "      <th>Total_Crimes</th>\n",
       "      <th>POP100_RE</th>\n",
       "      <th>geometry</th>\n",
       "    </tr>\n",
       "  </thead>\n",
       "  <tbody>\n",
       "    <tr>\n",
       "      <th>0</th>\n",
       "      <td>250056171021013</td>\n",
       "      <td>0.0</td>\n",
       "      <td>72</td>\n",
       "      <td>(POLYGON ((-70.95984800019771 41.7366410001081...</td>\n",
       "    </tr>\n",
       "    <tr>\n",
       "      <th>1</th>\n",
       "      <td>250056171021016</td>\n",
       "      <td>0.0</td>\n",
       "      <td>1</td>\n",
       "      <td>POLYGON ((-70.95780399985108 41.73761400012589...</td>\n",
       "    </tr>\n",
       "    <tr>\n",
       "      <th>2</th>\n",
       "      <td>250056171021031</td>\n",
       "      <td>0.0</td>\n",
       "      <td>52</td>\n",
       "      <td>POLYGON ((-70.96464899953735 41.7343540000299,...</td>\n",
       "    </tr>\n",
       "    <tr>\n",
       "      <th>3</th>\n",
       "      <td>250056171021040</td>\n",
       "      <td>0.0</td>\n",
       "      <td>1</td>\n",
       "      <td>POLYGON ((-70.96246599952241 41.73538299970159...</td>\n",
       "    </tr>\n",
       "    <tr>\n",
       "      <th>4</th>\n",
       "      <td>250056171022048</td>\n",
       "      <td>0.0</td>\n",
       "      <td>180</td>\n",
       "      <td>(POLYGON ((-70.95708811558701 41.7379553042584...</td>\n",
       "    </tr>\n",
       "  </tbody>\n",
       "</table>\n",
       "</div>"
      ],
      "text/plain": [
       "      Census_Block  Total_Crimes  POP100_RE  \\\n",
       "0  250056171021013           0.0         72   \n",
       "1  250056171021016           0.0          1   \n",
       "2  250056171021031           0.0         52   \n",
       "3  250056171021040           0.0          1   \n",
       "4  250056171022048           0.0        180   \n",
       "\n",
       "                                            geometry  \n",
       "0  (POLYGON ((-70.95984800019771 41.7366410001081...  \n",
       "1  POLYGON ((-70.95780399985108 41.73761400012589...  \n",
       "2  POLYGON ((-70.96464899953735 41.7343540000299,...  \n",
       "3  POLYGON ((-70.96246599952241 41.73538299970159...  \n",
       "4  (POLYGON ((-70.95708811558701 41.7379553042584...  "
      ]
     },
     "execution_count": 21,
     "metadata": {},
     "output_type": "execute_result"
    }
   ],
   "source": [
    "policeData_count_shp = policeData_count_shp[['Census_Block','Total_Crimes', 'POP100_RE', 'geometry']]\n",
    "policeData_count_shp['POP100_RE'] = policeData_count_shp['POP100_RE'].replace(0,1)\n",
    "policeData_count_shp['Total_Crimes'] = (policeData_count_shp['Total_Crimes'] / policeData_count_shp['POP100_RE'])*100\n",
    "policeData_count_shp.crs = {'init' :'epsg:4326'}\n",
    "policeData_count_shp.fillna(0, inplace=True)\n",
    "policeData_count_shp.head()"
   ]
  },
  {
   "cell_type": "code",
   "execution_count": 22,
   "metadata": {
    "collapsed": false,
    "deletable": true,
    "editable": true
   },
   "outputs": [
    {
     "data": {
      "text/plain": [
       "2142"
      ]
     },
     "execution_count": 22,
     "metadata": {},
     "output_type": "execute_result"
    }
   ],
   "source": [
    "len(policeData_count_shp)"
   ]
  },
  {
   "cell_type": "code",
   "execution_count": 23,
   "metadata": {
    "collapsed": true,
    "deletable": true,
    "editable": true
   },
   "outputs": [],
   "source": [
    "policeData_count_shp = gpd.GeoDataFrame(policeData_count_shp)\n",
    "policeData_count_shp = policeData_count_shp.replace([np.inf, -np.inf], np.nan)\n",
    "policeData_count_shp.dropna(inplace=True)\n",
    "policeData_count_shp.crs = {'init' :'epsg:4326'}\n",
    "policeData_count_shp.to_file('../Data/New_Bedford_Police_Shapefiles/police_data_count.shp')"
   ]
  },
  {
   "cell_type": "code",
   "execution_count": 24,
   "metadata": {
    "collapsed": false,
    "deletable": true,
    "editable": true
   },
   "outputs": [
    {
     "data": {
      "text/plain": [
       "2142"
      ]
     },
     "execution_count": 24,
     "metadata": {},
     "output_type": "execute_result"
    }
   ],
   "source": [
    "len(policeData_count_shp)"
   ]
  },
  {
   "cell_type": "code",
   "execution_count": null,
   "metadata": {
    "collapsed": true,
    "deletable": true,
    "editable": true
   },
   "outputs": [],
   "source": []
  }
 ],
 "metadata": {
  "anaconda-cloud": {},
  "kernelspec": {
   "display_name": "Python [default]",
   "language": "python",
   "name": "python2"
  },
  "language_info": {
   "codemirror_mode": {
    "name": "ipython",
    "version": 2
   },
   "file_extension": ".py",
   "mimetype": "text/x-python",
   "name": "python",
   "nbconvert_exporter": "python",
   "pygments_lexer": "ipython2",
   "version": "2.7.8"
  }
 },
 "nbformat": 4,
 "nbformat_minor": 2
}
