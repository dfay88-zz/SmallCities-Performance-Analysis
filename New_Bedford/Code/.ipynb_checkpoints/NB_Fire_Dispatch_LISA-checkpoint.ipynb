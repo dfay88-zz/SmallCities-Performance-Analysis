{
 "cells": [
  {
   "cell_type": "markdown",
   "metadata": {
    "deletable": true,
    "editable": true
   },
   "source": [
    "# New Bedford Crime Local Indicators of Spatial Association\n",
    "#### Daniel Fay"
   ]
  },
  {
   "cell_type": "code",
   "execution_count": 2,
   "metadata": {
    "collapsed": false,
    "deletable": true,
    "editable": true
   },
   "outputs": [],
   "source": [
    "# Import necessary packages\n",
    "import pandas as pd\n",
    "import geopandas as gpd\n",
    "import numpy as np\n",
    "import pysal as ps\n",
    "import matplotlib.pyplot as plt\n",
    "import seaborn\n",
    "%matplotlib inline"
   ]
  },
  {
   "cell_type": "code",
   "execution_count": 3,
   "metadata": {
    "collapsed": false,
    "deletable": true,
    "editable": true
   },
   "outputs": [],
   "source": [
    "# Import data\n",
    "fireDispatch = gpd.read_file('../Data/New_Bedford_Fire_Shapefiles/fireDispatch_count.shp')\n",
    "fireDispatch.crs = {'init' :'epsg:4326'}"
   ]
  },
  {
   "cell_type": "code",
   "execution_count": 4,
   "metadata": {
    "collapsed": false,
    "deletable": true,
    "editable": true
   },
   "outputs": [
    {
     "data": {
      "text/html": [
       "<div>\n",
       "<table border=\"1\" class=\"dataframe\">\n",
       "  <thead>\n",
       "    <tr style=\"text-align: right;\">\n",
       "      <th></th>\n",
       "      <th>Census_Blo</th>\n",
       "      <th>Dispatch_C</th>\n",
       "      <th>POP100_RE</th>\n",
       "      <th>geometry</th>\n",
       "    </tr>\n",
       "  </thead>\n",
       "  <tbody>\n",
       "    <tr>\n",
       "      <th>0</th>\n",
       "      <td>250056502021058</td>\n",
       "      <td>62.222222</td>\n",
       "      <td>63</td>\n",
       "      <td>POLYGON ((-70.9361480003171 41.6752309999205, ...</td>\n",
       "    </tr>\n",
       "    <tr>\n",
       "      <th>1</th>\n",
       "      <td>250056511001018</td>\n",
       "      <td>21.716418</td>\n",
       "      <td>134</td>\n",
       "      <td>POLYGON ((-70.9300819998472 41.64887500031687,...</td>\n",
       "    </tr>\n",
       "    <tr>\n",
       "      <th>2</th>\n",
       "      <td>250056514001011</td>\n",
       "      <td>33.787879</td>\n",
       "      <td>66</td>\n",
       "      <td>POLYGON ((-70.93349499943993 41.64542900038347...</td>\n",
       "    </tr>\n",
       "    <tr>\n",
       "      <th>3</th>\n",
       "      <td>250056511001009</td>\n",
       "      <td>11.987578</td>\n",
       "      <td>161</td>\n",
       "      <td>POLYGON ((-70.92980200010766 41.65007599980821...</td>\n",
       "    </tr>\n",
       "    <tr>\n",
       "      <th>4</th>\n",
       "      <td>250056511002009</td>\n",
       "      <td>16.239316</td>\n",
       "      <td>117</td>\n",
       "      <td>POLYGON ((-70.93197399954201 41.65132000016842...</td>\n",
       "    </tr>\n",
       "  </tbody>\n",
       "</table>\n",
       "</div>"
      ],
      "text/plain": [
       "        Census_Blo  Dispatch_C  POP100_RE  \\\n",
       "0  250056502021058   62.222222         63   \n",
       "1  250056511001018   21.716418        134   \n",
       "2  250056514001011   33.787879         66   \n",
       "3  250056511001009   11.987578        161   \n",
       "4  250056511002009   16.239316        117   \n",
       "\n",
       "                                            geometry  \n",
       "0  POLYGON ((-70.9361480003171 41.6752309999205, ...  \n",
       "1  POLYGON ((-70.9300819998472 41.64887500031687,...  \n",
       "2  POLYGON ((-70.93349499943993 41.64542900038347...  \n",
       "3  POLYGON ((-70.92980200010766 41.65007599980821...  \n",
       "4  POLYGON ((-70.93197399954201 41.65132000016842...  "
      ]
     },
     "execution_count": 4,
     "metadata": {},
     "output_type": "execute_result"
    }
   ],
   "source": [
    "fireDispatch.head()"
   ]
  },
  {
   "cell_type": "code",
   "execution_count": 5,
   "metadata": {
    "collapsed": false,
    "deletable": true,
    "editable": true
   },
   "outputs": [
    {
     "data": {
      "text/plain": [
       "1080"
      ]
     },
     "execution_count": 5,
     "metadata": {},
     "output_type": "execute_result"
    }
   ],
   "source": [
    "fireCount = fireDispatch.Dispatch_C\n",
    "len(fireDispatch)"
   ]
  },
  {
   "cell_type": "code",
   "execution_count": 7,
   "metadata": {
    "collapsed": false,
    "deletable": true,
    "editable": true
   },
   "outputs": [
    {
     "name": "stderr",
     "output_type": "stream",
     "text": [
      "/Users/Danny1/anaconda/lib/python2.7/site-packages/pysal/weights/weights.py:189: UserWarning: There are 8 disconnected observations\n",
      "  warnings.warn(\"There are %d disconnected observations\" % ni)\n",
      "/Users/Danny1/anaconda/lib/python2.7/site-packages/pysal/weights/weights.py:190: UserWarning: Island ids: 599, 620, 882, 905, 959, 995, 1062, 1069\n",
      "  warnings.warn(\"Island ids: %s\" % ', '.join(str(island) for island in self.islands))\n"
     ]
    }
   ],
   "source": [
    "# Import and convert to spatial weigths\n",
    "spatialWeights = ps.queen_from_shapefile('../Data/New_Bedford_Fire_Shapefiles/fireDispatch_count.shp')"
   ]
  },
  {
   "cell_type": "code",
   "execution_count": 9,
   "metadata": {
    "collapsed": false,
    "deletable": true,
    "editable": true
   },
   "outputs": [],
   "source": [
    "# Calculate spatial lag\n",
    "spatialLag = ps.lag_spatial(spatialWeights, fireCount)"
   ]
  },
  {
   "cell_type": "code",
   "execution_count": 11,
   "metadata": {
    "collapsed": false,
    "deletable": true,
    "editable": true
   },
   "outputs": [
    {
     "name": "stdout",
     "output_type": "stream",
     "text": [
      "('WARNING: ', 599, ' is an island (no neighbors)')\n",
      "('WARNING: ', 620, ' is an island (no neighbors)')\n",
      "('WARNING: ', 882, ' is an island (no neighbors)')\n",
      "('WARNING: ', 905, ' is an island (no neighbors)')\n",
      "('WARNING: ', 959, ' is an island (no neighbors)')\n",
      "('WARNING: ', 995, ' is an island (no neighbors)')\n",
      "('WARNING: ', 1062, ' is an island (no neighbors)')\n",
      "('WARNING: ', 1069, ' is an island (no neighbors)')\n"
     ]
    },
    {
     "name": "stderr",
     "output_type": "stream",
     "text": [
      "/Users/Danny1/anaconda/lib/python2.7/site-packages/pysal/esda/moran.py:835: RuntimeWarning: invalid value encountered in divide\n",
      "  self.z_sim = (self.Is - self.EI_sim) / self.seI_sim\n",
      "/Users/Danny1/anaconda/lib/python2.7/site-packages/scipy/stats/_distn_infrastructure.py:875: RuntimeWarning: invalid value encountered in greater\n",
      "  return (self.a < x) & (x < self.b)\n",
      "/Users/Danny1/anaconda/lib/python2.7/site-packages/scipy/stats/_distn_infrastructure.py:875: RuntimeWarning: invalid value encountered in less\n",
      "  return (self.a < x) & (x < self.b)\n",
      "/Users/Danny1/anaconda/lib/python2.7/site-packages/scipy/stats/_distn_infrastructure.py:1731: RuntimeWarning: invalid value encountered in greater_equal\n",
      "  cond2 = (x >= self.b) & cond0\n"
     ]
    }
   ],
   "source": [
    "# Calculate Local Morans I\n",
    "localMorans = ps.Moran_Local(fireCount, spatialWeights, permutations=999)"
   ]
  },
  {
   "cell_type": "code",
   "execution_count": 12,
   "metadata": {
    "collapsed": false,
    "deletable": true,
    "editable": true
   },
   "outputs": [],
   "source": [
    "# Calculate Global Morans I\n",
    "globalMorans = ps.Moran(fireCount, spatialWeights)"
   ]
  },
  {
   "cell_type": "code",
   "execution_count": 13,
   "metadata": {
    "collapsed": false,
    "deletable": true,
    "editable": true
   },
   "outputs": [],
   "source": [
    "# Find significant values\n",
    "sigs = fireCount[localMorans.p_sim <= .05]\n",
    "insigs = fireCount[localMorans.p_sim > .05]\n",
    "\n",
    "W_sigs = spatialLag[localMorans.p_sim <= .05]\n",
    "W_insigs = spatialLag[localMorans.p_sim > .05]"
   ]
  },
  {
   "cell_type": "code",
   "execution_count": 16,
   "metadata": {
    "collapsed": false,
    "deletable": true,
    "editable": true
   },
   "outputs": [
    {
     "data": {
      "text/plain": [
       "<matplotlib.text.Text at 0x1198e9b50>"
      ]
     },
     "execution_count": 16,
     "metadata": {},
     "output_type": "execute_result"
    },
    {
     "data": {
      "image/png": "[encoded data removed]",
      "text/plain": [
       "<matplotlib.figure.Figure at 0x1198dce90>"
      ]
     },
     "metadata": {},
     "output_type": "display_data"
    }
   ],
   "source": [
    "b,a = np.polyfit(fireCount, spatialLag, 1)\n",
    "\n",
    "f, ax = plt.subplots(figsize=(10, 8))\n",
    "plt.plot(sigs, W_sigs, '.', color='firebrick')\n",
    "plt.plot(insigs, W_insigs, '.k', alpha=.4)\n",
    "plt.text(s='$I = %.3f$' % globalMorans.I, x=100, y=100, fontsize=18)\n",
    "\n",
    " # dashed vert at mean of the last year's PCI\n",
    "plt.vlines(fireCount.mean(), spatialLag.min(), spatialLag.max(), linestyle='--')\n",
    " # dashed horizontal at mean of lagged PCI\n",
    "plt.hlines(spatialLag.mean(), fireCount.min(), fireCount.max(), linestyle='--')\n",
    "\n",
    "# red line of best fit using global I as slope\n",
    "plt.plot(fireCount, a + b*fireCount, 'r')\n",
    "plt.title('Moran Scatterplot', fontsize=20)\n",
    "plt.ylabel('Spatial Lag of Fire Dispatches', fontsize=16)\n",
    "plt.xlabel('Fire Dispatches', fontsize=16)"
   ]
  },
  {
   "cell_type": "code",
   "execution_count": 17,
   "metadata": {
    "collapsed": false,
    "deletable": true,
    "editable": true
   },
   "outputs": [
    {
     "name": "stdout",
     "output_type": "stream",
     "text": [
      "('Number of Hot-Hot spots:', 29)\n",
      "('Number of Cold-Cold spots:', 134)\n",
      "('Number of Hot-Cold spots:', 25)\n",
      "('Number of Cold-Hot spots:', 12)\n"
     ]
    }
   ],
   "source": [
    "sig = localMorans.p_sim < 0.05\n",
    "insig = localMorans.p_sim >= 0.05\n",
    "hot_hot = localMorans.q==1 * sig\n",
    "cold_cold = localMorans.q==3 * sig\n",
    "hot_cold= localMorans.q==2 * sig\n",
    "cold_hot = localMorans.q==4 * sig\n",
    "\n",
    "print (\"Number of Hot-Hot spots:\", hot_hot.sum())\n",
    "print (\"Number of Cold-Cold spots:\", cold_cold.sum())\n",
    "print (\"Number of Hot-Cold spots:\", hot_cold.sum())\n",
    "print (\"Number of Cold-Hot spots:\", cold_hot.sum())"
   ]
  },
  {
   "cell_type": "code",
   "execution_count": 19,
   "metadata": {
    "collapsed": false,
    "deletable": true,
    "editable": true
   },
   "outputs": [
    {
     "data": {
      "text/html": [
       "<div>\n",
       "<table border=\"1\" class=\"dataframe\">\n",
       "  <thead>\n",
       "    <tr style=\"text-align: right;\">\n",
       "      <th></th>\n",
       "      <th>Census_Blo</th>\n",
       "      <th>Dispatch_C</th>\n",
       "      <th>POP100_RE</th>\n",
       "      <th>geometry</th>\n",
       "      <th>hot_hot</th>\n",
       "      <th>hot_cold</th>\n",
       "      <th>cold_cold</th>\n",
       "      <th>cold_hot</th>\n",
       "      <th>insig</th>\n",
       "      <th>localMorans</th>\n",
       "    </tr>\n",
       "  </thead>\n",
       "  <tbody>\n",
       "    <tr>\n",
       "      <th>0</th>\n",
       "      <td>250056502021058</td>\n",
       "      <td>62.222222</td>\n",
       "      <td>63</td>\n",
       "      <td>POLYGON ((-70.9361480003171 41.6752309999205, ...</td>\n",
       "      <td>0</td>\n",
       "      <td>0</td>\n",
       "      <td>0</td>\n",
       "      <td>0</td>\n",
       "      <td>1</td>\n",
       "      <td>0.320944</td>\n",
       "    </tr>\n",
       "    <tr>\n",
       "      <th>1</th>\n",
       "      <td>250056511001018</td>\n",
       "      <td>21.716418</td>\n",
       "      <td>134</td>\n",
       "      <td>POLYGON ((-70.9300819998472 41.64887500031687,...</td>\n",
       "      <td>0</td>\n",
       "      <td>0</td>\n",
       "      <td>0</td>\n",
       "      <td>0</td>\n",
       "      <td>1</td>\n",
       "      <td>0.475433</td>\n",
       "    </tr>\n",
       "    <tr>\n",
       "      <th>2</th>\n",
       "      <td>250056514001011</td>\n",
       "      <td>33.787879</td>\n",
       "      <td>66</td>\n",
       "      <td>POLYGON ((-70.93349499943993 41.64542900038347...</td>\n",
       "      <td>0</td>\n",
       "      <td>0</td>\n",
       "      <td>0</td>\n",
       "      <td>0</td>\n",
       "      <td>1</td>\n",
       "      <td>1.691667</td>\n",
       "    </tr>\n",
       "    <tr>\n",
       "      <th>3</th>\n",
       "      <td>250056511001009</td>\n",
       "      <td>11.987578</td>\n",
       "      <td>161</td>\n",
       "      <td>POLYGON ((-70.92980200010766 41.65007599980821...</td>\n",
       "      <td>0</td>\n",
       "      <td>0</td>\n",
       "      <td>0</td>\n",
       "      <td>0</td>\n",
       "      <td>1</td>\n",
       "      <td>0.204896</td>\n",
       "    </tr>\n",
       "    <tr>\n",
       "      <th>4</th>\n",
       "      <td>250056511002009</td>\n",
       "      <td>16.239316</td>\n",
       "      <td>117</td>\n",
       "      <td>POLYGON ((-70.93197399954201 41.65132000016842...</td>\n",
       "      <td>0</td>\n",
       "      <td>0</td>\n",
       "      <td>0</td>\n",
       "      <td>0</td>\n",
       "      <td>1</td>\n",
       "      <td>0.217632</td>\n",
       "    </tr>\n",
       "  </tbody>\n",
       "</table>\n",
       "</div>"
      ],
      "text/plain": [
       "        Census_Blo  Dispatch_C  POP100_RE  \\\n",
       "0  250056502021058   62.222222         63   \n",
       "1  250056511001018   21.716418        134   \n",
       "2  250056514001011   33.787879         66   \n",
       "3  250056511001009   11.987578        161   \n",
       "4  250056511002009   16.239316        117   \n",
       "\n",
       "                                            geometry  hot_hot  hot_cold  \\\n",
       "0  POLYGON ((-70.9361480003171 41.6752309999205, ...        0         0   \n",
       "1  POLYGON ((-70.9300819998472 41.64887500031687,...        0         0   \n",
       "2  POLYGON ((-70.93349499943993 41.64542900038347...        0         0   \n",
       "3  POLYGON ((-70.92980200010766 41.65007599980821...        0         0   \n",
       "4  POLYGON ((-70.93197399954201 41.65132000016842...        0         0   \n",
       "\n",
       "   cold_cold  cold_hot  insig  localMorans  \n",
       "0          0         0      1     0.320944  \n",
       "1          0         0      1     0.475433  \n",
       "2          0         0      1     1.691667  \n",
       "3          0         0      1     0.204896  \n",
       "4          0         0      1     0.217632  "
      ]
     },
     "execution_count": 19,
     "metadata": {},
     "output_type": "execute_result"
    }
   ],
   "source": [
    "fireDispatch['hot_hot'] = hot_hot.astype(int)\n",
    "fireDispatch['hot_cold'] = hot_cold.astype(int)\n",
    "fireDispatch['cold_cold'] = cold_cold.astype(int)\n",
    "fireDispatch['cold_hot'] = cold_hot.astype(int)\n",
    "fireDispatch['insig'] = insig.astype(int)\n",
    "fireDispatch['localMorans'] = localMorans.Is\n",
    "fireDispatch.head()"
   ]
  },
  {
   "cell_type": "code",
   "execution_count": 20,
   "metadata": {
    "collapsed": false,
    "deletable": true,
    "editable": true
   },
   "outputs": [],
   "source": [
    "fireDispatch.to_file('../Data/New_Bedford_Fire_Shapefiles/FD_hot_cold_spots.shp')"
   ]
  },
  {
   "cell_type": "code",
   "execution_count": 21,
   "metadata": {
    "collapsed": false,
    "deletable": true,
    "editable": true
   },
   "outputs": [],
   "source": [
    "fireDispatch_LM = fireDispatch[['Census_Blo', 'localMorans', 'geometry']]\n",
    "fireDispatch_LM.to_file('../Data/New_Bedford_Fire_Shapefiles/FD_local_morans.shp')"
   ]
  },
  {
   "cell_type": "code",
   "execution_count": null,
   "metadata": {
    "collapsed": true,
    "deletable": true,
    "editable": true
   },
   "outputs": [],
   "source": []
  }
 ],
 "metadata": {
  "anaconda-cloud": {},
  "kernelspec": {
   "display_name": "Python [default]",
   "language": "python",
   "name": "python2"
  },
  "language_info": {
   "codemirror_mode": {
    "name": "ipython",
    "version": 2
   },
   "file_extension": ".py",
   "mimetype": "text/x-python",
   "name": "python",
   "nbconvert_exporter": "python",
   "pygments_lexer": "ipython2",
   "version": "2.7.8"
  }
 },
 "nbformat": 4,
 "nbformat_minor": 2
}
