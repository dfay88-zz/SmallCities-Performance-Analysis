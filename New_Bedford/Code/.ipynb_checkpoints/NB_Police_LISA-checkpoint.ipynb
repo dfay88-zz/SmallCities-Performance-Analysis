{
 "cells": [
  {
   "cell_type": "markdown",
   "metadata": {
    "deletable": true,
    "editable": true
   },
   "source": [
    "# New Bedford Crime Local Indicators of Spatial Association\n",
    "#### Daniel Fay"
   ]
  },
  {
   "cell_type": "code",
   "execution_count": 13,
   "metadata": {
    "collapsed": false,
    "deletable": true,
    "editable": true
   },
   "outputs": [],
   "source": [
    "# Import necessary packages\n",
    "import pandas as pd\n",
    "import geopandas as gpd\n",
    "import numpy as np\n",
    "import pysal as ps\n",
    "import matplotlib.pyplot as plt\n",
    "import seaborn\n",
    "%matplotlib inline"
   ]
  },
  {
   "cell_type": "code",
   "execution_count": 14,
   "metadata": {
    "collapsed": false,
    "deletable": true,
    "editable": true
   },
   "outputs": [],
   "source": [
    "# Import data\n",
    "crimes = gpd.read_file('../Data/New_Bedford_Police_Shapefiles/police_data_count.shp')\n",
    "crimes.crs = {'init' :'epsg:4326'}"
   ]
  },
  {
   "cell_type": "code",
   "execution_count": 15,
   "metadata": {
    "collapsed": false,
    "deletable": true,
    "editable": true
   },
   "outputs": [
    {
     "data": {
      "text/html": [
       "<div>\n",
       "<table border=\"1\" class=\"dataframe\">\n",
       "  <thead>\n",
       "    <tr style=\"text-align: right;\">\n",
       "      <th></th>\n",
       "      <th>Census_Blo</th>\n",
       "      <th>POP100_RE</th>\n",
       "      <th>Total_Crim</th>\n",
       "      <th>geometry</th>\n",
       "    </tr>\n",
       "  </thead>\n",
       "  <tbody>\n",
       "    <tr>\n",
       "      <th>0</th>\n",
       "      <td>250010121014041</td>\n",
       "      <td>19</td>\n",
       "      <td>5.263158</td>\n",
       "      <td>POLYGON ((-70.22867799957106 41.64944799982848...</td>\n",
       "    </tr>\n",
       "    <tr>\n",
       "      <th>1</th>\n",
       "      <td>250010131002005</td>\n",
       "      <td>25</td>\n",
       "      <td>4.000000</td>\n",
       "      <td>POLYGON ((-70.38668599999654 41.67656000044501...</td>\n",
       "    </tr>\n",
       "    <tr>\n",
       "      <th>2</th>\n",
       "      <td>250039214002005</td>\n",
       "      <td>24</td>\n",
       "      <td>4.166667</td>\n",
       "      <td>POLYGON ((-73.11630000025339 42.69901899973068...</td>\n",
       "    </tr>\n",
       "    <tr>\n",
       "      <th>3</th>\n",
       "      <td>250056133002001</td>\n",
       "      <td>31</td>\n",
       "      <td>90.322581</td>\n",
       "      <td>POLYGON ((-71.15877199952367 41.93577000039226...</td>\n",
       "    </tr>\n",
       "    <tr>\n",
       "      <th>4</th>\n",
       "      <td>250056133002023</td>\n",
       "      <td>102</td>\n",
       "      <td>0.980392</td>\n",
       "      <td>POLYGON ((-71.13819800039499 41.91255600035959...</td>\n",
       "    </tr>\n",
       "  </tbody>\n",
       "</table>\n",
       "</div>"
      ],
      "text/plain": [
       "        Census_Blo  POP100_RE  Total_Crim  \\\n",
       "0  250010121014041         19    5.263158   \n",
       "1  250010131002005         25    4.000000   \n",
       "2  250039214002005         24    4.166667   \n",
       "3  250056133002001         31   90.322581   \n",
       "4  250056133002023        102    0.980392   \n",
       "\n",
       "                                            geometry  \n",
       "0  POLYGON ((-70.22867799957106 41.64944799982848...  \n",
       "1  POLYGON ((-70.38668599999654 41.67656000044501...  \n",
       "2  POLYGON ((-73.11630000025339 42.69901899973068...  \n",
       "3  POLYGON ((-71.15877199952367 41.93577000039226...  \n",
       "4  POLYGON ((-71.13819800039499 41.91255600035959...  "
      ]
     },
     "execution_count": 15,
     "metadata": {},
     "output_type": "execute_result"
    }
   ],
   "source": [
    "crimes.head()"
   ]
  },
  {
   "cell_type": "code",
   "execution_count": 16,
   "metadata": {
    "collapsed": false,
    "deletable": true,
    "editable": true
   },
   "outputs": [
    {
     "data": {
      "text/plain": [
       "1391"
      ]
     },
     "execution_count": 16,
     "metadata": {},
     "output_type": "execute_result"
    }
   ],
   "source": [
    "crimesCount = crimes.Total_Crim\n",
    "len(crimes)"
   ]
  },
  {
   "cell_type": "code",
   "execution_count": 17,
   "metadata": {
    "collapsed": false,
    "deletable": true,
    "editable": true
   },
   "outputs": [
    {
     "name": "stderr",
     "output_type": "stream",
     "text": [
      "/Users/Danny1/anaconda/lib/python2.7/site-packages/pysal/weights/weights.py:189: UserWarning: There are 30 disconnected observations\n",
      "  warnings.warn(\"There are %d disconnected observations\" % ni)\n",
      "/Users/Danny1/anaconda/lib/python2.7/site-packages/pysal/weights/weights.py:190: UserWarning: Island ids: 0, 1, 2, 3, 4, 5, 6, 7, 8, 9, 10, 11, 12, 13, 14, 15, 522, 569, 1378, 1379, 1381, 1382, 1383, 1384, 1385, 1386, 1387, 1388, 1389, 1390\n",
      "  warnings.warn(\"Island ids: %s\" % ', '.join(str(island) for island in self.islands))\n"
     ]
    }
   ],
   "source": [
    "# Import and convert to spatial weigths\n",
    "spatialWeights = ps.queen_from_shapefile('../Data/New_Bedford_Police_Shapefiles/police_data_count.shp')"
   ]
  },
  {
   "cell_type": "code",
   "execution_count": 18,
   "metadata": {
    "collapsed": false,
    "deletable": true,
    "editable": true
   },
   "outputs": [],
   "source": [
    "# Calculate spatial lag\n",
    "spatialLag = ps.lag_spatial(spatialWeights, crimesCount)"
   ]
  },
  {
   "cell_type": "code",
   "execution_count": 19,
   "metadata": {
    "collapsed": false,
    "deletable": true,
    "editable": true
   },
   "outputs": [
    {
     "name": "stdout",
     "output_type": "stream",
     "text": [
      "('WARNING: ', 0, ' is an island (no neighbors)')\n",
      "('WARNING: ', 1, ' is an island (no neighbors)')\n",
      "('WARNING: ', 2, ' is an island (no neighbors)')\n",
      "('WARNING: ', 3, ' is an island (no neighbors)')\n",
      "('WARNING: ', 4, ' is an island (no neighbors)')\n",
      "('WARNING: ', 5, ' is an island (no neighbors)')\n",
      "('WARNING: ', 6, ' is an island (no neighbors)')\n",
      "('WARNING: ', 7, ' is an island (no neighbors)')\n",
      "('WARNING: ', 8, ' is an island (no neighbors)')\n",
      "('WARNING: ', 9, ' is an island (no neighbors)')\n",
      "('WARNING: ', 10, ' is an island (no neighbors)')\n",
      "('WARNING: ', 11, ' is an island (no neighbors)')\n",
      "('WARNING: ', 12, ' is an island (no neighbors)')\n",
      "('WARNING: ', 13, ' is an island (no neighbors)')\n",
      "('WARNING: ', 14, ' is an island (no neighbors)')\n",
      "('WARNING: ', 15, ' is an island (no neighbors)')\n",
      "('WARNING: ', 522, ' is an island (no neighbors)')\n",
      "('WARNING: ', 569, ' is an island (no neighbors)')\n",
      "('WARNING: ', 1378, ' is an island (no neighbors)')\n",
      "('WARNING: ', 1379, ' is an island (no neighbors)')\n",
      "('WARNING: ', 1381, ' is an island (no neighbors)')\n",
      "('WARNING: ', 1382, ' is an island (no neighbors)')\n",
      "('WARNING: ', 1383, ' is an island (no neighbors)')\n",
      "('WARNING: ', 1384, ' is an island (no neighbors)')\n",
      "('WARNING: ', 1385, ' is an island (no neighbors)')\n",
      "('WARNING: ', 1386, ' is an island (no neighbors)')\n",
      "('WARNING: ', 1387, ' is an island (no neighbors)')\n",
      "('WARNING: ', 1388, ' is an island (no neighbors)')\n",
      "('WARNING: ', 1389, ' is an island (no neighbors)')\n",
      "('WARNING: ', 1390, ' is an island (no neighbors)')\n"
     ]
    },
    {
     "name": "stderr",
     "output_type": "stream",
     "text": [
      "/Users/Danny1/anaconda/lib/python2.7/site-packages/pysal/esda/moran.py:835: RuntimeWarning: invalid value encountered in divide\n",
      "  self.z_sim = (self.Is - self.EI_sim) / self.seI_sim\n"
     ]
    }
   ],
   "source": [
    "# Calculate Local Morans I\n",
    "localMorans = ps.Moran_Local(crimesCount, spatialWeights, permutations=999)"
   ]
  },
  {
   "cell_type": "code",
   "execution_count": 20,
   "metadata": {
    "collapsed": false,
    "deletable": true,
    "editable": true
   },
   "outputs": [],
   "source": [
    "# Calculate Global Morans I\n",
    "globalMorans = ps.Moran(crimesCount, spatialWeights)"
   ]
  },
  {
   "cell_type": "code",
   "execution_count": 21,
   "metadata": {
    "collapsed": false,
    "deletable": true,
    "editable": true
   },
   "outputs": [],
   "source": [
    "# Find significant values\n",
    "sigs = crimesCount[localMorans.p_sim <= .05]\n",
    "insigs = crimesCount[localMorans.p_sim > .05]\n",
    "\n",
    "W_sigs = spatialLag[localMorans.p_sim <= .05]\n",
    "W_insigs = spatialLag[localMorans.p_sim > .05]"
   ]
  },
  {
   "cell_type": "code",
   "execution_count": 22,
   "metadata": {
    "collapsed": false,
    "deletable": true,
    "editable": true
   },
   "outputs": [
    {
     "data": {
      "text/plain": [
       "<matplotlib.text.Text at 0x115244950>"
      ]
     },
     "execution_count": 22,
     "metadata": {},
     "output_type": "execute_result"
    },
    {
     "data": {
      "image/png": "[encoded data removed]",
      "text/plain": [
       "<matplotlib.figure.Figure at 0x11576de90>"
      ]
     },
     "metadata": {},
     "output_type": "display_data"
    }
   ],
   "source": [
    "b,a = np.polyfit(crimesCount, spatialLag, 1)\n",
    "\n",
    "f, ax = plt.subplots(figsize=(10, 8))\n",
    "plt.plot(sigs, W_sigs, '.', color='firebrick')\n",
    "plt.plot(insigs, W_insigs, '.k', alpha=.4)\n",
    "plt.text(s='$I = %.3f$' % globalMorans.I, x=100, y=100, fontsize=18)\n",
    "\n",
    " # dashed vert at mean of the last year's PCI\n",
    "plt.vlines(crimesCount.mean(), spatialLag.min(), spatialLag.max(), linestyle='--')\n",
    " # dashed horizontal at mean of lagged PCI\n",
    "plt.hlines(spatialLag.mean(), crimesCount.min(), crimesCount.max(), linestyle='--')\n",
    "\n",
    "# red line of best fit using global I as slope\n",
    "plt.plot(crimesCount, a + b*crimesCount, 'r')\n",
    "plt.title('Moran Scatterplot', fontsize=20)\n",
    "plt.ylabel('Spatial Lag of Crimes', fontsize=16)\n",
    "plt.xlabel('Crimes', fontsize=16)"
   ]
  },
  {
   "cell_type": "code",
   "execution_count": 23,
   "metadata": {
    "collapsed": false,
    "deletable": true,
    "editable": true
   },
   "outputs": [
    {
     "name": "stdout",
     "output_type": "stream",
     "text": [
      "('Number of Hot-Hot spots:', 39)\n",
      "('Number of Cold-Cold spots:', 237)\n",
      "('Number of Hot-Cold spots:', 28)\n",
      "('Number of Cold-Hot spots:', 9)\n"
     ]
    }
   ],
   "source": [
    "sig = localMorans.p_sim < 0.05\n",
    "insig = localMorans.p_sim >= 0.05\n",
    "hot_hot = localMorans.q==1 * sig\n",
    "cold_cold = localMorans.q==3 * sig\n",
    "hot_cold= localMorans.q==2 * sig\n",
    "cold_hot = localMorans.q==4 * sig\n",
    "\n",
    "print (\"Number of Hot-Hot spots:\", hot_hot.sum())\n",
    "print (\"Number of Cold-Cold spots:\", cold_cold.sum())\n",
    "print (\"Number of Hot-Cold spots:\", hot_cold.sum())\n",
    "print (\"Number of Cold-Hot spots:\", cold_hot.sum())"
   ]
  },
  {
   "cell_type": "code",
   "execution_count": 25,
   "metadata": {
    "collapsed": false,
    "deletable": true,
    "editable": true
   },
   "outputs": [
    {
     "data": {
      "text/html": [
       "<div>\n",
       "<table border=\"1\" class=\"dataframe\">\n",
       "  <thead>\n",
       "    <tr style=\"text-align: right;\">\n",
       "      <th></th>\n",
       "      <th>Census_Blo</th>\n",
       "      <th>POP100_RE</th>\n",
       "      <th>Total_Crim</th>\n",
       "      <th>geometry</th>\n",
       "      <th>hot_hot</th>\n",
       "      <th>hot_cold</th>\n",
       "      <th>cold_cold</th>\n",
       "      <th>cold_hot</th>\n",
       "      <th>insig</th>\n",
       "      <th>localMorans</th>\n",
       "    </tr>\n",
       "  </thead>\n",
       "  <tbody>\n",
       "    <tr>\n",
       "      <th>0</th>\n",
       "      <td>250010121014041</td>\n",
       "      <td>19</td>\n",
       "      <td>5.263158</td>\n",
       "      <td>POLYGON ((-70.22867799957106 41.64944799982848...</td>\n",
       "      <td>0</td>\n",
       "      <td>0</td>\n",
       "      <td>1</td>\n",
       "      <td>0</td>\n",
       "      <td>0</td>\n",
       "      <td>-0.0</td>\n",
       "    </tr>\n",
       "    <tr>\n",
       "      <th>1</th>\n",
       "      <td>250010131002005</td>\n",
       "      <td>25</td>\n",
       "      <td>4.000000</td>\n",
       "      <td>POLYGON ((-70.38668599999654 41.67656000044501...</td>\n",
       "      <td>0</td>\n",
       "      <td>0</td>\n",
       "      <td>1</td>\n",
       "      <td>0</td>\n",
       "      <td>0</td>\n",
       "      <td>-0.0</td>\n",
       "    </tr>\n",
       "    <tr>\n",
       "      <th>2</th>\n",
       "      <td>250039214002005</td>\n",
       "      <td>24</td>\n",
       "      <td>4.166667</td>\n",
       "      <td>POLYGON ((-73.11630000025339 42.69901899973068...</td>\n",
       "      <td>0</td>\n",
       "      <td>0</td>\n",
       "      <td>1</td>\n",
       "      <td>0</td>\n",
       "      <td>0</td>\n",
       "      <td>-0.0</td>\n",
       "    </tr>\n",
       "    <tr>\n",
       "      <th>3</th>\n",
       "      <td>250056133002001</td>\n",
       "      <td>31</td>\n",
       "      <td>90.322581</td>\n",
       "      <td>POLYGON ((-71.15877199952367 41.93577000039226...</td>\n",
       "      <td>0</td>\n",
       "      <td>0</td>\n",
       "      <td>0</td>\n",
       "      <td>1</td>\n",
       "      <td>0</td>\n",
       "      <td>0.0</td>\n",
       "    </tr>\n",
       "    <tr>\n",
       "      <th>4</th>\n",
       "      <td>250056133002023</td>\n",
       "      <td>102</td>\n",
       "      <td>0.980392</td>\n",
       "      <td>POLYGON ((-71.13819800039499 41.91255600035959...</td>\n",
       "      <td>0</td>\n",
       "      <td>0</td>\n",
       "      <td>1</td>\n",
       "      <td>0</td>\n",
       "      <td>0</td>\n",
       "      <td>-0.0</td>\n",
       "    </tr>\n",
       "  </tbody>\n",
       "</table>\n",
       "</div>"
      ],
      "text/plain": [
       "        Census_Blo  POP100_RE  Total_Crim  \\\n",
       "0  250010121014041         19    5.263158   \n",
       "1  250010131002005         25    4.000000   \n",
       "2  250039214002005         24    4.166667   \n",
       "3  250056133002001         31   90.322581   \n",
       "4  250056133002023        102    0.980392   \n",
       "\n",
       "                                            geometry  hot_hot  hot_cold  \\\n",
       "0  POLYGON ((-70.22867799957106 41.64944799982848...        0         0   \n",
       "1  POLYGON ((-70.38668599999654 41.67656000044501...        0         0   \n",
       "2  POLYGON ((-73.11630000025339 42.69901899973068...        0         0   \n",
       "3  POLYGON ((-71.15877199952367 41.93577000039226...        0         0   \n",
       "4  POLYGON ((-71.13819800039499 41.91255600035959...        0         0   \n",
       "\n",
       "   cold_cold  cold_hot  insig  localMorans  \n",
       "0          1         0      0         -0.0  \n",
       "1          1         0      0         -0.0  \n",
       "2          1         0      0         -0.0  \n",
       "3          0         1      0          0.0  \n",
       "4          1         0      0         -0.0  "
      ]
     },
     "execution_count": 25,
     "metadata": {},
     "output_type": "execute_result"
    }
   ],
   "source": [
    "crimes['hot_hot'] = hot_hot.astype(int)\n",
    "crimes['hot_cold'] = hot_cold.astype(int)\n",
    "crimes['cold_cold'] = cold_cold.astype(int)\n",
    "crimes['cold_hot'] = cold_hot.astype(int)\n",
    "crimes['insig'] = insig.astype(int)\n",
    "crimes['localMorans'] = localMorans.Is\n",
    "crimes.head()"
   ]
  },
  {
   "cell_type": "code",
   "execution_count": 26,
   "metadata": {
    "collapsed": false,
    "deletable": true,
    "editable": true
   },
   "outputs": [],
   "source": [
    "crimes.to_file('../Data/New_Bedford_Police_Shapefiles/PD_hot_cold_spots.shp')"
   ]
  },
  {
   "cell_type": "code",
   "execution_count": 28,
   "metadata": {
    "collapsed": false,
    "deletable": true,
    "editable": true
   },
   "outputs": [],
   "source": [
    "crimes_LM = crimes[['Census_Blo', 'localMorans', 'geometry']]\n",
    "crimes_LM.to_file('../Data/New_Bedford_Police_Shapefiles/PD_local_morans.shp')"
   ]
  },
  {
   "cell_type": "code",
   "execution_count": null,
   "metadata": {
    "collapsed": true,
    "deletable": true,
    "editable": true
   },
   "outputs": [],
   "source": []
  }
 ],
 "metadata": {
  "anaconda-cloud": {},
  "kernelspec": {
   "display_name": "Python [default]",
   "language": "python",
   "name": "python2"
  },
  "language_info": {
   "codemirror_mode": {
    "name": "ipython",
    "version": 2
   },
   "file_extension": ".py",
   "mimetype": "text/x-python",
   "name": "python",
   "nbconvert_exporter": "python",
   "pygments_lexer": "ipython2",
   "version": "2.7.8"
  }
 },
 "nbformat": 4,
 "nbformat_minor": 2
}
