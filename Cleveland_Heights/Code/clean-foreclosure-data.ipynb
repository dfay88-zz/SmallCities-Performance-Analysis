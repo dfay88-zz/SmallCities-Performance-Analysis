{
 "cells": [
  {
   "cell_type": "code",
   "execution_count": 1,
   "metadata": {
    "collapsed": true
   },
   "outputs": [],
   "source": [
    "import geopandas as gpd\n",
    "import pandas as pd"
   ]
  },
  {
   "cell_type": "code",
   "execution_count": 2,
   "metadata": {
    "collapsed": true
   },
   "outputs": [],
   "source": [
    "foreclosures = gpd.read_file('../Data/Foreclosure_Filings_for_Cuyahoga_County.shp')"
   ]
  },
  {
   "cell_type": "code",
   "execution_count": 3,
   "metadata": {},
   "outputs": [
    {
     "data": {
      "text/html": [
       "<div>\n",
       "<table border=\"1\" class=\"dataframe\">\n",
       "  <thead>\n",
       "    <tr style=\"text-align: right;\">\n",
       "      <th></th>\n",
       "      <th>GEOM2D_ARE</th>\n",
       "      <th>GEOM2D_LEN</th>\n",
       "      <th>OBJECTID</th>\n",
       "      <th>PPN</th>\n",
       "      <th>Shape_Area</th>\n",
       "      <th>Shape_Leng</th>\n",
       "      <th>YEAR_FILED</th>\n",
       "      <th>geometry</th>\n",
       "    </tr>\n",
       "  </thead>\n",
       "  <tbody>\n",
       "    <tr>\n",
       "      <th>0</th>\n",
       "      <td>0.0</td>\n",
       "      <td>0.0</td>\n",
       "      <td>1</td>\n",
       "      <td>00113084</td>\n",
       "      <td>828.176261</td>\n",
       "      <td>134.424527</td>\n",
       "      <td>2006</td>\n",
       "      <td>POLYGON ((-81.74908564933789 41.48196520962281...</td>\n",
       "    </tr>\n",
       "    <tr>\n",
       "      <th>1</th>\n",
       "      <td>0.0</td>\n",
       "      <td>0.0</td>\n",
       "      <td>2</td>\n",
       "      <td>00113085</td>\n",
       "      <td>828.174524</td>\n",
       "      <td>134.424132</td>\n",
       "      <td>2006</td>\n",
       "      <td>POLYGON ((-81.74922533377129 41.48173511876848...</td>\n",
       "    </tr>\n",
       "    <tr>\n",
       "      <th>2</th>\n",
       "      <td>0.0</td>\n",
       "      <td>0.0</td>\n",
       "      <td>3</td>\n",
       "      <td>00114059</td>\n",
       "      <td>894.732380</td>\n",
       "      <td>142.352322</td>\n",
       "      <td>2006</td>\n",
       "      <td>POLYGON ((-81.7552381810744 41.48337247743111,...</td>\n",
       "    </tr>\n",
       "    <tr>\n",
       "      <th>3</th>\n",
       "      <td>0.0</td>\n",
       "      <td>0.0</td>\n",
       "      <td>4</td>\n",
       "      <td>00115006</td>\n",
       "      <td>892.206675</td>\n",
       "      <td>142.261785</td>\n",
       "      <td>2006</td>\n",
       "      <td>POLYGON ((-81.75558486429874 41.48427188493068...</td>\n",
       "    </tr>\n",
       "    <tr>\n",
       "      <th>4</th>\n",
       "      <td>0.0</td>\n",
       "      <td>0.0</td>\n",
       "      <td>5</td>\n",
       "      <td>00116016</td>\n",
       "      <td>828.418084</td>\n",
       "      <td>134.421986</td>\n",
       "      <td>2006</td>\n",
       "      <td>POLYGON ((-81.7576979542736 41.48240006056574,...</td>\n",
       "    </tr>\n",
       "  </tbody>\n",
       "</table>\n",
       "</div>"
      ],
      "text/plain": [
       "   GEOM2D_ARE  GEOM2D_LEN  OBJECTID       PPN  Shape_Area  Shape_Leng  \\\n",
       "0         0.0         0.0         1  00113084  828.176261  134.424527   \n",
       "1         0.0         0.0         2  00113085  828.174524  134.424132   \n",
       "2         0.0         0.0         3  00114059  894.732380  142.352322   \n",
       "3         0.0         0.0         4  00115006  892.206675  142.261785   \n",
       "4         0.0         0.0         5  00116016  828.418084  134.421986   \n",
       "\n",
       "  YEAR_FILED                                           geometry  \n",
       "0       2006  POLYGON ((-81.74908564933789 41.48196520962281...  \n",
       "1       2006  POLYGON ((-81.74922533377129 41.48173511876848...  \n",
       "2       2006  POLYGON ((-81.7552381810744 41.48337247743111,...  \n",
       "3       2006  POLYGON ((-81.75558486429874 41.48427188493068...  \n",
       "4       2006  POLYGON ((-81.7576979542736 41.48240006056574,...  "
      ]
     },
     "execution_count": 3,
     "metadata": {},
     "output_type": "execute_result"
    }
   ],
   "source": [
    "foreclosures.head()"
   ]
  },
  {
   "cell_type": "code",
   "execution_count": 4,
   "metadata": {},
   "outputs": [
    {
     "data": {
      "text/html": [
       "<div>\n",
       "<table border=\"1\" class=\"dataframe\">\n",
       "  <thead>\n",
       "    <tr style=\"text-align: right;\">\n",
       "      <th></th>\n",
       "      <th>PPN</th>\n",
       "      <th>Count</th>\n",
       "    </tr>\n",
       "  </thead>\n",
       "  <tbody>\n",
       "    <tr>\n",
       "      <th>0</th>\n",
       "      <td>00101011</td>\n",
       "      <td>1</td>\n",
       "    </tr>\n",
       "    <tr>\n",
       "      <th>1</th>\n",
       "      <td>00102020</td>\n",
       "      <td>1</td>\n",
       "    </tr>\n",
       "    <tr>\n",
       "      <th>2</th>\n",
       "      <td>00102022</td>\n",
       "      <td>2</td>\n",
       "    </tr>\n",
       "    <tr>\n",
       "      <th>3</th>\n",
       "      <td>00102024</td>\n",
       "      <td>1</td>\n",
       "    </tr>\n",
       "    <tr>\n",
       "      <th>4</th>\n",
       "      <td>00102033</td>\n",
       "      <td>1</td>\n",
       "    </tr>\n",
       "  </tbody>\n",
       "</table>\n",
       "</div>"
      ],
      "text/plain": [
       "        PPN  Count\n",
       "0  00101011      1\n",
       "1  00102020      1\n",
       "2  00102022      2\n",
       "3  00102024      1\n",
       "4  00102033      1"
      ]
     },
     "execution_count": 4,
     "metadata": {},
     "output_type": "execute_result"
    }
   ],
   "source": [
    "foreclosures_count = foreclosures.groupby(['PPN']).count()\n",
    "foreclosures_count = foreclosures_count[['OBJECTID']]\n",
    "foreclosures_count.reset_index(inplace=True)\n",
    "foreclosures_count.columns = ['PPN', 'Count']\n",
    "foreclosures_count.head()"
   ]
  },
  {
   "cell_type": "code",
   "execution_count": 5,
   "metadata": {},
   "outputs": [
    {
     "data": {
      "text/plain": [
       "91291"
      ]
     },
     "execution_count": 5,
     "metadata": {},
     "output_type": "execute_result"
    }
   ],
   "source": [
    "len(foreclosures_count)"
   ]
  },
  {
   "cell_type": "code",
   "execution_count": 6,
   "metadata": {
    "collapsed": true
   },
   "outputs": [],
   "source": [
    "foreclosures_geo = foreclosures[['PPN', 'geometry']]\n",
    "foreclosures_count = pd.merge(foreclosures_count, foreclosures_geo, how='left', on='PPN')"
   ]
  },
  {
   "cell_type": "code",
   "execution_count": 7,
   "metadata": {},
   "outputs": [
    {
     "data": {
      "text/plain": [
       "91291"
      ]
     },
     "execution_count": 7,
     "metadata": {},
     "output_type": "execute_result"
    }
   ],
   "source": [
    "foreclosures_count.drop_duplicates('PPN', inplace=True)\n",
    "len(foreclosures_count)"
   ]
  },
  {
   "cell_type": "code",
   "execution_count": 8,
   "metadata": {},
   "outputs": [
    {
     "data": {
      "text/html": [
       "<div>\n",
       "<table border=\"1\" class=\"dataframe\">\n",
       "  <thead>\n",
       "    <tr style=\"text-align: right;\">\n",
       "      <th></th>\n",
       "      <th>PPN</th>\n",
       "      <th>Count</th>\n",
       "      <th>geometry</th>\n",
       "    </tr>\n",
       "  </thead>\n",
       "  <tbody>\n",
       "    <tr>\n",
       "      <th>0</th>\n",
       "      <td>00101011</td>\n",
       "      <td>1</td>\n",
       "      <td>POLYGON ((-81.76630298555045 41.49007813048708...</td>\n",
       "    </tr>\n",
       "    <tr>\n",
       "      <th>1</th>\n",
       "      <td>00102020</td>\n",
       "      <td>1</td>\n",
       "      <td>POLYGON ((-81.76365585612234 41.48897849388555...</td>\n",
       "    </tr>\n",
       "    <tr>\n",
       "      <th>2</th>\n",
       "      <td>00102022</td>\n",
       "      <td>2</td>\n",
       "      <td>POLYGON ((-81.76422365067073 41.48908116281094...</td>\n",
       "    </tr>\n",
       "    <tr>\n",
       "      <th>4</th>\n",
       "      <td>00102024</td>\n",
       "      <td>1</td>\n",
       "      <td>POLYGON ((-81.76507061106668 41.48923431129805...</td>\n",
       "    </tr>\n",
       "    <tr>\n",
       "      <th>5</th>\n",
       "      <td>00102033</td>\n",
       "      <td>1</td>\n",
       "      <td>POLYGON ((-81.76409504965127 41.48860628318013...</td>\n",
       "    </tr>\n",
       "  </tbody>\n",
       "</table>\n",
       "</div>"
      ],
      "text/plain": [
       "        PPN  Count                                           geometry\n",
       "0  00101011      1  POLYGON ((-81.76630298555045 41.49007813048708...\n",
       "1  00102020      1  POLYGON ((-81.76365585612234 41.48897849388555...\n",
       "2  00102022      2  POLYGON ((-81.76422365067073 41.48908116281094...\n",
       "4  00102024      1  POLYGON ((-81.76507061106668 41.48923431129805...\n",
       "5  00102033      1  POLYGON ((-81.76409504965127 41.48860628318013..."
      ]
     },
     "execution_count": 8,
     "metadata": {},
     "output_type": "execute_result"
    }
   ],
   "source": [
    "foreclosures_count.head()"
   ]
  },
  {
   "cell_type": "code",
   "execution_count": 9,
   "metadata": {
    "collapsed": true
   },
   "outputs": [],
   "source": [
    "foreclosures_count_shape = gpd.GeoDataFrame(foreclosures_count, crs={'init' :'epsg:4326'})"
   ]
  },
  {
   "cell_type": "code",
   "execution_count": 34,
   "metadata": {
    "collapsed": true
   },
   "outputs": [],
   "source": [
    "foreclosures_count.to_csv('../Data/processed/FC_count.csv')"
   ]
  },
  {
   "cell_type": "code",
   "execution_count": 10,
   "metadata": {
    "collapsed": true
   },
   "outputs": [],
   "source": [
    "foreclosures_count_shape.to_file('../Data/processed/shapefiles/FC_count.shp')"
   ]
  },
  {
   "cell_type": "code",
   "execution_count": null,
   "metadata": {
    "collapsed": true
   },
   "outputs": [],
   "source": []
  },
  {
   "cell_type": "code",
   "execution_count": null,
   "metadata": {
    "collapsed": true
   },
   "outputs": [],
   "source": []
  },
  {
   "cell_type": "code",
   "execution_count": null,
   "metadata": {
    "collapsed": true
   },
   "outputs": [],
   "source": []
  },
  {
   "cell_type": "code",
   "execution_count": null,
   "metadata": {
    "collapsed": true
   },
   "outputs": [],
   "source": []
  }
 ],
 "metadata": {
  "kernelspec": {
   "display_name": "Python 3",
   "language": "python",
   "name": "python3"
  },
  "language_info": {
   "codemirror_mode": {
    "name": "ipython",
    "version": 2
   },
   "file_extension": ".py",
   "mimetype": "text/x-python",
   "name": "python",
   "nbconvert_exporter": "python",
   "pygments_lexer": "ipython2",
   "version": "2.7.8"
  }
 },
 "nbformat": 4,
 "nbformat_minor": 2
}
