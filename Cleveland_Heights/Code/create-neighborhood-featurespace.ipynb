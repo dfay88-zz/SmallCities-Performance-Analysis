{
 "cells": [
  {
   "cell_type": "markdown",
   "metadata": {},
   "source": [
    "# Neighborhood Score"
   ]
  },
  {
   "cell_type": "markdown",
   "metadata": {},
   "source": [
    "- foreclosures in last 3 years / # of residences\n",
    "- police dispatches per address / population of CT\n",
    "- complaints in last 3 years / pop of CT\n",
    "- median income\n",
    "- % white\n",
    "- % black\n",
    "- % other\n",
    "- % under 16\n",
    "- % over 65\n",
    "- median property value\n",
    "- % vacant lots\n",
    "\n",
    "\n",
    "Need to calculate:\n",
    "- % homeownership\n",
    "- Number of negative actions taken / # of residences"
   ]
  },
  {
   "cell_type": "code",
   "execution_count": 1,
   "metadata": {
    "collapsed": true
   },
   "outputs": [],
   "source": [
    "import pandas as pd\n",
    "import geopandas as gpd"
   ]
  },
  {
   "cell_type": "code",
   "execution_count": 2,
   "metadata": {
    "collapsed": true
   },
   "outputs": [],
   "source": [
    "census_tracts = gpd.read_file('../Data/processed/shapefiles/CT_Demo_CH.shp')\n",
    "foreclosures = gpd.read_file('../Data/processed/shapefiles/FC_count.shp')\n",
    "police_dispatch = gpd.read_file('../Data/processed/shapefiles/PD_count.shp')\n",
    "complaints = gpd.read_file('../Data/processed/shapefiles/complaint_count.shp')\n",
    "property_info = gpd.read_file('../Data/processed/shapefiles/featureSpace.shp')"
   ]
  },
  {
   "cell_type": "code",
   "execution_count": 3,
   "metadata": {},
   "outputs": [],
   "source": [
    "census_tracts = census_tracts[['Median_Inc', '65_Over_Pe', 'Under_16_P', 'White_Perc', 'Black_Perc', \\\n",
    "                               'Other_Perc', 'DP0010001', 'GEO_ID', 'NAMELSAD10', 'geometry']]"
   ]
  },
  {
   "cell_type": "markdown",
   "metadata": {},
   "source": [
    "### Calculate count of residences in each census tract"
   ]
  },
  {
   "cell_type": "code",
   "execution_count": 4,
   "metadata": {},
   "outputs": [],
   "source": [
    "property_info = property_info[['parcel_add', 'land_tax', 'vacant', 'geometry']]\n",
    "property_info.drop_duplicates(['parcel_add', 'land_tax', 'vacant'], inplace=True)"
   ]
  },
  {
   "cell_type": "code",
   "execution_count": 5,
   "metadata": {
    "collapsed": true
   },
   "outputs": [],
   "source": [
    "property_ct = gpd.sjoin(census_tracts, property_info, how='inner', op='intersects')\n",
    "property_ct.drop_duplicates(['parcel_add', 'land_tax', 'vacant'], inplace=True)"
   ]
  },
  {
   "cell_type": "code",
   "execution_count": 6,
   "metadata": {},
   "outputs": [],
   "source": [
    "property_ct_count = property_ct.groupby('NAMELSAD10').count()\n",
    "property_ct_count = property_ct_count[['Median_Inc']]\n",
    "property_ct_count.reset_index(inplace=True)\n",
    "property_ct_count.columns = ['NAMELSAD10', 'Res_Count']"
   ]
  },
  {
   "cell_type": "code",
   "execution_count": 7,
   "metadata": {
    "collapsed": true
   },
   "outputs": [],
   "source": [
    "census_tracts = pd.merge(census_tracts, property_ct_count, how='inner')"
   ]
  },
  {
   "cell_type": "markdown",
   "metadata": {},
   "source": [
    "### Calculate foreclosures"
   ]
  },
  {
   "cell_type": "code",
   "execution_count": 8,
   "metadata": {
    "collapsed": true
   },
   "outputs": [],
   "source": [
    "foreclosure_ct = gpd.sjoin(census_tracts, foreclosures, how='left', op='intersects')"
   ]
  },
  {
   "cell_type": "code",
   "execution_count": 9,
   "metadata": {},
   "outputs": [],
   "source": [
    "foreclosure_count = foreclosure_ct.groupby('NAMELSAD10').sum()\n",
    "foreclosure_count = foreclosure_count[['Count']]\n",
    "foreclosure_count.reset_index(inplace=True)\n",
    "featureSpace = pd.merge(census_tracts, foreclosure_count, how='inner')"
   ]
  },
  {
   "cell_type": "code",
   "execution_count": 10,
   "metadata": {},
   "outputs": [],
   "source": [
    "featureSpace.columns = ['Median_Inc', '%_Over65', '%_Under16', '%_White', '%_Black', '%_Other', \\\n",
    "                        'Population', 'GEOID', 'NAMELSAD10', 'geometry', 'res_count', 'FC_count']\n",
    "featureSpace['FC_count'] = featureSpace.FC_count/featureSpace.res_count"
   ]
  },
  {
   "cell_type": "markdown",
   "metadata": {},
   "source": [
    "### Calculate police dispatches"
   ]
  },
  {
   "cell_type": "code",
   "execution_count": 11,
   "metadata": {
    "collapsed": true
   },
   "outputs": [],
   "source": [
    "police_dispatch_ct = gpd.sjoin(census_tracts, police_dispatch, how='left', op='intersects')"
   ]
  },
  {
   "cell_type": "code",
   "execution_count": 12,
   "metadata": {},
   "outputs": [],
   "source": [
    "police_dispatch_count = police_dispatch_ct.groupby('NAMELSAD10').sum()\n",
    "police_dispatch_count = police_dispatch_count[['PD_Count']]\n",
    "police_dispatch_count.reset_index(inplace=True)\n",
    "featureSpace = pd.merge(featureSpace, police_dispatch_count, how='inner')\n",
    "featureSpace['PD_Count'] = featureSpace['PD_Count']/featureSpace.Population"
   ]
  },
  {
   "cell_type": "markdown",
   "metadata": {},
   "source": [
    "### Calculate complaints"
   ]
  },
  {
   "cell_type": "code",
   "execution_count": 13,
   "metadata": {
    "collapsed": true
   },
   "outputs": [],
   "source": [
    "complaints.columns = ['Address', 'comp_count', 'geometry']\n",
    "complaints_ct = gpd.sjoin(census_tracts, complaints, how='left', op='intersects')"
   ]
  },
  {
   "cell_type": "code",
   "execution_count": 14,
   "metadata": {},
   "outputs": [],
   "source": [
    "complaints_count = complaints_ct.groupby('NAMELSAD10').sum()\n",
    "complaints_count = complaints_count[['comp_count']]\n",
    "complaints_count.reset_index(inplace=True)\n",
    "featureSpace = pd.merge(featureSpace, complaints_count, how='inner')\n",
    "featureSpace['comp_count'] = featureSpace['comp_count']/featureSpace.Population"
   ]
  },
  {
   "cell_type": "markdown",
   "metadata": {},
   "source": [
    "### Calculate median land tax value"
   ]
  },
  {
   "cell_type": "code",
   "execution_count": 15,
   "metadata": {},
   "outputs": [],
   "source": [
    "property_info_ct = gpd.sjoin(census_tracts, property_info, how='left', op='intersects')"
   ]
  },
  {
   "cell_type": "code",
   "execution_count": 16,
   "metadata": {},
   "outputs": [],
   "source": [
    "property_info_count = property_info_ct.groupby('NAMELSAD10').median()\n",
    "property_info_count = property_info_count[['land_tax']]\n",
    "property_info_count.reset_index(inplace=True)\n",
    "featureSpace = pd.merge(featureSpace, property_info_count, how='inner')"
   ]
  },
  {
   "cell_type": "markdown",
   "metadata": {},
   "source": [
    "### Calculate vacant lots"
   ]
  },
  {
   "cell_type": "code",
   "execution_count": 17,
   "metadata": {},
   "outputs": [],
   "source": [
    "property_info_count = property_info_ct.groupby('NAMELSAD10').sum()\n",
    "property_info_count = property_info_count[['vacant']]\n",
    "property_info_count.reset_index(inplace=True)\n",
    "featureSpace = pd.merge(featureSpace, property_info_count, how='inner')\n",
    "featureSpace['vacant'] = featureSpace['vacant']/featureSpace['res_count']"
   ]
  },
  {
   "cell_type": "markdown",
   "metadata": {},
   "source": [
    "### Clean feature space and output file"
   ]
  },
  {
   "cell_type": "code",
   "execution_count": 18,
   "metadata": {},
   "outputs": [
    {
     "data": {
      "text/html": [
       "<div>\n",
       "<table border=\"1\" class=\"dataframe\">\n",
       "  <thead>\n",
       "    <tr style=\"text-align: right;\">\n",
       "      <th></th>\n",
       "      <th>Median_Inc</th>\n",
       "      <th>%_Over65</th>\n",
       "      <th>%_Under16</th>\n",
       "      <th>%_White</th>\n",
       "      <th>%_Black</th>\n",
       "      <th>%_Other</th>\n",
       "      <th>Population</th>\n",
       "      <th>GEOID</th>\n",
       "      <th>NAMELSAD10</th>\n",
       "      <th>geometry</th>\n",
       "      <th>res_count</th>\n",
       "      <th>FC_Count</th>\n",
       "      <th>PD_Count</th>\n",
       "      <th>Comp_Count</th>\n",
       "      <th>Median_Val</th>\n",
       "      <th>%_Vacant</th>\n",
       "    </tr>\n",
       "  </thead>\n",
       "  <tbody>\n",
       "    <tr>\n",
       "      <th>0</th>\n",
       "      <td>35100</td>\n",
       "      <td>0.131016</td>\n",
       "      <td>0.173797</td>\n",
       "      <td>0.073864</td>\n",
       "      <td>0.904746</td>\n",
       "      <td>0.021390</td>\n",
       "      <td>2992</td>\n",
       "      <td>1600000US3916014</td>\n",
       "      <td>Census Tract 1261</td>\n",
       "      <td>(POLYGON ((-81.55600099999998 41.5452369999999...</td>\n",
       "      <td>26</td>\n",
       "      <td>0.230769</td>\n",
       "      <td>0.000000</td>\n",
       "      <td>0.000000</td>\n",
       "      <td>119150.0</td>\n",
       "      <td>0.153846</td>\n",
       "    </tr>\n",
       "    <tr>\n",
       "      <th>1</th>\n",
       "      <td>60143</td>\n",
       "      <td>0.156047</td>\n",
       "      <td>0.215865</td>\n",
       "      <td>0.136541</td>\n",
       "      <td>0.824447</td>\n",
       "      <td>0.039012</td>\n",
       "      <td>1538</td>\n",
       "      <td>1600000US3916014</td>\n",
       "      <td>Census Tract 1401</td>\n",
       "      <td>POLYGON ((-81.55588699999998 41.53788500000002...</td>\n",
       "      <td>658</td>\n",
       "      <td>0.493921</td>\n",
       "      <td>0.911573</td>\n",
       "      <td>0.102081</td>\n",
       "      <td>81200.0</td>\n",
       "      <td>0.075988</td>\n",
       "    </tr>\n",
       "    <tr>\n",
       "      <th>2</th>\n",
       "      <td>40938</td>\n",
       "      <td>0.130759</td>\n",
       "      <td>0.222466</td>\n",
       "      <td>0.043440</td>\n",
       "      <td>0.930671</td>\n",
       "      <td>0.025889</td>\n",
       "      <td>2279</td>\n",
       "      <td>1600000US3916014</td>\n",
       "      <td>Census Tract 1403.01</td>\n",
       "      <td>POLYGON ((-81.556631 41.52714300000014, -81.55...</td>\n",
       "      <td>991</td>\n",
       "      <td>0.523713</td>\n",
       "      <td>1.045195</td>\n",
       "      <td>0.007898</td>\n",
       "      <td>65100.0</td>\n",
       "      <td>0.066599</td>\n",
       "    </tr>\n",
       "    <tr>\n",
       "      <th>3</th>\n",
       "      <td>41582</td>\n",
       "      <td>0.176920</td>\n",
       "      <td>0.195163</td>\n",
       "      <td>0.327111</td>\n",
       "      <td>0.627917</td>\n",
       "      <td>0.044972</td>\n",
       "      <td>2357</td>\n",
       "      <td>1600000US3916014</td>\n",
       "      <td>Census Tract 1403.02</td>\n",
       "      <td>POLYGON ((-81.55001399999998 41.520512, -81.55...</td>\n",
       "      <td>1021</td>\n",
       "      <td>0.373164</td>\n",
       "      <td>1.202800</td>\n",
       "      <td>0.036487</td>\n",
       "      <td>79700.0</td>\n",
       "      <td>0.037218</td>\n",
       "    </tr>\n",
       "    <tr>\n",
       "      <th>4</th>\n",
       "      <td>55227</td>\n",
       "      <td>0.129930</td>\n",
       "      <td>0.207159</td>\n",
       "      <td>0.384819</td>\n",
       "      <td>0.555519</td>\n",
       "      <td>0.059662</td>\n",
       "      <td>3017</td>\n",
       "      <td>1600000US3916014</td>\n",
       "      <td>Census Tract 1404</td>\n",
       "      <td>POLYGON ((-81.54627900000003 41.52064300000001...</td>\n",
       "      <td>1113</td>\n",
       "      <td>0.390836</td>\n",
       "      <td>1.501160</td>\n",
       "      <td>0.076898</td>\n",
       "      <td>92050.0</td>\n",
       "      <td>0.038634</td>\n",
       "    </tr>\n",
       "  </tbody>\n",
       "</table>\n",
       "</div>"
      ],
      "text/plain": [
       "   Median_Inc  %_Over65  %_Under16   %_White   %_Black   %_Other  Population  \\\n",
       "0       35100  0.131016   0.173797  0.073864  0.904746  0.021390        2992   \n",
       "1       60143  0.156047   0.215865  0.136541  0.824447  0.039012        1538   \n",
       "2       40938  0.130759   0.222466  0.043440  0.930671  0.025889        2279   \n",
       "3       41582  0.176920   0.195163  0.327111  0.627917  0.044972        2357   \n",
       "4       55227  0.129930   0.207159  0.384819  0.555519  0.059662        3017   \n",
       "\n",
       "              GEOID            NAMELSAD10  \\\n",
       "0  1600000US3916014     Census Tract 1261   \n",
       "1  1600000US3916014     Census Tract 1401   \n",
       "2  1600000US3916014  Census Tract 1403.01   \n",
       "3  1600000US3916014  Census Tract 1403.02   \n",
       "4  1600000US3916014     Census Tract 1404   \n",
       "\n",
       "                                            geometry  res_count  FC_Count  \\\n",
       "0  (POLYGON ((-81.55600099999998 41.5452369999999...         26  0.230769   \n",
       "1  POLYGON ((-81.55588699999998 41.53788500000002...        658  0.493921   \n",
       "2  POLYGON ((-81.556631 41.52714300000014, -81.55...        991  0.523713   \n",
       "3  POLYGON ((-81.55001399999998 41.520512, -81.55...       1021  0.373164   \n",
       "4  POLYGON ((-81.54627900000003 41.52064300000001...       1113  0.390836   \n",
       "\n",
       "   PD_Count  Comp_Count  Median_Val  %_Vacant  \n",
       "0  0.000000    0.000000    119150.0  0.153846  \n",
       "1  0.911573    0.102081     81200.0  0.075988  \n",
       "2  1.045195    0.007898     65100.0  0.066599  \n",
       "3  1.202800    0.036487     79700.0  0.037218  \n",
       "4  1.501160    0.076898     92050.0  0.038634  "
      ]
     },
     "execution_count": 18,
     "metadata": {},
     "output_type": "execute_result"
    }
   ],
   "source": [
    "featureSpace.rename(columns={'FC_count': 'FC_Count', 'comp_count': 'Comp_Count', 'land_tax': 'Median_Val', \\\n",
    "                             'vacant': '%_Vacant'}, inplace=True)\n",
    "featureSpace.fillna(0, inplace=True)\n",
    "featureSpace.head()"
   ]
  },
  {
   "cell_type": "code",
   "execution_count": 19,
   "metadata": {
    "collapsed": true
   },
   "outputs": [],
   "source": [
    "featureSpace.to_file('../Data/processed/shapefiles/featureSpace_CT.shp')"
   ]
  },
  {
   "cell_type": "code",
   "execution_count": null,
   "metadata": {
    "collapsed": true
   },
   "outputs": [],
   "source": []
  },
  {
   "cell_type": "code",
   "execution_count": null,
   "metadata": {
    "collapsed": true
   },
   "outputs": [],
   "source": []
  }
 ],
 "metadata": {
  "kernelspec": {
   "display_name": "Python 3",
   "language": "python",
   "name": "python3"
  },
  "language_info": {
   "codemirror_mode": {
    "name": "ipython",
    "version": 2
   },
   "file_extension": ".py",
   "mimetype": "text/x-python",
   "name": "python",
   "nbconvert_exporter": "python",
   "pygments_lexer": "ipython2",
   "version": "2.7.8"
  }
 },
 "nbformat": 4,
 "nbformat_minor": 2
}
