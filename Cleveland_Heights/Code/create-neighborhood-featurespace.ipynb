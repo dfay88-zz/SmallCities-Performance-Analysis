{
 "cells": [
  {
   "cell_type": "markdown",
   "metadata": {},
   "source": [
    "# Neighborhood Score"
   ]
  },
  {
   "cell_type": "markdown",
   "metadata": {},
   "source": [
    "- foreclosures in last 3 years / # of residences\n",
    "- police dispatches per address / population of CT\n",
    "- complaints in last 3 years / pop of CT\n",
    "- median income\n",
    "- % white\n",
    "- % black\n",
    "- % other\n",
    "- % under 16\n",
    "- % over 65\n",
    "- median property value\n",
    "- % vacant lots\n",
    "- % homeownership\n",
    "- Number of negative actions taken / # of residences\n",
    "\n",
    "Need to calculate:\n",
    "\n",
    "- Number of work permits / # of residenes"
   ]
  },
  {
   "cell_type": "code",
   "execution_count": 1,
   "metadata": {
    "collapsed": true
   },
   "outputs": [],
   "source": [
    "import pandas as pd\n",
    "import geopandas as gpd"
   ]
  },
  {
   "cell_type": "code",
   "execution_count": 2,
   "metadata": {
    "collapsed": true
   },
   "outputs": [],
   "source": [
    "census_tracts = gpd.read_file('../Data/processed/shapefiles/CT_Demo_CH.shp')\n",
    "foreclosures = gpd.read_file('../Data/processed/shapefiles/FC_count.shp')\n",
    "police_dispatch = gpd.read_file('../Data/processed/shapefiles/PD_count.shp')\n",
    "complaints = gpd.read_file('../Data/processed/shapefiles/complaint_count.shp')\n",
    "property_info = gpd.read_file('../Data/processed/shapefiles/featureSpace.shp')"
   ]
  },
  {
   "cell_type": "code",
   "execution_count": 3,
   "metadata": {
    "collapsed": true
   },
   "outputs": [],
   "source": [
    "census_tracts = census_tracts[['Median_Inc', '65_Over_Pe', 'Under_16_P', 'White_Perc', 'Black_Perc', \\\n",
    "                               'Other_Perc', 'DP0010001', 'GEOID10', 'NAMELSAD10', 'geometry']]"
   ]
  },
  {
   "cell_type": "code",
   "execution_count": 4,
   "metadata": {
    "collapsed": true
   },
   "outputs": [],
   "source": [
    "census_tracts = census_tracts.to_crs({'init': 'epsg:4326'})"
   ]
  },
  {
   "cell_type": "markdown",
   "metadata": {},
   "source": [
    "### Calculate count of residences in each census tract"
   ]
  },
  {
   "cell_type": "code",
   "execution_count": 5,
   "metadata": {
    "collapsed": true
   },
   "outputs": [],
   "source": [
    "trees = property_info[['Tree_Score', 'geometry']]\n",
    "permits = property_info[['perm_num', 'geometry']]"
   ]
  },
  {
   "cell_type": "code",
   "execution_count": 6,
   "metadata": {
    "collapsed": true
   },
   "outputs": [],
   "source": [
    "property_info = property_info[['parcel_add', 'land_tax', 'vacant', 'own_occup', 'NegAct_cou', 'geometry']]\n",
    "property_info.drop_duplicates(['parcel_add', 'land_tax', 'vacant'], inplace=True)"
   ]
  },
  {
   "cell_type": "code",
   "execution_count": 7,
   "metadata": {
    "collapsed": true
   },
   "outputs": [],
   "source": [
    "property_ct = gpd.sjoin(census_tracts, property_info, how='inner', op='intersects')\n",
    "property_ct.drop_duplicates(['parcel_add', 'land_tax', 'vacant'], inplace=True)"
   ]
  },
  {
   "cell_type": "code",
   "execution_count": 8,
   "metadata": {
    "collapsed": true
   },
   "outputs": [],
   "source": [
    "property_ct_count = property_ct.groupby('NAMELSAD10').count()\n",
    "property_ct_count = property_ct_count[['Median_Inc']]\n",
    "property_ct_count.reset_index(inplace=True)\n",
    "property_ct_count.columns = ['NAMELSAD10', 'Res_Count']"
   ]
  },
  {
   "cell_type": "code",
   "execution_count": 9,
   "metadata": {
    "collapsed": true
   },
   "outputs": [],
   "source": [
    "census_tracts = pd.merge(census_tracts, property_ct_count, how='inner')"
   ]
  },
  {
   "cell_type": "markdown",
   "metadata": {},
   "source": [
    "### Calculate foreclosures"
   ]
  },
  {
   "cell_type": "code",
   "execution_count": 10,
   "metadata": {
    "collapsed": true
   },
   "outputs": [],
   "source": [
    "foreclosure_ct = gpd.sjoin(census_tracts, foreclosures, how='left', op='intersects')"
   ]
  },
  {
   "cell_type": "code",
   "execution_count": 11,
   "metadata": {
    "collapsed": true
   },
   "outputs": [],
   "source": [
    "foreclosure_count = foreclosure_ct.groupby('NAMELSAD10').sum()\n",
    "foreclosure_count = foreclosure_count[['Count']]\n",
    "foreclosure_count.reset_index(inplace=True)\n",
    "featureSpace = pd.merge(census_tracts, foreclosure_count, how='inner')"
   ]
  },
  {
   "cell_type": "code",
   "execution_count": 12,
   "metadata": {
    "collapsed": true
   },
   "outputs": [],
   "source": [
    "featureSpace.columns = ['Median_Inc', 'Per_Over65', 'Per_Under16', 'Per_White', 'Per_Black', 'Per_Other', \\\n",
    "                        'Population', 'GEOID', 'NAMELSAD10', 'geometry', 'Prop_Count', 'FC_Per']\n",
    "featureSpace['FC_Per'] = featureSpace.FC_Per/featureSpace.Prop_Count"
   ]
  },
  {
   "cell_type": "markdown",
   "metadata": {},
   "source": [
    "### Calculate police dispatches"
   ]
  },
  {
   "cell_type": "code",
   "execution_count": 13,
   "metadata": {
    "collapsed": true
   },
   "outputs": [],
   "source": [
    "police_dispatch_ct = gpd.sjoin(census_tracts, police_dispatch, how='left', op='intersects')"
   ]
  },
  {
   "cell_type": "code",
   "execution_count": 14,
   "metadata": {
    "collapsed": true
   },
   "outputs": [],
   "source": [
    "police_dispatch_count = police_dispatch_ct.groupby('NAMELSAD10').sum()\n",
    "police_dispatch_count = police_dispatch_count[['PD_Count']]\n",
    "police_dispatch_count.reset_index(inplace=True)\n",
    "featureSpace = pd.merge(featureSpace, police_dispatch_count, how='inner')\n",
    "featureSpace['PD_Count'] = featureSpace['PD_Count']/featureSpace.Population"
   ]
  },
  {
   "cell_type": "markdown",
   "metadata": {},
   "source": [
    "### Calculate complaints"
   ]
  },
  {
   "cell_type": "code",
   "execution_count": 15,
   "metadata": {
    "collapsed": true
   },
   "outputs": [],
   "source": [
    "complaints.columns = ['Address', 'comp_count', 'geometry']\n",
    "complaints_ct = gpd.sjoin(census_tracts, complaints, how='left', op='intersects')"
   ]
  },
  {
   "cell_type": "code",
   "execution_count": 16,
   "metadata": {
    "collapsed": true
   },
   "outputs": [],
   "source": [
    "complaints_count = complaints_ct.groupby('NAMELSAD10').sum()\n",
    "complaints_count = complaints_count[['comp_count']]\n",
    "complaints_count.reset_index(inplace=True)\n",
    "featureSpace = pd.merge(featureSpace, complaints_count, how='inner')\n",
    "featureSpace['comp_count'] = featureSpace['comp_count']/featureSpace.Population"
   ]
  },
  {
   "cell_type": "markdown",
   "metadata": {},
   "source": [
    "### Calculate median land tax value"
   ]
  },
  {
   "cell_type": "code",
   "execution_count": 17,
   "metadata": {
    "collapsed": true
   },
   "outputs": [],
   "source": [
    "property_info_ct = gpd.sjoin(census_tracts, property_info, how='left', op='intersects')"
   ]
  },
  {
   "cell_type": "code",
   "execution_count": 18,
   "metadata": {
    "collapsed": true
   },
   "outputs": [],
   "source": [
    "property_info_count = property_info_ct.groupby('NAMELSAD10').median()\n",
    "property_info_count = property_info_count[['land_tax']]\n",
    "property_info_count.reset_index(inplace=True)\n",
    "featureSpace = pd.merge(featureSpace, property_info_count, how='inner')"
   ]
  },
  {
   "cell_type": "markdown",
   "metadata": {},
   "source": [
    "### Calculate vacant lots"
   ]
  },
  {
   "cell_type": "code",
   "execution_count": 19,
   "metadata": {
    "collapsed": true
   },
   "outputs": [],
   "source": [
    "property_info_count = property_info_ct.groupby('NAMELSAD10').sum()\n",
    "property_info_count = property_info_count[['vacant']]\n",
    "property_info_count.reset_index(inplace=True)\n",
    "featureSpace = pd.merge(featureSpace, property_info_count, how='inner')\n",
    "featureSpace['vacant'] = featureSpace['vacant']/featureSpace['Prop_Count']"
   ]
  },
  {
   "cell_type": "markdown",
   "metadata": {},
   "source": [
    "### Calculate homeownership"
   ]
  },
  {
   "cell_type": "code",
   "execution_count": 20,
   "metadata": {
    "collapsed": true
   },
   "outputs": [],
   "source": [
    "property_info_count = property_info_ct.groupby('NAMELSAD10').sum()\n",
    "property_info_count = property_info_count[['own_occup']]\n",
    "property_info_count.reset_index(inplace=True)\n",
    "featureSpace = pd.merge(featureSpace, property_info_count, how='inner')\n",
    "featureSpace['own_occup'] = featureSpace['own_occup']/featureSpace['Prop_Count']"
   ]
  },
  {
   "cell_type": "markdown",
   "metadata": {},
   "source": [
    "### Calculate Negative Actions"
   ]
  },
  {
   "cell_type": "code",
   "execution_count": 21,
   "metadata": {
    "collapsed": true
   },
   "outputs": [],
   "source": [
    "property_info_count = property_info_ct.groupby('NAMELSAD10').sum()\n",
    "property_info_count = property_info_count[['NegAct_cou']]\n",
    "property_info_count.reset_index(inplace=True)\n",
    "featureSpace = pd.merge(featureSpace, property_info_count, how='inner')\n",
    "featureSpace['NegAct_cou'] = featureSpace['NegAct_cou']/featureSpace['Prop_Count']"
   ]
  },
  {
   "cell_type": "markdown",
   "metadata": {},
   "source": [
    "### Calculate Tree Scores"
   ]
  },
  {
   "cell_type": "code",
   "execution_count": 22,
   "metadata": {
    "collapsed": true
   },
   "outputs": [],
   "source": [
    "trees_ct = gpd.sjoin(census_tracts, trees, how='left', op='intersects')"
   ]
  },
  {
   "cell_type": "code",
   "execution_count": 23,
   "metadata": {
    "collapsed": true
   },
   "outputs": [],
   "source": [
    "trees_count = trees_ct.groupby('NAMELSAD10').mean()\n",
    "trees_count = trees_count[['Tree_Score']]\n",
    "trees_count.reset_index(inplace=True)\n",
    "featureSpace = pd.merge(featureSpace, trees_count, how='inner')"
   ]
  },
  {
   "cell_type": "markdown",
   "metadata": {},
   "source": [
    "### Calculate Building Permits"
   ]
  },
  {
   "cell_type": "code",
   "execution_count": 24,
   "metadata": {
    "collapsed": true
   },
   "outputs": [],
   "source": [
    "permits_ct = gpd.sjoin(census_tracts, permits, how='left', op='intersects')"
   ]
  },
  {
   "cell_type": "code",
   "execution_count": 25,
   "metadata": {
    "collapsed": true
   },
   "outputs": [],
   "source": [
    "permits_count = permits_ct.groupby('NAMELSAD10').sum()\n",
    "permits_count = permits_count[['perm_num']]\n",
    "permits_count.reset_index(inplace=True)\n",
    "featureSpace = pd.merge(featureSpace, permits_count, how='inner')\n",
    "featureSpace['perm_num'] = featureSpace['perm_num']/featureSpace['Prop_Count']"
   ]
  },
  {
   "cell_type": "markdown",
   "metadata": {},
   "source": [
    "### Clean feature space and output file"
   ]
  },
  {
   "cell_type": "code",
   "execution_count": 26,
   "metadata": {
    "collapsed": true
   },
   "outputs": [],
   "source": [
    "featureSpace.rename(columns={'comp_count': 'Comp_Per', 'land_tax': 'Median_Val', \\\n",
    "                             'vacant': 'Vacant_Per', 'PD_Count':'PD_Per', 'own_occup':'Own_Occup', \\\n",
    "                             'NegAct_cou': 'Act_Count', 'perm_num': 'Perm_Count'}, inplace=True)\n",
    "featureSpace.fillna(0, inplace=True)"
   ]
  },
  {
   "cell_type": "code",
   "execution_count": 28,
   "metadata": {
    "collapsed": true
   },
   "outputs": [],
   "source": [
    "featureSpace.to_file('../Data/processed/shapefiles/featureSpace_CT.shp')"
   ]
  },
  {
   "cell_type": "code",
   "execution_count": null,
   "metadata": {
    "collapsed": true
   },
   "outputs": [],
   "source": []
  },
  {
   "cell_type": "code",
   "execution_count": null,
   "metadata": {
    "collapsed": true
   },
   "outputs": [],
   "source": []
  }
 ],
 "metadata": {
  "anaconda-cloud": {},
  "kernelspec": {
   "display_name": "Python 3",
   "language": "python",
   "name": "python3"
  },
  "language_info": {
   "codemirror_mode": {
    "name": "ipython",
    "version": 2
   },
   "file_extension": ".py",
   "mimetype": "text/x-python",
   "name": "python",
   "nbconvert_exporter": "python",
   "pygments_lexer": "ipython2",
   "version": "2.7.8"
  }
 },
 "nbformat": 4,
 "nbformat_minor": 2
}
