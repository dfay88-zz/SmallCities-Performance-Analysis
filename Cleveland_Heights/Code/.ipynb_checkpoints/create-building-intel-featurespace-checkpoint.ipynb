{
 "cells": [
  {
   "cell_type": "markdown",
   "metadata": {},
   "source": [
    "# Create Building Intelligence Feature Space\n",
    "#### Daniel Fay"
   ]
  },
  {
   "cell_type": "code",
   "execution_count": 1,
   "metadata": {
    "collapsed": true
   },
   "outputs": [],
   "source": [
    "import pandas as pd\n",
    "import geopandas as gpd"
   ]
  },
  {
   "cell_type": "code",
   "execution_count": 2,
   "metadata": {
    "collapsed": true
   },
   "outputs": [],
   "source": [
    "foreclosures = gpd.read_file('../Data/processed/shapefiles/FC_count.shp')\n",
    "police = gpd.read_file('../Data/processed/shapefiles/PD_count.shp')\n",
    "complaints = gpd.read_file('../Data/processed/shapefiles/complaint_count.shp')\n",
    "owners = gpd.read_file('../Data/Master_Building/CH_Only_Clip.shp')\n",
    "code_enforcement = gpd.read_file('../Data/processed/shapefiles/viol_agg_final_shp.shp')\n",
    "tree_scores = pd.read_csv('../Data/processed/tree_scores.csv')\n",
    "building_permits = pd.read_csv('../Data/processed/bldg_permits_agg.csv')"
   ]
  },
  {
   "cell_type": "code",
   "execution_count": 3,
   "metadata": {
    "collapsed": true
   },
   "outputs": [],
   "source": [
    "addresses = []\n",
    "for ix,row in owners.iterrows():\n",
    "    address = str(row['parcel_add'])[:-7]\n",
    "    addresses.append(address)\n",
    "\n",
    "owners['parcel_add'] = addresses"
   ]
  },
  {
   "cell_type": "markdown",
   "metadata": {},
   "source": [
    "### Foreclosures"
   ]
  },
  {
   "cell_type": "code",
   "execution_count": 4,
   "metadata": {
    "collapsed": true
   },
   "outputs": [],
   "source": [
    "foreclosures = foreclosures[['PPN', 'Count']]\n",
    "foreclosures.columns = ['PPN', 'FC_count']"
   ]
  },
  {
   "cell_type": "code",
   "execution_count": 5,
   "metadata": {
    "collapsed": true
   },
   "outputs": [],
   "source": [
    "owners.PARCELPIN = owners.PARCELPIN.astype(str)\n",
    "foreclosures.PPN = foreclosures.PPN.astype(str)"
   ]
  },
  {
   "cell_type": "code",
   "execution_count": 6,
   "metadata": {
    "collapsed": true
   },
   "outputs": [],
   "source": [
    "featureSpace = pd.merge(owners, foreclosures, how='left', left_on='PARCELPIN', right_on='PPN')"
   ]
  },
  {
   "cell_type": "code",
   "execution_count": 7,
   "metadata": {
    "collapsed": true
   },
   "outputs": [],
   "source": [
    "featureSpace.drop(['PPN'], axis=1, inplace=True)"
   ]
  },
  {
   "cell_type": "markdown",
   "metadata": {},
   "source": [
    "### Police Dispatch"
   ]
  },
  {
   "cell_type": "code",
   "execution_count": 8,
   "metadata": {
    "collapsed": true
   },
   "outputs": [],
   "source": [
    "police['address'] = map(lambda x: x.upper(), police['address'])\n",
    "police['address'] = police['address'] + ', CLEVELAND HEIGHTS, OH'"
   ]
  },
  {
   "cell_type": "code",
   "execution_count": 9,
   "metadata": {
    "collapsed": true
   },
   "outputs": [],
   "source": [
    "featureSpace = gpd.sjoin(featureSpace, police, how='left', op='intersects')"
   ]
  },
  {
   "cell_type": "code",
   "execution_count": 10,
   "metadata": {
    "collapsed": true
   },
   "outputs": [],
   "source": [
    "featureSpace.drop(['address', 'index_right'], axis=1, inplace=True)"
   ]
  },
  {
   "cell_type": "code",
   "execution_count": 11,
   "metadata": {
    "collapsed": true
   },
   "outputs": [],
   "source": [
    "counts = featureSpace[['parcel_add','PARCELPIN', 'PD_Count']]\n",
    "counts = counts.groupby(['parcel_add', 'PARCELPIN']).sum()\n",
    "counts.reset_index(inplace=True)"
   ]
  },
  {
   "cell_type": "code",
   "execution_count": 12,
   "metadata": {
    "collapsed": true
   },
   "outputs": [],
   "source": [
    "featureSpace.drop(['PD_Count'], axis=1, inplace=True)\n",
    "featureSpace.drop_duplicates(['parcel_add', 'PARCELPIN'], inplace=True)"
   ]
  },
  {
   "cell_type": "code",
   "execution_count": 13,
   "metadata": {
    "collapsed": true
   },
   "outputs": [],
   "source": [
    "featureSpace['PD_count'] = counts.PD_Count"
   ]
  },
  {
   "cell_type": "markdown",
   "metadata": {},
   "source": [
    "### Complaints"
   ]
  },
  {
   "cell_type": "code",
   "execution_count": 14,
   "metadata": {
    "collapsed": true
   },
   "outputs": [],
   "source": [
    "addresses = []\n",
    "for ix,row in complaints.iterrows():\n",
    "    address = row['Address'].split(',')[0] + ', Cleveland Heights, OH'\n",
    "    addresses.append(address)\n",
    "\n",
    "complaints.Address = addresses\n",
    "complaints['Address'] = map(lambda x: x.upper(), complaints['Address'])"
   ]
  },
  {
   "cell_type": "code",
   "execution_count": 15,
   "metadata": {
    "collapsed": true
   },
   "outputs": [],
   "source": [
    "featureSpace = gpd.sjoin(featureSpace, complaints, how='left', op='intersects')\n",
    "featureSpace.drop(['Address', 'index_right'], axis=1, inplace=True)"
   ]
  },
  {
   "cell_type": "code",
   "execution_count": 16,
   "metadata": {
    "collapsed": true
   },
   "outputs": [],
   "source": [
    "counts = featureSpace[['parcel_add','PARCELPIN', 'Complaint_']]\n",
    "counts = counts.groupby(['parcel_add', 'PARCELPIN']).sum()\n",
    "counts.reset_index(inplace=True)"
   ]
  },
  {
   "cell_type": "code",
   "execution_count": 17,
   "metadata": {
    "collapsed": true
   },
   "outputs": [],
   "source": [
    "featureSpace.drop(['Complaint_'], axis=1, inplace=True)\n",
    "featureSpace.drop_duplicates(['parcel_add', 'PARCELPIN'], inplace=True)"
   ]
  },
  {
   "cell_type": "code",
   "execution_count": 18,
   "metadata": {
    "collapsed": true
   },
   "outputs": [],
   "source": [
    "featureSpace['Comp_count'] = counts.Complaint_"
   ]
  },
  {
   "cell_type": "markdown",
   "metadata": {
    "collapsed": true
   },
   "source": [
    "### Code Enforcement"
   ]
  },
  {
   "cell_type": "code",
   "execution_count": 19,
   "metadata": {
    "collapsed": true
   },
   "outputs": [],
   "source": [
    "code_enforcement = code_enforcement[['address', 'negCodecnt', 'last_case', 'own_occup', 'geometry']]"
   ]
  },
  {
   "cell_type": "code",
   "execution_count": 20,
   "metadata": {
    "collapsed": true
   },
   "outputs": [],
   "source": [
    "featureSpace = gpd.sjoin(featureSpace, code_enforcement, how='left', op='intersects')\n",
    "featureSpace.drop(['address', 'index_right'], axis=1, inplace=True)"
   ]
  },
  {
   "cell_type": "code",
   "execution_count": 21,
   "metadata": {
    "collapsed": true
   },
   "outputs": [],
   "source": [
    "counts = featureSpace[['parcel_add','PARCELPIN', 'negCodecnt']]\n",
    "counts = counts.groupby(['parcel_add', 'PARCELPIN']).sum()\n",
    "counts.reset_index(inplace=True)"
   ]
  },
  {
   "cell_type": "code",
   "execution_count": 22,
   "metadata": {
    "collapsed": true
   },
   "outputs": [],
   "source": [
    "featureSpace.drop(['negCodecnt'], axis=1, inplace=True)\n",
    "featureSpace.drop_duplicates(['parcel_add', 'PARCELPIN'], inplace=True)"
   ]
  },
  {
   "cell_type": "code",
   "execution_count": 23,
   "metadata": {
    "collapsed": true
   },
   "outputs": [],
   "source": [
    "featureSpace['NegAct_count'] = counts.negCodecnt"
   ]
  },
  {
   "cell_type": "markdown",
   "metadata": {},
   "source": [
    "### Tree Scores"
   ]
  },
  {
   "cell_type": "code",
   "execution_count": 24,
   "metadata": {},
   "outputs": [],
   "source": [
    "def fix_address(row):\n",
    "    num = row['Address'].split(' ')[2]\n",
    "    st = row['Address'].split(' ')[0] + ' ' + row['Address'].split(' ')[1]\n",
    "    add = num + ' ' + st + ', CLEVELAND HEIGHTS, OH'\n",
    "    return add\n",
    "\n",
    "tree_scores['Address'] = tree_scores.apply(fix_address, axis=1)\n",
    "tree_scores['Address'] = map(lambda x: x.upper(), tree_scores['Address'])"
   ]
  },
  {
   "cell_type": "code",
   "execution_count": 25,
   "metadata": {
    "collapsed": true
   },
   "outputs": [],
   "source": [
    "featureSpace = pd.merge(featureSpace, tree_scores, how='left', left_on='parcel_add', right_on='Address')\n",
    "featureSpace.drop('Address', axis=1, inplace=True)"
   ]
  },
  {
   "cell_type": "markdown",
   "metadata": {},
   "source": [
    "### Building Permits"
   ]
  },
  {
   "cell_type": "code",
   "execution_count": 26,
   "metadata": {
    "collapsed": true
   },
   "outputs": [],
   "source": [
    "building_permits = building_permits[['parcelID', 'perm_num']]"
   ]
  },
  {
   "cell_type": "code",
   "execution_count": 27,
   "metadata": {
    "collapsed": true
   },
   "outputs": [],
   "source": [
    "featureSpace = pd.merge(featureSpace, building_permits, how='left', left_on='PARCEL_ID', right_on='parcelID')\n",
    "featureSpace.drop('parcelID', axis=1, inplace=True)"
   ]
  },
  {
   "cell_type": "code",
   "execution_count": 35,
   "metadata": {
    "collapsed": true
   },
   "outputs": [],
   "source": [
    "featureSpace[['FC_count', 'PD_count', 'own_occup','Comp_count', 'NegAct_count', 'perm_num']] = featureSpace[['FC_count', 'PD_count', 'own_occup', \\\n",
    "                                                                                                 'Comp_count','NegAct_count', 'perm_num']].fillna(value=0)\n"
   ]
  },
  {
   "cell_type": "code",
   "execution_count": 36,
   "metadata": {
    "collapsed": true
   },
   "outputs": [],
   "source": [
    "featureSpace_shp = gpd.GeoDataFrame(featureSpace, crs = {'init': 'epsg:4326'})"
   ]
  },
  {
   "cell_type": "code",
   "execution_count": 37,
   "metadata": {
    "collapsed": true
   },
   "outputs": [],
   "source": [
    "featureSpace_shp.to_file('../Data/processed/shapefiles/featureSpace.shp')"
   ]
  },
  {
   "cell_type": "code",
   "execution_count": null,
   "metadata": {
    "collapsed": true
   },
   "outputs": [],
   "source": []
  }
 ],
 "metadata": {
  "anaconda-cloud": {},
  "kernelspec": {
   "display_name": "Python 3",
   "language": "python",
   "name": "python3"
  },
  "language_info": {
   "codemirror_mode": {
    "name": "ipython",
    "version": 2
   },
   "file_extension": ".py",
   "mimetype": "text/x-python",
   "name": "python",
   "nbconvert_exporter": "python",
   "pygments_lexer": "ipython2",
   "version": "2.7.8"
  }
 },
 "nbformat": 4,
 "nbformat_minor": 2
}
