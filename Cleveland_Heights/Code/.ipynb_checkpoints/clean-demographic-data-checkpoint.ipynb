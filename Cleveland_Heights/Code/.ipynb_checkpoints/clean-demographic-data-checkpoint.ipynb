{
 "cells": [
  {
   "cell_type": "markdown",
   "metadata": {},
   "source": [
    "# Clean Demographic Data\n",
    "#### Daniel Fay"
   ]
  },
  {
   "cell_type": "markdown",
   "metadata": {},
   "source": [
    "* % population 16 and Under\n",
    "* % population 65+\n",
    "* % white\n",
    "* % black\n",
    "* % other"
   ]
  },
  {
   "cell_type": "code",
   "execution_count": 1,
   "metadata": {
    "collapsed": true
   },
   "outputs": [],
   "source": [
    "import pandas as pd\n",
    "import geopandas as gpd"
   ]
  },
  {
   "cell_type": "code",
   "execution_count": 11,
   "metadata": {},
   "outputs": [],
   "source": [
    "demo_data = gpd.read_file('../Data/Tract_2010Census_DP1/Tract_2010Census_DP_Cuyahoga.shp')\n",
    "econ_data = pd.read_table('../Data/econ_data_tab.txt')"
   ]
  },
  {
   "cell_type": "code",
   "execution_count": 3,
   "metadata": {},
   "outputs": [
    {
     "data": {
      "text/html": [
       "<div>\n",
       "<table border=\"1\" class=\"dataframe\">\n",
       "  <thead>\n",
       "    <tr style=\"text-align: right;\">\n",
       "      <th></th>\n",
       "      <th>Under_16_Percent</th>\n",
       "      <th>65_Over_Percent</th>\n",
       "      <th>White_Percent</th>\n",
       "      <th>Black_Percent</th>\n",
       "      <th>Other_Percent</th>\n",
       "      <th>geometry</th>\n",
       "      <th>NAMELSAD10</th>\n",
       "    </tr>\n",
       "  </thead>\n",
       "  <tbody>\n",
       "    <tr>\n",
       "      <th>0</th>\n",
       "      <td>0.251584</td>\n",
       "      <td>0.082365</td>\n",
       "      <td>0.960137</td>\n",
       "      <td>0.008712</td>\n",
       "      <td>0.031151</td>\n",
       "      <td>POLYGON ((-81.80648576188759 41.27607673330996...</td>\n",
       "      <td>Census Tract 4151</td>\n",
       "    </tr>\n",
       "    <tr>\n",
       "      <th>1</th>\n",
       "      <td>0.245527</td>\n",
       "      <td>0.093670</td>\n",
       "      <td>0.952488</td>\n",
       "      <td>0.009472</td>\n",
       "      <td>0.038039</td>\n",
       "      <td>POLYGON ((-81.85016099999996 41.27542499999998...</td>\n",
       "      <td>Census Tract 4158</td>\n",
       "    </tr>\n",
       "    <tr>\n",
       "      <th>2</th>\n",
       "      <td>0.225596</td>\n",
       "      <td>0.116065</td>\n",
       "      <td>0.961952</td>\n",
       "      <td>0.011530</td>\n",
       "      <td>0.026518</td>\n",
       "      <td>(POLYGON ((-81.835014 41.27560900000009, -81.8...</td>\n",
       "      <td>Census Tract 4163</td>\n",
       "    </tr>\n",
       "    <tr>\n",
       "      <th>3</th>\n",
       "      <td>0.207952</td>\n",
       "      <td>0.143735</td>\n",
       "      <td>0.974627</td>\n",
       "      <td>0.004054</td>\n",
       "      <td>0.021318</td>\n",
       "      <td>(POLYGON ((-81.78509684929675 41.2764304301054...</td>\n",
       "      <td>Census Tract 4001</td>\n",
       "    </tr>\n",
       "    <tr>\n",
       "      <th>4</th>\n",
       "      <td>0.163694</td>\n",
       "      <td>0.191917</td>\n",
       "      <td>0.816437</td>\n",
       "      <td>0.104087</td>\n",
       "      <td>0.079476</td>\n",
       "      <td>(POLYGON ((-81.41064907299379 41.5697726288051...</td>\n",
       "      <td>Census Tract 2011</td>\n",
       "    </tr>\n",
       "  </tbody>\n",
       "</table>\n",
       "</div>"
      ],
      "text/plain": [
       "   Under_16_Percent  65_Over_Percent  White_Percent  Black_Percent  \\\n",
       "0          0.251584         0.082365       0.960137       0.008712   \n",
       "1          0.245527         0.093670       0.952488       0.009472   \n",
       "2          0.225596         0.116065       0.961952       0.011530   \n",
       "3          0.207952         0.143735       0.974627       0.004054   \n",
       "4          0.163694         0.191917       0.816437       0.104087   \n",
       "\n",
       "   Other_Percent                                           geometry  \\\n",
       "0       0.031151  POLYGON ((-81.80648576188759 41.27607673330996...   \n",
       "1       0.038039  POLYGON ((-81.85016099999996 41.27542499999998...   \n",
       "2       0.026518  (POLYGON ((-81.835014 41.27560900000009, -81.8...   \n",
       "3       0.021318  (POLYGON ((-81.78509684929675 41.2764304301054...   \n",
       "4       0.079476  (POLYGON ((-81.41064907299379 41.5697726288051...   \n",
       "\n",
       "          NAMELSAD10  \n",
       "0  Census Tract 4151  \n",
       "1  Census Tract 4158  \n",
       "2  Census Tract 4163  \n",
       "3  Census Tract 4001  \n",
       "4  Census Tract 2011  "
      ]
     },
     "execution_count": 3,
     "metadata": {},
     "output_type": "execute_result"
    }
   ],
   "source": [
    "demo_data['Under_16_Percent'] = (demo_data['DP0010001'] - demo_data['DP0030001'])/demo_data['DP0010001']\n",
    "demo_data['65_Over_Percent'] = demo_data['DP0070001']/demo_data['DP0010001']\n",
    "demo_data['White_Percent'] = demo_data['DP0080003']/demo_data['DP0080001']\n",
    "demo_data['Black_Percent'] = demo_data['DP0080004']/demo_data['DP0080001']\n",
    "demo_data['Other_Percent'] = 1 - (demo_data['White_Percent'] + demo_data['Black_Percent'])\n",
    "demo_data = demo_data[['Under_16_Percent', '65_Over_Percent', 'White_Percent', 'Black_Percent', 'Other_Percent', \\\n",
    "                      'geometry', 'NAMELSAD10']]\n",
    "demo_data.head()"
   ]
  },
  {
   "cell_type": "code",
   "execution_count": 4,
   "metadata": {
    "collapsed": true
   },
   "outputs": [],
   "source": [
    "econ_tracts = []\n",
    "for ix, row in econ_data.iterrows():\n",
    "    ct = row['Geography'].split(',')[0]\n",
    "    econ_tracts.append(ct)\n",
    "\n",
    "econ_data['NAMELSAD10'] = econ_tracts"
   ]
  },
  {
   "cell_type": "code",
   "execution_count": 5,
   "metadata": {},
   "outputs": [
    {
     "data": {
      "text/html": [
       "<div>\n",
       "<table border=\"1\" class=\"dataframe\">\n",
       "  <thead>\n",
       "    <tr style=\"text-align: right;\">\n",
       "      <th></th>\n",
       "      <th>NAMELSAD10</th>\n",
       "      <th>Median_Income</th>\n",
       "    </tr>\n",
       "  </thead>\n",
       "  <tbody>\n",
       "    <tr>\n",
       "      <th>0</th>\n",
       "      <td>Census Tract 1832</td>\n",
       "      <td>172656</td>\n",
       "    </tr>\n",
       "    <tr>\n",
       "      <th>1</th>\n",
       "      <td>Census Tract 1791.02</td>\n",
       "      <td>170568</td>\n",
       "    </tr>\n",
       "    <tr>\n",
       "      <th>2</th>\n",
       "      <td>Census Tract 1833</td>\n",
       "      <td>165043</td>\n",
       "    </tr>\n",
       "    <tr>\n",
       "      <th>3</th>\n",
       "      <td>Census Tract 1963</td>\n",
       "      <td>154297</td>\n",
       "    </tr>\n",
       "    <tr>\n",
       "      <th>4</th>\n",
       "      <td>Census Tract 1791.01</td>\n",
       "      <td>138594</td>\n",
       "    </tr>\n",
       "  </tbody>\n",
       "</table>\n",
       "</div>"
      ],
      "text/plain": [
       "             NAMELSAD10  Median_Income\n",
       "0     Census Tract 1832         172656\n",
       "1  Census Tract 1791.02         170568\n",
       "2     Census Tract 1833         165043\n",
       "3     Census Tract 1963         154297\n",
       "4  Census Tract 1791.01         138594"
      ]
     },
     "execution_count": 5,
     "metadata": {},
     "output_type": "execute_result"
    }
   ],
   "source": [
    "econ_data = econ_data[['NAMELSAD10', \\\n",
    "                       'Estimate; Median household income in the past 12 months (in 2015 Inflation-adjusted dollars)']]\n",
    "econ_data.columns = ['NAMELSAD10', 'Median_Income']\n",
    "econ_data.head()"
   ]
  },
  {
   "cell_type": "code",
   "execution_count": 6,
   "metadata": {},
   "outputs": [
    {
     "data": {
      "text/html": [
       "<div>\n",
       "<table border=\"1\" class=\"dataframe\">\n",
       "  <thead>\n",
       "    <tr style=\"text-align: right;\">\n",
       "      <th></th>\n",
       "      <th>Under_16_Percent</th>\n",
       "      <th>65_Over_Percent</th>\n",
       "      <th>White_Percent</th>\n",
       "      <th>Black_Percent</th>\n",
       "      <th>Other_Percent</th>\n",
       "      <th>geometry</th>\n",
       "      <th>NAMELSAD10</th>\n",
       "      <th>Median_Income</th>\n",
       "    </tr>\n",
       "  </thead>\n",
       "  <tbody>\n",
       "    <tr>\n",
       "      <th>0</th>\n",
       "      <td>0.173797</td>\n",
       "      <td>0.131016</td>\n",
       "      <td>0.073864</td>\n",
       "      <td>0.904746</td>\n",
       "      <td>0.021390</td>\n",
       "      <td>POLYGON ((-81.55600099999998 41.54523699999993...</td>\n",
       "      <td>Census Tract 1261</td>\n",
       "      <td>35100</td>\n",
       "    </tr>\n",
       "    <tr>\n",
       "      <th>1</th>\n",
       "      <td>0.171733</td>\n",
       "      <td>0.207264</td>\n",
       "      <td>0.954599</td>\n",
       "      <td>0.007501</td>\n",
       "      <td>0.037900</td>\n",
       "      <td>POLYGON ((-81.87535899999995 41.4176480000001,...</td>\n",
       "      <td>Census Tract 1531.03</td>\n",
       "      <td>63281</td>\n",
       "    </tr>\n",
       "    <tr>\n",
       "      <th>2</th>\n",
       "      <td>0.215865</td>\n",
       "      <td>0.156047</td>\n",
       "      <td>0.136541</td>\n",
       "      <td>0.824447</td>\n",
       "      <td>0.039012</td>\n",
       "      <td>POLYGON ((-81.55588699999998 41.53788500000002...</td>\n",
       "      <td>Census Tract 1401</td>\n",
       "      <td>60143</td>\n",
       "    </tr>\n",
       "    <tr>\n",
       "      <th>3</th>\n",
       "      <td>0.222466</td>\n",
       "      <td>0.130759</td>\n",
       "      <td>0.043440</td>\n",
       "      <td>0.930671</td>\n",
       "      <td>0.025889</td>\n",
       "      <td>POLYGON ((-81.55663099999998 41.52714300000014...</td>\n",
       "      <td>Census Tract 1403.01</td>\n",
       "      <td>40938</td>\n",
       "    </tr>\n",
       "    <tr>\n",
       "      <th>4</th>\n",
       "      <td>0.195163</td>\n",
       "      <td>0.176920</td>\n",
       "      <td>0.327111</td>\n",
       "      <td>0.627917</td>\n",
       "      <td>0.044972</td>\n",
       "      <td>POLYGON ((-81.55001399999998 41.520512, -81.55...</td>\n",
       "      <td>Census Tract 1403.02</td>\n",
       "      <td>41582</td>\n",
       "    </tr>\n",
       "  </tbody>\n",
       "</table>\n",
       "</div>"
      ],
      "text/plain": [
       "   Under_16_Percent  65_Over_Percent  White_Percent  Black_Percent  \\\n",
       "0          0.173797         0.131016       0.073864       0.904746   \n",
       "1          0.171733         0.207264       0.954599       0.007501   \n",
       "2          0.215865         0.156047       0.136541       0.824447   \n",
       "3          0.222466         0.130759       0.043440       0.930671   \n",
       "4          0.195163         0.176920       0.327111       0.627917   \n",
       "\n",
       "   Other_Percent                                           geometry  \\\n",
       "0       0.021390  POLYGON ((-81.55600099999998 41.54523699999993...   \n",
       "1       0.037900  POLYGON ((-81.87535899999995 41.4176480000001,...   \n",
       "2       0.039012  POLYGON ((-81.55588699999998 41.53788500000002...   \n",
       "3       0.025889  POLYGON ((-81.55663099999998 41.52714300000014...   \n",
       "4       0.044972  POLYGON ((-81.55001399999998 41.520512, -81.55...   \n",
       "\n",
       "             NAMELSAD10  Median_Income  \n",
       "0     Census Tract 1261          35100  \n",
       "1  Census Tract 1531.03          63281  \n",
       "2     Census Tract 1401          60143  \n",
       "3  Census Tract 1403.01          40938  \n",
       "4  Census Tract 1403.02          41582  "
      ]
     },
     "execution_count": 6,
     "metadata": {},
     "output_type": "execute_result"
    }
   ],
   "source": [
    "demo_ct = pd.merge(demo_data, econ_data, on='NAMELSAD10')\n",
    "demo_ct.head()"
   ]
  },
  {
   "cell_type": "code",
   "execution_count": 7,
   "metadata": {},
   "outputs": [
    {
     "data": {
      "text/plain": [
       "{'init': u'epsg:4269'}"
      ]
     },
     "execution_count": 7,
     "metadata": {},
     "output_type": "execute_result"
    }
   ],
   "source": [
    "demo_ct.crs"
   ]
  },
  {
   "cell_type": "code",
   "execution_count": 9,
   "metadata": {
    "collapsed": true
   },
   "outputs": [],
   "source": [
    "demo_ct.to_file('../Data/processed/shapefiles/CT_Demo.shp')"
   ]
  },
  {
   "cell_type": "code",
   "execution_count": 53,
   "metadata": {
    "collapsed": true
   },
   "outputs": [],
   "source": [
    "demo_ct.to_csv(\"../Data/CT_Demo_Data.csv\")"
   ]
  },
  {
   "cell_type": "code",
   "execution_count": null,
   "metadata": {
    "collapsed": true
   },
   "outputs": [],
   "source": []
  },
  {
   "cell_type": "code",
   "execution_count": null,
   "metadata": {
    "collapsed": true
   },
   "outputs": [],
   "source": []
  },
  {
   "cell_type": "code",
   "execution_count": null,
   "metadata": {
    "collapsed": true
   },
   "outputs": [],
   "source": []
  }
 ],
 "metadata": {
  "anaconda-cloud": {},
  "kernelspec": {
   "display_name": "Python 3",
   "language": "python",
   "name": "python3"
  },
  "language_info": {
   "codemirror_mode": {
    "name": "ipython",
    "version": 2
   },
   "file_extension": ".py",
   "mimetype": "text/x-python",
   "name": "python",
   "nbconvert_exporter": "python",
   "pygments_lexer": "ipython2",
   "version": "2.7.8"
  }
 },
 "nbformat": 4,
 "nbformat_minor": 2
}
