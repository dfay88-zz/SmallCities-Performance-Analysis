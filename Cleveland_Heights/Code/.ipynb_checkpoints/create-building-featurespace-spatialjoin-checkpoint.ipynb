{
 "cells": [
  {
   "cell_type": "markdown",
   "metadata": {},
   "source": [
    "# Create Building Score Feature Space\n",
    "#### Daniel Fay"
   ]
  },
  {
   "cell_type": "markdown",
   "metadata": {},
   "source": [
    "#### Input:\n",
    "* Police Dispatch\n",
    "* Foreclosures\n",
    "* Owner\n",
    "* complaint data  \n",
    "\n",
    "\n",
    "* Tenant Count\n",
    "* Utility backpay"
   ]
  },
  {
   "cell_type": "code",
   "execution_count": 5,
   "metadata": {
    "collapsed": true
   },
   "outputs": [],
   "source": [
    "import pandas as pd\n",
    "import geopandas as gpd"
   ]
  },
  {
   "cell_type": "code",
   "execution_count": 6,
   "metadata": {
    "collapsed": true
   },
   "outputs": [],
   "source": [
    "foreclosures = gpd.read_file('../Data/processed/shapefiles/FC_count.shp')\n",
    "police = gpd.read_file('../Data/processed/shapefiles/PD_count.shp')\n",
    "complaints = gpd.read_file('../Data/processed/shapefiles/complaint_count.shp')\n",
    "owners = gpd.read_file('../Data/Master_Building/CH_Only_Clip.shp')"
   ]
  },
  {
   "cell_type": "code",
   "execution_count": 7,
   "metadata": {},
   "outputs": [
    {
     "data": {
      "text/html": [
       "<div>\n",
       "<table border=\"1\" class=\"dataframe\">\n",
       "  <thead>\n",
       "    <tr style=\"text-align: right;\">\n",
       "      <th></th>\n",
       "      <th>PARCELPIN</th>\n",
       "      <th>PARCEL_ID</th>\n",
       "      <th>building_t</th>\n",
       "      <th>geometry</th>\n",
       "      <th>gross_tax</th>\n",
       "      <th>land_tax</th>\n",
       "      <th>land_use</th>\n",
       "      <th>last_sale</th>\n",
       "      <th>owner</th>\n",
       "      <th>parcel_add</th>\n",
       "      <th>parcel_cit</th>\n",
       "      <th>propcode</th>\n",
       "      <th>sale_amoun</th>\n",
       "      <th>seller</th>\n",
       "      <th>sold_date</th>\n",
       "      <th>tax_year</th>\n",
       "      <th>tot_com_sq</th>\n",
       "      <th>tot_res_sq</th>\n",
       "      <th>total_sqft</th>\n",
       "      <th>vacant</th>\n",
       "    </tr>\n",
       "  </thead>\n",
       "  <tbody>\n",
       "    <tr>\n",
       "      <th>0</th>\n",
       "      <td>68104092</td>\n",
       "      <td>68104092</td>\n",
       "      <td>60400.0</td>\n",
       "      <td>POLYGON ((-81.56532396435152 41.53334577574375...</td>\n",
       "      <td>11400.0</td>\n",
       "      <td>71800.0</td>\n",
       "      <td>5100</td>\n",
       "      <td>2009-05</td>\n",
       "      <td>HUGHES, GERALYNNE</td>\n",
       "      <td>2090 TAYLOR RD, CLEVELAND HEIGHTS, OH</td>\n",
       "      <td>CLEVELAND HEIGHTS</td>\n",
       "      <td>R</td>\n",
       "      <td>0.0</td>\n",
       "      <td>FEDERAL HOME LOAN MORTGAGE CORPORATION</td>\n",
       "      <td>2009-05-05T11:27:00.000Z</td>\n",
       "      <td>2016.0</td>\n",
       "      <td>0.0</td>\n",
       "      <td>1274.0</td>\n",
       "      <td>4745.0</td>\n",
       "      <td>0.0</td>\n",
       "    </tr>\n",
       "    <tr>\n",
       "      <th>1</th>\n",
       "      <td>68401004</td>\n",
       "      <td>68401004</td>\n",
       "      <td>61800.0</td>\n",
       "      <td>POLYGON ((-81.5806817475017 41.51499576065242,...</td>\n",
       "      <td>12900.0</td>\n",
       "      <td>74700.0</td>\n",
       "      <td>5200</td>\n",
       "      <td>2013-12</td>\n",
       "      <td>HALO INVESTMENTS LLC</td>\n",
       "      <td>1626 COVENTRY RD, CLEVELAND HEIGHTS, OH</td>\n",
       "      <td>CLEVELAND HEIGHTS</td>\n",
       "      <td>R</td>\n",
       "      <td>0.0</td>\n",
       "      <td>C-2000 INC</td>\n",
       "      <td>2013-12-12T15:45:00.000Z</td>\n",
       "      <td>2016.0</td>\n",
       "      <td>0.0</td>\n",
       "      <td>3569.0</td>\n",
       "      <td>7500.0</td>\n",
       "      <td>0.0</td>\n",
       "    </tr>\n",
       "    <tr>\n",
       "      <th>2</th>\n",
       "      <td>68112053</td>\n",
       "      <td>68112053</td>\n",
       "      <td>0.0</td>\n",
       "      <td>POLYGON ((-81.56557165053658 41.53004719302985...</td>\n",
       "      <td>2700.0</td>\n",
       "      <td>2700.0</td>\n",
       "      <td>5000</td>\n",
       "      <td>2007-11</td>\n",
       "      <td>NATIONAL CITY BANK, TRUSTEE</td>\n",
       "      <td>0 OAKHILL RD, CLEVELAND HEIGHTS, OH</td>\n",
       "      <td>CLEVELAND HEIGHTS</td>\n",
       "      <td>R</td>\n",
       "      <td>0.0</td>\n",
       "      <td>Gibian Germaine L</td>\n",
       "      <td>2007-11-27T11:51:00.000Z</td>\n",
       "      <td>2016.0</td>\n",
       "      <td>0.0</td>\n",
       "      <td>0.0</td>\n",
       "      <td>2610.0</td>\n",
       "      <td>1.0</td>\n",
       "    </tr>\n",
       "    <tr>\n",
       "      <th>3</th>\n",
       "      <td>68401001</td>\n",
       "      <td>68401001</td>\n",
       "      <td>63600.0</td>\n",
       "      <td>POLYGON ((-81.58082800580637 41.51538821948967...</td>\n",
       "      <td>9300.0</td>\n",
       "      <td>72900.0</td>\n",
       "      <td>5100</td>\n",
       "      <td>2008-02</td>\n",
       "      <td>1612 Coventry LLC</td>\n",
       "      <td>1612 COVENTRY RD, CLEVELAND HEIGHTS, OH</td>\n",
       "      <td>CLEVELAND HEIGHTS</td>\n",
       "      <td>R</td>\n",
       "      <td>70000.0</td>\n",
       "      <td>1612 Coventry LLC</td>\n",
       "      <td>2008-02-15T00:00:00.000Z</td>\n",
       "      <td>2016.0</td>\n",
       "      <td>0.0</td>\n",
       "      <td>1402.0</td>\n",
       "      <td>3811.0</td>\n",
       "      <td>0.0</td>\n",
       "    </tr>\n",
       "    <tr>\n",
       "      <th>4</th>\n",
       "      <td>68221049</td>\n",
       "      <td>68221049</td>\n",
       "      <td>85700.0</td>\n",
       "      <td>POLYGON ((-81.53542516876514 41.53305654011595...</td>\n",
       "      <td>19300.0</td>\n",
       "      <td>105000.0</td>\n",
       "      <td>5100</td>\n",
       "      <td>1990-11</td>\n",
       "      <td>GHOLSON, LLOYD W.</td>\n",
       "      <td>1025 RENFIELD RD, CLEVELAND HEIGHTS, OH</td>\n",
       "      <td>CLEVELAND HEIGHTS</td>\n",
       "      <td>R</td>\n",
       "      <td>73300.0</td>\n",
       "      <td>Gary D Geldart</td>\n",
       "      <td>1990-11-27T00:00:00.000Z</td>\n",
       "      <td>2016.0</td>\n",
       "      <td>0.0</td>\n",
       "      <td>2379.0</td>\n",
       "      <td>9000.0</td>\n",
       "      <td>0.0</td>\n",
       "    </tr>\n",
       "  </tbody>\n",
       "</table>\n",
       "</div>"
      ],
      "text/plain": [
       "  PARCELPIN PARCEL_ID  building_t  \\\n",
       "0  68104092  68104092     60400.0   \n",
       "1  68401004  68401004     61800.0   \n",
       "2  68112053  68112053         0.0   \n",
       "3  68401001  68401001     63600.0   \n",
       "4  68221049  68221049     85700.0   \n",
       "\n",
       "                                            geometry  gross_tax  land_tax  \\\n",
       "0  POLYGON ((-81.56532396435152 41.53334577574375...    11400.0   71800.0   \n",
       "1  POLYGON ((-81.5806817475017 41.51499576065242,...    12900.0   74700.0   \n",
       "2  POLYGON ((-81.56557165053658 41.53004719302985...     2700.0    2700.0   \n",
       "3  POLYGON ((-81.58082800580637 41.51538821948967...     9300.0   72900.0   \n",
       "4  POLYGON ((-81.53542516876514 41.53305654011595...    19300.0  105000.0   \n",
       "\n",
       "  land_use last_sale                        owner  \\\n",
       "0     5100   2009-05            HUGHES, GERALYNNE   \n",
       "1     5200   2013-12         HALO INVESTMENTS LLC   \n",
       "2     5000   2007-11  NATIONAL CITY BANK, TRUSTEE   \n",
       "3     5100   2008-02            1612 Coventry LLC   \n",
       "4     5100   1990-11            GHOLSON, LLOYD W.   \n",
       "\n",
       "                                parcel_add         parcel_cit propcode  \\\n",
       "0    2090 TAYLOR RD, CLEVELAND HEIGHTS, OH  CLEVELAND HEIGHTS        R   \n",
       "1  1626 COVENTRY RD, CLEVELAND HEIGHTS, OH  CLEVELAND HEIGHTS        R   \n",
       "2      0 OAKHILL RD, CLEVELAND HEIGHTS, OH  CLEVELAND HEIGHTS        R   \n",
       "3  1612 COVENTRY RD, CLEVELAND HEIGHTS, OH  CLEVELAND HEIGHTS        R   \n",
       "4  1025 RENFIELD RD, CLEVELAND HEIGHTS, OH  CLEVELAND HEIGHTS        R   \n",
       "\n",
       "   sale_amoun                                  seller  \\\n",
       "0         0.0  FEDERAL HOME LOAN MORTGAGE CORPORATION   \n",
       "1         0.0                              C-2000 INC   \n",
       "2         0.0                       Gibian Germaine L   \n",
       "3     70000.0                       1612 Coventry LLC   \n",
       "4     73300.0                          Gary D Geldart   \n",
       "\n",
       "                  sold_date  tax_year  tot_com_sq  tot_res_sq  total_sqft  \\\n",
       "0  2009-05-05T11:27:00.000Z    2016.0         0.0      1274.0      4745.0   \n",
       "1  2013-12-12T15:45:00.000Z    2016.0         0.0      3569.0      7500.0   \n",
       "2  2007-11-27T11:51:00.000Z    2016.0         0.0         0.0      2610.0   \n",
       "3  2008-02-15T00:00:00.000Z    2016.0         0.0      1402.0      3811.0   \n",
       "4  1990-11-27T00:00:00.000Z    2016.0         0.0      2379.0      9000.0   \n",
       "\n",
       "   vacant  \n",
       "0     0.0  \n",
       "1     0.0  \n",
       "2     1.0  \n",
       "3     0.0  \n",
       "4     0.0  "
      ]
     },
     "execution_count": 7,
     "metadata": {},
     "output_type": "execute_result"
    }
   ],
   "source": [
    "addresses = []\n",
    "for ix,row in owners.iterrows():\n",
    "    address = str(row['parcel_add'])[:-7]\n",
    "    addresses.append(address)\n",
    "\n",
    "owners['parcel_add'] = addresses\n",
    "owners.head()"
   ]
  },
  {
   "cell_type": "markdown",
   "metadata": {},
   "source": [
    "### Foreclosures"
   ]
  },
  {
   "cell_type": "code",
   "execution_count": 8,
   "metadata": {
    "collapsed": true
   },
   "outputs": [],
   "source": [
    "foreclosures = foreclosures[['PPN', 'Count']]\n",
    "foreclosures.columns = ['PPN', 'FC_count']"
   ]
  },
  {
   "cell_type": "code",
   "execution_count": 9,
   "metadata": {
    "collapsed": true
   },
   "outputs": [],
   "source": [
    "owners.PARCELPIN = owners.PARCELPIN.astype(str)\n",
    "foreclosures.PPN = foreclosures.PPN.astype(str)"
   ]
  },
  {
   "cell_type": "code",
   "execution_count": 10,
   "metadata": {},
   "outputs": [
    {
     "data": {
      "text/plain": [
       "16462"
      ]
     },
     "execution_count": 10,
     "metadata": {},
     "output_type": "execute_result"
    }
   ],
   "source": [
    "len(owners)"
   ]
  },
  {
   "cell_type": "code",
   "execution_count": 11,
   "metadata": {
    "collapsed": true
   },
   "outputs": [],
   "source": [
    "featureSpace = pd.merge(owners, foreclosures, how='left', left_on='PARCELPIN', right_on='PPN')"
   ]
  },
  {
   "cell_type": "code",
   "execution_count": 12,
   "metadata": {},
   "outputs": [
    {
     "data": {
      "text/plain": [
       "16462"
      ]
     },
     "execution_count": 12,
     "metadata": {},
     "output_type": "execute_result"
    }
   ],
   "source": [
    "len(featureSpace)"
   ]
  },
  {
   "cell_type": "code",
   "execution_count": 13,
   "metadata": {},
   "outputs": [
    {
     "data": {
      "text/html": [
       "<div>\n",
       "<table border=\"1\" class=\"dataframe\">\n",
       "  <thead>\n",
       "    <tr style=\"text-align: right;\">\n",
       "      <th></th>\n",
       "      <th>PARCELPIN</th>\n",
       "      <th>PARCEL_ID</th>\n",
       "      <th>building_t</th>\n",
       "      <th>geometry</th>\n",
       "      <th>gross_tax</th>\n",
       "      <th>land_tax</th>\n",
       "      <th>land_use</th>\n",
       "      <th>last_sale</th>\n",
       "      <th>owner</th>\n",
       "      <th>parcel_add</th>\n",
       "      <th>...</th>\n",
       "      <th>propcode</th>\n",
       "      <th>sale_amoun</th>\n",
       "      <th>seller</th>\n",
       "      <th>sold_date</th>\n",
       "      <th>tax_year</th>\n",
       "      <th>tot_com_sq</th>\n",
       "      <th>tot_res_sq</th>\n",
       "      <th>total_sqft</th>\n",
       "      <th>vacant</th>\n",
       "      <th>FC_count</th>\n",
       "    </tr>\n",
       "  </thead>\n",
       "  <tbody>\n",
       "    <tr>\n",
       "      <th>0</th>\n",
       "      <td>68104092</td>\n",
       "      <td>68104092</td>\n",
       "      <td>60400.0</td>\n",
       "      <td>POLYGON ((-81.56532396435152 41.53334577574375...</td>\n",
       "      <td>11400.0</td>\n",
       "      <td>71800.0</td>\n",
       "      <td>5100</td>\n",
       "      <td>2009-05</td>\n",
       "      <td>HUGHES, GERALYNNE</td>\n",
       "      <td>2090 TAYLOR RD, CLEVELAND HEIGHTS, OH</td>\n",
       "      <td>...</td>\n",
       "      <td>R</td>\n",
       "      <td>0.0</td>\n",
       "      <td>FEDERAL HOME LOAN MORTGAGE CORPORATION</td>\n",
       "      <td>2009-05-05T11:27:00.000Z</td>\n",
       "      <td>2016.0</td>\n",
       "      <td>0.0</td>\n",
       "      <td>1274.0</td>\n",
       "      <td>4745.0</td>\n",
       "      <td>0.0</td>\n",
       "      <td>2.0</td>\n",
       "    </tr>\n",
       "    <tr>\n",
       "      <th>1</th>\n",
       "      <td>68401004</td>\n",
       "      <td>68401004</td>\n",
       "      <td>61800.0</td>\n",
       "      <td>POLYGON ((-81.5806817475017 41.51499576065242,...</td>\n",
       "      <td>12900.0</td>\n",
       "      <td>74700.0</td>\n",
       "      <td>5200</td>\n",
       "      <td>2013-12</td>\n",
       "      <td>HALO INVESTMENTS LLC</td>\n",
       "      <td>1626 COVENTRY RD, CLEVELAND HEIGHTS, OH</td>\n",
       "      <td>...</td>\n",
       "      <td>R</td>\n",
       "      <td>0.0</td>\n",
       "      <td>C-2000 INC</td>\n",
       "      <td>2013-12-12T15:45:00.000Z</td>\n",
       "      <td>2016.0</td>\n",
       "      <td>0.0</td>\n",
       "      <td>3569.0</td>\n",
       "      <td>7500.0</td>\n",
       "      <td>0.0</td>\n",
       "      <td>NaN</td>\n",
       "    </tr>\n",
       "    <tr>\n",
       "      <th>2</th>\n",
       "      <td>68112053</td>\n",
       "      <td>68112053</td>\n",
       "      <td>0.0</td>\n",
       "      <td>POLYGON ((-81.56557165053658 41.53004719302985...</td>\n",
       "      <td>2700.0</td>\n",
       "      <td>2700.0</td>\n",
       "      <td>5000</td>\n",
       "      <td>2007-11</td>\n",
       "      <td>NATIONAL CITY BANK, TRUSTEE</td>\n",
       "      <td>0 OAKHILL RD, CLEVELAND HEIGHTS, OH</td>\n",
       "      <td>...</td>\n",
       "      <td>R</td>\n",
       "      <td>0.0</td>\n",
       "      <td>Gibian Germaine L</td>\n",
       "      <td>2007-11-27T11:51:00.000Z</td>\n",
       "      <td>2016.0</td>\n",
       "      <td>0.0</td>\n",
       "      <td>0.0</td>\n",
       "      <td>2610.0</td>\n",
       "      <td>1.0</td>\n",
       "      <td>NaN</td>\n",
       "    </tr>\n",
       "    <tr>\n",
       "      <th>3</th>\n",
       "      <td>68401001</td>\n",
       "      <td>68401001</td>\n",
       "      <td>63600.0</td>\n",
       "      <td>POLYGON ((-81.58082800580637 41.51538821948967...</td>\n",
       "      <td>9300.0</td>\n",
       "      <td>72900.0</td>\n",
       "      <td>5100</td>\n",
       "      <td>2008-02</td>\n",
       "      <td>1612 Coventry LLC</td>\n",
       "      <td>1612 COVENTRY RD, CLEVELAND HEIGHTS, OH</td>\n",
       "      <td>...</td>\n",
       "      <td>R</td>\n",
       "      <td>70000.0</td>\n",
       "      <td>1612 Coventry LLC</td>\n",
       "      <td>2008-02-15T00:00:00.000Z</td>\n",
       "      <td>2016.0</td>\n",
       "      <td>0.0</td>\n",
       "      <td>1402.0</td>\n",
       "      <td>3811.0</td>\n",
       "      <td>0.0</td>\n",
       "      <td>NaN</td>\n",
       "    </tr>\n",
       "    <tr>\n",
       "      <th>4</th>\n",
       "      <td>68221049</td>\n",
       "      <td>68221049</td>\n",
       "      <td>85700.0</td>\n",
       "      <td>POLYGON ((-81.53542516876514 41.53305654011595...</td>\n",
       "      <td>19300.0</td>\n",
       "      <td>105000.0</td>\n",
       "      <td>5100</td>\n",
       "      <td>1990-11</td>\n",
       "      <td>GHOLSON, LLOYD W.</td>\n",
       "      <td>1025 RENFIELD RD, CLEVELAND HEIGHTS, OH</td>\n",
       "      <td>...</td>\n",
       "      <td>R</td>\n",
       "      <td>73300.0</td>\n",
       "      <td>Gary D Geldart</td>\n",
       "      <td>1990-11-27T00:00:00.000Z</td>\n",
       "      <td>2016.0</td>\n",
       "      <td>0.0</td>\n",
       "      <td>2379.0</td>\n",
       "      <td>9000.0</td>\n",
       "      <td>0.0</td>\n",
       "      <td>NaN</td>\n",
       "    </tr>\n",
       "  </tbody>\n",
       "</table>\n",
       "<p>5 rows × 21 columns</p>\n",
       "</div>"
      ],
      "text/plain": [
       "  PARCELPIN PARCEL_ID  building_t  \\\n",
       "0  68104092  68104092     60400.0   \n",
       "1  68401004  68401004     61800.0   \n",
       "2  68112053  68112053         0.0   \n",
       "3  68401001  68401001     63600.0   \n",
       "4  68221049  68221049     85700.0   \n",
       "\n",
       "                                            geometry  gross_tax  land_tax  \\\n",
       "0  POLYGON ((-81.56532396435152 41.53334577574375...    11400.0   71800.0   \n",
       "1  POLYGON ((-81.5806817475017 41.51499576065242,...    12900.0   74700.0   \n",
       "2  POLYGON ((-81.56557165053658 41.53004719302985...     2700.0    2700.0   \n",
       "3  POLYGON ((-81.58082800580637 41.51538821948967...     9300.0   72900.0   \n",
       "4  POLYGON ((-81.53542516876514 41.53305654011595...    19300.0  105000.0   \n",
       "\n",
       "  land_use last_sale                        owner  \\\n",
       "0     5100   2009-05            HUGHES, GERALYNNE   \n",
       "1     5200   2013-12         HALO INVESTMENTS LLC   \n",
       "2     5000   2007-11  NATIONAL CITY BANK, TRUSTEE   \n",
       "3     5100   2008-02            1612 Coventry LLC   \n",
       "4     5100   1990-11            GHOLSON, LLOYD W.   \n",
       "\n",
       "                                parcel_add    ...    propcode sale_amoun  \\\n",
       "0    2090 TAYLOR RD, CLEVELAND HEIGHTS, OH    ...           R        0.0   \n",
       "1  1626 COVENTRY RD, CLEVELAND HEIGHTS, OH    ...           R        0.0   \n",
       "2      0 OAKHILL RD, CLEVELAND HEIGHTS, OH    ...           R        0.0   \n",
       "3  1612 COVENTRY RD, CLEVELAND HEIGHTS, OH    ...           R    70000.0   \n",
       "4  1025 RENFIELD RD, CLEVELAND HEIGHTS, OH    ...           R    73300.0   \n",
       "\n",
       "                                   seller                 sold_date tax_year  \\\n",
       "0  FEDERAL HOME LOAN MORTGAGE CORPORATION  2009-05-05T11:27:00.000Z   2016.0   \n",
       "1                              C-2000 INC  2013-12-12T15:45:00.000Z   2016.0   \n",
       "2                       Gibian Germaine L  2007-11-27T11:51:00.000Z   2016.0   \n",
       "3                       1612 Coventry LLC  2008-02-15T00:00:00.000Z   2016.0   \n",
       "4                          Gary D Geldart  1990-11-27T00:00:00.000Z   2016.0   \n",
       "\n",
       "   tot_com_sq  tot_res_sq  total_sqft  vacant  FC_count  \n",
       "0         0.0      1274.0      4745.0     0.0       2.0  \n",
       "1         0.0      3569.0      7500.0     0.0       NaN  \n",
       "2         0.0         0.0      2610.0     1.0       NaN  \n",
       "3         0.0      1402.0      3811.0     0.0       NaN  \n",
       "4         0.0      2379.0      9000.0     0.0       NaN  \n",
       "\n",
       "[5 rows x 21 columns]"
      ]
     },
     "execution_count": 13,
     "metadata": {},
     "output_type": "execute_result"
    }
   ],
   "source": [
    "featureSpace.drop(['PPN'], axis=1, inplace=True)\n",
    "featureSpace.head()"
   ]
  },
  {
   "cell_type": "markdown",
   "metadata": {},
   "source": [
    "### Police Dispatch"
   ]
  },
  {
   "cell_type": "code",
   "execution_count": 14,
   "metadata": {},
   "outputs": [
    {
     "data": {
      "text/html": [
       "<div>\n",
       "<table border=\"1\" class=\"dataframe\">\n",
       "  <thead>\n",
       "    <tr style=\"text-align: right;\">\n",
       "      <th></th>\n",
       "      <th>PD_Count</th>\n",
       "      <th>address1</th>\n",
       "      <th>geometry</th>\n",
       "    </tr>\n",
       "  </thead>\n",
       "  <tbody>\n",
       "    <tr>\n",
       "      <th>0</th>\n",
       "      <td>2</td>\n",
       "      <td>3186 EUCLID HEIGHTS BLVD, CLEVELAND HEIGHTS, OH</td>\n",
       "      <td>POINT (-81.56568559999999 41.51042340000001)</td>\n",
       "    </tr>\n",
       "    <tr>\n",
       "      <th>1</th>\n",
       "      <td>2</td>\n",
       "      <td>4075 MONTICELLO BLVD, CLEVELAND HEIGHTS, OH</td>\n",
       "      <td>POINT (-81.53357629999999 41.536151)</td>\n",
       "    </tr>\n",
       "    <tr>\n",
       "      <th>2</th>\n",
       "      <td>1</td>\n",
       "      <td>1028 GREYTON RD, CLEVELAND HEIGHTS, OH</td>\n",
       "      <td>POINT (-81.5594579 41.5321315)</td>\n",
       "    </tr>\n",
       "    <tr>\n",
       "      <th>3</th>\n",
       "      <td>1</td>\n",
       "      <td>1673 EDDINGTON RD, CLEVELAND HEIGHTS, OH</td>\n",
       "      <td>POINT (-81.5765768 41.513896)</td>\n",
       "    </tr>\n",
       "    <tr>\n",
       "      <th>4</th>\n",
       "      <td>1</td>\n",
       "      <td>30 SEVERANCE CIRCLE, CLEVELAND HEIGHTS, OH</td>\n",
       "      <td>POINT (-81.5551966 41.5157586)</td>\n",
       "    </tr>\n",
       "  </tbody>\n",
       "</table>\n",
       "</div>"
      ],
      "text/plain": [
       "   PD_Count                                         address1  \\\n",
       "0         2  3186 EUCLID HEIGHTS BLVD, CLEVELAND HEIGHTS, OH   \n",
       "1         2      4075 MONTICELLO BLVD, CLEVELAND HEIGHTS, OH   \n",
       "2         1           1028 GREYTON RD, CLEVELAND HEIGHTS, OH   \n",
       "3         1         1673 EDDINGTON RD, CLEVELAND HEIGHTS, OH   \n",
       "4         1       30 SEVERANCE CIRCLE, CLEVELAND HEIGHTS, OH   \n",
       "\n",
       "                                       geometry  \n",
       "0  POINT (-81.56568559999999 41.51042340000001)  \n",
       "1          POINT (-81.53357629999999 41.536151)  \n",
       "2                POINT (-81.5594579 41.5321315)  \n",
       "3                 POINT (-81.5765768 41.513896)  \n",
       "4                POINT (-81.5551966 41.5157586)  "
      ]
     },
     "execution_count": 14,
     "metadata": {},
     "output_type": "execute_result"
    }
   ],
   "source": [
    "police['address1'] = map(lambda x: x.upper(), police['address1'])\n",
    "police['address1'] = police['address1'] + ', CLEVELAND HEIGHTS, OH'\n",
    "police.head()"
   ]
  },
  {
   "cell_type": "code",
   "execution_count": 15,
   "metadata": {},
   "outputs": [
    {
     "data": {
      "text/plain": [
       "16462"
      ]
     },
     "execution_count": 15,
     "metadata": {},
     "output_type": "execute_result"
    }
   ],
   "source": [
    "len(featureSpace)"
   ]
  },
  {
   "cell_type": "code",
   "execution_count": 16,
   "metadata": {
    "collapsed": true
   },
   "outputs": [],
   "source": [
    "featureSpace = gpd.sjoin(featureSpace, police, how='left', op='intersects')"
   ]
  },
  {
   "cell_type": "code",
   "execution_count": 19,
   "metadata": {},
   "outputs": [
    {
     "data": {
      "text/plain": [
       "17528"
      ]
     },
     "execution_count": 19,
     "metadata": {},
     "output_type": "execute_result"
    }
   ],
   "source": [
    "featureSpace.drop(['address1', 'index_right'], axis=1, inplace=True)\n",
    "len(featureSpace)"
   ]
  },
  {
   "cell_type": "code",
   "execution_count": 20,
   "metadata": {},
   "outputs": [
    {
     "data": {
      "text/html": [
       "<div>\n",
       "<table border=\"1\" class=\"dataframe\">\n",
       "  <thead>\n",
       "    <tr style=\"text-align: right;\">\n",
       "      <th></th>\n",
       "      <th>parcel_add</th>\n",
       "      <th>PARCELPIN</th>\n",
       "      <th>PD_Count</th>\n",
       "    </tr>\n",
       "  </thead>\n",
       "  <tbody>\n",
       "    <tr>\n",
       "      <th>0</th>\n",
       "      <td></td>\n",
       "      <td>11724999</td>\n",
       "      <td>NaN</td>\n",
       "    </tr>\n",
       "    <tr>\n",
       "      <th>1</th>\n",
       "      <td></td>\n",
       "      <td>38622009</td>\n",
       "      <td>11.0</td>\n",
       "    </tr>\n",
       "    <tr>\n",
       "      <th>2</th>\n",
       "      <td></td>\n",
       "      <td>68104004</td>\n",
       "      <td>NaN</td>\n",
       "    </tr>\n",
       "    <tr>\n",
       "      <th>3</th>\n",
       "      <td></td>\n",
       "      <td>68105022</td>\n",
       "      <td>NaN</td>\n",
       "    </tr>\n",
       "    <tr>\n",
       "      <th>4</th>\n",
       "      <td></td>\n",
       "      <td>68105084</td>\n",
       "      <td>NaN</td>\n",
       "    </tr>\n",
       "  </tbody>\n",
       "</table>\n",
       "</div>"
      ],
      "text/plain": [
       "  parcel_add PARCELPIN  PD_Count\n",
       "0             11724999       NaN\n",
       "1             38622009      11.0\n",
       "2             68104004       NaN\n",
       "3             68105022       NaN\n",
       "4             68105084       NaN"
      ]
     },
     "execution_count": 20,
     "metadata": {},
     "output_type": "execute_result"
    }
   ],
   "source": [
    "counts = featureSpace[['parcel_add','PARCELPIN', 'PD_Count']]\n",
    "counts = counts.groupby(['parcel_add', 'PARCELPIN']).sum()\n",
    "counts.reset_index(inplace=True)\n",
    "counts.head()"
   ]
  },
  {
   "cell_type": "code",
   "execution_count": 21,
   "metadata": {},
   "outputs": [
    {
     "data": {
      "text/plain": [
       "16462"
      ]
     },
     "execution_count": 21,
     "metadata": {},
     "output_type": "execute_result"
    }
   ],
   "source": [
    "len(counts)"
   ]
  },
  {
   "cell_type": "code",
   "execution_count": 22,
   "metadata": {},
   "outputs": [
    {
     "data": {
      "text/plain": [
       "16462"
      ]
     },
     "execution_count": 22,
     "metadata": {},
     "output_type": "execute_result"
    }
   ],
   "source": [
    "featureSpace.drop(['PD_Count'], axis=1, inplace=True)\n",
    "featureSpace.drop_duplicates(['parcel_add', 'PARCELPIN'], inplace=True)\n",
    "len(featureSpace)"
   ]
  },
  {
   "cell_type": "code",
   "execution_count": 23,
   "metadata": {},
   "outputs": [
    {
     "data": {
      "text/html": [
       "<div>\n",
       "<table border=\"1\" class=\"dataframe\">\n",
       "  <thead>\n",
       "    <tr style=\"text-align: right;\">\n",
       "      <th></th>\n",
       "      <th>PARCELPIN</th>\n",
       "      <th>PARCEL_ID</th>\n",
       "      <th>building_t</th>\n",
       "      <th>geometry</th>\n",
       "      <th>gross_tax</th>\n",
       "      <th>land_tax</th>\n",
       "      <th>land_use</th>\n",
       "      <th>last_sale</th>\n",
       "      <th>owner</th>\n",
       "      <th>parcel_add</th>\n",
       "      <th>...</th>\n",
       "      <th>sale_amoun</th>\n",
       "      <th>seller</th>\n",
       "      <th>sold_date</th>\n",
       "      <th>tax_year</th>\n",
       "      <th>tot_com_sq</th>\n",
       "      <th>tot_res_sq</th>\n",
       "      <th>total_sqft</th>\n",
       "      <th>vacant</th>\n",
       "      <th>FC_count</th>\n",
       "      <th>PD_count</th>\n",
       "    </tr>\n",
       "  </thead>\n",
       "  <tbody>\n",
       "    <tr>\n",
       "      <th>0</th>\n",
       "      <td>68104092</td>\n",
       "      <td>68104092</td>\n",
       "      <td>60400.0</td>\n",
       "      <td>POLYGON ((-81.56532396435152 41.53334577574375...</td>\n",
       "      <td>11400.0</td>\n",
       "      <td>71800.0</td>\n",
       "      <td>5100</td>\n",
       "      <td>2009-05</td>\n",
       "      <td>HUGHES, GERALYNNE</td>\n",
       "      <td>2090 TAYLOR RD, CLEVELAND HEIGHTS, OH</td>\n",
       "      <td>...</td>\n",
       "      <td>0.0</td>\n",
       "      <td>FEDERAL HOME LOAN MORTGAGE CORPORATION</td>\n",
       "      <td>2009-05-05T11:27:00.000Z</td>\n",
       "      <td>2016.0</td>\n",
       "      <td>0.0</td>\n",
       "      <td>1274.0</td>\n",
       "      <td>4745.0</td>\n",
       "      <td>0.0</td>\n",
       "      <td>2.0</td>\n",
       "      <td>NaN</td>\n",
       "    </tr>\n",
       "    <tr>\n",
       "      <th>1</th>\n",
       "      <td>68401004</td>\n",
       "      <td>68401004</td>\n",
       "      <td>61800.0</td>\n",
       "      <td>POLYGON ((-81.5806817475017 41.51499576065242,...</td>\n",
       "      <td>12900.0</td>\n",
       "      <td>74700.0</td>\n",
       "      <td>5200</td>\n",
       "      <td>2013-12</td>\n",
       "      <td>HALO INVESTMENTS LLC</td>\n",
       "      <td>1626 COVENTRY RD, CLEVELAND HEIGHTS, OH</td>\n",
       "      <td>...</td>\n",
       "      <td>0.0</td>\n",
       "      <td>C-2000 INC</td>\n",
       "      <td>2013-12-12T15:45:00.000Z</td>\n",
       "      <td>2016.0</td>\n",
       "      <td>0.0</td>\n",
       "      <td>3569.0</td>\n",
       "      <td>7500.0</td>\n",
       "      <td>0.0</td>\n",
       "      <td>NaN</td>\n",
       "      <td>11.0</td>\n",
       "    </tr>\n",
       "    <tr>\n",
       "      <th>2</th>\n",
       "      <td>68112053</td>\n",
       "      <td>68112053</td>\n",
       "      <td>0.0</td>\n",
       "      <td>POLYGON ((-81.56557165053658 41.53004719302985...</td>\n",
       "      <td>2700.0</td>\n",
       "      <td>2700.0</td>\n",
       "      <td>5000</td>\n",
       "      <td>2007-11</td>\n",
       "      <td>NATIONAL CITY BANK, TRUSTEE</td>\n",
       "      <td>0 OAKHILL RD, CLEVELAND HEIGHTS, OH</td>\n",
       "      <td>...</td>\n",
       "      <td>0.0</td>\n",
       "      <td>Gibian Germaine L</td>\n",
       "      <td>2007-11-27T11:51:00.000Z</td>\n",
       "      <td>2016.0</td>\n",
       "      <td>0.0</td>\n",
       "      <td>0.0</td>\n",
       "      <td>2610.0</td>\n",
       "      <td>1.0</td>\n",
       "      <td>NaN</td>\n",
       "      <td>NaN</td>\n",
       "    </tr>\n",
       "    <tr>\n",
       "      <th>3</th>\n",
       "      <td>68401001</td>\n",
       "      <td>68401001</td>\n",
       "      <td>63600.0</td>\n",
       "      <td>POLYGON ((-81.58082800580637 41.51538821948967...</td>\n",
       "      <td>9300.0</td>\n",
       "      <td>72900.0</td>\n",
       "      <td>5100</td>\n",
       "      <td>2008-02</td>\n",
       "      <td>1612 Coventry LLC</td>\n",
       "      <td>1612 COVENTRY RD, CLEVELAND HEIGHTS, OH</td>\n",
       "      <td>...</td>\n",
       "      <td>70000.0</td>\n",
       "      <td>1612 Coventry LLC</td>\n",
       "      <td>2008-02-15T00:00:00.000Z</td>\n",
       "      <td>2016.0</td>\n",
       "      <td>0.0</td>\n",
       "      <td>1402.0</td>\n",
       "      <td>3811.0</td>\n",
       "      <td>0.0</td>\n",
       "      <td>NaN</td>\n",
       "      <td>NaN</td>\n",
       "    </tr>\n",
       "    <tr>\n",
       "      <th>4</th>\n",
       "      <td>68221049</td>\n",
       "      <td>68221049</td>\n",
       "      <td>85700.0</td>\n",
       "      <td>POLYGON ((-81.53542516876514 41.53305654011595...</td>\n",
       "      <td>19300.0</td>\n",
       "      <td>105000.0</td>\n",
       "      <td>5100</td>\n",
       "      <td>1990-11</td>\n",
       "      <td>GHOLSON, LLOYD W.</td>\n",
       "      <td>1025 RENFIELD RD, CLEVELAND HEIGHTS, OH</td>\n",
       "      <td>...</td>\n",
       "      <td>73300.0</td>\n",
       "      <td>Gary D Geldart</td>\n",
       "      <td>1990-11-27T00:00:00.000Z</td>\n",
       "      <td>2016.0</td>\n",
       "      <td>0.0</td>\n",
       "      <td>2379.0</td>\n",
       "      <td>9000.0</td>\n",
       "      <td>0.0</td>\n",
       "      <td>NaN</td>\n",
       "      <td>NaN</td>\n",
       "    </tr>\n",
       "  </tbody>\n",
       "</table>\n",
       "<p>5 rows × 22 columns</p>\n",
       "</div>"
      ],
      "text/plain": [
       "  PARCELPIN PARCEL_ID  building_t  \\\n",
       "0  68104092  68104092     60400.0   \n",
       "1  68401004  68401004     61800.0   \n",
       "2  68112053  68112053         0.0   \n",
       "3  68401001  68401001     63600.0   \n",
       "4  68221049  68221049     85700.0   \n",
       "\n",
       "                                            geometry  gross_tax  land_tax  \\\n",
       "0  POLYGON ((-81.56532396435152 41.53334577574375...    11400.0   71800.0   \n",
       "1  POLYGON ((-81.5806817475017 41.51499576065242,...    12900.0   74700.0   \n",
       "2  POLYGON ((-81.56557165053658 41.53004719302985...     2700.0    2700.0   \n",
       "3  POLYGON ((-81.58082800580637 41.51538821948967...     9300.0   72900.0   \n",
       "4  POLYGON ((-81.53542516876514 41.53305654011595...    19300.0  105000.0   \n",
       "\n",
       "  land_use last_sale                        owner  \\\n",
       "0     5100   2009-05            HUGHES, GERALYNNE   \n",
       "1     5200   2013-12         HALO INVESTMENTS LLC   \n",
       "2     5000   2007-11  NATIONAL CITY BANK, TRUSTEE   \n",
       "3     5100   2008-02            1612 Coventry LLC   \n",
       "4     5100   1990-11            GHOLSON, LLOYD W.   \n",
       "\n",
       "                                parcel_add    ...    sale_amoun  \\\n",
       "0    2090 TAYLOR RD, CLEVELAND HEIGHTS, OH    ...           0.0   \n",
       "1  1626 COVENTRY RD, CLEVELAND HEIGHTS, OH    ...           0.0   \n",
       "2      0 OAKHILL RD, CLEVELAND HEIGHTS, OH    ...           0.0   \n",
       "3  1612 COVENTRY RD, CLEVELAND HEIGHTS, OH    ...       70000.0   \n",
       "4  1025 RENFIELD RD, CLEVELAND HEIGHTS, OH    ...       73300.0   \n",
       "\n",
       "                                   seller                 sold_date tax_year  \\\n",
       "0  FEDERAL HOME LOAN MORTGAGE CORPORATION  2009-05-05T11:27:00.000Z   2016.0   \n",
       "1                              C-2000 INC  2013-12-12T15:45:00.000Z   2016.0   \n",
       "2                       Gibian Germaine L  2007-11-27T11:51:00.000Z   2016.0   \n",
       "3                       1612 Coventry LLC  2008-02-15T00:00:00.000Z   2016.0   \n",
       "4                          Gary D Geldart  1990-11-27T00:00:00.000Z   2016.0   \n",
       "\n",
       "  tot_com_sq  tot_res_sq  total_sqft  vacant  FC_count  PD_count  \n",
       "0        0.0      1274.0      4745.0     0.0       2.0       NaN  \n",
       "1        0.0      3569.0      7500.0     0.0       NaN      11.0  \n",
       "2        0.0         0.0      2610.0     1.0       NaN       NaN  \n",
       "3        0.0      1402.0      3811.0     0.0       NaN       NaN  \n",
       "4        0.0      2379.0      9000.0     0.0       NaN       NaN  \n",
       "\n",
       "[5 rows x 22 columns]"
      ]
     },
     "execution_count": 23,
     "metadata": {},
     "output_type": "execute_result"
    }
   ],
   "source": [
    "featureSpace['PD_count'] = counts.PD_Count\n",
    "featureSpace.head()"
   ]
  },
  {
   "cell_type": "markdown",
   "metadata": {},
   "source": [
    "### Complaints"
   ]
  },
  {
   "cell_type": "code",
   "execution_count": 24,
   "metadata": {},
   "outputs": [
    {
     "data": {
      "text/html": [
       "<div>\n",
       "<table border=\"1\" class=\"dataframe\">\n",
       "  <thead>\n",
       "    <tr style=\"text-align: right;\">\n",
       "      <th></th>\n",
       "      <th>Address</th>\n",
       "      <th>Complaint_</th>\n",
       "      <th>geometry</th>\n",
       "    </tr>\n",
       "  </thead>\n",
       "  <tbody>\n",
       "    <tr>\n",
       "      <th>0</th>\n",
       "      <td>1 MONTICELLO BLVD, CLEVELAND HEIGHTS, OH</td>\n",
       "      <td>2</td>\n",
       "      <td>POINT (-81.57245970000001 41.5157082)</td>\n",
       "    </tr>\n",
       "    <tr>\n",
       "      <th>1</th>\n",
       "      <td>1 MONTICELLO BLVD, CLEVELAND HEIGHTS, OH</td>\n",
       "      <td>2</td>\n",
       "      <td>POINT (-81.57245970000001 41.5157082)</td>\n",
       "    </tr>\n",
       "    <tr>\n",
       "      <th>2</th>\n",
       "      <td>1005 ENGLEWOOD ROAD, CLEVELAND HEIGHTS, OH</td>\n",
       "      <td>1</td>\n",
       "      <td>POINT (-81.54113149999999 41.5327364)</td>\n",
       "    </tr>\n",
       "    <tr>\n",
       "      <th>3</th>\n",
       "      <td>1005 PEMBROOK RD, CLEVELAND HEIGHTS, OH</td>\n",
       "      <td>1</td>\n",
       "      <td>POINT (-81.55195999999999 41.5331628)</td>\n",
       "    </tr>\n",
       "    <tr>\n",
       "      <th>4</th>\n",
       "      <td>1005 PEMBROOK ROAD, CLEVELAND HEIGHTS, OH</td>\n",
       "      <td>1</td>\n",
       "      <td>POINT (-81.55195999999999 41.5331628)</td>\n",
       "    </tr>\n",
       "  </tbody>\n",
       "</table>\n",
       "</div>"
      ],
      "text/plain": [
       "                                      Address  Complaint_  \\\n",
       "0    1 MONTICELLO BLVD, CLEVELAND HEIGHTS, OH           2   \n",
       "1    1 MONTICELLO BLVD, CLEVELAND HEIGHTS, OH           2   \n",
       "2  1005 ENGLEWOOD ROAD, CLEVELAND HEIGHTS, OH           1   \n",
       "3     1005 PEMBROOK RD, CLEVELAND HEIGHTS, OH           1   \n",
       "4   1005 PEMBROOK ROAD, CLEVELAND HEIGHTS, OH           1   \n",
       "\n",
       "                                geometry  \n",
       "0  POINT (-81.57245970000001 41.5157082)  \n",
       "1  POINT (-81.57245970000001 41.5157082)  \n",
       "2  POINT (-81.54113149999999 41.5327364)  \n",
       "3  POINT (-81.55195999999999 41.5331628)  \n",
       "4  POINT (-81.55195999999999 41.5331628)  "
      ]
     },
     "execution_count": 24,
     "metadata": {},
     "output_type": "execute_result"
    }
   ],
   "source": [
    "addresses = []\n",
    "for ix,row in complaints.iterrows():\n",
    "    address = row['Address'].split(',')[0] + ', Cleveland Heights, OH'\n",
    "    addresses.append(address)\n",
    "\n",
    "complaints.Address = addresses\n",
    "complaints['Address'] = map(lambda x: x.upper(), complaints['Address'])\n",
    "complaints.head()"
   ]
  },
  {
   "cell_type": "code",
   "execution_count": 25,
   "metadata": {},
   "outputs": [
    {
     "data": {
      "text/plain": [
       "16462"
      ]
     },
     "execution_count": 25,
     "metadata": {},
     "output_type": "execute_result"
    }
   ],
   "source": [
    "len(featureSpace)"
   ]
  },
  {
   "cell_type": "code",
   "execution_count": 26,
   "metadata": {},
   "outputs": [
    {
     "data": {
      "text/plain": [
       "17032"
      ]
     },
     "execution_count": 26,
     "metadata": {},
     "output_type": "execute_result"
    }
   ],
   "source": [
    "featureSpace = gpd.sjoin(featureSpace, complaints, how='left', op='intersects')\n",
    "featureSpace.drop(['Address', 'index_right'], axis=1, inplace=True)\n",
    "featureSpace.drop_duplicates\n",
    "len(featureSpace)"
   ]
  },
  {
   "cell_type": "code",
   "execution_count": 28,
   "metadata": {},
   "outputs": [
    {
     "data": {
      "text/html": [
       "<div>\n",
       "<table border=\"1\" class=\"dataframe\">\n",
       "  <thead>\n",
       "    <tr style=\"text-align: right;\">\n",
       "      <th></th>\n",
       "      <th>parcel_add</th>\n",
       "      <th>PARCELPIN</th>\n",
       "      <th>Complaint_</th>\n",
       "    </tr>\n",
       "  </thead>\n",
       "  <tbody>\n",
       "    <tr>\n",
       "      <th>0</th>\n",
       "      <td></td>\n",
       "      <td>11724999</td>\n",
       "      <td>NaN</td>\n",
       "    </tr>\n",
       "    <tr>\n",
       "      <th>1</th>\n",
       "      <td></td>\n",
       "      <td>38622009</td>\n",
       "      <td>NaN</td>\n",
       "    </tr>\n",
       "    <tr>\n",
       "      <th>2</th>\n",
       "      <td></td>\n",
       "      <td>68104004</td>\n",
       "      <td>NaN</td>\n",
       "    </tr>\n",
       "    <tr>\n",
       "      <th>3</th>\n",
       "      <td></td>\n",
       "      <td>68105022</td>\n",
       "      <td>NaN</td>\n",
       "    </tr>\n",
       "    <tr>\n",
       "      <th>4</th>\n",
       "      <td></td>\n",
       "      <td>68105084</td>\n",
       "      <td>NaN</td>\n",
       "    </tr>\n",
       "  </tbody>\n",
       "</table>\n",
       "</div>"
      ],
      "text/plain": [
       "  parcel_add PARCELPIN  Complaint_\n",
       "0             11724999         NaN\n",
       "1             38622009         NaN\n",
       "2             68104004         NaN\n",
       "3             68105022         NaN\n",
       "4             68105084         NaN"
      ]
     },
     "execution_count": 28,
     "metadata": {},
     "output_type": "execute_result"
    }
   ],
   "source": [
    "counts = featureSpace2[['parcel_add','PARCELPIN', 'Complaint_']]\n",
    "counts = counts.groupby(['parcel_add', 'PARCELPIN']).sum()\n",
    "counts.reset_index(inplace=True)\n",
    "counts.head()"
   ]
  },
  {
   "cell_type": "code",
   "execution_count": 29,
   "metadata": {},
   "outputs": [
    {
     "data": {
      "text/plain": [
       "16462"
      ]
     },
     "execution_count": 29,
     "metadata": {},
     "output_type": "execute_result"
    }
   ],
   "source": [
    "len(counts)"
   ]
  },
  {
   "cell_type": "code",
   "execution_count": 31,
   "metadata": {},
   "outputs": [
    {
     "data": {
      "text/plain": [
       "16462"
      ]
     },
     "execution_count": 31,
     "metadata": {},
     "output_type": "execute_result"
    }
   ],
   "source": [
    "featureSpace.drop(['Complaint_'], axis=1, inplace=True)\n",
    "featureSpace.drop_duplicates(['parcel_add', 'PARCELPIN'], inplace=True)\n",
    "len(featureSpace)"
   ]
  },
  {
   "cell_type": "code",
   "execution_count": 33,
   "metadata": {},
   "outputs": [
    {
     "data": {
      "text/html": [
       "<div>\n",
       "<table border=\"1\" class=\"dataframe\">\n",
       "  <thead>\n",
       "    <tr style=\"text-align: right;\">\n",
       "      <th></th>\n",
       "      <th>PARCELPIN</th>\n",
       "      <th>PARCEL_ID</th>\n",
       "      <th>building_t</th>\n",
       "      <th>geometry</th>\n",
       "      <th>gross_tax</th>\n",
       "      <th>land_tax</th>\n",
       "      <th>land_use</th>\n",
       "      <th>last_sale</th>\n",
       "      <th>owner</th>\n",
       "      <th>parcel_add</th>\n",
       "      <th>...</th>\n",
       "      <th>sold_date</th>\n",
       "      <th>tax_year</th>\n",
       "      <th>tot_com_sq</th>\n",
       "      <th>tot_res_sq</th>\n",
       "      <th>total_sqft</th>\n",
       "      <th>vacant</th>\n",
       "      <th>FC_count</th>\n",
       "      <th>PD_count</th>\n",
       "      <th>index_right</th>\n",
       "      <th>Comp_count</th>\n",
       "    </tr>\n",
       "  </thead>\n",
       "  <tbody>\n",
       "    <tr>\n",
       "      <th>0</th>\n",
       "      <td>68104092</td>\n",
       "      <td>68104092</td>\n",
       "      <td>60400.0</td>\n",
       "      <td>POLYGON ((-81.56532396435152 41.53334577574375...</td>\n",
       "      <td>11400.0</td>\n",
       "      <td>71800.0</td>\n",
       "      <td>5100</td>\n",
       "      <td>2009-05</td>\n",
       "      <td>HUGHES, GERALYNNE</td>\n",
       "      <td>2090 TAYLOR RD, CLEVELAND HEIGHTS, OH</td>\n",
       "      <td>...</td>\n",
       "      <td>2009-05-05T11:27:00.000Z</td>\n",
       "      <td>2016.0</td>\n",
       "      <td>0.0</td>\n",
       "      <td>1274.0</td>\n",
       "      <td>4745.0</td>\n",
       "      <td>0.0</td>\n",
       "      <td>2.0</td>\n",
       "      <td>NaN</td>\n",
       "      <td>NaN</td>\n",
       "      <td>NaN</td>\n",
       "    </tr>\n",
       "    <tr>\n",
       "      <th>1</th>\n",
       "      <td>68401004</td>\n",
       "      <td>68401004</td>\n",
       "      <td>61800.0</td>\n",
       "      <td>POLYGON ((-81.5806817475017 41.51499576065242,...</td>\n",
       "      <td>12900.0</td>\n",
       "      <td>74700.0</td>\n",
       "      <td>5200</td>\n",
       "      <td>2013-12</td>\n",
       "      <td>HALO INVESTMENTS LLC</td>\n",
       "      <td>1626 COVENTRY RD, CLEVELAND HEIGHTS, OH</td>\n",
       "      <td>...</td>\n",
       "      <td>2013-12-12T15:45:00.000Z</td>\n",
       "      <td>2016.0</td>\n",
       "      <td>0.0</td>\n",
       "      <td>3569.0</td>\n",
       "      <td>7500.0</td>\n",
       "      <td>0.0</td>\n",
       "      <td>NaN</td>\n",
       "      <td>11.0</td>\n",
       "      <td>NaN</td>\n",
       "      <td>NaN</td>\n",
       "    </tr>\n",
       "    <tr>\n",
       "      <th>2</th>\n",
       "      <td>68112053</td>\n",
       "      <td>68112053</td>\n",
       "      <td>0.0</td>\n",
       "      <td>POLYGON ((-81.56557165053658 41.53004719302985...</td>\n",
       "      <td>2700.0</td>\n",
       "      <td>2700.0</td>\n",
       "      <td>5000</td>\n",
       "      <td>2007-11</td>\n",
       "      <td>NATIONAL CITY BANK, TRUSTEE</td>\n",
       "      <td>0 OAKHILL RD, CLEVELAND HEIGHTS, OH</td>\n",
       "      <td>...</td>\n",
       "      <td>2007-11-27T11:51:00.000Z</td>\n",
       "      <td>2016.0</td>\n",
       "      <td>0.0</td>\n",
       "      <td>0.0</td>\n",
       "      <td>2610.0</td>\n",
       "      <td>1.0</td>\n",
       "      <td>NaN</td>\n",
       "      <td>NaN</td>\n",
       "      <td>NaN</td>\n",
       "      <td>NaN</td>\n",
       "    </tr>\n",
       "    <tr>\n",
       "      <th>3</th>\n",
       "      <td>68401001</td>\n",
       "      <td>68401001</td>\n",
       "      <td>63600.0</td>\n",
       "      <td>POLYGON ((-81.58082800580637 41.51538821948967...</td>\n",
       "      <td>9300.0</td>\n",
       "      <td>72900.0</td>\n",
       "      <td>5100</td>\n",
       "      <td>2008-02</td>\n",
       "      <td>1612 Coventry LLC</td>\n",
       "      <td>1612 COVENTRY RD, CLEVELAND HEIGHTS, OH</td>\n",
       "      <td>...</td>\n",
       "      <td>2008-02-15T00:00:00.000Z</td>\n",
       "      <td>2016.0</td>\n",
       "      <td>0.0</td>\n",
       "      <td>1402.0</td>\n",
       "      <td>3811.0</td>\n",
       "      <td>0.0</td>\n",
       "      <td>NaN</td>\n",
       "      <td>NaN</td>\n",
       "      <td>NaN</td>\n",
       "      <td>NaN</td>\n",
       "    </tr>\n",
       "    <tr>\n",
       "      <th>4</th>\n",
       "      <td>68221049</td>\n",
       "      <td>68221049</td>\n",
       "      <td>85700.0</td>\n",
       "      <td>POLYGON ((-81.53542516876514 41.53305654011595...</td>\n",
       "      <td>19300.0</td>\n",
       "      <td>105000.0</td>\n",
       "      <td>5100</td>\n",
       "      <td>1990-11</td>\n",
       "      <td>GHOLSON, LLOYD W.</td>\n",
       "      <td>1025 RENFIELD RD, CLEVELAND HEIGHTS, OH</td>\n",
       "      <td>...</td>\n",
       "      <td>1990-11-27T00:00:00.000Z</td>\n",
       "      <td>2016.0</td>\n",
       "      <td>0.0</td>\n",
       "      <td>2379.0</td>\n",
       "      <td>9000.0</td>\n",
       "      <td>0.0</td>\n",
       "      <td>NaN</td>\n",
       "      <td>NaN</td>\n",
       "      <td>NaN</td>\n",
       "      <td>NaN</td>\n",
       "    </tr>\n",
       "  </tbody>\n",
       "</table>\n",
       "<p>5 rows × 24 columns</p>\n",
       "</div>"
      ],
      "text/plain": [
       "  PARCELPIN PARCEL_ID  building_t  \\\n",
       "0  68104092  68104092     60400.0   \n",
       "1  68401004  68401004     61800.0   \n",
       "2  68112053  68112053         0.0   \n",
       "3  68401001  68401001     63600.0   \n",
       "4  68221049  68221049     85700.0   \n",
       "\n",
       "                                            geometry  gross_tax  land_tax  \\\n",
       "0  POLYGON ((-81.56532396435152 41.53334577574375...    11400.0   71800.0   \n",
       "1  POLYGON ((-81.5806817475017 41.51499576065242,...    12900.0   74700.0   \n",
       "2  POLYGON ((-81.56557165053658 41.53004719302985...     2700.0    2700.0   \n",
       "3  POLYGON ((-81.58082800580637 41.51538821948967...     9300.0   72900.0   \n",
       "4  POLYGON ((-81.53542516876514 41.53305654011595...    19300.0  105000.0   \n",
       "\n",
       "  land_use last_sale                        owner  \\\n",
       "0     5100   2009-05            HUGHES, GERALYNNE   \n",
       "1     5200   2013-12         HALO INVESTMENTS LLC   \n",
       "2     5000   2007-11  NATIONAL CITY BANK, TRUSTEE   \n",
       "3     5100   2008-02            1612 Coventry LLC   \n",
       "4     5100   1990-11            GHOLSON, LLOYD W.   \n",
       "\n",
       "                                parcel_add     ...      \\\n",
       "0    2090 TAYLOR RD, CLEVELAND HEIGHTS, OH     ...       \n",
       "1  1626 COVENTRY RD, CLEVELAND HEIGHTS, OH     ...       \n",
       "2      0 OAKHILL RD, CLEVELAND HEIGHTS, OH     ...       \n",
       "3  1612 COVENTRY RD, CLEVELAND HEIGHTS, OH     ...       \n",
       "4  1025 RENFIELD RD, CLEVELAND HEIGHTS, OH     ...       \n",
       "\n",
       "                  sold_date tax_year  tot_com_sq tot_res_sq total_sqft  \\\n",
       "0  2009-05-05T11:27:00.000Z   2016.0         0.0     1274.0     4745.0   \n",
       "1  2013-12-12T15:45:00.000Z   2016.0         0.0     3569.0     7500.0   \n",
       "2  2007-11-27T11:51:00.000Z   2016.0         0.0        0.0     2610.0   \n",
       "3  2008-02-15T00:00:00.000Z   2016.0         0.0     1402.0     3811.0   \n",
       "4  1990-11-27T00:00:00.000Z   2016.0         0.0     2379.0     9000.0   \n",
       "\n",
       "   vacant  FC_count  PD_count  index_right  Comp_count  \n",
       "0     0.0       2.0       NaN          NaN         NaN  \n",
       "1     0.0       NaN      11.0          NaN         NaN  \n",
       "2     1.0       NaN       NaN          NaN         NaN  \n",
       "3     0.0       NaN       NaN          NaN         NaN  \n",
       "4     0.0       NaN       NaN          NaN         NaN  \n",
       "\n",
       "[5 rows x 24 columns]"
      ]
     },
     "execution_count": 33,
     "metadata": {},
     "output_type": "execute_result"
    }
   ],
   "source": [
    "featureSpace['Comp_count'] = counts.Complaint_\n",
    "featureSpace.head()"
   ]
  },
  {
   "cell_type": "code",
   "execution_count": null,
   "metadata": {
    "collapsed": true
   },
   "outputs": [],
   "source": []
  },
  {
   "cell_type": "code",
   "execution_count": 34,
   "metadata": {},
   "outputs": [
    {
     "data": {
      "text/plain": [
       "1885"
      ]
     },
     "execution_count": 34,
     "metadata": {},
     "output_type": "execute_result"
    }
   ],
   "source": [
    "len(complaints)"
   ]
  },
  {
   "cell_type": "code",
   "execution_count": 35,
   "metadata": {},
   "outputs": [
    {
     "data": {
      "text/plain": [
       "9374"
      ]
     },
     "execution_count": 35,
     "metadata": {},
     "output_type": "execute_result"
    }
   ],
   "source": [
    "len(police)"
   ]
  },
  {
   "cell_type": "code",
   "execution_count": 36,
   "metadata": {},
   "outputs": [
    {
     "data": {
      "text/plain": [
       "91291"
      ]
     },
     "execution_count": 36,
     "metadata": {},
     "output_type": "execute_result"
    }
   ],
   "source": [
    "len(foreclosures)"
   ]
  },
  {
   "cell_type": "code",
   "execution_count": 37,
   "metadata": {},
   "outputs": [
    {
     "data": {
      "text/html": [
       "<div>\n",
       "<table border=\"1\" class=\"dataframe\">\n",
       "  <thead>\n",
       "    <tr style=\"text-align: right;\">\n",
       "      <th></th>\n",
       "      <th>building_t</th>\n",
       "      <th>gross_tax</th>\n",
       "      <th>land_tax</th>\n",
       "      <th>sale_amoun</th>\n",
       "      <th>tax_year</th>\n",
       "      <th>tot_com_sq</th>\n",
       "      <th>tot_res_sq</th>\n",
       "      <th>total_sqft</th>\n",
       "      <th>vacant</th>\n",
       "      <th>FC_count</th>\n",
       "      <th>PD_count</th>\n",
       "    </tr>\n",
       "  </thead>\n",
       "  <tbody>\n",
       "    <tr>\n",
       "      <th>count</th>\n",
       "      <td>1.646200e+04</td>\n",
       "      <td>1.646200e+04</td>\n",
       "      <td>1.646200e+04</td>\n",
       "      <td>1.646200e+04</td>\n",
       "      <td>16462.000000</td>\n",
       "      <td>1.646200e+04</td>\n",
       "      <td>16462.000000</td>\n",
       "      <td>1.646200e+04</td>\n",
       "      <td>16462.000000</td>\n",
       "      <td>3521.000000</td>\n",
       "      <td>7334.000000</td>\n",
       "    </tr>\n",
       "    <tr>\n",
       "      <th>mean</th>\n",
       "      <td>1.211921e+05</td>\n",
       "      <td>3.336196e+04</td>\n",
       "      <td>1.545540e+05</td>\n",
       "      <td>8.926555e+04</td>\n",
       "      <td>1954.890536</td>\n",
       "      <td>8.805517e+02</td>\n",
       "      <td>1746.304823</td>\n",
       "      <td>1.424369e+04</td>\n",
       "      <td>0.045316</td>\n",
       "      <td>1.394774</td>\n",
       "      <td>5.293973</td>\n",
       "    </tr>\n",
       "    <tr>\n",
       "      <th>std</th>\n",
       "      <td>4.083673e+05</td>\n",
       "      <td>9.199397e+04</td>\n",
       "      <td>4.724494e+05</td>\n",
       "      <td>3.275960e+05</td>\n",
       "      <td>345.643705</td>\n",
       "      <td>1.248619e+04</td>\n",
       "      <td>1091.838320</td>\n",
       "      <td>1.166198e+05</td>\n",
       "      <td>0.208004</td>\n",
       "      <td>0.692751</td>\n",
       "      <td>16.895691</td>\n",
       "    </tr>\n",
       "    <tr>\n",
       "      <th>min</th>\n",
       "      <td>0.000000e+00</td>\n",
       "      <td>0.000000e+00</td>\n",
       "      <td>0.000000e+00</td>\n",
       "      <td>0.000000e+00</td>\n",
       "      <td>0.000000</td>\n",
       "      <td>0.000000e+00</td>\n",
       "      <td>0.000000</td>\n",
       "      <td>0.000000e+00</td>\n",
       "      <td>0.000000</td>\n",
       "      <td>1.000000</td>\n",
       "      <td>0.000000</td>\n",
       "    </tr>\n",
       "    <tr>\n",
       "      <th>25%</th>\n",
       "      <td>5.830000e+04</td>\n",
       "      <td>1.670000e+04</td>\n",
       "      <td>7.580000e+04</td>\n",
       "      <td>0.000000e+00</td>\n",
       "      <td>2016.000000</td>\n",
       "      <td>0.000000e+00</td>\n",
       "      <td>1344.000000</td>\n",
       "      <td>5.400000e+03</td>\n",
       "      <td>0.000000</td>\n",
       "      <td>1.000000</td>\n",
       "      <td>1.000000</td>\n",
       "    </tr>\n",
       "    <tr>\n",
       "      <th>50%</th>\n",
       "      <td>7.960000e+04</td>\n",
       "      <td>2.110000e+04</td>\n",
       "      <td>1.008000e+05</td>\n",
       "      <td>3.300000e+04</td>\n",
       "      <td>2016.000000</td>\n",
       "      <td>0.000000e+00</td>\n",
       "      <td>1608.500000</td>\n",
       "      <td>7.200000e+03</td>\n",
       "      <td>0.000000</td>\n",
       "      <td>1.000000</td>\n",
       "      <td>2.000000</td>\n",
       "    </tr>\n",
       "    <tr>\n",
       "      <th>75%</th>\n",
       "      <td>1.157000e+05</td>\n",
       "      <td>3.240000e+04</td>\n",
       "      <td>1.478000e+05</td>\n",
       "      <td>1.070000e+05</td>\n",
       "      <td>2016.000000</td>\n",
       "      <td>0.000000e+00</td>\n",
       "      <td>2110.000000</td>\n",
       "      <td>9.611500e+03</td>\n",
       "      <td>0.000000</td>\n",
       "      <td>2.000000</td>\n",
       "      <td>5.000000</td>\n",
       "    </tr>\n",
       "    <tr>\n",
       "      <th>max</th>\n",
       "      <td>3.001520e+07</td>\n",
       "      <td>5.095500e+06</td>\n",
       "      <td>3.338940e+07</td>\n",
       "      <td>1.160000e+07</td>\n",
       "      <td>2016.000000</td>\n",
       "      <td>1.003254e+06</td>\n",
       "      <td>25110.000000</td>\n",
       "      <td>8.102455e+06</td>\n",
       "      <td>1.000000</td>\n",
       "      <td>6.000000</td>\n",
       "      <td>927.000000</td>\n",
       "    </tr>\n",
       "  </tbody>\n",
       "</table>\n",
       "</div>"
      ],
      "text/plain": [
       "         building_t     gross_tax      land_tax    sale_amoun      tax_year  \\\n",
       "count  1.646200e+04  1.646200e+04  1.646200e+04  1.646200e+04  16462.000000   \n",
       "mean   1.211921e+05  3.336196e+04  1.545540e+05  8.926555e+04   1954.890536   \n",
       "std    4.083673e+05  9.199397e+04  4.724494e+05  3.275960e+05    345.643705   \n",
       "min    0.000000e+00  0.000000e+00  0.000000e+00  0.000000e+00      0.000000   \n",
       "25%    5.830000e+04  1.670000e+04  7.580000e+04  0.000000e+00   2016.000000   \n",
       "50%    7.960000e+04  2.110000e+04  1.008000e+05  3.300000e+04   2016.000000   \n",
       "75%    1.157000e+05  3.240000e+04  1.478000e+05  1.070000e+05   2016.000000   \n",
       "max    3.001520e+07  5.095500e+06  3.338940e+07  1.160000e+07   2016.000000   \n",
       "\n",
       "         tot_com_sq    tot_res_sq    total_sqft        vacant     FC_count  \\\n",
       "count  1.646200e+04  16462.000000  1.646200e+04  16462.000000  3521.000000   \n",
       "mean   8.805517e+02   1746.304823  1.424369e+04      0.045316     1.394774   \n",
       "std    1.248619e+04   1091.838320  1.166198e+05      0.208004     0.692751   \n",
       "min    0.000000e+00      0.000000  0.000000e+00      0.000000     1.000000   \n",
       "25%    0.000000e+00   1344.000000  5.400000e+03      0.000000     1.000000   \n",
       "50%    0.000000e+00   1608.500000  7.200000e+03      0.000000     1.000000   \n",
       "75%    0.000000e+00   2110.000000  9.611500e+03      0.000000     2.000000   \n",
       "max    1.003254e+06  25110.000000  8.102455e+06      1.000000     6.000000   \n",
       "\n",
       "          PD_count  \n",
       "count  7334.000000  \n",
       "mean      5.293973  \n",
       "std      16.895691  \n",
       "min       0.000000  \n",
       "25%       1.000000  \n",
       "50%       2.000000  \n",
       "75%       5.000000  \n",
       "max     927.000000  "
      ]
     },
     "execution_count": 37,
     "metadata": {},
     "output_type": "execute_result"
    }
   ],
   "source": [
    "featureSpace.describe()"
   ]
  },
  {
   "cell_type": "code",
   "execution_count": 121,
   "metadata": {},
   "outputs": [
    {
     "data": {
      "text/plain": [
       "{'init': 'epsg:4326'}"
      ]
     },
     "execution_count": 121,
     "metadata": {},
     "output_type": "execute_result"
    }
   ],
   "source": [
    "featureSpace_shp = gpd.GeoDataFrame(featureSpace, crs = {'init': 'epsg:4326'})\n",
    "featureSpace_shp.crs"
   ]
  },
  {
   "cell_type": "code",
   "execution_count": 122,
   "metadata": {
    "collapsed": true
   },
   "outputs": [],
   "source": [
    "featureSpace_shp.to_file('../Data/processed/featureSpace.shp')"
   ]
  },
  {
   "cell_type": "code",
   "execution_count": null,
   "metadata": {
    "collapsed": true
   },
   "outputs": [],
   "source": []
  }
 ],
 "metadata": {
  "anaconda-cloud": {},
  "kernelspec": {
   "display_name": "Python 3",
   "language": "python",
   "name": "python3"
  },
  "language_info": {
   "codemirror_mode": {
    "name": "ipython",
    "version": 2
   },
   "file_extension": ".py",
   "mimetype": "text/x-python",
   "name": "python",
   "nbconvert_exporter": "python",
   "pygments_lexer": "ipython2",
   "version": "2.7.8"
  }
 },
 "nbformat": 4,
 "nbformat_minor": 2
}
