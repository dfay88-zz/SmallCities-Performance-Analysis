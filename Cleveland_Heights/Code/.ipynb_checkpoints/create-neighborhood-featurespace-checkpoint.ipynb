{
 "cells": [
  {
   "cell_type": "markdown",
   "metadata": {},
   "source": [
    "# Neighborhood Score"
   ]
  },
  {
   "cell_type": "markdown",
   "metadata": {},
   "source": [
    "- foreclosures in last 3 years / # of residences\n",
    "- police dispatches per address / population of CT\n",
    "- complaints in last 3 years / pop of CT\n",
    "- median income\n",
    "- % white\n",
    "- % black\n",
    "- % other\n",
    "- % under 16\n",
    "- % over 65\n",
    "- median property value\n",
    "- % vacant lots\n",
    "- % homeownership\n",
    "- Number of negative actions taken / # of residences\n",
    "\n",
    "Need to calculate:\n",
    "\n",
    "- Number of work permits / # of residenes"
   ]
  },
  {
   "cell_type": "code",
   "execution_count": 1,
   "metadata": {
    "collapsed": true
   },
   "outputs": [],
   "source": [
    "import pandas as pd\n",
    "import geopandas as gpd"
   ]
  },
  {
   "cell_type": "code",
   "execution_count": 2,
   "metadata": {
    "collapsed": true
   },
   "outputs": [],
   "source": [
    "census_tracts = gpd.read_file('../Data/processed/shapefiles/CT_Demo_CH.shp')\n",
    "foreclosures = gpd.read_file('../Data/processed/shapefiles/FC_count.shp')\n",
    "police_dispatch = gpd.read_file('../Data/processed/shapefiles/PD_count.shp')\n",
    "complaints = gpd.read_file('../Data/processed/shapefiles/complaint_count.shp')\n",
    "property_info = gpd.read_file('../Data/processed/shapefiles/featureSpace.shp')"
   ]
  },
  {
   "cell_type": "code",
   "execution_count": 3,
   "metadata": {
    "collapsed": true
   },
   "outputs": [],
   "source": [
    "census_tracts = census_tracts[['Median_Inc', '65_Over_Pe', 'Under_16_P', 'White_Perc', 'Black_Perc', \\\n",
    "                               'Other_Perc', 'DP0010001', 'GEOID10', 'NAMELSAD10', 'geometry']]"
   ]
  },
  {
   "cell_type": "code",
   "execution_count": 4,
   "metadata": {
    "collapsed": true
   },
   "outputs": [],
   "source": [
    "census_tracts = census_tracts.to_crs({'init': 'epsg:4326'})"
   ]
  },
  {
   "cell_type": "markdown",
   "metadata": {},
   "source": [
    "### Calculate count of residences in each census tract"
   ]
  },
  {
   "cell_type": "code",
   "execution_count": 5,
   "metadata": {},
   "outputs": [],
   "source": [
    "trees = property_info[['Tree_Score', 'geometry']]\n",
    "permits = property_info[['perm_num', 'geometry']]"
   ]
  },
  {
   "cell_type": "code",
   "execution_count": 6,
   "metadata": {
    "collapsed": true
   },
   "outputs": [],
   "source": [
    "property_info = property_info[['parcel_add', 'land_tax', 'vacant', 'own_occup', 'NegAct_cou', 'geometry']]\n",
    "property_info.drop_duplicates(['parcel_add', 'land_tax', 'vacant'], inplace=True)"
   ]
  },
  {
   "cell_type": "code",
   "execution_count": 7,
   "metadata": {
    "collapsed": true
   },
   "outputs": [],
   "source": [
    "property_ct = gpd.sjoin(census_tracts, property_info, how='inner', op='intersects')\n",
    "property_ct.drop_duplicates(['parcel_add', 'land_tax', 'vacant'], inplace=True)"
   ]
  },
  {
   "cell_type": "code",
   "execution_count": 8,
   "metadata": {
    "collapsed": true
   },
   "outputs": [],
   "source": [
    "property_ct_count = property_ct.groupby('NAMELSAD10').count()\n",
    "property_ct_count = property_ct_count[['Median_Inc']]\n",
    "property_ct_count.reset_index(inplace=True)\n",
    "property_ct_count.columns = ['NAMELSAD10', 'Res_Count']"
   ]
  },
  {
   "cell_type": "code",
   "execution_count": 9,
   "metadata": {
    "collapsed": true
   },
   "outputs": [],
   "source": [
    "census_tracts = pd.merge(census_tracts, property_ct_count, how='inner')"
   ]
  },
  {
   "cell_type": "markdown",
   "metadata": {},
   "source": [
    "### Calculate foreclosures"
   ]
  },
  {
   "cell_type": "code",
   "execution_count": 10,
   "metadata": {
    "collapsed": true
   },
   "outputs": [],
   "source": [
    "foreclosure_ct = gpd.sjoin(census_tracts, foreclosures, how='left', op='intersects')"
   ]
  },
  {
   "cell_type": "code",
   "execution_count": 11,
   "metadata": {
    "collapsed": true
   },
   "outputs": [],
   "source": [
    "foreclosure_count = foreclosure_ct.groupby('NAMELSAD10').sum()\n",
    "foreclosure_count = foreclosure_count[['Count']]\n",
    "foreclosure_count.reset_index(inplace=True)\n",
    "featureSpace = pd.merge(census_tracts, foreclosure_count, how='inner')"
   ]
  },
  {
   "cell_type": "code",
   "execution_count": 12,
   "metadata": {
    "collapsed": true
   },
   "outputs": [],
   "source": [
    "featureSpace.columns = ['Median_Inc', 'Per_Over65', 'Per_Under16', 'Per_White', 'Per_Black', 'Per_Other', \\\n",
    "                        'Population', 'GEOID', 'NAMELSAD10', 'geometry', 'Prop_Count', 'FC_Per']\n",
    "featureSpace['FC_Per'] = featureSpace.FC_Per/featureSpace.Prop_Count"
   ]
  },
  {
   "cell_type": "markdown",
   "metadata": {},
   "source": [
    "### Calculate police dispatches"
   ]
  },
  {
   "cell_type": "code",
   "execution_count": 13,
   "metadata": {
    "collapsed": true
   },
   "outputs": [],
   "source": [
    "police_dispatch_ct = gpd.sjoin(census_tracts, police_dispatch, how='left', op='intersects')"
   ]
  },
  {
   "cell_type": "code",
   "execution_count": 14,
   "metadata": {
    "collapsed": true
   },
   "outputs": [],
   "source": [
    "police_dispatch_count = police_dispatch_ct.groupby('NAMELSAD10').sum()\n",
    "police_dispatch_count = police_dispatch_count[['PD_Count']]\n",
    "police_dispatch_count.reset_index(inplace=True)\n",
    "featureSpace = pd.merge(featureSpace, police_dispatch_count, how='inner')\n",
    "featureSpace['PD_Count'] = featureSpace['PD_Count']/featureSpace.Population"
   ]
  },
  {
   "cell_type": "markdown",
   "metadata": {},
   "source": [
    "### Calculate complaints"
   ]
  },
  {
   "cell_type": "code",
   "execution_count": 15,
   "metadata": {
    "collapsed": true
   },
   "outputs": [],
   "source": [
    "complaints.columns = ['Address', 'comp_count', 'geometry']\n",
    "complaints_ct = gpd.sjoin(census_tracts, complaints, how='left', op='intersects')"
   ]
  },
  {
   "cell_type": "code",
   "execution_count": 16,
   "metadata": {
    "collapsed": true
   },
   "outputs": [],
   "source": [
    "complaints_count = complaints_ct.groupby('NAMELSAD10').sum()\n",
    "complaints_count = complaints_count[['comp_count']]\n",
    "complaints_count.reset_index(inplace=True)\n",
    "featureSpace = pd.merge(featureSpace, complaints_count, how='inner')\n",
    "featureSpace['comp_count'] = featureSpace['comp_count']/featureSpace.Population"
   ]
  },
  {
   "cell_type": "markdown",
   "metadata": {},
   "source": [
    "### Calculate median land tax value"
   ]
  },
  {
   "cell_type": "code",
   "execution_count": 17,
   "metadata": {
    "collapsed": true
   },
   "outputs": [],
   "source": [
    "property_info_ct = gpd.sjoin(census_tracts, property_info, how='left', op='intersects')"
   ]
  },
  {
   "cell_type": "code",
   "execution_count": 18,
   "metadata": {
    "collapsed": true
   },
   "outputs": [],
   "source": [
    "property_info_count = property_info_ct.groupby('NAMELSAD10').median()\n",
    "property_info_count = property_info_count[['land_tax']]\n",
    "property_info_count.reset_index(inplace=True)\n",
    "featureSpace = pd.merge(featureSpace, property_info_count, how='inner')"
   ]
  },
  {
   "cell_type": "markdown",
   "metadata": {},
   "source": [
    "### Calculate vacant lots"
   ]
  },
  {
   "cell_type": "code",
   "execution_count": 19,
   "metadata": {
    "collapsed": true
   },
   "outputs": [],
   "source": [
    "property_info_count = property_info_ct.groupby('NAMELSAD10').sum()\n",
    "property_info_count = property_info_count[['vacant']]\n",
    "property_info_count.reset_index(inplace=True)\n",
    "featureSpace = pd.merge(featureSpace, property_info_count, how='inner')\n",
    "featureSpace['vacant'] = featureSpace['vacant']/featureSpace['Prop_Count']"
   ]
  },
  {
   "cell_type": "markdown",
   "metadata": {},
   "source": [
    "### Calculate homeownership"
   ]
  },
  {
   "cell_type": "code",
   "execution_count": 20,
   "metadata": {
    "collapsed": true
   },
   "outputs": [],
   "source": [
    "property_info_count = property_info_ct.groupby('NAMELSAD10').sum()\n",
    "property_info_count = property_info_count[['own_occup']]\n",
    "property_info_count.reset_index(inplace=True)\n",
    "featureSpace = pd.merge(featureSpace, property_info_count, how='inner')\n",
    "featureSpace['own_occup'] = featureSpace['own_occup']/featureSpace['Prop_Count']"
   ]
  },
  {
   "cell_type": "markdown",
   "metadata": {},
   "source": [
    "### Calculate Negative Actions"
   ]
  },
  {
   "cell_type": "code",
   "execution_count": 21,
   "metadata": {},
   "outputs": [],
   "source": [
    "property_info_count = property_info_ct.groupby('NAMELSAD10').sum()\n",
    "property_info_count = property_info_count[['NegAct_cou']]\n",
    "property_info_count.reset_index(inplace=True)\n",
    "featureSpace = pd.merge(featureSpace, property_info_count, how='inner')\n",
    "featureSpace['NegAct_cou'] = featureSpace['NegAct_cou']/featureSpace['Prop_Count']"
   ]
  },
  {
   "cell_type": "markdown",
   "metadata": {},
   "source": [
    "### Calculate Tree Scores"
   ]
  },
  {
   "cell_type": "code",
   "execution_count": 22,
   "metadata": {
    "collapsed": true
   },
   "outputs": [],
   "source": [
    "trees_ct = gpd.sjoin(census_tracts, trees, how='left', op='intersects')"
   ]
  },
  {
   "cell_type": "code",
   "execution_count": 23,
   "metadata": {},
   "outputs": [],
   "source": [
    "trees_count = trees_ct.groupby('NAMELSAD10').mean()\n",
    "trees_count = trees_count[['Tree_Score']]\n",
    "trees_count.reset_index(inplace=True)\n",
    "featureSpace = pd.merge(featureSpace, trees_count, how='inner')"
   ]
  },
  {
   "cell_type": "markdown",
   "metadata": {},
   "source": [
    "### Calculate Building Permits"
   ]
  },
  {
   "cell_type": "code",
   "execution_count": 24,
   "metadata": {},
   "outputs": [],
   "source": [
    "permits_ct = gpd.sjoin(census_tracts, permits, how='left', op='intersects')"
   ]
  },
  {
   "cell_type": "code",
   "execution_count": 25,
   "metadata": {},
   "outputs": [],
   "source": [
    "permits_count = permits_ct.groupby('NAMELSAD10').sum()\n",
    "permits_count = permits_count[['perm_num']]\n",
    "permits_count.reset_index(inplace=True)\n",
    "featureSpace = pd.merge(featureSpace, permits_count, how='inner')\n",
    "featureSpace['perm_num'] = featureSpace['perm_num']/featureSpace['Prop_Count']"
   ]
  },
  {
   "cell_type": "markdown",
   "metadata": {},
   "source": [
    "### Clean feature space and output file"
   ]
  },
  {
   "cell_type": "code",
   "execution_count": 26,
   "metadata": {},
   "outputs": [],
   "source": [
    "featureSpace.rename(columns={'comp_count': 'Comp_Per', 'land_tax': 'Median_Val', \\\n",
    "                             'vacant': 'Vacant_Per', 'PD_Count':'PD_Per', 'own_occup':'Own_Occup', \\\n",
    "                             'NegAct_cou': 'Act_Count', 'perm_num': 'Perm_Count'}, inplace=True)\n",
    "featureSpace.fillna(0, inplace=True)"
   ]
  },
  {
   "cell_type": "code",
   "execution_count": 29,
   "metadata": {
    "scrolled": false
   },
   "outputs": [
    {
     "data": {
      "text/html": [
       "<div>\n",
       "<table border=\"1\" class=\"dataframe\">\n",
       "  <thead>\n",
       "    <tr style=\"text-align: right;\">\n",
       "      <th></th>\n",
       "      <th>Median_Inc</th>\n",
       "      <th>Per_Over65</th>\n",
       "      <th>Per_Under16</th>\n",
       "      <th>Per_White</th>\n",
       "      <th>Per_Black</th>\n",
       "      <th>Per_Other</th>\n",
       "      <th>Population</th>\n",
       "      <th>GEOID</th>\n",
       "      <th>NAMELSAD10</th>\n",
       "      <th>geometry</th>\n",
       "      <th>Prop_Count</th>\n",
       "      <th>FC_Per</th>\n",
       "      <th>PD_Per</th>\n",
       "      <th>Comp_Per</th>\n",
       "      <th>Median_Val</th>\n",
       "      <th>Vacant_Per</th>\n",
       "      <th>Own_Occup</th>\n",
       "      <th>Act_Count</th>\n",
       "      <th>Tree_Score</th>\n",
       "      <th>Perm_Count</th>\n",
       "    </tr>\n",
       "  </thead>\n",
       "  <tbody>\n",
       "    <tr>\n",
       "      <th>0</th>\n",
       "      <td>60143</td>\n",
       "      <td>0.156047</td>\n",
       "      <td>0.215865</td>\n",
       "      <td>0.136541</td>\n",
       "      <td>0.824447</td>\n",
       "      <td>0.039012</td>\n",
       "      <td>1538</td>\n",
       "      <td>39035140100</td>\n",
       "      <td>Census Tract 1401</td>\n",
       "      <td>POLYGON ((-81.55588699999998 41.53788500000002...</td>\n",
       "      <td>684</td>\n",
       "      <td>0.475146</td>\n",
       "      <td>0.911573</td>\n",
       "      <td>0.102081</td>\n",
       "      <td>81200.0</td>\n",
       "      <td>0.073099</td>\n",
       "      <td>0.470760</td>\n",
       "      <td>34.605263</td>\n",
       "      <td>4.675090</td>\n",
       "      <td>1.669591</td>\n",
       "    </tr>\n",
       "    <tr>\n",
       "      <th>1</th>\n",
       "      <td>40938</td>\n",
       "      <td>0.130759</td>\n",
       "      <td>0.222466</td>\n",
       "      <td>0.043440</td>\n",
       "      <td>0.930671</td>\n",
       "      <td>0.025889</td>\n",
       "      <td>2279</td>\n",
       "      <td>39035140301</td>\n",
       "      <td>Census Tract 1403.01</td>\n",
       "      <td>POLYGON ((-81.556631 41.52714300000014, -81.55...</td>\n",
       "      <td>991</td>\n",
       "      <td>0.523713</td>\n",
       "      <td>1.045195</td>\n",
       "      <td>0.007898</td>\n",
       "      <td>65100.0</td>\n",
       "      <td>0.066599</td>\n",
       "      <td>0.437941</td>\n",
       "      <td>34.530777</td>\n",
       "      <td>4.721419</td>\n",
       "      <td>1.528759</td>\n",
       "    </tr>\n",
       "    <tr>\n",
       "      <th>2</th>\n",
       "      <td>41582</td>\n",
       "      <td>0.176920</td>\n",
       "      <td>0.195163</td>\n",
       "      <td>0.327111</td>\n",
       "      <td>0.627917</td>\n",
       "      <td>0.044972</td>\n",
       "      <td>2357</td>\n",
       "      <td>39035140302</td>\n",
       "      <td>Census Tract 1403.02</td>\n",
       "      <td>POLYGON ((-81.55001399999998 41.520512, -81.55...</td>\n",
       "      <td>1021</td>\n",
       "      <td>0.373164</td>\n",
       "      <td>1.202800</td>\n",
       "      <td>0.036487</td>\n",
       "      <td>79700.0</td>\n",
       "      <td>0.037218</td>\n",
       "      <td>0.500490</td>\n",
       "      <td>36.040157</td>\n",
       "      <td>4.689646</td>\n",
       "      <td>1.680705</td>\n",
       "    </tr>\n",
       "    <tr>\n",
       "      <th>3</th>\n",
       "      <td>55227</td>\n",
       "      <td>0.129930</td>\n",
       "      <td>0.207159</td>\n",
       "      <td>0.384819</td>\n",
       "      <td>0.555519</td>\n",
       "      <td>0.059662</td>\n",
       "      <td>3017</td>\n",
       "      <td>39035140400</td>\n",
       "      <td>Census Tract 1404</td>\n",
       "      <td>POLYGON ((-81.54627900000003 41.52064300000001...</td>\n",
       "      <td>1113</td>\n",
       "      <td>0.390836</td>\n",
       "      <td>1.501160</td>\n",
       "      <td>0.076898</td>\n",
       "      <td>92050.0</td>\n",
       "      <td>0.038634</td>\n",
       "      <td>0.429470</td>\n",
       "      <td>35.295597</td>\n",
       "      <td>4.902971</td>\n",
       "      <td>1.920036</td>\n",
       "    </tr>\n",
       "    <tr>\n",
       "      <th>4</th>\n",
       "      <td>39728</td>\n",
       "      <td>0.103657</td>\n",
       "      <td>0.229072</td>\n",
       "      <td>0.346630</td>\n",
       "      <td>0.582956</td>\n",
       "      <td>0.070414</td>\n",
       "      <td>3309</td>\n",
       "      <td>39035140500</td>\n",
       "      <td>Census Tract 1405</td>\n",
       "      <td>POLYGON ((-81.53413099999996 41.52387099999993...</td>\n",
       "      <td>1261</td>\n",
       "      <td>0.409199</td>\n",
       "      <td>1.035056</td>\n",
       "      <td>0.254155</td>\n",
       "      <td>84000.0</td>\n",
       "      <td>0.029342</td>\n",
       "      <td>0.429025</td>\n",
       "      <td>34.174465</td>\n",
       "      <td>4.942641</td>\n",
       "      <td>1.748612</td>\n",
       "    </tr>\n",
       "    <tr>\n",
       "      <th>5</th>\n",
       "      <td>61818</td>\n",
       "      <td>0.100241</td>\n",
       "      <td>0.287089</td>\n",
       "      <td>0.336808</td>\n",
       "      <td>0.590217</td>\n",
       "      <td>0.072975</td>\n",
       "      <td>1247</td>\n",
       "      <td>39035140600</td>\n",
       "      <td>Census Tract 1406</td>\n",
       "      <td>POLYGON ((-81.56547999999992 41.50731000000013...</td>\n",
       "      <td>439</td>\n",
       "      <td>0.359909</td>\n",
       "      <td>1.939856</td>\n",
       "      <td>0.040898</td>\n",
       "      <td>126000.0</td>\n",
       "      <td>0.050114</td>\n",
       "      <td>0.382688</td>\n",
       "      <td>35.248292</td>\n",
       "      <td>5.025337</td>\n",
       "      <td>1.995444</td>\n",
       "    </tr>\n",
       "    <tr>\n",
       "      <th>6</th>\n",
       "      <td>39750</td>\n",
       "      <td>0.107224</td>\n",
       "      <td>0.255894</td>\n",
       "      <td>0.300760</td>\n",
       "      <td>0.641445</td>\n",
       "      <td>0.057795</td>\n",
       "      <td>2630</td>\n",
       "      <td>39035140701</td>\n",
       "      <td>Census Tract 1407.01</td>\n",
       "      <td>POLYGON ((-81.55581699999988 41.50974400000007...</td>\n",
       "      <td>883</td>\n",
       "      <td>0.459796</td>\n",
       "      <td>1.221673</td>\n",
       "      <td>0.082890</td>\n",
       "      <td>96100.0</td>\n",
       "      <td>0.071348</td>\n",
       "      <td>0.402039</td>\n",
       "      <td>34.388448</td>\n",
       "      <td>4.883759</td>\n",
       "      <td>1.947905</td>\n",
       "    </tr>\n",
       "    <tr>\n",
       "      <th>7</th>\n",
       "      <td>46544</td>\n",
       "      <td>0.102450</td>\n",
       "      <td>0.222160</td>\n",
       "      <td>0.281737</td>\n",
       "      <td>0.627506</td>\n",
       "      <td>0.090757</td>\n",
       "      <td>1796</td>\n",
       "      <td>39035140702</td>\n",
       "      <td>Census Tract 1407.02</td>\n",
       "      <td>POLYGON ((-81.56548599999991 41.50608300000005...</td>\n",
       "      <td>575</td>\n",
       "      <td>0.483478</td>\n",
       "      <td>1.479955</td>\n",
       "      <td>0.035635</td>\n",
       "      <td>94500.0</td>\n",
       "      <td>0.026087</td>\n",
       "      <td>0.394783</td>\n",
       "      <td>31.629565</td>\n",
       "      <td>4.720880</td>\n",
       "      <td>2.191304</td>\n",
       "    </tr>\n",
       "    <tr>\n",
       "      <th>8</th>\n",
       "      <td>42099</td>\n",
       "      <td>0.213051</td>\n",
       "      <td>0.235081</td>\n",
       "      <td>0.616007</td>\n",
       "      <td>0.305075</td>\n",
       "      <td>0.078918</td>\n",
       "      <td>3586</td>\n",
       "      <td>39035140800</td>\n",
       "      <td>Census Tract 1408</td>\n",
       "      <td>POLYGON ((-81.54642699999999 41.52063599999997...</td>\n",
       "      <td>954</td>\n",
       "      <td>0.213836</td>\n",
       "      <td>1.084774</td>\n",
       "      <td>0.025376</td>\n",
       "      <td>105250.0</td>\n",
       "      <td>0.042977</td>\n",
       "      <td>0.545073</td>\n",
       "      <td>36.508386</td>\n",
       "      <td>4.945358</td>\n",
       "      <td>2.022013</td>\n",
       "    </tr>\n",
       "    <tr>\n",
       "      <th>9</th>\n",
       "      <td>54087</td>\n",
       "      <td>0.141962</td>\n",
       "      <td>0.203027</td>\n",
       "      <td>0.314196</td>\n",
       "      <td>0.648747</td>\n",
       "      <td>0.037056</td>\n",
       "      <td>1916</td>\n",
       "      <td>39035140900</td>\n",
       "      <td>Census Tract 1409</td>\n",
       "      <td>POLYGON ((-81.54612799999995 41.50488800000011...</td>\n",
       "      <td>847</td>\n",
       "      <td>0.395514</td>\n",
       "      <td>0.864301</td>\n",
       "      <td>0.013048</td>\n",
       "      <td>92800.0</td>\n",
       "      <td>0.025974</td>\n",
       "      <td>0.504132</td>\n",
       "      <td>35.087367</td>\n",
       "      <td>4.899288</td>\n",
       "      <td>2.112161</td>\n",
       "    </tr>\n",
       "    <tr>\n",
       "      <th>10</th>\n",
       "      <td>27188</td>\n",
       "      <td>0.047104</td>\n",
       "      <td>0.269498</td>\n",
       "      <td>0.216988</td>\n",
       "      <td>0.738224</td>\n",
       "      <td>0.044788</td>\n",
       "      <td>1295</td>\n",
       "      <td>39035141000</td>\n",
       "      <td>Census Tract 1410</td>\n",
       "      <td>POLYGON ((-81.57580300000001 41.51727100000011...</td>\n",
       "      <td>245</td>\n",
       "      <td>0.608163</td>\n",
       "      <td>1.888803</td>\n",
       "      <td>0.016988</td>\n",
       "      <td>84600.0</td>\n",
       "      <td>0.114286</td>\n",
       "      <td>0.048980</td>\n",
       "      <td>31.767347</td>\n",
       "      <td>4.765613</td>\n",
       "      <td>1.706122</td>\n",
       "    </tr>\n",
       "    <tr>\n",
       "      <th>11</th>\n",
       "      <td>40291</td>\n",
       "      <td>0.104403</td>\n",
       "      <td>0.073309</td>\n",
       "      <td>0.730822</td>\n",
       "      <td>0.095098</td>\n",
       "      <td>0.174081</td>\n",
       "      <td>4406</td>\n",
       "      <td>39035141100</td>\n",
       "      <td>Census Tract 1411</td>\n",
       "      <td>POLYGON ((-81.57392500000005 41.50810400000012...</td>\n",
       "      <td>755</td>\n",
       "      <td>0.113907</td>\n",
       "      <td>1.159782</td>\n",
       "      <td>0.054471</td>\n",
       "      <td>167800.0</td>\n",
       "      <td>0.067550</td>\n",
       "      <td>0.247682</td>\n",
       "      <td>34.780132</td>\n",
       "      <td>4.746655</td>\n",
       "      <td>2.035762</td>\n",
       "    </tr>\n",
       "    <tr>\n",
       "      <th>12</th>\n",
       "      <td>60370</td>\n",
       "      <td>0.120291</td>\n",
       "      <td>0.138018</td>\n",
       "      <td>0.751504</td>\n",
       "      <td>0.132320</td>\n",
       "      <td>0.116176</td>\n",
       "      <td>3159</td>\n",
       "      <td>39035141200</td>\n",
       "      <td>Census Tract 1412</td>\n",
       "      <td>POLYGON ((-81.57394699999992 41.50845100000004...</td>\n",
       "      <td>921</td>\n",
       "      <td>0.124864</td>\n",
       "      <td>0.787274</td>\n",
       "      <td>0.073758</td>\n",
       "      <td>179300.0</td>\n",
       "      <td>0.033659</td>\n",
       "      <td>0.497286</td>\n",
       "      <td>34.176982</td>\n",
       "      <td>4.899601</td>\n",
       "      <td>2.407166</td>\n",
       "    </tr>\n",
       "    <tr>\n",
       "      <th>13</th>\n",
       "      <td>95370</td>\n",
       "      <td>0.101466</td>\n",
       "      <td>0.137918</td>\n",
       "      <td>0.806840</td>\n",
       "      <td>0.073281</td>\n",
       "      <td>0.119880</td>\n",
       "      <td>2661</td>\n",
       "      <td>39035141300</td>\n",
       "      <td>Census Tract 1413</td>\n",
       "      <td>(POLYGON ((-81.58236199999993 41.4954760000001...</td>\n",
       "      <td>739</td>\n",
       "      <td>0.116373</td>\n",
       "      <td>0.722285</td>\n",
       "      <td>0.072529</td>\n",
       "      <td>231900.0</td>\n",
       "      <td>0.066306</td>\n",
       "      <td>0.525034</td>\n",
       "      <td>34.410014</td>\n",
       "      <td>5.333129</td>\n",
       "      <td>2.443843</td>\n",
       "    </tr>\n",
       "    <tr>\n",
       "      <th>14</th>\n",
       "      <td>108289</td>\n",
       "      <td>0.158608</td>\n",
       "      <td>0.232601</td>\n",
       "      <td>0.810989</td>\n",
       "      <td>0.129670</td>\n",
       "      <td>0.059341</td>\n",
       "      <td>2730</td>\n",
       "      <td>39035141400</td>\n",
       "      <td>Census Tract 1414</td>\n",
       "      <td>POLYGON ((-81.58110099999995 41.49371400000001...</td>\n",
       "      <td>962</td>\n",
       "      <td>0.118503</td>\n",
       "      <td>0.404396</td>\n",
       "      <td>0.162637</td>\n",
       "      <td>199750.0</td>\n",
       "      <td>0.021830</td>\n",
       "      <td>0.650728</td>\n",
       "      <td>36.417879</td>\n",
       "      <td>5.205649</td>\n",
       "      <td>2.713098</td>\n",
       "    </tr>\n",
       "    <tr>\n",
       "      <th>15</th>\n",
       "      <td>73625</td>\n",
       "      <td>0.111765</td>\n",
       "      <td>0.183529</td>\n",
       "      <td>0.750000</td>\n",
       "      <td>0.192941</td>\n",
       "      <td>0.057059</td>\n",
       "      <td>1700</td>\n",
       "      <td>39035141500</td>\n",
       "      <td>Census Tract 1415</td>\n",
       "      <td>(POLYGON ((-81.56508099999996 41.4842000000001...</td>\n",
       "      <td>601</td>\n",
       "      <td>0.153078</td>\n",
       "      <td>0.765882</td>\n",
       "      <td>0.063529</td>\n",
       "      <td>160100.0</td>\n",
       "      <td>0.024958</td>\n",
       "      <td>0.525790</td>\n",
       "      <td>35.294509</td>\n",
       "      <td>5.072037</td>\n",
       "      <td>2.597338</td>\n",
       "    </tr>\n",
       "    <tr>\n",
       "      <th>16</th>\n",
       "      <td>79333</td>\n",
       "      <td>0.114086</td>\n",
       "      <td>0.216531</td>\n",
       "      <td>0.774738</td>\n",
       "      <td>0.164144</td>\n",
       "      <td>0.061118</td>\n",
       "      <td>1718</td>\n",
       "      <td>39035141601</td>\n",
       "      <td>Census Tract 1416.01</td>\n",
       "      <td>POLYGON ((-81.55433799999997 41.48378700000001...</td>\n",
       "      <td>689</td>\n",
       "      <td>0.166909</td>\n",
       "      <td>0.407451</td>\n",
       "      <td>0.057043</td>\n",
       "      <td>143600.0</td>\n",
       "      <td>0.015965</td>\n",
       "      <td>0.628447</td>\n",
       "      <td>31.551524</td>\n",
       "      <td>4.903494</td>\n",
       "      <td>2.259797</td>\n",
       "    </tr>\n",
       "    <tr>\n",
       "      <th>17</th>\n",
       "      <td>58750</td>\n",
       "      <td>0.128971</td>\n",
       "      <td>0.201398</td>\n",
       "      <td>0.336086</td>\n",
       "      <td>0.588945</td>\n",
       "      <td>0.074968</td>\n",
       "      <td>1574</td>\n",
       "      <td>39035141602</td>\n",
       "      <td>Census Tract 1416.02</td>\n",
       "      <td>POLYGON ((-81.55609199999998 41.49517700000007...</td>\n",
       "      <td>691</td>\n",
       "      <td>0.379161</td>\n",
       "      <td>1.441550</td>\n",
       "      <td>0.056544</td>\n",
       "      <td>87900.0</td>\n",
       "      <td>0.033285</td>\n",
       "      <td>0.487699</td>\n",
       "      <td>35.293777</td>\n",
       "      <td>5.011467</td>\n",
       "      <td>2.069465</td>\n",
       "    </tr>\n",
       "    <tr>\n",
       "      <th>18</th>\n",
       "      <td>79792</td>\n",
       "      <td>0.121551</td>\n",
       "      <td>0.197766</td>\n",
       "      <td>0.746386</td>\n",
       "      <td>0.208279</td>\n",
       "      <td>0.045335</td>\n",
       "      <td>1522</td>\n",
       "      <td>39035141700</td>\n",
       "      <td>Census Tract 1417</td>\n",
       "      <td>POLYGON ((-81.55301500000002 41.48382600000002...</td>\n",
       "      <td>716</td>\n",
       "      <td>0.244413</td>\n",
       "      <td>0.450066</td>\n",
       "      <td>0.044021</td>\n",
       "      <td>123700.0</td>\n",
       "      <td>0.029330</td>\n",
       "      <td>0.615922</td>\n",
       "      <td>36.965084</td>\n",
       "      <td>4.979183</td>\n",
       "      <td>2.166201</td>\n",
       "    </tr>\n",
       "    <tr>\n",
       "      <th>19</th>\n",
       "      <td>57260</td>\n",
       "      <td>0.327781</td>\n",
       "      <td>0.120167</td>\n",
       "      <td>0.333730</td>\n",
       "      <td>0.612731</td>\n",
       "      <td>0.053540</td>\n",
       "      <td>1681</td>\n",
       "      <td>39035196000</td>\n",
       "      <td>Census Tract 1960</td>\n",
       "      <td>POLYGON ((-81.57581299999993 41.52344700000003...</td>\n",
       "      <td>746</td>\n",
       "      <td>0.274799</td>\n",
       "      <td>1.388459</td>\n",
       "      <td>0.107079</td>\n",
       "      <td>114200.0</td>\n",
       "      <td>0.037534</td>\n",
       "      <td>0.626005</td>\n",
       "      <td>34.927614</td>\n",
       "      <td>4.911259</td>\n",
       "      <td>1.731903</td>\n",
       "    </tr>\n",
       "  </tbody>\n",
       "</table>\n",
       "</div>"
      ],
      "text/plain": [
       "    Median_Inc  Per_Over65  Per_Under16  Per_White  Per_Black  Per_Other  \\\n",
       "0        60143    0.156047     0.215865   0.136541   0.824447   0.039012   \n",
       "1        40938    0.130759     0.222466   0.043440   0.930671   0.025889   \n",
       "2        41582    0.176920     0.195163   0.327111   0.627917   0.044972   \n",
       "3        55227    0.129930     0.207159   0.384819   0.555519   0.059662   \n",
       "4        39728    0.103657     0.229072   0.346630   0.582956   0.070414   \n",
       "5        61818    0.100241     0.287089   0.336808   0.590217   0.072975   \n",
       "6        39750    0.107224     0.255894   0.300760   0.641445   0.057795   \n",
       "7        46544    0.102450     0.222160   0.281737   0.627506   0.090757   \n",
       "8        42099    0.213051     0.235081   0.616007   0.305075   0.078918   \n",
       "9        54087    0.141962     0.203027   0.314196   0.648747   0.037056   \n",
       "10       27188    0.047104     0.269498   0.216988   0.738224   0.044788   \n",
       "11       40291    0.104403     0.073309   0.730822   0.095098   0.174081   \n",
       "12       60370    0.120291     0.138018   0.751504   0.132320   0.116176   \n",
       "13       95370    0.101466     0.137918   0.806840   0.073281   0.119880   \n",
       "14      108289    0.158608     0.232601   0.810989   0.129670   0.059341   \n",
       "15       73625    0.111765     0.183529   0.750000   0.192941   0.057059   \n",
       "16       79333    0.114086     0.216531   0.774738   0.164144   0.061118   \n",
       "17       58750    0.128971     0.201398   0.336086   0.588945   0.074968   \n",
       "18       79792    0.121551     0.197766   0.746386   0.208279   0.045335   \n",
       "19       57260    0.327781     0.120167   0.333730   0.612731   0.053540   \n",
       "\n",
       "    Population        GEOID            NAMELSAD10  \\\n",
       "0         1538  39035140100     Census Tract 1401   \n",
       "1         2279  39035140301  Census Tract 1403.01   \n",
       "2         2357  39035140302  Census Tract 1403.02   \n",
       "3         3017  39035140400     Census Tract 1404   \n",
       "4         3309  39035140500     Census Tract 1405   \n",
       "5         1247  39035140600     Census Tract 1406   \n",
       "6         2630  39035140701  Census Tract 1407.01   \n",
       "7         1796  39035140702  Census Tract 1407.02   \n",
       "8         3586  39035140800     Census Tract 1408   \n",
       "9         1916  39035140900     Census Tract 1409   \n",
       "10        1295  39035141000     Census Tract 1410   \n",
       "11        4406  39035141100     Census Tract 1411   \n",
       "12        3159  39035141200     Census Tract 1412   \n",
       "13        2661  39035141300     Census Tract 1413   \n",
       "14        2730  39035141400     Census Tract 1414   \n",
       "15        1700  39035141500     Census Tract 1415   \n",
       "16        1718  39035141601  Census Tract 1416.01   \n",
       "17        1574  39035141602  Census Tract 1416.02   \n",
       "18        1522  39035141700     Census Tract 1417   \n",
       "19        1681  39035196000     Census Tract 1960   \n",
       "\n",
       "                                             geometry  Prop_Count    FC_Per  \\\n",
       "0   POLYGON ((-81.55588699999998 41.53788500000002...         684  0.475146   \n",
       "1   POLYGON ((-81.556631 41.52714300000014, -81.55...         991  0.523713   \n",
       "2   POLYGON ((-81.55001399999998 41.520512, -81.55...        1021  0.373164   \n",
       "3   POLYGON ((-81.54627900000003 41.52064300000001...        1113  0.390836   \n",
       "4   POLYGON ((-81.53413099999996 41.52387099999993...        1261  0.409199   \n",
       "5   POLYGON ((-81.56547999999992 41.50731000000013...         439  0.359909   \n",
       "6   POLYGON ((-81.55581699999988 41.50974400000007...         883  0.459796   \n",
       "7   POLYGON ((-81.56548599999991 41.50608300000005...         575  0.483478   \n",
       "8   POLYGON ((-81.54642699999999 41.52063599999997...         954  0.213836   \n",
       "9   POLYGON ((-81.54612799999995 41.50488800000011...         847  0.395514   \n",
       "10  POLYGON ((-81.57580300000001 41.51727100000011...         245  0.608163   \n",
       "11  POLYGON ((-81.57392500000005 41.50810400000012...         755  0.113907   \n",
       "12  POLYGON ((-81.57394699999992 41.50845100000004...         921  0.124864   \n",
       "13  (POLYGON ((-81.58236199999993 41.4954760000001...         739  0.116373   \n",
       "14  POLYGON ((-81.58110099999995 41.49371400000001...         962  0.118503   \n",
       "15  (POLYGON ((-81.56508099999996 41.4842000000001...         601  0.153078   \n",
       "16  POLYGON ((-81.55433799999997 41.48378700000001...         689  0.166909   \n",
       "17  POLYGON ((-81.55609199999998 41.49517700000007...         691  0.379161   \n",
       "18  POLYGON ((-81.55301500000002 41.48382600000002...         716  0.244413   \n",
       "19  POLYGON ((-81.57581299999993 41.52344700000003...         746  0.274799   \n",
       "\n",
       "      PD_Per  Comp_Per  Median_Val  Vacant_Per  Own_Occup  Act_Count  \\\n",
       "0   0.911573  0.102081     81200.0    0.073099   0.470760  34.605263   \n",
       "1   1.045195  0.007898     65100.0    0.066599   0.437941  34.530777   \n",
       "2   1.202800  0.036487     79700.0    0.037218   0.500490  36.040157   \n",
       "3   1.501160  0.076898     92050.0    0.038634   0.429470  35.295597   \n",
       "4   1.035056  0.254155     84000.0    0.029342   0.429025  34.174465   \n",
       "5   1.939856  0.040898    126000.0    0.050114   0.382688  35.248292   \n",
       "6   1.221673  0.082890     96100.0    0.071348   0.402039  34.388448   \n",
       "7   1.479955  0.035635     94500.0    0.026087   0.394783  31.629565   \n",
       "8   1.084774  0.025376    105250.0    0.042977   0.545073  36.508386   \n",
       "9   0.864301  0.013048     92800.0    0.025974   0.504132  35.087367   \n",
       "10  1.888803  0.016988     84600.0    0.114286   0.048980  31.767347   \n",
       "11  1.159782  0.054471    167800.0    0.067550   0.247682  34.780132   \n",
       "12  0.787274  0.073758    179300.0    0.033659   0.497286  34.176982   \n",
       "13  0.722285  0.072529    231900.0    0.066306   0.525034  34.410014   \n",
       "14  0.404396  0.162637    199750.0    0.021830   0.650728  36.417879   \n",
       "15  0.765882  0.063529    160100.0    0.024958   0.525790  35.294509   \n",
       "16  0.407451  0.057043    143600.0    0.015965   0.628447  31.551524   \n",
       "17  1.441550  0.056544     87900.0    0.033285   0.487699  35.293777   \n",
       "18  0.450066  0.044021    123700.0    0.029330   0.615922  36.965084   \n",
       "19  1.388459  0.107079    114200.0    0.037534   0.626005  34.927614   \n",
       "\n",
       "    Tree_Score  Perm_Count  \n",
       "0     4.675090    1.669591  \n",
       "1     4.721419    1.528759  \n",
       "2     4.689646    1.680705  \n",
       "3     4.902971    1.920036  \n",
       "4     4.942641    1.748612  \n",
       "5     5.025337    1.995444  \n",
       "6     4.883759    1.947905  \n",
       "7     4.720880    2.191304  \n",
       "8     4.945358    2.022013  \n",
       "9     4.899288    2.112161  \n",
       "10    4.765613    1.706122  \n",
       "11    4.746655    2.035762  \n",
       "12    4.899601    2.407166  \n",
       "13    5.333129    2.443843  \n",
       "14    5.205649    2.713098  \n",
       "15    5.072037    2.597338  \n",
       "16    4.903494    2.259797  \n",
       "17    5.011467    2.069465  \n",
       "18    4.979183    2.166201  \n",
       "19    4.911259    1.731903  "
      ]
     },
     "execution_count": 29,
     "metadata": {},
     "output_type": "execute_result"
    }
   ],
   "source": [
    "featureSpace"
   ]
  },
  {
   "cell_type": "code",
   "execution_count": 28,
   "metadata": {
    "collapsed": true
   },
   "outputs": [],
   "source": [
    "featureSpace.to_file('../Data/processed/shapefiles/featureSpace_CT.shp')"
   ]
  },
  {
   "cell_type": "code",
   "execution_count": null,
   "metadata": {
    "collapsed": true
   },
   "outputs": [],
   "source": []
  },
  {
   "cell_type": "code",
   "execution_count": null,
   "metadata": {
    "collapsed": true
   },
   "outputs": [],
   "source": []
  }
 ],
 "metadata": {
  "anaconda-cloud": {},
  "kernelspec": {
   "display_name": "Python 3",
   "language": "python",
   "name": "python3"
  },
  "language_info": {
   "codemirror_mode": {
    "name": "ipython",
    "version": 2
   },
   "file_extension": ".py",
   "mimetype": "text/x-python",
   "name": "python",
   "nbconvert_exporter": "python",
   "pygments_lexer": "ipython2",
   "version": "2.7.8"
  }
 },
 "nbformat": 4,
 "nbformat_minor": 2
}
