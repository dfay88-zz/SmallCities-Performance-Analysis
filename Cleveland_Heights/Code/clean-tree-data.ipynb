{
 "cells": [
  {
   "cell_type": "code",
   "execution_count": 1,
   "metadata": {
    "collapsed": true
   },
   "outputs": [],
   "source": [
    "import pandas as pd\n",
    "import geopandas as gpd\n",
    "import numpy as np\n",
    "from shapely.geometry import Point\n",
    "from sklearn import preprocessing"
   ]
  },
  {
   "cell_type": "code",
   "execution_count": 2,
   "metadata": {
    "collapsed": true
   },
   "outputs": [],
   "source": [
    "trees = pd.read_excel('../Data/Raw/Treetracker Site Table.xlsx')\n",
    "owners = gpd.read_file('../Data/Raw/Master_Building/CH_Only_Clip.shp')"
   ]
  },
  {
   "cell_type": "code",
   "execution_count": 3,
   "metadata": {
    "collapsed": true
   },
   "outputs": [],
   "source": [
    "trees = trees[['Address', 'Diameter', 'Condition Wood', 'Condition Leaves', 'X_Coord', 'Y_Coord']]\n",
    "trees.dropna(inplace=True)"
   ]
  },
  {
   "cell_type": "code",
   "execution_count": 4,
   "metadata": {
    "collapsed": true
   },
   "outputs": [],
   "source": [
    "conditions = {'Dead': 0, 'Poor': 1, 'Fair': 2, 'Good': 3, 'Excellent': 4}\n",
    "trees['Condition Wood'] = trees['Condition Wood'].map(conditions)\n",
    "trees['Condition Leaves'] = trees['Condition Leaves'].map(conditions)\n",
    "min_max_scaler = preprocessing.MinMaxScaler((0,4))\n",
    "trees['Diameter'] = min_max_scaler.fit_transform(np.array(trees['Diameter'].astype(float)).reshape(-1,1))\n",
    "trees['Tree_Score'] = trees['Diameter'] + trees['Condition Wood'] + trees['Condition Leaves']"
   ]
  },
  {
   "cell_type": "code",
   "execution_count": 5,
   "metadata": {
    "collapsed": true
   },
   "outputs": [],
   "source": [
    "tree_scores = trees[['Address', 'Tree_Score']].groupby('Address').mean()"
   ]
  },
  {
   "cell_type": "code",
   "execution_count": 6,
   "metadata": {
    "collapsed": true
   },
   "outputs": [],
   "source": [
    "tree_scores.to_csv('../Data/processed/tree_scores.csv')"
   ]
  },
  {
   "cell_type": "code",
   "execution_count": 7,
   "metadata": {
    "collapsed": true
   },
   "outputs": [],
   "source": [
    "def fix_address(row):\n",
    "    num = row['Address'].split(' ')[2]\n",
    "    st = row['Address'].split(' ')[0] + ' ' + row['Address'].split(' ')[1]\n",
    "    add = num + ' ' + st\n",
    "    return add"
   ]
  },
  {
   "cell_type": "code",
   "execution_count": 8,
   "metadata": {
    "collapsed": true
   },
   "outputs": [],
   "source": [
    "tree_scores.reset_index(inplace=True)\n",
    "tree_scores['Address'] = tree_scores.apply(fix_address, axis=1)\n",
    "tree_scores['Address'] = map(lambda x: x.upper(), tree_scores['Address'])"
   ]
  },
  {
   "cell_type": "code",
   "execution_count": 9,
   "metadata": {
    "collapsed": true
   },
   "outputs": [],
   "source": [
    "owners = owners[['parcel_add', 'geometry']]\n",
    "owners.dropna(inplace=True)"
   ]
  },
  {
   "cell_type": "code",
   "execution_count": 10,
   "metadata": {
    "collapsed": true
   },
   "outputs": [],
   "source": [
    "def fix_owners_add(row):\n",
    "    return row['parcel_add'].split(',')[0]\n",
    "owners['parcel_add'] = owners.apply(fix_owners_add, axis=1)"
   ]
  },
  {
   "cell_type": "code",
   "execution_count": 11,
   "metadata": {
    "collapsed": true
   },
   "outputs": [],
   "source": [
    "tree_scores_shp = pd.merge(tree_scores, owners, how='inner', left_on='Address', right_on='parcel_add')"
   ]
  },
  {
   "cell_type": "code",
   "execution_count": 12,
   "metadata": {
    "collapsed": true
   },
   "outputs": [],
   "source": [
    "tree_scores_shp = gpd.GeoDataFrame(tree_scores_shp, crs = {'init' :'epsg:4326'})"
   ]
  },
  {
   "cell_type": "code",
   "execution_count": 13,
   "metadata": {
    "collapsed": true
   },
   "outputs": [],
   "source": [
    "tree_scores_shp.to_file('../Data/processed/shapefiles/tree_scores.shp')"
   ]
  },
  {
   "cell_type": "code",
   "execution_count": null,
   "metadata": {
    "collapsed": true
   },
   "outputs": [],
   "source": []
  },
  {
   "cell_type": "code",
   "execution_count": null,
   "metadata": {
    "collapsed": true
   },
   "outputs": [],
   "source": []
  }
 ],
 "metadata": {
  "anaconda-cloud": {},
  "kernelspec": {
   "display_name": "Python 3",
   "language": "python",
   "name": "python3"
  },
  "language_info": {
   "codemirror_mode": {
    "name": "ipython",
    "version": 2
   },
   "file_extension": ".py",
   "mimetype": "text/x-python",
   "name": "python",
   "nbconvert_exporter": "python",
   "pygments_lexer": "ipython2",
   "version": "2.7.8"
  }
 },
 "nbformat": 4,
 "nbformat_minor": 2
}
