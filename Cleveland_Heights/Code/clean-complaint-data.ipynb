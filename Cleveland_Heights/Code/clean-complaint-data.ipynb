{
 "cells": [
  {
   "cell_type": "code",
   "execution_count": 4,
   "metadata": {
    "collapsed": true
   },
   "outputs": [],
   "source": [
    "import pandas as pd\n",
    "import geopandas as gpd\n",
    "from shapely.geometry import Point\n",
    "import numpy as np\n",
    "import os"
   ]
  },
  {
   "cell_type": "code",
   "execution_count": 14,
   "metadata": {},
   "outputs": [],
   "source": [
    "complaints = pd.read_excel('../Data/Raw/Access_CH.xlsx')\n",
    "geocodes = pd.read_excel('../Data/Raw/AccessCH_geocodes.xlsx')"
   ]
  },
  {
   "cell_type": "code",
   "execution_count": 15,
   "metadata": {},
   "outputs": [],
   "source": [
    "complaints_gc = pd.merge(complaints, geocodes, how='left', left_on='Address', right_on='address')\n",
    "complaints_gc.drop_duplicates(['Description', 'Address', 'Date Created'], inplace=True)\n",
    "complaints_gc.drop('address', axis=1, inplace=True)"
   ]
  },
  {
   "cell_type": "code",
   "execution_count": 16,
   "metadata": {
    "collapsed": true
   },
   "outputs": [],
   "source": [
    "complaints_count = complaints_gc.groupby('Address').count()\n",
    "complaints_count = complaints_count[['Description']]\n",
    "complaints_count.columns = ['Complaint_count']"
   ]
  },
  {
   "cell_type": "code",
   "execution_count": 17,
   "metadata": {
    "collapsed": true
   },
   "outputs": [],
   "source": [
    "complaints_count.to_csv('../Data/processed/complaint_count.csv', encoding='utf-8')"
   ]
  },
  {
   "cell_type": "code",
   "execution_count": 18,
   "metadata": {},
   "outputs": [],
   "source": [
    "complaints_count.reset_index(inplace=True)\n",
    "complaints_count = pd.merge(complaints_count, geocodes, how='left', left_on='Address', right_on='address')\n",
    "complaints_count.drop('address', axis=1, inplace=True)\n",
    "complaints_count.dropna(subset=['coordinate'], inplace=True)\n",
    "complaints_count['latitude'] = [float(str(row['coordinate']).split(',')[0][1:]) for ix,row in complaints_count.iterrows()]\n",
    "complaints_count['longitude'] = [float(str(row['coordinate']).split(',')[1][1:-1]) for ix,row in complaints_count.iterrows()]"
   ]
  },
  {
   "cell_type": "code",
   "execution_count": 19,
   "metadata": {},
   "outputs": [],
   "source": [
    "geometry = gpd.GeoSeries([Point(xy) for xy in zip(complaints_count.longitude, complaints_count.latitude)])\n",
    "complaints_count_shape = gpd.GeoDataFrame(complaints_count, geometry=geometry)\n",
    "complaints_count_shape.crs = {'init' :'epsg:4326'}\n",
    "complaints_count_shape.dropna(subset=['geometry'], inplace=True)\n",
    "complaints_count_shape.drop(['coordinate', 'latitude', 'longitude'], axis=1, inplace=True)"
   ]
  },
  {
   "cell_type": "code",
   "execution_count": 20,
   "metadata": {
    "collapsed": true
   },
   "outputs": [],
   "source": [
    "complaints_count_shape.to_file('../Data/processed/shapefiles/complaint_count.shp')"
   ]
  },
  {
   "cell_type": "code",
   "execution_count": 13,
   "metadata": {
    "collapsed": true
   },
   "outputs": [],
   "source": []
  },
  {
   "cell_type": "code",
   "execution_count": null,
   "metadata": {
    "collapsed": true
   },
   "outputs": [],
   "source": []
  },
  {
   "cell_type": "code",
   "execution_count": null,
   "metadata": {
    "collapsed": true
   },
   "outputs": [],
   "source": []
  },
  {
   "cell_type": "code",
   "execution_count": null,
   "metadata": {
    "collapsed": true
   },
   "outputs": [],
   "source": []
  }
 ],
 "metadata": {
  "anaconda-cloud": {},
  "kernelspec": {
   "display_name": "Python 3",
   "language": "python",
   "name": "python3"
  },
  "language_info": {
   "codemirror_mode": {
    "name": "ipython",
    "version": 2
   },
   "file_extension": ".py",
   "mimetype": "text/x-python",
   "name": "python",
   "nbconvert_exporter": "python",
   "pygments_lexer": "ipython2",
   "version": "2.7.8"
  }
 },
 "nbformat": 4,
 "nbformat_minor": 2
}
