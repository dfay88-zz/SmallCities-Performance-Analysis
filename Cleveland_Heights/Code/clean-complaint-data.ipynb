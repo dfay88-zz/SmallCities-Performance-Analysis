{
 "cells": [
  {
   "cell_type": "code",
   "execution_count": 1,
   "metadata": {
    "collapsed": true
   },
   "outputs": [],
   "source": [
    "import pandas as pd\n",
    "import geopandas as gpd\n",
    "from shapely.geometry import Point\n",
    "import numpy as np"
   ]
  },
  {
   "cell_type": "code",
   "execution_count": 2,
   "metadata": {
    "collapsed": true
   },
   "outputs": [],
   "source": [
    "complaints = pd.read_excel('../Data/Access_CH.xlsx')\n",
    "geocodes = pd.read_excel('../Data/AccessCH_geocodes.xlsx')"
   ]
  },
  {
   "cell_type": "code",
   "execution_count": 3,
   "metadata": {},
   "outputs": [
    {
     "data": {
      "text/plain": [
       "1938"
      ]
     },
     "execution_count": 3,
     "metadata": {},
     "output_type": "execute_result"
    }
   ],
   "source": [
    "len(complaints)"
   ]
  },
  {
   "cell_type": "code",
   "execution_count": 4,
   "metadata": {},
   "outputs": [
    {
     "data": {
      "text/plain": [
       "1938"
      ]
     },
     "execution_count": 4,
     "metadata": {},
     "output_type": "execute_result"
    }
   ],
   "source": [
    "complaints_gc = pd.merge(complaints, geocodes, how='left', left_on='Address', right_on='address')\n",
    "complaints_gc.drop_duplicates(['Description', 'Address', 'Date Created'], inplace=True)\n",
    "complaints_gc.drop('address', axis=1, inplace=True)\n",
    "len(complaints_gc)"
   ]
  },
  {
   "cell_type": "code",
   "execution_count": 5,
   "metadata": {},
   "outputs": [
    {
     "data": {
      "text/html": [
       "<div>\n",
       "<table border=\"1\" class=\"dataframe\">\n",
       "  <thead>\n",
       "    <tr style=\"text-align: right;\">\n",
       "      <th></th>\n",
       "      <th>Id</th>\n",
       "      <th>Title</th>\n",
       "      <th>Request Type</th>\n",
       "      <th>Description</th>\n",
       "      <th>Department</th>\n",
       "      <th>Assigned to</th>\n",
       "      <th>Address</th>\n",
       "      <th>Date Created</th>\n",
       "      <th>Comments</th>\n",
       "      <th>coordinate</th>\n",
       "    </tr>\n",
       "  </thead>\n",
       "  <tbody>\n",
       "    <tr>\n",
       "      <th>0</th>\n",
       "      <td>389186</td>\n",
       "      <td>Pothole</td>\n",
       "      <td>Pothole</td>\n",
       "      <td>Huge pothole cluster in Saint  James just to t...</td>\n",
       "      <td>Public Works</td>\n",
       "      <td>Howard Bucklan</td>\n",
       "      <td>Roxboro Middle School, Cleveland Heights, OH, ...</td>\n",
       "      <td>2014-06-12 16:01:27</td>\n",
       "      <td>NaN</td>\n",
       "      <td>(41.4941611, -81.59005859999999)</td>\n",
       "    </tr>\n",
       "    <tr>\n",
       "      <th>1</th>\n",
       "      <td>390004</td>\n",
       "      <td>Graffiti</td>\n",
       "      <td>Graffiti</td>\n",
       "      <td>graffiti on bricks at peace arch on Coventry</td>\n",
       "      <td>Public Works</td>\n",
       "      <td>Howard Bucklan</td>\n",
       "      <td>1925 Coventry Road, Cleveland Heights, OH 4411...</td>\n",
       "      <td>2014-06-13 14:02:08</td>\n",
       "      <td>NaN</td>\n",
       "      <td>(41.5074426, -81.5797181)</td>\n",
       "    </tr>\n",
       "    <tr>\n",
       "      <th>2</th>\n",
       "      <td>390538</td>\n",
       "      <td>Other</td>\n",
       "      <td>Other</td>\n",
       "      <td>Time line for outdoor activities and noise</td>\n",
       "      <td>Community Relations</td>\n",
       "      <td>Community Relations</td>\n",
       "      <td>913-915 Helmsdale Road, Cleveland Heights, OH ...</td>\n",
       "      <td>2014-06-14 14:09:34</td>\n",
       "      <td>NaN</td>\n",
       "      <td>(41.53517, -81.55994)</td>\n",
       "    </tr>\n",
       "    <tr>\n",
       "      <th>3</th>\n",
       "      <td>390773</td>\n",
       "      <td>Property Condition - Residential</td>\n",
       "      <td>Property Condition - Residential</td>\n",
       "      <td>There are piles of old wood and trash piled ag...</td>\n",
       "      <td>Housing</td>\n",
       "      <td>Housing Inspections</td>\n",
       "      <td>14298 Superior Rd, Cleveland Heights, OH, 44118</td>\n",
       "      <td>2014-06-15 12:53:23</td>\n",
       "      <td>Steve Barker on 2014-06-16 12:38:24 -0400 comm...</td>\n",
       "      <td>(41.5119889, -81.57234489999999)</td>\n",
       "    </tr>\n",
       "    <tr>\n",
       "      <th>4</th>\n",
       "      <td>391235</td>\n",
       "      <td>Graffiti</td>\n",
       "      <td>Graffiti</td>\n",
       "      <td>Graffiti on mailbox at N/W corner mailbox</td>\n",
       "      <td>Public Works</td>\n",
       "      <td>Howard Bucklan</td>\n",
       "      <td>2697 Euclid Heights Blvd, Cleveland Heights, O...</td>\n",
       "      <td>2014-06-16 10:38:24</td>\n",
       "      <td>Howard Bucklan on 2014-06-16 11:31:49 -0400 co...</td>\n",
       "      <td>(41.5082401, -81.58370719999999)</td>\n",
       "    </tr>\n",
       "  </tbody>\n",
       "</table>\n",
       "</div>"
      ],
      "text/plain": [
       "       Id                             Title                      Request Type  \\\n",
       "0  389186                           Pothole                           Pothole   \n",
       "1  390004                          Graffiti                          Graffiti   \n",
       "2  390538                             Other                             Other   \n",
       "3  390773  Property Condition - Residential  Property Condition - Residential   \n",
       "4  391235                          Graffiti                          Graffiti   \n",
       "\n",
       "                                         Description           Department  \\\n",
       "0  Huge pothole cluster in Saint  James just to t...         Public Works   \n",
       "1       graffiti on bricks at peace arch on Coventry         Public Works   \n",
       "2         Time line for outdoor activities and noise  Community Relations   \n",
       "3  There are piles of old wood and trash piled ag...              Housing   \n",
       "4          Graffiti on mailbox at N/W corner mailbox         Public Works   \n",
       "\n",
       "           Assigned to                                            Address  \\\n",
       "0       Howard Bucklan  Roxboro Middle School, Cleveland Heights, OH, ...   \n",
       "1       Howard Bucklan  1925 Coventry Road, Cleveland Heights, OH 4411...   \n",
       "2  Community Relations  913-915 Helmsdale Road, Cleveland Heights, OH ...   \n",
       "3  Housing Inspections    14298 Superior Rd, Cleveland Heights, OH, 44118   \n",
       "4       Howard Bucklan  2697 Euclid Heights Blvd, Cleveland Heights, O...   \n",
       "\n",
       "          Date Created                                           Comments  \\\n",
       "0  2014-06-12 16:01:27                                                NaN   \n",
       "1  2014-06-13 14:02:08                                                NaN   \n",
       "2  2014-06-14 14:09:34                                                NaN   \n",
       "3  2014-06-15 12:53:23  Steve Barker on 2014-06-16 12:38:24 -0400 comm...   \n",
       "4  2014-06-16 10:38:24  Howard Bucklan on 2014-06-16 11:31:49 -0400 co...   \n",
       "\n",
       "                         coordinate  \n",
       "0  (41.4941611, -81.59005859999999)  \n",
       "1         (41.5074426, -81.5797181)  \n",
       "2             (41.53517, -81.55994)  \n",
       "3  (41.5119889, -81.57234489999999)  \n",
       "4  (41.5082401, -81.58370719999999)  "
      ]
     },
     "execution_count": 5,
     "metadata": {},
     "output_type": "execute_result"
    }
   ],
   "source": [
    "complaints_gc.head()"
   ]
  },
  {
   "cell_type": "code",
   "execution_count": 6,
   "metadata": {
    "collapsed": true
   },
   "outputs": [],
   "source": [
    "complaints_count = complaints_gc.groupby('Address').count()\n",
    "complaints_count = complaints_count[['Description']]\n",
    "complaints_count.columns = ['Complaint_count']\n",
    "complaints_count.to_csv('../Data/processed/complaint_count.csv', encoding='utf-8')"
   ]
  },
  {
   "cell_type": "code",
   "execution_count": 7,
   "metadata": {},
   "outputs": [
    {
     "data": {
      "text/html": [
       "<div>\n",
       "<table border=\"1\" class=\"dataframe\">\n",
       "  <thead>\n",
       "    <tr style=\"text-align: right;\">\n",
       "      <th></th>\n",
       "      <th>Address</th>\n",
       "      <th>Complaint_count</th>\n",
       "      <th>coordinate</th>\n",
       "      <th>latitude</th>\n",
       "      <th>longitude</th>\n",
       "    </tr>\n",
       "  </thead>\n",
       "  <tbody>\n",
       "    <tr>\n",
       "      <th>0</th>\n",
       "      <td>1 Monticello Blvd,Cleveland Heights, OH 44118</td>\n",
       "      <td>2</td>\n",
       "      <td>(41.5157082, -81.57245970000001)</td>\n",
       "      <td>41.515708</td>\n",
       "      <td>-81.572460</td>\n",
       "    </tr>\n",
       "    <tr>\n",
       "      <th>1</th>\n",
       "      <td>1 Monticello Blvd,Cleveland Heights, OH 44118</td>\n",
       "      <td>2</td>\n",
       "      <td>(41.5157082, -81.57245970000001)</td>\n",
       "      <td>41.515708</td>\n",
       "      <td>-81.572460</td>\n",
       "    </tr>\n",
       "    <tr>\n",
       "      <th>2</th>\n",
       "      <td>1005 Englewood Road, Cleveland Heights, OH 441...</td>\n",
       "      <td>1</td>\n",
       "      <td>(41.5327364, -81.54113149999999)</td>\n",
       "      <td>41.532736</td>\n",
       "      <td>-81.541131</td>\n",
       "    </tr>\n",
       "    <tr>\n",
       "      <th>3</th>\n",
       "      <td>1005 Pembrook Rd, Cleveland Heights, OH 44121,...</td>\n",
       "      <td>1</td>\n",
       "      <td>(41.5331628, -81.55196)</td>\n",
       "      <td>41.533163</td>\n",
       "      <td>-81.551960</td>\n",
       "    </tr>\n",
       "    <tr>\n",
       "      <th>4</th>\n",
       "      <td>1005 Pembrook Road, Cleveland Heights, OH 4412...</td>\n",
       "      <td>1</td>\n",
       "      <td>(41.5331628, -81.55196)</td>\n",
       "      <td>41.533163</td>\n",
       "      <td>-81.551960</td>\n",
       "    </tr>\n",
       "  </tbody>\n",
       "</table>\n",
       "</div>"
      ],
      "text/plain": [
       "                                             Address  Complaint_count  \\\n",
       "0      1 Monticello Blvd,Cleveland Heights, OH 44118                2   \n",
       "1      1 Monticello Blvd,Cleveland Heights, OH 44118                2   \n",
       "2  1005 Englewood Road, Cleveland Heights, OH 441...                1   \n",
       "3  1005 Pembrook Rd, Cleveland Heights, OH 44121,...                1   \n",
       "4  1005 Pembrook Road, Cleveland Heights, OH 4412...                1   \n",
       "\n",
       "                         coordinate   latitude  longitude  \n",
       "0  (41.5157082, -81.57245970000001)  41.515708 -81.572460  \n",
       "1  (41.5157082, -81.57245970000001)  41.515708 -81.572460  \n",
       "2  (41.5327364, -81.54113149999999)  41.532736 -81.541131  \n",
       "3           (41.5331628, -81.55196)  41.533163 -81.551960  \n",
       "4           (41.5331628, -81.55196)  41.533163 -81.551960  "
      ]
     },
     "execution_count": 7,
     "metadata": {},
     "output_type": "execute_result"
    }
   ],
   "source": [
    "complaints_count.reset_index(inplace=True)\n",
    "complaints_count = pd.merge(complaints_count, geocodes, how='left', left_on='Address', right_on='address')\n",
    "complaints_count.drop('address', axis=1, inplace=True)\n",
    "complaints_count.dropna(subset=['coordinate'], inplace=True)\n",
    "complaints_count['latitude'] = [float(str(row['coordinate']).split(',')[0][1:]) for ix,row in complaints_count.iterrows()]\n",
    "complaints_count['longitude'] = [float(str(row['coordinate']).split(',')[1][1:-1]) for ix,row in complaints_count.iterrows()]\n",
    "complaints_count.head()"
   ]
  },
  {
   "cell_type": "code",
   "execution_count": 28,
   "metadata": {},
   "outputs": [
    {
     "data": {
      "text/html": [
       "<div>\n",
       "<table border=\"1\" class=\"dataframe\">\n",
       "  <thead>\n",
       "    <tr style=\"text-align: right;\">\n",
       "      <th></th>\n",
       "      <th>Address</th>\n",
       "      <th>Complaint_count</th>\n",
       "      <th>geometry</th>\n",
       "    </tr>\n",
       "  </thead>\n",
       "  <tbody>\n",
       "    <tr>\n",
       "      <th>0</th>\n",
       "      <td>1 Monticello Blvd,Cleveland Heights, OH 44118</td>\n",
       "      <td>2</td>\n",
       "      <td>POINT (-81.57245970000001 41.5157082)</td>\n",
       "    </tr>\n",
       "    <tr>\n",
       "      <th>1</th>\n",
       "      <td>1 Monticello Blvd,Cleveland Heights, OH 44118</td>\n",
       "      <td>2</td>\n",
       "      <td>POINT (-81.57245970000001 41.5157082)</td>\n",
       "    </tr>\n",
       "    <tr>\n",
       "      <th>2</th>\n",
       "      <td>1005 Englewood Road, Cleveland Heights, OH 441...</td>\n",
       "      <td>1</td>\n",
       "      <td>POINT (-81.54113149999999 41.5327364)</td>\n",
       "    </tr>\n",
       "    <tr>\n",
       "      <th>3</th>\n",
       "      <td>1005 Pembrook Rd, Cleveland Heights, OH 44121,...</td>\n",
       "      <td>1</td>\n",
       "      <td>POINT (-81.55195999999999 41.5331628)</td>\n",
       "    </tr>\n",
       "    <tr>\n",
       "      <th>4</th>\n",
       "      <td>1005 Pembrook Road, Cleveland Heights, OH 4412...</td>\n",
       "      <td>1</td>\n",
       "      <td>POINT (-81.55195999999999 41.5331628)</td>\n",
       "    </tr>\n",
       "  </tbody>\n",
       "</table>\n",
       "</div>"
      ],
      "text/plain": [
       "                                             Address  Complaint_count  \\\n",
       "0      1 Monticello Blvd,Cleveland Heights, OH 44118                2   \n",
       "1      1 Monticello Blvd,Cleveland Heights, OH 44118                2   \n",
       "2  1005 Englewood Road, Cleveland Heights, OH 441...                1   \n",
       "3  1005 Pembrook Rd, Cleveland Heights, OH 44121,...                1   \n",
       "4  1005 Pembrook Road, Cleveland Heights, OH 4412...                1   \n",
       "\n",
       "                                geometry  \n",
       "0  POINT (-81.57245970000001 41.5157082)  \n",
       "1  POINT (-81.57245970000001 41.5157082)  \n",
       "2  POINT (-81.54113149999999 41.5327364)  \n",
       "3  POINT (-81.55195999999999 41.5331628)  \n",
       "4  POINT (-81.55195999999999 41.5331628)  "
      ]
     },
     "execution_count": 28,
     "metadata": {},
     "output_type": "execute_result"
    }
   ],
   "source": [
    "geometry = gpd.GeoSeries([Point(xy) for xy in zip(complaints_count.longitude, complaints_count.latitude)])\n",
    "complaints_count_shape = gpd.GeoDataFrame(complaints_count, geometry=geometry)\n",
    "complaints_count_shape.crs = {'init' :'epsg:4326'}\n",
    "complaints_count_shape.dropna(subset=['geometry'], inplace=True)\n",
    "complaints_count_shape.drop(['coordinate', 'latitude', 'longitude'], axis=1, inplace=True)\n",
    "complaints_count_shape.head()"
   ]
  },
  {
   "cell_type": "code",
   "execution_count": 29,
   "metadata": {
    "collapsed": true
   },
   "outputs": [],
   "source": [
    "complaints_count_shape.to_file('../Data/processed/shapefiles/complaint_count.shp')"
   ]
  },
  {
   "cell_type": "code",
   "execution_count": 13,
   "metadata": {
    "collapsed": true
   },
   "outputs": [],
   "source": []
  },
  {
   "cell_type": "code",
   "execution_count": null,
   "metadata": {
    "collapsed": true
   },
   "outputs": [],
   "source": []
  },
  {
   "cell_type": "code",
   "execution_count": null,
   "metadata": {
    "collapsed": true
   },
   "outputs": [],
   "source": []
  },
  {
   "cell_type": "code",
   "execution_count": null,
   "metadata": {
    "collapsed": true
   },
   "outputs": [],
   "source": []
  }
 ],
 "metadata": {
  "anaconda-cloud": {},
  "kernelspec": {
   "display_name": "Python 3",
   "language": "python",
   "name": "python3"
  },
  "language_info": {
   "codemirror_mode": {
    "name": "ipython",
    "version": 2
   },
   "file_extension": ".py",
   "mimetype": "text/x-python",
   "name": "python",
   "nbconvert_exporter": "python",
   "pygments_lexer": "ipython2",
   "version": "2.7.8"
  }
 },
 "nbformat": 4,
 "nbformat_minor": 2
}
