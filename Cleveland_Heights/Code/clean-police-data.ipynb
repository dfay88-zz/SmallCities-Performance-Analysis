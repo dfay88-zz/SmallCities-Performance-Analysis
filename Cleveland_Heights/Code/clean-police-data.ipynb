{
 "cells": [
  {
   "cell_type": "code",
   "execution_count": 1,
   "metadata": {
    "collapsed": true
   },
   "outputs": [],
   "source": [
    "import pandas as pd\n",
    "import numpy as np\n",
    "import geopandas as gpd\n",
    "from shapely.geometry import Point"
   ]
  },
  {
   "cell_type": "code",
   "execution_count": 2,
   "metadata": {
    "collapsed": true
   },
   "outputs": [],
   "source": [
    "policeData_17 = pd.read_csv('../Data/police_data/2017clean.csv', index_col=0)\n",
    "\n",
    "policeData_16 = pd.read_csv('../Data/police_data/2016clean.csv', index_col=0)\n",
    "\n",
    "policeData_15 = pd.read_csv('../Data/police_data/2015clean.csv', index_col=0)\n",
    "\n",
    "policeData_14 = pd.read_csv('../Data/police_data/2014clean.csv', index_col=0)\n",
    "\n",
    "policeData_13 = pd.read_csv('../Data/police_data/2013clean.csv', index_col=0)\n",
    "\n",
    "#geocodes = pd.read_csv('../Data/police_data/cop_geocodes.csv', index_col=0)"
   ]
  },
  {
   "cell_type": "code",
   "execution_count": 3,
   "metadata": {
    "collapsed": true
   },
   "outputs": [],
   "source": [
    "geocode1 = pd.read_csv('../Data/police_data/geocodes/Cop_geocodes_991.csv', index_col=0)\n",
    "geocode2 = pd.read_csv('../Data/police_data/geocodes/Cop_geocodes_991_2000.csv', index_col=0)\n",
    "geocode3 = pd.read_csv('../Data/police_data/geocodes/Cop_geocodes_1984_3000.csv', index_col=0)\n",
    "geocode4 = pd.read_csv('../Data/police_data/geocodes/Cop_geocodes_2993_4000.csv', index_col=0)\n",
    "geocode5 = pd.read_csv('../Data/police_data/geocodes/Cop_geocodes_3988_5000.csv', index_col=0)\n",
    "geocode6 = pd.read_csv('../Data/police_data/geocodes/Cop_geocodes_4989_6000.csv', index_col=0)\n",
    "geocode7 = pd.read_csv('../Data/police_data/geocodes/Cop_geocodes_5985_7000.csv', index_col=0)\n",
    "geocode8 = pd.read_csv('../Data/police_data/geocodes/Cop_geocodes_6971_8000.csv', index_col=0)\n",
    "geocode9 = pd.read_csv('../Data/police_data/geocodes/Cop_geocodes_7972_9000.csv', index_col=0)\n",
    "geocode10 = pd.read_csv('../Data/police_data/geocodes/Cop_geocodes_8982.csv', index_col=0)\n",
    "geocode11 = pd.read_csv('../Data/police_data/geocodes/Cop_geocodes_10504.csv', index_col=0)"
   ]
  },
  {
   "cell_type": "code",
   "execution_count": 4,
   "metadata": {
    "collapsed": true
   },
   "outputs": [],
   "source": [
    "geocodes = geocode1.append(geocode2)\n",
    "geocodes = geocodes.append(geocode3)\n",
    "geocodes = geocodes.append(geocode4)\n",
    "geocodes = geocodes.append(geocode5)\n",
    "geocodes = geocodes.append(geocode6)\n",
    "geocodes = geocodes.append(geocode7)\n",
    "geocodes = geocodes.append(geocode8)\n",
    "geocodes = geocodes.append(geocode9)\n",
    "geocodes = geocodes.append(geocode10)\n",
    "geocodes = geocodes.append(geocode11)"
   ]
  },
  {
   "cell_type": "markdown",
   "metadata": {},
   "source": [
    "### Create Final Dataframe"
   ]
  },
  {
   "cell_type": "code",
   "execution_count": 5,
   "metadata": {
    "collapsed": true
   },
   "outputs": [],
   "source": [
    "policeData = policeData_17.append(policeData_16)\n",
    "policeData = policeData.append(policeData_15)\n",
    "policeData = policeData.append(policeData_14)\n",
    "policeData = policeData.append(policeData_13)"
   ]
  },
  {
   "cell_type": "code",
   "execution_count": 6,
   "metadata": {},
   "outputs": [
    {
     "data": {
      "text/plain": [
       "49876"
      ]
     },
     "execution_count": 6,
     "metadata": {},
     "output_type": "execute_result"
    }
   ],
   "source": [
    "len(policeData)"
   ]
  },
  {
   "cell_type": "code",
   "execution_count": 16,
   "metadata": {
    "collapsed": true
   },
   "outputs": [],
   "source": [
    "policeData.to_csv('../Data/police_data/police_data_13_17.csv')"
   ]
  },
  {
   "cell_type": "markdown",
   "metadata": {},
   "source": [
    "### Get count for each property"
   ]
  },
  {
   "cell_type": "code",
   "execution_count": 17,
   "metadata": {},
   "outputs": [
    {
     "data": {
      "text/html": [
       "<div>\n",
       "<table border=\"1\" class=\"dataframe\">\n",
       "  <thead>\n",
       "    <tr style=\"text-align: right;\">\n",
       "      <th></th>\n",
       "      <th>oca</th>\n",
       "      <th>mrc</th>\n",
       "      <th>trc</th>\n",
       "      <th>apt</th>\n",
       "      <th>ltp</th>\n",
       "      <th>zne</th>\n",
       "      <th>enddate</th>\n",
       "      <th>loc1</th>\n",
       "      <th>loc2</th>\n",
       "      <th>common_nam</th>\n",
       "      <th>offtext</th>\n",
       "      <th>numbered</th>\n",
       "      <th>address1</th>\n",
       "      <th>address2</th>\n",
       "    </tr>\n",
       "  </thead>\n",
       "  <tbody>\n",
       "    <tr>\n",
       "      <th>0</th>\n",
       "      <td>1700001</td>\n",
       "      <td>T</td>\n",
       "      <td>00:52:55</td>\n",
       "      <td>NaN</td>\n",
       "      <td>1.0</td>\n",
       "      <td>O</td>\n",
       "      <td>2017-01-01</td>\n",
       "      <td>3567</td>\n",
       "      <td>WOODRIDGE RD</td>\n",
       "      <td>NaN</td>\n",
       "      <td>MISSING PERSON</td>\n",
       "      <td>True</td>\n",
       "      <td>3567 Woodridge Rd</td>\n",
       "      <td>3567 &amp; Woodridge Rd</td>\n",
       "    </tr>\n",
       "    <tr>\n",
       "      <th>1</th>\n",
       "      <td>1700001</td>\n",
       "      <td>T</td>\n",
       "      <td>00:52:55</td>\n",
       "      <td>NaN</td>\n",
       "      <td>1.0</td>\n",
       "      <td>O</td>\n",
       "      <td>2017-01-01</td>\n",
       "      <td>3567</td>\n",
       "      <td>WOODRIDGE RD</td>\n",
       "      <td>NaN</td>\n",
       "      <td>FOUND PERSON</td>\n",
       "      <td>True</td>\n",
       "      <td>3567 Woodridge Rd</td>\n",
       "      <td>3567 &amp; Woodridge Rd</td>\n",
       "    </tr>\n",
       "    <tr>\n",
       "      <th>2</th>\n",
       "      <td>1700002</td>\n",
       "      <td>I</td>\n",
       "      <td>01:14:13</td>\n",
       "      <td>NaN</td>\n",
       "      <td>1.0</td>\n",
       "      <td>O</td>\n",
       "      <td>2017-01-01</td>\n",
       "      <td>3567</td>\n",
       "      <td>WOODRIDGE RD</td>\n",
       "      <td>NaN</td>\n",
       "      <td>MISSING PERSON</td>\n",
       "      <td>True</td>\n",
       "      <td>3567 Woodridge Rd</td>\n",
       "      <td>3567 &amp; Woodridge Rd</td>\n",
       "    </tr>\n",
       "    <tr>\n",
       "      <th>3</th>\n",
       "      <td>1700002</td>\n",
       "      <td>I</td>\n",
       "      <td>01:14:13</td>\n",
       "      <td>NaN</td>\n",
       "      <td>1.0</td>\n",
       "      <td>O</td>\n",
       "      <td>2017-01-01</td>\n",
       "      <td>3567</td>\n",
       "      <td>WOODRIDGE RD</td>\n",
       "      <td>NaN</td>\n",
       "      <td>FOUND PERSON</td>\n",
       "      <td>True</td>\n",
       "      <td>3567 Woodridge Rd</td>\n",
       "      <td>3567 &amp; Woodridge Rd</td>\n",
       "    </tr>\n",
       "    <tr>\n",
       "      <th>4</th>\n",
       "      <td>1700003</td>\n",
       "      <td>I</td>\n",
       "      <td>01:15:30</td>\n",
       "      <td>NaN</td>\n",
       "      <td>1.0</td>\n",
       "      <td>O</td>\n",
       "      <td>2017-01-01</td>\n",
       "      <td>3567</td>\n",
       "      <td>WOODRIDGE RD</td>\n",
       "      <td>NaN</td>\n",
       "      <td>MISSING PERSON</td>\n",
       "      <td>True</td>\n",
       "      <td>3567 Woodridge Rd</td>\n",
       "      <td>3567 &amp; Woodridge Rd</td>\n",
       "    </tr>\n",
       "  </tbody>\n",
       "</table>\n",
       "</div>"
      ],
      "text/plain": [
       "       oca mrc       trc  apt  ltp zne     enddate  loc1          loc2  \\\n",
       "0  1700001   T  00:52:55  NaN  1.0   O  2017-01-01  3567  WOODRIDGE RD   \n",
       "1  1700001   T  00:52:55  NaN  1.0   O  2017-01-01  3567  WOODRIDGE RD   \n",
       "2  1700002   I  01:14:13  NaN  1.0   O  2017-01-01  3567  WOODRIDGE RD   \n",
       "3  1700002   I  01:14:13  NaN  1.0   O  2017-01-01  3567  WOODRIDGE RD   \n",
       "4  1700003   I  01:15:30  NaN  1.0   O  2017-01-01  3567  WOODRIDGE RD   \n",
       "\n",
       "  common_nam         offtext numbered           address1             address2  \n",
       "0        NaN  MISSING PERSON     True  3567 Woodridge Rd  3567 & Woodridge Rd  \n",
       "1        NaN    FOUND PERSON     True  3567 Woodridge Rd  3567 & Woodridge Rd  \n",
       "2        NaN  MISSING PERSON     True  3567 Woodridge Rd  3567 & Woodridge Rd  \n",
       "3        NaN    FOUND PERSON     True  3567 Woodridge Rd  3567 & Woodridge Rd  \n",
       "4        NaN  MISSING PERSON     True  3567 Woodridge Rd  3567 & Woodridge Rd  "
      ]
     },
     "execution_count": 17,
     "metadata": {},
     "output_type": "execute_result"
    }
   ],
   "source": [
    "policeData.head()"
   ]
  },
  {
   "cell_type": "code",
   "execution_count": 18,
   "metadata": {},
   "outputs": [
    {
     "data": {
      "text/html": [
       "<div>\n",
       "<table border=\"1\" class=\"dataframe\">\n",
       "  <thead>\n",
       "    <tr style=\"text-align: right;\">\n",
       "      <th></th>\n",
       "      <th>PD_Count</th>\n",
       "    </tr>\n",
       "    <tr>\n",
       "      <th>address1</th>\n",
       "      <th></th>\n",
       "    </tr>\n",
       "  </thead>\n",
       "  <tbody>\n",
       "    <tr>\n",
       "      <th>3186 Euclid Heights Blvd</th>\n",
       "      <td>2</td>\n",
       "    </tr>\n",
       "    <tr>\n",
       "      <th>4075 Monticello Blvd</th>\n",
       "      <td>2</td>\n",
       "    </tr>\n",
       "    <tr>\n",
       "      <th>1028 Greyton Rd</th>\n",
       "      <td>1</td>\n",
       "    </tr>\n",
       "    <tr>\n",
       "      <th>1673 Eddington Rd</th>\n",
       "      <td>1</td>\n",
       "    </tr>\n",
       "    <tr>\n",
       "      <th>30 Severance Circle</th>\n",
       "      <td>1</td>\n",
       "    </tr>\n",
       "  </tbody>\n",
       "</table>\n",
       "</div>"
      ],
      "text/plain": [
       "                                        PD_Count\n",
       "address1                                        \n",
       "              3186 Euclid Heights Blvd         2\n",
       "           4075 Monticello Blvd                2\n",
       " 1028 Greyton Rd                               1\n",
       " 1673 Eddington Rd                             1\n",
       " 30 Severance Circle                           1"
      ]
     },
     "execution_count": 18,
     "metadata": {},
     "output_type": "execute_result"
    }
   ],
   "source": [
    "policeData_count = policeData.groupby('address1').count()\n",
    "policeData_count = policeData_count[['offtext']]\n",
    "policeData_count.columns = ['PD_Count']\n",
    "policeData_count.head()"
   ]
  },
  {
   "cell_type": "code",
   "execution_count": 19,
   "metadata": {
    "collapsed": true
   },
   "outputs": [],
   "source": [
    "policeData_count.to_csv('../Data/processed/PD_count.csv')"
   ]
  },
  {
   "cell_type": "code",
   "execution_count": 20,
   "metadata": {},
   "outputs": [
    {
     "data": {
      "text/plain": [
       "10549"
      ]
     },
     "execution_count": 20,
     "metadata": {},
     "output_type": "execute_result"
    }
   ],
   "source": [
    "len(policeData_count)"
   ]
  },
  {
   "cell_type": "code",
   "execution_count": 21,
   "metadata": {},
   "outputs": [
    {
     "data": {
      "text/html": [
       "<div>\n",
       "<table border=\"1\" class=\"dataframe\">\n",
       "  <thead>\n",
       "    <tr style=\"text-align: right;\">\n",
       "      <th></th>\n",
       "      <th>PD_Count</th>\n",
       "      <th>address</th>\n",
       "      <th>coordinate</th>\n",
       "      <th>latitude</th>\n",
       "      <th>longitude</th>\n",
       "    </tr>\n",
       "  </thead>\n",
       "  <tbody>\n",
       "    <tr>\n",
       "      <th>0</th>\n",
       "      <td>2</td>\n",
       "      <td>3186 Euclid Heights Blvd</td>\n",
       "      <td>(41.51042340000001, -81.5656856)</td>\n",
       "      <td>41.510423</td>\n",
       "      <td>-81.565686</td>\n",
       "    </tr>\n",
       "    <tr>\n",
       "      <th>1</th>\n",
       "      <td>2</td>\n",
       "      <td>4075 Monticello Blvd</td>\n",
       "      <td>(41.536151, -81.5335763)</td>\n",
       "      <td>41.536151</td>\n",
       "      <td>-81.533576</td>\n",
       "    </tr>\n",
       "    <tr>\n",
       "      <th>2</th>\n",
       "      <td>1</td>\n",
       "      <td>1028 Greyton Rd</td>\n",
       "      <td>(41.5321315, -81.5594579)</td>\n",
       "      <td>41.532131</td>\n",
       "      <td>-81.559458</td>\n",
       "    </tr>\n",
       "    <tr>\n",
       "      <th>3</th>\n",
       "      <td>1</td>\n",
       "      <td>1673 Eddington Rd</td>\n",
       "      <td>(41.513896, -81.5765768)</td>\n",
       "      <td>41.513896</td>\n",
       "      <td>-81.576577</td>\n",
       "    </tr>\n",
       "    <tr>\n",
       "      <th>4</th>\n",
       "      <td>1</td>\n",
       "      <td>30 Severance Circle</td>\n",
       "      <td>(41.5157586, -81.5551966)</td>\n",
       "      <td>41.515759</td>\n",
       "      <td>-81.555197</td>\n",
       "    </tr>\n",
       "  </tbody>\n",
       "</table>\n",
       "</div>"
      ],
      "text/plain": [
       "   PD_Count                                 address  \\\n",
       "0         2                3186 Euclid Heights Blvd   \n",
       "1         2                    4075 Monticello Blvd   \n",
       "2         1                         1028 Greyton Rd   \n",
       "3         1                       1673 Eddington Rd   \n",
       "4         1                     30 Severance Circle   \n",
       "\n",
       "                         coordinate   latitude  longitude  \n",
       "0  (41.51042340000001, -81.5656856)  41.510423 -81.565686  \n",
       "1          (41.536151, -81.5335763)  41.536151 -81.533576  \n",
       "2         (41.5321315, -81.5594579)  41.532131 -81.559458  \n",
       "3          (41.513896, -81.5765768)  41.513896 -81.576577  \n",
       "4         (41.5157586, -81.5551966)  41.515759 -81.555197  "
      ]
     },
     "execution_count": 21,
     "metadata": {},
     "output_type": "execute_result"
    }
   ],
   "source": [
    "policeData_count.reset_index(inplace=True)\n",
    "policeData_count_shp = pd.merge(policeData_count, geocodes, how='inner', left_on='address1', right_on='address')\n",
    "policeData_count_shp.drop('address1', axis=1, inplace=True)\n",
    "policeData_count_shp['latitude'] = [float(str(row['coordinate']).split(',')[0][1:]) for ix,row in policeData_count_shp.iterrows()]\n",
    "policeData_count_shp['longitude'] = [float(str(row['coordinate']).split(',')[1][1:-1]) for ix,row in policeData_count_shp.iterrows()]\n",
    "policeData_count_shp.head()\n",
    "\n"
   ]
  },
  {
   "cell_type": "code",
   "execution_count": 23,
   "metadata": {},
   "outputs": [
    {
     "data": {
      "text/plain": [
       "10549"
      ]
     },
     "execution_count": 23,
     "metadata": {},
     "output_type": "execute_result"
    }
   ],
   "source": [
    "len(policeData_count_shp)"
   ]
  },
  {
   "cell_type": "code",
   "execution_count": 24,
   "metadata": {},
   "outputs": [
    {
     "data": {
      "text/html": [
       "<div>\n",
       "<table border=\"1\" class=\"dataframe\">\n",
       "  <thead>\n",
       "    <tr style=\"text-align: right;\">\n",
       "      <th></th>\n",
       "      <th>PD_Count</th>\n",
       "      <th>address</th>\n",
       "      <th>geometry</th>\n",
       "    </tr>\n",
       "  </thead>\n",
       "  <tbody>\n",
       "    <tr>\n",
       "      <th>0</th>\n",
       "      <td>2</td>\n",
       "      <td>3186 Euclid Heights Blvd</td>\n",
       "      <td>POINT (-81.56568559999999 41.51042340000001)</td>\n",
       "    </tr>\n",
       "    <tr>\n",
       "      <th>1</th>\n",
       "      <td>2</td>\n",
       "      <td>4075 Monticello Blvd</td>\n",
       "      <td>POINT (-81.53357629999999 41.536151)</td>\n",
       "    </tr>\n",
       "    <tr>\n",
       "      <th>2</th>\n",
       "      <td>1</td>\n",
       "      <td>1028 Greyton Rd</td>\n",
       "      <td>POINT (-81.5594579 41.5321315)</td>\n",
       "    </tr>\n",
       "    <tr>\n",
       "      <th>3</th>\n",
       "      <td>1</td>\n",
       "      <td>1673 Eddington Rd</td>\n",
       "      <td>POINT (-81.5765768 41.513896)</td>\n",
       "    </tr>\n",
       "    <tr>\n",
       "      <th>4</th>\n",
       "      <td>1</td>\n",
       "      <td>30 Severance Circle</td>\n",
       "      <td>POINT (-81.5551966 41.5157586)</td>\n",
       "    </tr>\n",
       "  </tbody>\n",
       "</table>\n",
       "</div>"
      ],
      "text/plain": [
       "   PD_Count                                 address  \\\n",
       "0         2                3186 Euclid Heights Blvd   \n",
       "1         2                    4075 Monticello Blvd   \n",
       "2         1                         1028 Greyton Rd   \n",
       "3         1                       1673 Eddington Rd   \n",
       "4         1                     30 Severance Circle   \n",
       "\n",
       "                                       geometry  \n",
       "0  POINT (-81.56568559999999 41.51042340000001)  \n",
       "1          POINT (-81.53357629999999 41.536151)  \n",
       "2                POINT (-81.5594579 41.5321315)  \n",
       "3                 POINT (-81.5765768 41.513896)  \n",
       "4                POINT (-81.5551966 41.5157586)  "
      ]
     },
     "execution_count": 24,
     "metadata": {},
     "output_type": "execute_result"
    }
   ],
   "source": [
    "geometry = gpd.GeoSeries([Point(xy) for xy in zip(policeData_count_shp.longitude, policeData_count_shp.latitude)])\n",
    "policeData_count_shp = gpd.GeoDataFrame(policeData_count_shp, geometry=geometry)\n",
    "policeData_count_shp.crs = {'init' :'epsg:4326'}\n",
    "policeData_count_shp.dropna(subset=['geometry'], inplace=True)\n",
    "policeData_count_shp.drop(['coordinate', 'latitude', 'longitude'], axis=1, inplace=True)\n",
    "policeData_count_shp.head()"
   ]
  },
  {
   "cell_type": "code",
   "execution_count": 25,
   "metadata": {
    "collapsed": true
   },
   "outputs": [],
   "source": [
    "policeData_count_shp.to_file('../Data/processed/shapefiles/PD_count.shp')"
   ]
  },
  {
   "cell_type": "code",
   "execution_count": 116,
   "metadata": {
    "collapsed": true
   },
   "outputs": [],
   "source": [
    "#pd.DataFrame(policeData.address1.unique()).to_csv('../Data/pd_geocodes.csv')"
   ]
  },
  {
   "cell_type": "code",
   "execution_count": null,
   "metadata": {
    "collapsed": true
   },
   "outputs": [],
   "source": []
  },
  {
   "cell_type": "code",
   "execution_count": null,
   "metadata": {
    "collapsed": true
   },
   "outputs": [],
   "source": []
  },
  {
   "cell_type": "code",
   "execution_count": null,
   "metadata": {
    "collapsed": true
   },
   "outputs": [],
   "source": []
  }
 ],
 "metadata": {
  "anaconda-cloud": {},
  "kernelspec": {
   "display_name": "Python 3",
   "language": "python",
   "name": "python3"
  },
  "language_info": {
   "codemirror_mode": {
    "name": "ipython",
    "version": 2
   },
   "file_extension": ".py",
   "mimetype": "text/x-python",
   "name": "python",
   "nbconvert_exporter": "python",
   "pygments_lexer": "ipython2",
   "version": "2.7.8"
  }
 },
 "nbformat": 4,
 "nbformat_minor": 2
}
