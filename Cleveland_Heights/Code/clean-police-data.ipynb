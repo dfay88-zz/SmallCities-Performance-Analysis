{
 "cells": [
  {
   "cell_type": "code",
   "execution_count": 1,
   "metadata": {
    "collapsed": true
   },
   "outputs": [],
   "source": [
    "import pandas as pd\n",
    "import numpy as np\n",
    "import geopandas as gpd\n",
    "from shapely.geometry import Point"
   ]
  },
  {
   "cell_type": "code",
   "execution_count": 2,
   "metadata": {
    "collapsed": true
   },
   "outputs": [],
   "source": [
    "policeData_17 = pd.read_csv('../Data/Interim/police_data/2017clean.csv', index_col=0)\n",
    "\n",
    "policeData_16 = pd.read_csv('../Data/Interim/police_data/2016clean.csv', index_col=0)\n",
    "\n",
    "policeData_15 = pd.read_csv('../Data/Interim/police_data/2015clean.csv', index_col=0)\n",
    "\n",
    "policeData_14 = pd.read_csv('../Data/Interim/police_data/2014clean.csv', index_col=0)\n",
    "\n",
    "policeData_13 = pd.read_csv('../Data/Interim/police_data/2013clean.csv', index_col=0)"
   ]
  },
  {
   "cell_type": "code",
   "execution_count": 3,
   "metadata": {
    "collapsed": true
   },
   "outputs": [],
   "source": [
    "geocode1 = pd.read_csv('../Data/Interim/police_data/geocodes/Cop_geocodes_991.csv', index_col=0)\n",
    "geocode2 = pd.read_csv('../Data/Interim/police_data/geocodes/Cop_geocodes_991_2000.csv', index_col=0)\n",
    "geocode3 = pd.read_csv('../Data/Interim/police_data/geocodes/Cop_geocodes_1984_3000.csv', index_col=0)\n",
    "geocode4 = pd.read_csv('../Data/Interim/police_data/geocodes/Cop_geocodes_2993_4000.csv', index_col=0)\n",
    "geocode5 = pd.read_csv('../Data/Interim/police_data/geocodes/Cop_geocodes_3988_5000.csv', index_col=0)\n",
    "geocode6 = pd.read_csv('../Data/Interim/police_data/geocodes/Cop_geocodes_4989_6000.csv', index_col=0)\n",
    "geocode7 = pd.read_csv('../Data/Interim/police_data/geocodes/Cop_geocodes_5985_7000.csv', index_col=0)\n",
    "geocode8 = pd.read_csv('../Data/Interim/police_data/geocodes/Cop_geocodes_6971_8000.csv', index_col=0)\n",
    "geocode9 = pd.read_csv('../Data/Interim/police_data/geocodes/Cop_geocodes_7972_9000.csv', index_col=0)\n",
    "geocode10 = pd.read_csv('../Data/Interim/police_data/geocodes/Cop_geocodes_8982.csv', index_col=0)\n",
    "geocode11 = pd.read_csv('../Data/Interim/police_data/geocodes/Cop_geocodes_10504.csv', index_col=0)"
   ]
  },
  {
   "cell_type": "code",
   "execution_count": 4,
   "metadata": {
    "collapsed": true
   },
   "outputs": [],
   "source": [
    "geocodes = geocode1.append(geocode2)\n",
    "geocodes = geocodes.append(geocode3)\n",
    "geocodes = geocodes.append(geocode4)\n",
    "geocodes = geocodes.append(geocode5)\n",
    "geocodes = geocodes.append(geocode6)\n",
    "geocodes = geocodes.append(geocode7)\n",
    "geocodes = geocodes.append(geocode8)\n",
    "geocodes = geocodes.append(geocode9)\n",
    "geocodes = geocodes.append(geocode10)\n",
    "geocodes = geocodes.append(geocode11)"
   ]
  },
  {
   "cell_type": "markdown",
   "metadata": {},
   "source": [
    "### Create Final Dataframe"
   ]
  },
  {
   "cell_type": "code",
   "execution_count": 5,
   "metadata": {
    "collapsed": true
   },
   "outputs": [],
   "source": [
    "policeData = policeData_17.append(policeData_16)\n",
    "policeData = policeData.append(policeData_15)\n",
    "policeData = policeData.append(policeData_14)\n",
    "policeData = policeData.append(policeData_13)"
   ]
  },
  {
   "cell_type": "code",
   "execution_count": 6,
   "metadata": {
    "collapsed": true
   },
   "outputs": [],
   "source": [
    "policeData.to_csv('../Data/Interim/police_data/police_data_13_17.csv')"
   ]
  },
  {
   "cell_type": "markdown",
   "metadata": {},
   "source": [
    "### Get count for each property"
   ]
  },
  {
   "cell_type": "code",
   "execution_count": 7,
   "metadata": {},
   "outputs": [],
   "source": [
    "policeData_count = policeData.groupby('address1').count()\n",
    "policeData_count = policeData_count[['offtext']]\n",
    "policeData_count.columns = ['PD_Count']"
   ]
  },
  {
   "cell_type": "code",
   "execution_count": 8,
   "metadata": {
    "collapsed": true
   },
   "outputs": [],
   "source": [
    "policeData_count.to_csv('../Data/processed/PD_count.csv')"
   ]
  },
  {
   "cell_type": "code",
   "execution_count": 9,
   "metadata": {},
   "outputs": [],
   "source": [
    "policeData_count.reset_index(inplace=True)\n",
    "policeData_count_shp = pd.merge(policeData_count, geocodes, how='inner', left_on='address1', right_on='address')\n",
    "policeData_count_shp.drop('address1', axis=1, inplace=True)\n",
    "policeData_count_shp['latitude'] = [float(str(row['coordinate']).split(',')[0][1:]) for ix,row in policeData_count_shp.iterrows()]\n",
    "policeData_count_shp['longitude'] = [float(str(row['coordinate']).split(',')[1][1:-1]) for ix,row in policeData_count_shp.iterrows()]\n"
   ]
  },
  {
   "cell_type": "code",
   "execution_count": 10,
   "metadata": {},
   "outputs": [],
   "source": [
    "geometry = gpd.GeoSeries([Point(xy) for xy in zip(policeData_count_shp.longitude, policeData_count_shp.latitude)])\n",
    "policeData_count_shp = gpd.GeoDataFrame(policeData_count_shp, geometry=geometry)\n",
    "policeData_count_shp.crs = {'init' :'epsg:4326'}\n",
    "policeData_count_shp.dropna(subset=['geometry'], inplace=True)\n",
    "policeData_count_shp.drop(['coordinate', 'latitude', 'longitude'], axis=1, inplace=True)"
   ]
  },
  {
   "cell_type": "code",
   "execution_count": 11,
   "metadata": {
    "collapsed": true
   },
   "outputs": [],
   "source": [
    "policeData_count_shp.to_file('../Data/processed/shapefiles/PD_count.shp')"
   ]
  },
  {
   "cell_type": "code",
   "execution_count": null,
   "metadata": {
    "collapsed": true
   },
   "outputs": [],
   "source": []
  },
  {
   "cell_type": "code",
   "execution_count": null,
   "metadata": {
    "collapsed": true
   },
   "outputs": [],
   "source": []
  },
  {
   "cell_type": "code",
   "execution_count": null,
   "metadata": {
    "collapsed": true
   },
   "outputs": [],
   "source": []
  }
 ],
 "metadata": {
  "anaconda-cloud": {},
  "kernelspec": {
   "display_name": "Python 3",
   "language": "python",
   "name": "python3"
  },
  "language_info": {
   "codemirror_mode": {
    "name": "ipython",
    "version": 2
   },
   "file_extension": ".py",
   "mimetype": "text/x-python",
   "name": "python",
   "nbconvert_exporter": "python",
   "pygments_lexer": "ipython2",
   "version": "2.7.8"
  }
 },
 "nbformat": 4,
 "nbformat_minor": 2
}
