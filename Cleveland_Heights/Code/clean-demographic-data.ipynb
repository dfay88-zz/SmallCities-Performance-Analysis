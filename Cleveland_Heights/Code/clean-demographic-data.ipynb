{
 "cells": [
  {
   "cell_type": "markdown",
   "metadata": {},
   "source": [
    "# Clean Demographic Data\n",
    "#### Daniel Fay"
   ]
  },
  {
   "cell_type": "markdown",
   "metadata": {},
   "source": [
    "* % population 16 and Under\n",
    "* % population 65+\n",
    "* % white\n",
    "* % black\n",
    "* % other"
   ]
  },
  {
   "cell_type": "code",
   "execution_count": 4,
   "metadata": {
    "collapsed": true
   },
   "outputs": [],
   "source": [
    "import pandas as pd\n",
    "import geopandas as gpd"
   ]
  },
  {
   "cell_type": "code",
   "execution_count": 5,
   "metadata": {
    "collapsed": true
   },
   "outputs": [],
   "source": [
    "demo_data = gpd.read_file('../Data/Raw/Tract_2010Census_DP1/Tract_2010Census_DP_Cuyahoga.shp')\n",
    "econ_data = pd.read_table('../Data/Raw/econ_data_tab.txt')"
   ]
  },
  {
   "cell_type": "code",
   "execution_count": 6,
   "metadata": {},
   "outputs": [],
   "source": [
    "demo_data['Under_16_Percent'] = (demo_data['DP0010001'] - demo_data['DP0030001'])/demo_data['DP0010001']\n",
    "demo_data['65_Over_Percent'] = demo_data['DP0070001']/demo_data['DP0010001']\n",
    "demo_data['White_Percent'] = demo_data['DP0080003']/demo_data['DP0080001']\n",
    "demo_data['Black_Percent'] = demo_data['DP0080004']/demo_data['DP0080001']\n",
    "demo_data['Other_Percent'] = 1 - (demo_data['White_Percent'] + demo_data['Black_Percent'])\n",
    "demo_data = demo_data[['Under_16_Percent', '65_Over_Percent', 'White_Percent', 'Black_Percent', 'Other_Percent', 'DP0010001',\\\n",
    "                      'geometry', 'GEOID10', 'NAMELSAD10']]"
   ]
  },
  {
   "cell_type": "code",
   "execution_count": 7,
   "metadata": {
    "collapsed": true
   },
   "outputs": [],
   "source": [
    "econ_tracts = []\n",
    "for ix, row in econ_data.iterrows():\n",
    "    ct = row['Geography'].split(',')[0]\n",
    "    econ_tracts.append(ct)\n",
    "\n",
    "econ_data['NAMELSAD10'] = econ_tracts"
   ]
  },
  {
   "cell_type": "code",
   "execution_count": 8,
   "metadata": {},
   "outputs": [],
   "source": [
    "econ_data = econ_data[['NAMELSAD10', \\\n",
    "                       'Estimate; Median household income in the past 12 months (in 2015 Inflation-adjusted dollars)']]\n",
    "econ_data.columns = ['NAMELSAD10', 'Median_Income']"
   ]
  },
  {
   "cell_type": "code",
   "execution_count": 9,
   "metadata": {},
   "outputs": [],
   "source": [
    "demo_ct = pd.merge(demo_data, econ_data, on='NAMELSAD10')"
   ]
  },
  {
   "cell_type": "code",
   "execution_count": 10,
   "metadata": {
    "collapsed": true
   },
   "outputs": [],
   "source": [
    "cts = ['Census Tract 1401', 'Census Tract 1403.01', 'Census Tract 1403.02', 'Census Tract 1404', 'Census Tract 1405', \\\n",
    "       'Census Tract 1960', 'Census Tract 1407.01', 'Census Tract 1408', 'Census Tract 1410', 'Census Tract 1411', \\\n",
    "       'Census Tract 1412', 'Census Tract 1406', 'Census Tract 1407.02', 'Census Tract 1409', 'Census Tract 1413', \\\n",
    "       'Census Tract 1414', 'Census Tract 1415', 'Census Tract 1416.02', 'Census Tract 1416.01', 'Census Tract 1417']\n",
    "demo_ct = demo_ct.loc[demo_ct['NAMELSAD10'].isin(cts)]"
   ]
  },
  {
   "cell_type": "code",
   "execution_count": 11,
   "metadata": {
    "collapsed": true
   },
   "outputs": [],
   "source": [
    "demo_ct.to_file('../Data/processed/shapefiles/CT_Demo_CH.shp')"
   ]
  },
  {
   "cell_type": "code",
   "execution_count": 12,
   "metadata": {
    "collapsed": true
   },
   "outputs": [],
   "source": [
    "demo_ct.to_csv(\"../Data/processed/CT_Demo_Data_CH.csv\")"
   ]
  }
 ],
 "metadata": {
  "anaconda-cloud": {},
  "kernelspec": {
   "display_name": "Python 3",
   "language": "python",
   "name": "python3"
  },
  "language_info": {
   "codemirror_mode": {
    "name": "ipython",
    "version": 2
   },
   "file_extension": ".py",
   "mimetype": "text/x-python",
   "name": "python",
   "nbconvert_exporter": "python",
   "pygments_lexer": "ipython2",
   "version": "2.7.8"
  }
 },
 "nbformat": 4,
 "nbformat_minor": 2
}
