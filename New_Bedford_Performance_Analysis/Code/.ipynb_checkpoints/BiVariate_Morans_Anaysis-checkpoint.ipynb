{
 "cells": [
  {
   "cell_type": "markdown",
   "metadata": {
    "deletable": true,
    "editable": true
   },
   "source": [
    "# New Bedford BiVariate Morans Analysis\n",
    "#### Daniel Fay"
   ]
  },
  {
   "cell_type": "code",
   "execution_count": 48,
   "metadata": {
    "collapsed": true,
    "deletable": true,
    "editable": true
   },
   "outputs": [],
   "source": [
    "# Import necessary packages\n",
    "import pandas as pd\n",
    "import geopandas as gpd\n",
    "import numpy as np\n",
    "import pysal as ps\n",
    "import matplotlib.pyplot as plt\n",
    "import seaborn\n",
    "%matplotlib inline"
   ]
  },
  {
   "cell_type": "code",
   "execution_count": 52,
   "metadata": {
    "collapsed": true,
    "deletable": true,
    "editable": true
   },
   "outputs": [],
   "source": [
    "# Import data\n",
    "crimes = gpd.read_file('../Data/New_Bedford_Police_Shapefiles/police_data_count.shp')\n",
    "codeViolations = gpd.read_file('../Data/New_Bedford_CodeViolation_Shapefiles/code_violation_count.shp')\n",
    "fireDispatch = gpd.read_file('../Data/New_Bedford_Fire_Shapefiles/fireDispatch_count.shp')\n",
    "codeViolations.crs = {'init' :'epsg:4326'}\n",
    "crimes.crs = {'init' :'epsg:4326'}\n",
    "fireDispatch.crs = {'init' :'epsg:4326'}"
   ]
  },
  {
   "cell_type": "code",
   "execution_count": 53,
   "metadata": {
    "collapsed": false,
    "deletable": true,
    "editable": true
   },
   "outputs": [],
   "source": [
    "# Get Counts\n",
    "crimesCount = crimes.Total_Crim\n",
    "cvCount = codeViolations.Code_Viola\n",
    "fdCount = fireDispatch.Dispatch_C"
   ]
  },
  {
   "cell_type": "markdown",
   "metadata": {},
   "source": [
    "#### Crime vs Code Violations"
   ]
  },
  {
   "cell_type": "code",
   "execution_count": 54,
   "metadata": {
    "collapsed": false,
    "deletable": true,
    "editable": true
   },
   "outputs": [],
   "source": [
    "# Import and convert to spatial weigths\n",
    "spatialWeights = ps.queen_from_shapefile('../Data/New_Bedford_Police_Shapefiles/police_data_count.shp')"
   ]
  },
  {
   "cell_type": "code",
   "execution_count": 55,
   "metadata": {
    "collapsed": false
   },
   "outputs": [
    {
     "data": {
      "text/plain": [
       "2142"
      ]
     },
     "execution_count": 55,
     "metadata": {},
     "output_type": "execute_result"
    }
   ],
   "source": [
    "len(crimesCount)"
   ]
  },
  {
   "cell_type": "code",
   "execution_count": 56,
   "metadata": {
    "collapsed": false
   },
   "outputs": [
    {
     "data": {
      "text/plain": [
       "2142"
      ]
     },
     "execution_count": 56,
     "metadata": {},
     "output_type": "execute_result"
    }
   ],
   "source": [
    "len(cvCount)"
   ]
  },
  {
   "cell_type": "code",
   "execution_count": 61,
   "metadata": {
    "collapsed": false,
    "deletable": true,
    "editable": true,
    "scrolled": false
   },
   "outputs": [],
   "source": [
    "# Calculate BiVariate Local Morans I\n",
    "localMorans = ps.Moran_Local_BV(crimesCount, cvCount, spatialWeights, transformation = \"r\", permutations=999)"
   ]
  },
  {
   "cell_type": "code",
   "execution_count": 62,
   "metadata": {
    "collapsed": false,
    "deletable": true,
    "editable": true
   },
   "outputs": [
    {
     "name": "stdout",
     "output_type": "stream",
     "text": [
      "('Number of Hot-Hot spots:', 70)\n",
      "('Number of Cold-Cold spots:', 431)\n",
      "('Number of Hot-Cold spots:', 94)\n",
      "('Number of Cold-Hot spots:', 26)\n"
     ]
    }
   ],
   "source": [
    "sig = localMorans.p_sim < 0.05\n",
    "insig = localMorans.p_sim >= 0.05\n",
    "hot_hot = localMorans.q==1 * sig\n",
    "cold_cold = localMorans.q==3 * sig\n",
    "hot_cold= localMorans.q==2 * sig\n",
    "cold_hot = localMorans.q==4 * sig\n",
    "\n",
    "print (\"Number of Hot-Hot spots:\", hot_hot.sum())\n",
    "print (\"Number of Cold-Cold spots:\", cold_cold.sum())\n",
    "print (\"Number of Hot-Cold spots:\", hot_cold.sum())\n",
    "print (\"Number of Cold-Hot spots:\", cold_hot.sum())"
   ]
  },
  {
   "cell_type": "code",
   "execution_count": 63,
   "metadata": {
    "collapsed": true
   },
   "outputs": [],
   "source": [
    "crimes_codeViolations = crimes.copy()\n",
    "crimes_codeViolations.drop('Total_Crim', axis=1, inplace=True)"
   ]
  },
  {
   "cell_type": "code",
   "execution_count": 64,
   "metadata": {
    "collapsed": false,
    "deletable": true,
    "editable": true
   },
   "outputs": [
    {
     "data": {
      "text/html": [
       "<div>\n",
       "<table border=\"1\" class=\"dataframe\">\n",
       "  <thead>\n",
       "    <tr style=\"text-align: right;\">\n",
       "      <th></th>\n",
       "      <th>Census_Blo</th>\n",
       "      <th>POP100_RE</th>\n",
       "      <th>geometry</th>\n",
       "      <th>hot_hot</th>\n",
       "      <th>hot_cold</th>\n",
       "      <th>cold_cold</th>\n",
       "      <th>cold_hot</th>\n",
       "      <th>insig</th>\n",
       "      <th>localMorans</th>\n",
       "    </tr>\n",
       "  </thead>\n",
       "  <tbody>\n",
       "    <tr>\n",
       "      <th>0</th>\n",
       "      <td>250056171021013</td>\n",
       "      <td>72.000000</td>\n",
       "      <td>(POLYGON ((-70.95984800019771 41.7366410001081...</td>\n",
       "      <td>0</td>\n",
       "      <td>0</td>\n",
       "      <td>0</td>\n",
       "      <td>0</td>\n",
       "      <td>1</td>\n",
       "      <td>0.047550</td>\n",
       "    </tr>\n",
       "    <tr>\n",
       "      <th>1</th>\n",
       "      <td>250056171021016</td>\n",
       "      <td>46.040616</td>\n",
       "      <td>POLYGON ((-70.95780399985108 41.73761400012589...</td>\n",
       "      <td>0</td>\n",
       "      <td>0</td>\n",
       "      <td>0</td>\n",
       "      <td>0</td>\n",
       "      <td>1</td>\n",
       "      <td>0.068361</td>\n",
       "    </tr>\n",
       "    <tr>\n",
       "      <th>2</th>\n",
       "      <td>250056171021031</td>\n",
       "      <td>52.000000</td>\n",
       "      <td>POLYGON ((-70.96464899953735 41.7343540000299,...</td>\n",
       "      <td>0</td>\n",
       "      <td>0</td>\n",
       "      <td>0</td>\n",
       "      <td>0</td>\n",
       "      <td>1</td>\n",
       "      <td>0.028539</td>\n",
       "    </tr>\n",
       "    <tr>\n",
       "      <th>3</th>\n",
       "      <td>250056171021040</td>\n",
       "      <td>46.040616</td>\n",
       "      <td>POLYGON ((-70.96246599952241 41.73538299970159...</td>\n",
       "      <td>0</td>\n",
       "      <td>0</td>\n",
       "      <td>0</td>\n",
       "      <td>0</td>\n",
       "      <td>1</td>\n",
       "      <td>0.047550</td>\n",
       "    </tr>\n",
       "    <tr>\n",
       "      <th>4</th>\n",
       "      <td>250056171022048</td>\n",
       "      <td>180.000000</td>\n",
       "      <td>(POLYGON ((-70.95708811558701 41.7379553042584...</td>\n",
       "      <td>0</td>\n",
       "      <td>0</td>\n",
       "      <td>0</td>\n",
       "      <td>0</td>\n",
       "      <td>1</td>\n",
       "      <td>0.063223</td>\n",
       "    </tr>\n",
       "  </tbody>\n",
       "</table>\n",
       "</div>"
      ],
      "text/plain": [
       "        Census_Blo   POP100_RE  \\\n",
       "0  250056171021013   72.000000   \n",
       "1  250056171021016   46.040616   \n",
       "2  250056171021031   52.000000   \n",
       "3  250056171021040   46.040616   \n",
       "4  250056171022048  180.000000   \n",
       "\n",
       "                                            geometry  hot_hot  hot_cold  \\\n",
       "0  (POLYGON ((-70.95984800019771 41.7366410001081...        0         0   \n",
       "1  POLYGON ((-70.95780399985108 41.73761400012589...        0         0   \n",
       "2  POLYGON ((-70.96464899953735 41.7343540000299,...        0         0   \n",
       "3  POLYGON ((-70.96246599952241 41.73538299970159...        0         0   \n",
       "4  (POLYGON ((-70.95708811558701 41.7379553042584...        0         0   \n",
       "\n",
       "   cold_cold  cold_hot  insig  localMorans  \n",
       "0          0         0      1     0.047550  \n",
       "1          0         0      1     0.068361  \n",
       "2          0         0      1     0.028539  \n",
       "3          0         0      1     0.047550  \n",
       "4          0         0      1     0.063223  "
      ]
     },
     "execution_count": 64,
     "metadata": {},
     "output_type": "execute_result"
    }
   ],
   "source": [
    "crimes_codeViolations['hot_hot'] = hot_hot.astype(int)\n",
    "crimes_codeViolations['hot_cold'] = hot_cold.astype(int)\n",
    "crimes_codeViolations['cold_cold'] = cold_cold.astype(int)\n",
    "crimes_codeViolations['cold_hot'] = cold_hot.astype(int)\n",
    "crimes_codeViolations['insig'] = insig.astype(int)\n",
    "crimes_codeViolations['localMorans'] = localMorans.Is\n",
    "crimes_codeViolations.head()"
   ]
  },
  {
   "cell_type": "code",
   "execution_count": 65,
   "metadata": {
    "collapsed": true
   },
   "outputs": [],
   "source": [
    "crimes_codeViolations.to_file('../Data/BiVariate_Analysis_Shapefiles/crimes_codeViolations_hot_cold_spots.shp')"
   ]
  },
  {
   "cell_type": "markdown",
   "metadata": {},
   "source": [
    "#### Crime vs Fire Dispatch"
   ]
  },
  {
   "cell_type": "code",
   "execution_count": 66,
   "metadata": {
    "collapsed": true
   },
   "outputs": [],
   "source": [
    "# Import and convert to spatial weigths\n",
    "spatialWeights = ps.queen_from_shapefile('../Data/New_Bedford_Police_Shapefiles/police_data_count.shp')"
   ]
  },
  {
   "cell_type": "code",
   "execution_count": 67,
   "metadata": {
    "collapsed": false
   },
   "outputs": [
    {
     "data": {
      "text/plain": [
       "2142"
      ]
     },
     "execution_count": 67,
     "metadata": {},
     "output_type": "execute_result"
    }
   ],
   "source": [
    "len(crimesCount)"
   ]
  },
  {
   "cell_type": "code",
   "execution_count": 68,
   "metadata": {
    "collapsed": false
   },
   "outputs": [
    {
     "data": {
      "text/plain": [
       "2142"
      ]
     },
     "execution_count": 68,
     "metadata": {},
     "output_type": "execute_result"
    }
   ],
   "source": [
    "len(fdCount)"
   ]
  },
  {
   "cell_type": "code",
   "execution_count": 69,
   "metadata": {
    "collapsed": false
   },
   "outputs": [
    {
     "name": "stdout",
     "output_type": "stream",
     "text": [
      "('WARNING: ', 1462, ' is an island (no neighbors)')\n"
     ]
    }
   ],
   "source": [
    "# Calculate BiVariate Local Morans I\n",
    "localMorans = ps.Moran_Local_BV(crimesCount, fdCount, spatialWeights, transformation = \"r\", permutations=999)"
   ]
  },
  {
   "cell_type": "code",
   "execution_count": 70,
   "metadata": {
    "collapsed": false
   },
   "outputs": [
    {
     "name": "stdout",
     "output_type": "stream",
     "text": [
      "('Number of Hot-Hot spots:', 12)\n",
      "('Number of Cold-Cold spots:', 587)\n",
      "('Number of Hot-Cold spots:', 123)\n",
      "('Number of Cold-Hot spots:', 91)\n"
     ]
    }
   ],
   "source": [
    "sig = localMorans.p_sim < 0.05\n",
    "insig = localMorans.p_sim >= 0.05\n",
    "hot_hot = localMorans.q==1 * sig\n",
    "cold_cold = localMorans.q==3 * sig\n",
    "hot_cold= localMorans.q==2 * sig\n",
    "cold_hot = localMorans.q==4 * sig\n",
    "\n",
    "print (\"Number of Hot-Hot spots:\", hot_hot.sum())\n",
    "print (\"Number of Cold-Cold spots:\", cold_cold.sum())\n",
    "print (\"Number of Hot-Cold spots:\", hot_cold.sum())\n",
    "print (\"Number of Cold-Hot spots:\", cold_hot.sum())"
   ]
  },
  {
   "cell_type": "code",
   "execution_count": 71,
   "metadata": {
    "collapsed": true
   },
   "outputs": [],
   "source": [
    "crimes_fireDispatch = crimes.copy()\n",
    "crimes_fireDispatch.drop('Total_Crim', axis=1, inplace=True)"
   ]
  },
  {
   "cell_type": "code",
   "execution_count": 72,
   "metadata": {
    "collapsed": false
   },
   "outputs": [
    {
     "data": {
      "text/html": [
       "<div>\n",
       "<table border=\"1\" class=\"dataframe\">\n",
       "  <thead>\n",
       "    <tr style=\"text-align: right;\">\n",
       "      <th></th>\n",
       "      <th>Census_Blo</th>\n",
       "      <th>POP100_RE</th>\n",
       "      <th>geometry</th>\n",
       "      <th>hot_hot</th>\n",
       "      <th>hot_cold</th>\n",
       "      <th>cold_cold</th>\n",
       "      <th>cold_hot</th>\n",
       "      <th>insig</th>\n",
       "      <th>localMorans</th>\n",
       "    </tr>\n",
       "  </thead>\n",
       "  <tbody>\n",
       "    <tr>\n",
       "      <th>0</th>\n",
       "      <td>250056171021013</td>\n",
       "      <td>72.000000</td>\n",
       "      <td>(POLYGON ((-70.95984800019771 41.7366410001081...</td>\n",
       "      <td>0</td>\n",
       "      <td>0</td>\n",
       "      <td>0</td>\n",
       "      <td>0</td>\n",
       "      <td>1</td>\n",
       "      <td>-0.049552</td>\n",
       "    </tr>\n",
       "    <tr>\n",
       "      <th>1</th>\n",
       "      <td>250056171021016</td>\n",
       "      <td>46.040616</td>\n",
       "      <td>POLYGON ((-70.95780399985108 41.73761400012589...</td>\n",
       "      <td>0</td>\n",
       "      <td>1</td>\n",
       "      <td>0</td>\n",
       "      <td>0</td>\n",
       "      <td>0</td>\n",
       "      <td>-0.273346</td>\n",
       "    </tr>\n",
       "    <tr>\n",
       "      <th>2</th>\n",
       "      <td>250056171021031</td>\n",
       "      <td>52.000000</td>\n",
       "      <td>POLYGON ((-70.96464899953735 41.7343540000299,...</td>\n",
       "      <td>0</td>\n",
       "      <td>0</td>\n",
       "      <td>0</td>\n",
       "      <td>0</td>\n",
       "      <td>1</td>\n",
       "      <td>-0.052551</td>\n",
       "    </tr>\n",
       "    <tr>\n",
       "      <th>3</th>\n",
       "      <td>250056171021040</td>\n",
       "      <td>46.040616</td>\n",
       "      <td>POLYGON ((-70.96246599952241 41.73538299970159...</td>\n",
       "      <td>0</td>\n",
       "      <td>1</td>\n",
       "      <td>0</td>\n",
       "      <td>0</td>\n",
       "      <td>0</td>\n",
       "      <td>-0.183616</td>\n",
       "    </tr>\n",
       "    <tr>\n",
       "      <th>4</th>\n",
       "      <td>250056171022048</td>\n",
       "      <td>180.000000</td>\n",
       "      <td>(POLYGON ((-70.95708811558701 41.7379553042584...</td>\n",
       "      <td>0</td>\n",
       "      <td>1</td>\n",
       "      <td>0</td>\n",
       "      <td>0</td>\n",
       "      <td>0</td>\n",
       "      <td>-0.155185</td>\n",
       "    </tr>\n",
       "  </tbody>\n",
       "</table>\n",
       "</div>"
      ],
      "text/plain": [
       "        Census_Blo   POP100_RE  \\\n",
       "0  250056171021013   72.000000   \n",
       "1  250056171021016   46.040616   \n",
       "2  250056171021031   52.000000   \n",
       "3  250056171021040   46.040616   \n",
       "4  250056171022048  180.000000   \n",
       "\n",
       "                                            geometry  hot_hot  hot_cold  \\\n",
       "0  (POLYGON ((-70.95984800019771 41.7366410001081...        0         0   \n",
       "1  POLYGON ((-70.95780399985108 41.73761400012589...        0         1   \n",
       "2  POLYGON ((-70.96464899953735 41.7343540000299,...        0         0   \n",
       "3  POLYGON ((-70.96246599952241 41.73538299970159...        0         1   \n",
       "4  (POLYGON ((-70.95708811558701 41.7379553042584...        0         1   \n",
       "\n",
       "   cold_cold  cold_hot  insig  localMorans  \n",
       "0          0         0      1    -0.049552  \n",
       "1          0         0      0    -0.273346  \n",
       "2          0         0      1    -0.052551  \n",
       "3          0         0      0    -0.183616  \n",
       "4          0         0      0    -0.155185  "
      ]
     },
     "execution_count": 72,
     "metadata": {},
     "output_type": "execute_result"
    }
   ],
   "source": [
    "crimes_fireDispatch['hot_hot'] = hot_hot.astype(int)\n",
    "crimes_fireDispatch['hot_cold'] = hot_cold.astype(int)\n",
    "crimes_fireDispatch['cold_cold'] = cold_cold.astype(int)\n",
    "crimes_fireDispatch['cold_hot'] = cold_hot.astype(int)\n",
    "crimes_fireDispatch['insig'] = insig.astype(int)\n",
    "crimes_fireDispatch['localMorans'] = localMorans.Is\n",
    "crimes_fireDispatch.head()"
   ]
  },
  {
   "cell_type": "code",
   "execution_count": 73,
   "metadata": {
    "collapsed": true
   },
   "outputs": [],
   "source": [
    "crimes_fireDispatch.to_file('../Data/BiVariate_Analysis_Shapefiles/crimes_fireDispatch_hot_cold_spots.shp')"
   ]
  },
  {
   "cell_type": "markdown",
   "metadata": {},
   "source": [
    "#### Fire Dispatch vs Code Violations"
   ]
  },
  {
   "cell_type": "code",
   "execution_count": 74,
   "metadata": {
    "collapsed": false
   },
   "outputs": [
    {
     "name": "stderr",
     "output_type": "stream",
     "text": [
      "/Users/Danny1/anaconda/lib/python2.7/site-packages/pysal/weights/weights.py:187: UserWarning: Island id: 1955\n",
      "  warnings.warn(\"Island id: %s\" % str(self.islands[0]))\n"
     ]
    }
   ],
   "source": [
    "# Import and convert to spatial weigths\n",
    "spatialWeights = ps.queen_from_shapefile('../Data/New_Bedford_Fire_Shapefiles/fireDispatch_count.shp')"
   ]
  },
  {
   "cell_type": "code",
   "execution_count": 75,
   "metadata": {
    "collapsed": false
   },
   "outputs": [
    {
     "name": "stdout",
     "output_type": "stream",
     "text": [
      "('WARNING: ', 1955, ' is an island (no neighbors)')\n"
     ]
    }
   ],
   "source": [
    "# Calculate BiVariate Local Morans I\n",
    "localMorans = ps.Moran_Local_BV(crimesCount, fdCount, spatialWeights, transformation = \"r\", permutations=999)"
   ]
  },
  {
   "cell_type": "code",
   "execution_count": 76,
   "metadata": {
    "collapsed": false
   },
   "outputs": [
    {
     "name": "stdout",
     "output_type": "stream",
     "text": [
      "('Number of Hot-Hot spots:', 21)\n",
      "('Number of Cold-Cold spots:', 260)\n",
      "('Number of Hot-Cold spots:', 135)\n",
      "('Number of Cold-Hot spots:', 28)\n"
     ]
    }
   ],
   "source": [
    "sig = localMorans.p_sim < 0.05\n",
    "insig = localMorans.p_sim >= 0.05\n",
    "hot_hot = localMorans.q==1 * sig\n",
    "cold_cold = localMorans.q==3 * sig\n",
    "hot_cold= localMorans.q==2 * sig\n",
    "cold_hot = localMorans.q==4 * sig\n",
    "\n",
    "print (\"Number of Hot-Hot spots:\", hot_hot.sum())\n",
    "print (\"Number of Cold-Cold spots:\", cold_cold.sum())\n",
    "print (\"Number of Hot-Cold spots:\", hot_cold.sum())\n",
    "print (\"Number of Cold-Hot spots:\", cold_hot.sum())"
   ]
  },
  {
   "cell_type": "code",
   "execution_count": 77,
   "metadata": {
    "collapsed": true
   },
   "outputs": [],
   "source": [
    "fireDispatch_codeViolations = codeViolations.copy()\n",
    "fireDispatch_codeViolations.drop('Code_Viola', axis=1, inplace=True)"
   ]
  },
  {
   "cell_type": "code",
   "execution_count": 78,
   "metadata": {
    "collapsed": false
   },
   "outputs": [
    {
     "data": {
      "text/html": [
       "<div>\n",
       "<table border=\"1\" class=\"dataframe\">\n",
       "  <thead>\n",
       "    <tr style=\"text-align: right;\">\n",
       "      <th></th>\n",
       "      <th>Census_Tra</th>\n",
       "      <th>geometry</th>\n",
       "      <th>hot_hot</th>\n",
       "      <th>hot_cold</th>\n",
       "      <th>cold_cold</th>\n",
       "      <th>cold_hot</th>\n",
       "      <th>insig</th>\n",
       "      <th>localMorans</th>\n",
       "    </tr>\n",
       "  </thead>\n",
       "  <tbody>\n",
       "    <tr>\n",
       "      <th>0</th>\n",
       "      <td>250056171021013</td>\n",
       "      <td>(POLYGON ((-70.95984800019771 41.7366410001081...</td>\n",
       "      <td>0</td>\n",
       "      <td>0</td>\n",
       "      <td>0</td>\n",
       "      <td>0</td>\n",
       "      <td>1</td>\n",
       "      <td>-0.017003</td>\n",
       "    </tr>\n",
       "    <tr>\n",
       "      <th>1</th>\n",
       "      <td>250056171021016</td>\n",
       "      <td>POLYGON ((-70.95780399985108 41.73761400012589...</td>\n",
       "      <td>0</td>\n",
       "      <td>0</td>\n",
       "      <td>0</td>\n",
       "      <td>0</td>\n",
       "      <td>1</td>\n",
       "      <td>-0.022598</td>\n",
       "    </tr>\n",
       "    <tr>\n",
       "      <th>2</th>\n",
       "      <td>250056171021031</td>\n",
       "      <td>POLYGON ((-70.96464899953735 41.7343540000299,...</td>\n",
       "      <td>0</td>\n",
       "      <td>0</td>\n",
       "      <td>0</td>\n",
       "      <td>0</td>\n",
       "      <td>1</td>\n",
       "      <td>0.009713</td>\n",
       "    </tr>\n",
       "    <tr>\n",
       "      <th>3</th>\n",
       "      <td>250056171021040</td>\n",
       "      <td>POLYGON ((-70.96246599952241 41.73538299970159...</td>\n",
       "      <td>0</td>\n",
       "      <td>0</td>\n",
       "      <td>0</td>\n",
       "      <td>0</td>\n",
       "      <td>1</td>\n",
       "      <td>-0.012258</td>\n",
       "    </tr>\n",
       "    <tr>\n",
       "      <th>4</th>\n",
       "      <td>250056171022048</td>\n",
       "      <td>(POLYGON ((-70.95708811558701 41.7379553042584...</td>\n",
       "      <td>0</td>\n",
       "      <td>0</td>\n",
       "      <td>0</td>\n",
       "      <td>0</td>\n",
       "      <td>1</td>\n",
       "      <td>0.014282</td>\n",
       "    </tr>\n",
       "  </tbody>\n",
       "</table>\n",
       "</div>"
      ],
      "text/plain": [
       "        Census_Tra                                           geometry  \\\n",
       "0  250056171021013  (POLYGON ((-70.95984800019771 41.7366410001081...   \n",
       "1  250056171021016  POLYGON ((-70.95780399985108 41.73761400012589...   \n",
       "2  250056171021031  POLYGON ((-70.96464899953735 41.7343540000299,...   \n",
       "3  250056171021040  POLYGON ((-70.96246599952241 41.73538299970159...   \n",
       "4  250056171022048  (POLYGON ((-70.95708811558701 41.7379553042584...   \n",
       "\n",
       "   hot_hot  hot_cold  cold_cold  cold_hot  insig  localMorans  \n",
       "0        0         0          0         0      1    -0.017003  \n",
       "1        0         0          0         0      1    -0.022598  \n",
       "2        0         0          0         0      1     0.009713  \n",
       "3        0         0          0         0      1    -0.012258  \n",
       "4        0         0          0         0      1     0.014282  "
      ]
     },
     "execution_count": 78,
     "metadata": {},
     "output_type": "execute_result"
    }
   ],
   "source": [
    "fireDispatch_codeViolations['hot_hot'] = hot_hot.astype(int)\n",
    "fireDispatch_codeViolations['hot_cold'] = hot_cold.astype(int)\n",
    "fireDispatch_codeViolations['cold_cold'] = cold_cold.astype(int)\n",
    "fireDispatch_codeViolations['cold_hot'] = cold_hot.astype(int)\n",
    "fireDispatch_codeViolations['insig'] = insig.astype(int)\n",
    "fireDispatch_codeViolations['localMorans'] = localMorans.Is\n",
    "fireDispatch_codeViolations.head()"
   ]
  },
  {
   "cell_type": "code",
   "execution_count": 79,
   "metadata": {
    "collapsed": true
   },
   "outputs": [],
   "source": [
    "fireDispatch_codeViolations.to_file('../Data/BiVariate_Analysis_Shapefiles/fireDispatch_codeViolations_hot_cold_spots.shp')"
   ]
  },
  {
   "cell_type": "code",
   "execution_count": null,
   "metadata": {
    "collapsed": true
   },
   "outputs": [],
   "source": []
  },
  {
   "cell_type": "code",
   "execution_count": null,
   "metadata": {
    "collapsed": true
   },
   "outputs": [],
   "source": []
  }
 ],
 "metadata": {
  "anaconda-cloud": {},
  "kernelspec": {
   "display_name": "Python [default]",
   "language": "python",
   "name": "python2"
  },
  "language_info": {
   "codemirror_mode": {
    "name": "ipython",
    "version": 2
   },
   "file_extension": ".py",
   "mimetype": "text/x-python",
   "name": "python",
   "nbconvert_exporter": "python",
   "pygments_lexer": "ipython2",
   "version": "2.7.8"
  }
 },
 "nbformat": 4,
 "nbformat_minor": 2
}
