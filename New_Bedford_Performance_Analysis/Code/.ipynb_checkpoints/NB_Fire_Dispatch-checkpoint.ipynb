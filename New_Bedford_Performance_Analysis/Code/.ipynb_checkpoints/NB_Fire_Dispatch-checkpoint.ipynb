{
 "cells": [
  {
   "cell_type": "markdown",
   "metadata": {},
   "source": [
    "# New Bedford Fire Dispatch Analysis\n",
    "#### Daniel Fay"
   ]
  },
  {
   "cell_type": "code",
   "execution_count": 129,
   "metadata": {
    "collapsed": true
   },
   "outputs": [],
   "source": [
    "# Import necessary packages\n",
    "import pandas as pd\n",
    "import geopandas as gpd\n",
    "import numpy as np\n",
    "import datetime as dt\n",
    "import matplotlib.pyplot as plt\n",
    "import seaborn\n",
    "%matplotlib inline"
   ]
  },
  {
   "cell_type": "code",
   "execution_count": 177,
   "metadata": {
    "collapsed": false
   },
   "outputs": [],
   "source": [
    "# Import data\n",
    "fireDispatch_June = pd.read_excel('../Data/Fire_Dispatch_2016_January-June.xlsx')\n",
    "fireDispatch_Dec = pd.read_excel('../Data/Fire_Dispatch_2016_July-December.xlsx')"
   ]
  },
  {
   "cell_type": "code",
   "execution_count": 178,
   "metadata": {
    "collapsed": false
   },
   "outputs": [],
   "source": [
    "fireDispatch = fireDispatch_June.append(fireDispatch_Dec)\n"
   ]
  },
  {
   "cell_type": "markdown",
   "metadata": {},
   "source": [
    "#### Calculate Average Dispatch Duration"
   ]
  },
  {
   "cell_type": "code",
   "execution_count": 179,
   "metadata": {
    "collapsed": false
   },
   "outputs": [],
   "source": [
    "fireDispatch.CallTime = fireDispatch['CallTime'].astype(str).str.zfill(4)\n",
    "fireDispatch.ClosedTime = fireDispatch['ClosedTime'].astype(str).str.zfill(4)"
   ]
  },
  {
   "cell_type": "code",
   "execution_count": 180,
   "metadata": {
    "collapsed": false
   },
   "outputs": [],
   "source": [
    "fireDispatch['CallTime'] = fireDispatch.CallDate.astype(str) + ' ' + fireDispatch.CallTime.astype(str)\n",
    "fireDispatch['CallTime'] = pd.to_datetime(fireDispatch['CallTime'], format='%Y%m%d %H%M')\n",
    "fireDispatch['ClosedTime'] = fireDispatch.ClosedDate.astype(str) + ' ' + fireDispatch.ClosedTime.astype(str)\n",
    "fireDispatch['ClosedTime'] = pd.to_datetime(fireDispatch['ClosedTime'], format='%Y%m%d %H%M')"
   ]
  },
  {
   "cell_type": "code",
   "execution_count": 181,
   "metadata": {
    "collapsed": true
   },
   "outputs": [],
   "source": [
    "fireDispatch = fireDispatch[['CallTime', 'ReasonText', 'StreetNum', 'StreetName', 'StreetSuf', \\\n",
    "                            'ClosedTime']]\n",
    "fireDispatch.dropna(inplace=True)"
   ]
  },
  {
   "cell_type": "code",
   "execution_count": 182,
   "metadata": {
    "collapsed": false
   },
   "outputs": [
    {
     "data": {
      "text/html": [
       "<div>\n",
       "<table border=\"1\" class=\"dataframe\">\n",
       "  <thead>\n",
       "    <tr style=\"text-align: right;\">\n",
       "      <th></th>\n",
       "      <th>CallTime</th>\n",
       "      <th>ReasonText</th>\n",
       "      <th>StreetNum</th>\n",
       "      <th>StreetName</th>\n",
       "      <th>StreetSuf</th>\n",
       "      <th>ClosedTime</th>\n",
       "    </tr>\n",
       "  </thead>\n",
       "  <tbody>\n",
       "    <tr>\n",
       "      <th>0</th>\n",
       "      <td>2016-01-01 01:34:00</td>\n",
       "      <td>Fire - Auto Accident</td>\n",
       "      <td>88</td>\n",
       "      <td>ARLINGTON</td>\n",
       "      <td>ST</td>\n",
       "      <td>2016-01-01 02:01:00</td>\n",
       "    </tr>\n",
       "    <tr>\n",
       "      <th>1</th>\n",
       "      <td>2016-01-01 01:55:00</td>\n",
       "      <td>Fire - Medical</td>\n",
       "      <td>214</td>\n",
       "      <td>SAWYER</td>\n",
       "      <td>ST</td>\n",
       "      <td>2016-01-01 02:09:00</td>\n",
       "    </tr>\n",
       "    <tr>\n",
       "      <th>2</th>\n",
       "      <td>2016-01-01 01:57:00</td>\n",
       "      <td>Fire - Medical</td>\n",
       "      <td>8</td>\n",
       "      <td>GRANFIELD</td>\n",
       "      <td>ST</td>\n",
       "      <td>2016-01-01 02:13:00</td>\n",
       "    </tr>\n",
       "    <tr>\n",
       "      <th>3</th>\n",
       "      <td>2016-01-01 02:07:00</td>\n",
       "      <td>Fire - Medical</td>\n",
       "      <td>34</td>\n",
       "      <td>UNION</td>\n",
       "      <td>ST</td>\n",
       "      <td>2016-01-01 02:28:00</td>\n",
       "    </tr>\n",
       "    <tr>\n",
       "      <th>4</th>\n",
       "      <td>2016-01-01 02:16:00</td>\n",
       "      <td>Fire - Medical</td>\n",
       "      <td>335</td>\n",
       "      <td>COGGESHALL</td>\n",
       "      <td>ST</td>\n",
       "      <td>2016-01-01 02:45:00</td>\n",
       "    </tr>\n",
       "  </tbody>\n",
       "</table>\n",
       "</div>"
      ],
      "text/plain": [
       "             CallTime            ReasonText StreetNum  StreetName StreetSuf  \\\n",
       "0 2016-01-01 01:34:00  Fire - Auto Accident        88   ARLINGTON        ST   \n",
       "1 2016-01-01 01:55:00        Fire - Medical       214      SAWYER        ST   \n",
       "2 2016-01-01 01:57:00        Fire - Medical         8   GRANFIELD        ST   \n",
       "3 2016-01-01 02:07:00        Fire - Medical        34       UNION        ST   \n",
       "4 2016-01-01 02:16:00        Fire - Medical       335  COGGESHALL        ST   \n",
       "\n",
       "           ClosedTime  \n",
       "0 2016-01-01 02:01:00  \n",
       "1 2016-01-01 02:09:00  \n",
       "2 2016-01-01 02:13:00  \n",
       "3 2016-01-01 02:28:00  \n",
       "4 2016-01-01 02:45:00  "
      ]
     },
     "execution_count": 182,
     "metadata": {},
     "output_type": "execute_result"
    }
   ],
   "source": [
    "fireDispatch.head()"
   ]
  },
  {
   "cell_type": "code",
   "execution_count": 183,
   "metadata": {
    "collapsed": false
   },
   "outputs": [
    {
     "data": {
      "text/html": [
       "<div>\n",
       "<table border=\"1\" class=\"dataframe\">\n",
       "  <thead>\n",
       "    <tr style=\"text-align: right;\">\n",
       "      <th></th>\n",
       "      <th>CallTime</th>\n",
       "      <th>ReasonText</th>\n",
       "      <th>StreetNum</th>\n",
       "      <th>StreetName</th>\n",
       "      <th>StreetSuf</th>\n",
       "      <th>ClosedTime</th>\n",
       "      <th>DispatchDuration</th>\n",
       "    </tr>\n",
       "  </thead>\n",
       "  <tbody>\n",
       "    <tr>\n",
       "      <th>0</th>\n",
       "      <td>2016-01-01 01:34:00</td>\n",
       "      <td>Fire - Auto Accident</td>\n",
       "      <td>88</td>\n",
       "      <td>ARLINGTON</td>\n",
       "      <td>ST</td>\n",
       "      <td>2016-01-01 02:01:00</td>\n",
       "      <td>00:27:00</td>\n",
       "    </tr>\n",
       "    <tr>\n",
       "      <th>1</th>\n",
       "      <td>2016-01-01 01:55:00</td>\n",
       "      <td>Fire - Medical</td>\n",
       "      <td>214</td>\n",
       "      <td>SAWYER</td>\n",
       "      <td>ST</td>\n",
       "      <td>2016-01-01 02:09:00</td>\n",
       "      <td>00:14:00</td>\n",
       "    </tr>\n",
       "    <tr>\n",
       "      <th>2</th>\n",
       "      <td>2016-01-01 01:57:00</td>\n",
       "      <td>Fire - Medical</td>\n",
       "      <td>8</td>\n",
       "      <td>GRANFIELD</td>\n",
       "      <td>ST</td>\n",
       "      <td>2016-01-01 02:13:00</td>\n",
       "      <td>00:16:00</td>\n",
       "    </tr>\n",
       "    <tr>\n",
       "      <th>3</th>\n",
       "      <td>2016-01-01 02:07:00</td>\n",
       "      <td>Fire - Medical</td>\n",
       "      <td>34</td>\n",
       "      <td>UNION</td>\n",
       "      <td>ST</td>\n",
       "      <td>2016-01-01 02:28:00</td>\n",
       "      <td>00:21:00</td>\n",
       "    </tr>\n",
       "    <tr>\n",
       "      <th>4</th>\n",
       "      <td>2016-01-01 02:16:00</td>\n",
       "      <td>Fire - Medical</td>\n",
       "      <td>335</td>\n",
       "      <td>COGGESHALL</td>\n",
       "      <td>ST</td>\n",
       "      <td>2016-01-01 02:45:00</td>\n",
       "      <td>00:29:00</td>\n",
       "    </tr>\n",
       "  </tbody>\n",
       "</table>\n",
       "</div>"
      ],
      "text/plain": [
       "             CallTime            ReasonText StreetNum  StreetName StreetSuf  \\\n",
       "0 2016-01-01 01:34:00  Fire - Auto Accident        88   ARLINGTON        ST   \n",
       "1 2016-01-01 01:55:00        Fire - Medical       214      SAWYER        ST   \n",
       "2 2016-01-01 01:57:00        Fire - Medical         8   GRANFIELD        ST   \n",
       "3 2016-01-01 02:07:00        Fire - Medical        34       UNION        ST   \n",
       "4 2016-01-01 02:16:00        Fire - Medical       335  COGGESHALL        ST   \n",
       "\n",
       "           ClosedTime  DispatchDuration  \n",
       "0 2016-01-01 02:01:00          00:27:00  \n",
       "1 2016-01-01 02:09:00          00:14:00  \n",
       "2 2016-01-01 02:13:00          00:16:00  \n",
       "3 2016-01-01 02:28:00          00:21:00  \n",
       "4 2016-01-01 02:45:00          00:29:00  "
      ]
     },
     "execution_count": 183,
     "metadata": {},
     "output_type": "execute_result"
    }
   ],
   "source": [
    "fireDispatch['DispatchDuration'] = fireDispatch.ClosedTime - fireDispatch.CallTime\n",
    "#fireDispatch['DispatchDuration'] = fireDispatch['DispatchDuration'].astype(int)\n",
    "fireDispatch.head()"
   ]
  },
  {
   "cell_type": "code",
   "execution_count": 184,
   "metadata": {
    "collapsed": false
   },
   "outputs": [],
   "source": [
    "fireDispatch = fireDispatch.loc[fireDispatch['DispatchDuration'] > pd.Timedelta(0, unit='m')]"
   ]
  },
  {
   "cell_type": "code",
   "execution_count": 185,
   "metadata": {
    "collapsed": false
   },
   "outputs": [
    {
     "data": {
      "text/html": [
       "<div>\n",
       "<table border=\"1\" class=\"dataframe\">\n",
       "  <thead>\n",
       "    <tr style=\"text-align: right;\">\n",
       "      <th></th>\n",
       "      <th>DispatchDuration</th>\n",
       "    </tr>\n",
       "  </thead>\n",
       "  <tbody>\n",
       "    <tr>\n",
       "      <th>count</th>\n",
       "      <td>19147</td>\n",
       "    </tr>\n",
       "    <tr>\n",
       "      <th>mean</th>\n",
       "      <td>0 days 00:22:13.835065</td>\n",
       "    </tr>\n",
       "    <tr>\n",
       "      <th>std</th>\n",
       "      <td>0 days 00:24:55.212980</td>\n",
       "    </tr>\n",
       "    <tr>\n",
       "      <th>min</th>\n",
       "      <td>0 days 00:01:00</td>\n",
       "    </tr>\n",
       "    <tr>\n",
       "      <th>25%</th>\n",
       "      <td>0 days 00:11:00</td>\n",
       "    </tr>\n",
       "    <tr>\n",
       "      <th>50%</th>\n",
       "      <td>0 days 00:16:00</td>\n",
       "    </tr>\n",
       "    <tr>\n",
       "      <th>75%</th>\n",
       "      <td>0 days 00:24:00</td>\n",
       "    </tr>\n",
       "    <tr>\n",
       "      <th>max</th>\n",
       "      <td>0 days 09:22:00</td>\n",
       "    </tr>\n",
       "  </tbody>\n",
       "</table>\n",
       "</div>"
      ],
      "text/plain": [
       "             DispatchDuration\n",
       "count                   19147\n",
       "mean   0 days 00:22:13.835065\n",
       "std    0 days 00:24:55.212980\n",
       "min           0 days 00:01:00\n",
       "25%           0 days 00:11:00\n",
       "50%           0 days 00:16:00\n",
       "75%           0 days 00:24:00\n",
       "max           0 days 09:22:00"
      ]
     },
     "execution_count": 185,
     "metadata": {},
     "output_type": "execute_result"
    }
   ],
   "source": [
    "fireDispatch.describe()"
   ]
  },
  {
   "cell_type": "markdown",
   "metadata": {},
   "source": [
    "#### Find top 10 dispatch types"
   ]
  },
  {
   "cell_type": "code",
   "execution_count": 186,
   "metadata": {
    "collapsed": false
   },
   "outputs": [
    {
     "data": {
      "text/html": [
       "<div>\n",
       "<table border=\"1\" class=\"dataframe\">\n",
       "  <thead>\n",
       "    <tr style=\"text-align: right;\">\n",
       "      <th></th>\n",
       "      <th>Count</th>\n",
       "    </tr>\n",
       "    <tr>\n",
       "      <th>ReasonText</th>\n",
       "      <th></th>\n",
       "    </tr>\n",
       "  </thead>\n",
       "  <tbody>\n",
       "    <tr>\n",
       "      <th>Fire - Medical</th>\n",
       "      <td>11476</td>\n",
       "    </tr>\n",
       "    <tr>\n",
       "      <th>Fire - Fire Alarm</th>\n",
       "      <td>2126</td>\n",
       "    </tr>\n",
       "    <tr>\n",
       "      <th>Fire - Inspection</th>\n",
       "      <td>1905</td>\n",
       "    </tr>\n",
       "    <tr>\n",
       "      <th>Fire - Auto Accident</th>\n",
       "      <td>707</td>\n",
       "    </tr>\n",
       "    <tr>\n",
       "      <th>Fire - Pre Plan</th>\n",
       "      <td>542</td>\n",
       "    </tr>\n",
       "    <tr>\n",
       "      <th>Fire - Structure</th>\n",
       "      <td>340</td>\n",
       "    </tr>\n",
       "    <tr>\n",
       "      <th>Fire - General Service Call</th>\n",
       "      <td>309</td>\n",
       "    </tr>\n",
       "    <tr>\n",
       "      <th>Fire - Box Reset</th>\n",
       "      <td>297</td>\n",
       "    </tr>\n",
       "    <tr>\n",
       "      <th>Fire - Haz Mat</th>\n",
       "      <td>236</td>\n",
       "    </tr>\n",
       "    <tr>\n",
       "      <th>Fire - Brush</th>\n",
       "      <td>234</td>\n",
       "    </tr>\n",
       "  </tbody>\n",
       "</table>\n",
       "</div>"
      ],
      "text/plain": [
       "                             Count\n",
       "ReasonText                        \n",
       "Fire - Medical               11476\n",
       "Fire - Fire Alarm             2126\n",
       "Fire - Inspection             1905\n",
       "Fire - Auto Accident           707\n",
       "Fire - Pre Plan                542\n",
       "Fire - Structure               340\n",
       "Fire - General Service Call    309\n",
       "Fire - Box Reset               297\n",
       "Fire - Haz Mat                 236\n",
       "Fire - Brush                   234"
      ]
     },
     "execution_count": 186,
     "metadata": {},
     "output_type": "execute_result"
    }
   ],
   "source": [
    "fireDispatchCount = fireDispatch.groupby('ReasonText').count()\n",
    "fireDispatchCount = fireDispatchCount[['CallTime']]\n",
    "fireDispatchCount.columns = ['Count']\n",
    "fireDispatchCount.sort_values('Count', inplace=True, ascending=False)\n",
    "fireDispatchCount.head(10)"
   ]
  },
  {
   "cell_type": "code",
   "execution_count": 187,
   "metadata": {
    "collapsed": false
   },
   "outputs": [
    {
     "data": {
      "text/plain": [
       "<matplotlib.text.Text at 0x153ef6150>"
      ]
     },
     "execution_count": 187,
     "metadata": {},
     "output_type": "execute_result"
    },
    {
     "data": {
      "image/png": "[encoded data removed]",
      "text/plain": [
       "<matplotlib.figure.Figure at 0x111c83450>"
      ]
     },
     "metadata": {},
     "output_type": "display_data"
    }
   ],
   "source": [
    "fig, ax = plt.subplots(figsize = (10,6))\n",
    "fireDispatchCount.head(10).sort_values('Count').plot.barh(fontsize=11, ax=ax)\n",
    "ax.set_title('Top 10 Dispatch Reasons', fontsize=18)\n",
    "ax.set_ylabel('Dispatch Reason', fontsize=14)"
   ]
  },
  {
   "cell_type": "markdown",
   "metadata": {},
   "source": [
    "#### Find Count of Dispatches by Census Block"
   ]
  },
  {
   "cell_type": "code",
   "execution_count": 151,
   "metadata": {
    "collapsed": true
   },
   "outputs": [],
   "source": [
    "censusBlocks = gpd.read_file('../Data/CENSUS2010_BLK_BG_TRCT_SHP/CENSUS2010BLOCKS_POLY.shp')\n",
    "censusBlocks = censusBlocks.to_crs({'init' :'epsg:4326'})"
   ]
  },
  {
   "cell_type": "code",
   "execution_count": 159,
   "metadata": {
    "collapsed": true
   },
   "outputs": [],
   "source": [
    "censusBlocks = censusBlocks[['GEOID10', 'geometry', 'POP100_RE']]"
   ]
  },
  {
   "cell_type": "code",
   "execution_count": 153,
   "metadata": {
    "collapsed": false
   },
   "outputs": [],
   "source": [
    "geoCodes = gpd.read_file('../Data/New_Bedford_CodeViolation_Shapefiles/NB_gecode.shp')"
   ]
  },
  {
   "cell_type": "code",
   "execution_count": 154,
   "metadata": {
    "collapsed": false
   },
   "outputs": [
    {
     "data": {
      "text/html": [
       "<div>\n",
       "<table border=\"1\" class=\"dataframe\">\n",
       "  <thead>\n",
       "    <tr style=\"text-align: right;\">\n",
       "      <th></th>\n",
       "      <th>address</th>\n",
       "      <th>geometry</th>\n",
       "      <th>latitude</th>\n",
       "      <th>longitude</th>\n",
       "    </tr>\n",
       "  </thead>\n",
       "  <tbody>\n",
       "    <tr>\n",
       "      <th>0</th>\n",
       "      <td>483 Kempton St</td>\n",
       "      <td>POINT (-70.937732 41.63681500000001)</td>\n",
       "      <td>41.636815</td>\n",
       "      <td>-70.937732</td>\n",
       "    </tr>\n",
       "    <tr>\n",
       "      <th>1</th>\n",
       "      <td>528 Kempton St</td>\n",
       "      <td>POINT (-70.9391925 41.6364648)</td>\n",
       "      <td>41.636465</td>\n",
       "      <td>-70.939193</td>\n",
       "    </tr>\n",
       "    <tr>\n",
       "      <th>2</th>\n",
       "      <td>529 Kempton St</td>\n",
       "      <td>POINT (-70.939211 41.636705)</td>\n",
       "      <td>41.636705</td>\n",
       "      <td>-70.939211</td>\n",
       "    </tr>\n",
       "    <tr>\n",
       "      <th>3</th>\n",
       "      <td>550 Kempton St</td>\n",
       "      <td>POINT (-70.939685 41.636314)</td>\n",
       "      <td>41.636314</td>\n",
       "      <td>-70.939685</td>\n",
       "    </tr>\n",
       "    <tr>\n",
       "      <th>4</th>\n",
       "      <td>554 Kempton St</td>\n",
       "      <td>POINT (-70.93986020000001 41.6363536)</td>\n",
       "      <td>41.636354</td>\n",
       "      <td>-70.939860</td>\n",
       "    </tr>\n",
       "  </tbody>\n",
       "</table>\n",
       "</div>"
      ],
      "text/plain": [
       "          address                               geometry   latitude  longitude\n",
       "0  483 Kempton St   POINT (-70.937732 41.63681500000001)  41.636815 -70.937732\n",
       "1  528 Kempton St         POINT (-70.9391925 41.6364648)  41.636465 -70.939193\n",
       "2  529 Kempton St           POINT (-70.939211 41.636705)  41.636705 -70.939211\n",
       "3  550 Kempton St           POINT (-70.939685 41.636314)  41.636314 -70.939685\n",
       "4  554 Kempton St  POINT (-70.93986020000001 41.6363536)  41.636354 -70.939860"
      ]
     },
     "execution_count": 154,
     "metadata": {},
     "output_type": "execute_result"
    }
   ],
   "source": [
    "geoCodes.head()"
   ]
  },
  {
   "cell_type": "code",
   "execution_count": 160,
   "metadata": {
    "collapsed": false
   },
   "outputs": [
    {
     "data": {
      "text/plain": [
       "4706"
      ]
     },
     "execution_count": 160,
     "metadata": {},
     "output_type": "execute_result"
    }
   ],
   "source": [
    "len(geoCodes)"
   ]
  },
  {
   "cell_type": "code",
   "execution_count": 161,
   "metadata": {
    "collapsed": true
   },
   "outputs": [],
   "source": [
    "address_cb = gpd.sjoin(geoCodes, censusBlocks, how='inner', op='within')"
   ]
  },
  {
   "cell_type": "code",
   "execution_count": 162,
   "metadata": {
    "collapsed": false
   },
   "outputs": [
    {
     "data": {
      "text/plain": [
       "4706"
      ]
     },
     "execution_count": 162,
     "metadata": {},
     "output_type": "execute_result"
    }
   ],
   "source": [
    "len(address_cb)"
   ]
  },
  {
   "cell_type": "code",
   "execution_count": 164,
   "metadata": {
    "collapsed": false
   },
   "outputs": [
    {
     "data": {
      "text/html": [
       "<div>\n",
       "<table border=\"1\" class=\"dataframe\">\n",
       "  <thead>\n",
       "    <tr style=\"text-align: right;\">\n",
       "      <th></th>\n",
       "      <th>address</th>\n",
       "      <th>geometry</th>\n",
       "      <th>latitude</th>\n",
       "      <th>longitude</th>\n",
       "      <th>GEOID10</th>\n",
       "      <th>POP100_RE</th>\n",
       "    </tr>\n",
       "  </thead>\n",
       "  <tbody>\n",
       "    <tr>\n",
       "      <th>3040</th>\n",
       "      <td>78 Brock Ave</td>\n",
       "      <td>POINT (-70.9075574 41.59806339999999)</td>\n",
       "      <td>41.598063</td>\n",
       "      <td>-70.907557</td>\n",
       "      <td>250056528001031</td>\n",
       "      <td>24</td>\n",
       "    </tr>\n",
       "    <tr>\n",
       "      <th>984</th>\n",
       "      <td>108 Portland St</td>\n",
       "      <td>POINT (-70.9065945 41.5986302)</td>\n",
       "      <td>41.598630</td>\n",
       "      <td>-70.906594</td>\n",
       "      <td>250056528001031</td>\n",
       "      <td>24</td>\n",
       "    </tr>\n",
       "    <tr>\n",
       "      <th>3855</th>\n",
       "      <td>232 Dawson St</td>\n",
       "      <td>POINT (-70.92576029999999 41.68072470000001)</td>\n",
       "      <td>41.680725</td>\n",
       "      <td>-70.925760</td>\n",
       "      <td>250056503004012</td>\n",
       "      <td>64</td>\n",
       "    </tr>\n",
       "    <tr>\n",
       "      <th>3015</th>\n",
       "      <td>90 Branscomb St</td>\n",
       "      <td>POINT (-70.9262657 41.6796292)</td>\n",
       "      <td>41.679629</td>\n",
       "      <td>-70.926266</td>\n",
       "      <td>250056503004014</td>\n",
       "      <td>83</td>\n",
       "    </tr>\n",
       "    <tr>\n",
       "      <th>4359</th>\n",
       "      <td>249 Hersom St</td>\n",
       "      <td>POINT (-70.92641040000001 41.679381)</td>\n",
       "      <td>41.679381</td>\n",
       "      <td>-70.926410</td>\n",
       "      <td>250056503004014</td>\n",
       "      <td>83</td>\n",
       "    </tr>\n",
       "  </tbody>\n",
       "</table>\n",
       "</div>"
      ],
      "text/plain": [
       "              address                                      geometry  \\\n",
       "3040     78 Brock Ave         POINT (-70.9075574 41.59806339999999)   \n",
       "984   108 Portland St                POINT (-70.9065945 41.5986302)   \n",
       "3855    232 Dawson St  POINT (-70.92576029999999 41.68072470000001)   \n",
       "3015  90 Branscomb St                POINT (-70.9262657 41.6796292)   \n",
       "4359    249 Hersom St          POINT (-70.92641040000001 41.679381)   \n",
       "\n",
       "       latitude  longitude          GEOID10  POP100_RE  \n",
       "3040  41.598063 -70.907557  250056528001031         24  \n",
       "984   41.598630 -70.906594  250056528001031         24  \n",
       "3855  41.680725 -70.925760  250056503004012         64  \n",
       "3015  41.679629 -70.926266  250056503004014         83  \n",
       "4359  41.679381 -70.926410  250056503004014         83  "
      ]
     },
     "execution_count": 164,
     "metadata": {},
     "output_type": "execute_result"
    }
   ],
   "source": [
    "address_cb.drop('index_right',axis=1,inplace=True)\n",
    "address_cb.head()"
   ]
  },
  {
   "cell_type": "code",
   "execution_count": 188,
   "metadata": {
    "collapsed": false
   },
   "outputs": [
    {
     "data": {
      "text/html": [
       "<div>\n",
       "<table border=\"1\" class=\"dataframe\">\n",
       "  <thead>\n",
       "    <tr style=\"text-align: right;\">\n",
       "      <th></th>\n",
       "      <th>CallTime</th>\n",
       "      <th>ReasonText</th>\n",
       "      <th>ClosedTime</th>\n",
       "      <th>DispatchDuration</th>\n",
       "      <th>address</th>\n",
       "    </tr>\n",
       "  </thead>\n",
       "  <tbody>\n",
       "    <tr>\n",
       "      <th>0</th>\n",
       "      <td>2016-01-01 01:34:00</td>\n",
       "      <td>Fire - Auto Accident</td>\n",
       "      <td>2016-01-01 02:01:00</td>\n",
       "      <td>00:27:00</td>\n",
       "      <td>88 Arlington St</td>\n",
       "    </tr>\n",
       "    <tr>\n",
       "      <th>1</th>\n",
       "      <td>2016-01-01 01:55:00</td>\n",
       "      <td>Fire - Medical</td>\n",
       "      <td>2016-01-01 02:09:00</td>\n",
       "      <td>00:14:00</td>\n",
       "      <td>214 Sawyer St</td>\n",
       "    </tr>\n",
       "    <tr>\n",
       "      <th>2</th>\n",
       "      <td>2016-01-01 01:57:00</td>\n",
       "      <td>Fire - Medical</td>\n",
       "      <td>2016-01-01 02:13:00</td>\n",
       "      <td>00:16:00</td>\n",
       "      <td>8 Granfield St</td>\n",
       "    </tr>\n",
       "    <tr>\n",
       "      <th>3</th>\n",
       "      <td>2016-01-01 02:07:00</td>\n",
       "      <td>Fire - Medical</td>\n",
       "      <td>2016-01-01 02:28:00</td>\n",
       "      <td>00:21:00</td>\n",
       "      <td>34 Union St</td>\n",
       "    </tr>\n",
       "    <tr>\n",
       "      <th>4</th>\n",
       "      <td>2016-01-01 02:16:00</td>\n",
       "      <td>Fire - Medical</td>\n",
       "      <td>2016-01-01 02:45:00</td>\n",
       "      <td>00:29:00</td>\n",
       "      <td>335 Coggeshall St</td>\n",
       "    </tr>\n",
       "  </tbody>\n",
       "</table>\n",
       "</div>"
      ],
      "text/plain": [
       "             CallTime            ReasonText          ClosedTime  \\\n",
       "0 2016-01-01 01:34:00  Fire - Auto Accident 2016-01-01 02:01:00   \n",
       "1 2016-01-01 01:55:00        Fire - Medical 2016-01-01 02:09:00   \n",
       "2 2016-01-01 01:57:00        Fire - Medical 2016-01-01 02:13:00   \n",
       "3 2016-01-01 02:07:00        Fire - Medical 2016-01-01 02:28:00   \n",
       "4 2016-01-01 02:16:00        Fire - Medical 2016-01-01 02:45:00   \n",
       "\n",
       "   DispatchDuration            address  \n",
       "0          00:27:00    88 Arlington St  \n",
       "1          00:14:00      214 Sawyer St  \n",
       "2          00:16:00     8 Granfield St  \n",
       "3          00:21:00        34 Union St  \n",
       "4          00:29:00  335 Coggeshall St  "
      ]
     },
     "execution_count": 188,
     "metadata": {},
     "output_type": "execute_result"
    }
   ],
   "source": [
    "fireDispatch['address'] = fireDispatch.StreetNum.astype(str) + ' ' + fireDispatch.StreetName.astype(str).str.title() + \\\n",
    "' ' + fireDispatch.StreetSuf.astype(str).str.title()\n",
    "fireDispatch.drop(['StreetNum','StreetName', 'StreetSuf'], axis=1, inplace=True)\n",
    "fireDispatch.head()"
   ]
  },
  {
   "cell_type": "code",
   "execution_count": 189,
   "metadata": {
    "collapsed": false
   },
   "outputs": [
    {
     "data": {
      "text/plain": [
       "7367"
      ]
     },
     "execution_count": 189,
     "metadata": {},
     "output_type": "execute_result"
    }
   ],
   "source": [
    "len(fireDispatch.address.unique())"
   ]
  },
  {
   "cell_type": "code",
   "execution_count": 190,
   "metadata": {
    "collapsed": false
   },
   "outputs": [
    {
     "data": {
      "text/plain": [
       "3978"
      ]
     },
     "execution_count": 190,
     "metadata": {},
     "output_type": "execute_result"
    }
   ],
   "source": [
    "fireDispatch_cb = pd.merge(fireDispatch, address_cb, how='inner', on='address')\n",
    "len(fireDispatch_cb)"
   ]
  },
  {
   "cell_type": "code",
   "execution_count": 197,
   "metadata": {
    "collapsed": false
   },
   "outputs": [
    {
     "data": {
      "text/html": [
       "<div>\n",
       "<table border=\"1\" class=\"dataframe\">\n",
       "  <thead>\n",
       "    <tr style=\"text-align: right;\">\n",
       "      <th></th>\n",
       "      <th>Census_Block</th>\n",
       "      <th>Dispatch_Count</th>\n",
       "    </tr>\n",
       "  </thead>\n",
       "  <tbody>\n",
       "    <tr>\n",
       "      <th>638</th>\n",
       "      <td>250056527002004</td>\n",
       "      <td>67</td>\n",
       "    </tr>\n",
       "    <tr>\n",
       "      <th>153</th>\n",
       "      <td>250056506001008</td>\n",
       "      <td>46</td>\n",
       "    </tr>\n",
       "    <tr>\n",
       "      <th>613</th>\n",
       "      <td>250056526001001</td>\n",
       "      <td>45</td>\n",
       "    </tr>\n",
       "    <tr>\n",
       "      <th>181</th>\n",
       "      <td>250056507002007</td>\n",
       "      <td>44</td>\n",
       "    </tr>\n",
       "    <tr>\n",
       "      <th>490</th>\n",
       "      <td>250056518002019</td>\n",
       "      <td>43</td>\n",
       "    </tr>\n",
       "  </tbody>\n",
       "</table>\n",
       "</div>"
      ],
      "text/plain": [
       "        Census_Block  Dispatch_Count\n",
       "638  250056527002004              67\n",
       "153  250056506001008              46\n",
       "613  250056526001001              45\n",
       "181  250056507002007              44\n",
       "490  250056518002019              43"
      ]
     },
     "execution_count": 197,
     "metadata": {},
     "output_type": "execute_result"
    }
   ],
   "source": [
    "fireDispatch_count = fireDispatch_cb.groupby('GEOID10').count()\n",
    "fireDispatch_count = fireDispatch_count[['address']]\n",
    "fireDispatch_count.reset_index(inplace=True)\n",
    "fireDispatch_count.columns = ['Census_Block', 'Dispatch_Count']\n",
    "fireDispatch_count.sort_values('Dispatch_Count', ascending=False, inplace=True)\n",
    "fireDispatch_count.head()"
   ]
  },
  {
   "cell_type": "code",
   "execution_count": 199,
   "metadata": {
    "collapsed": false
   },
   "outputs": [
    {
     "data": {
      "text/plain": [
       "674"
      ]
     },
     "execution_count": 199,
     "metadata": {},
     "output_type": "execute_result"
    }
   ],
   "source": [
    "len(fireDispatch_count)"
   ]
  },
  {
   "cell_type": "code",
   "execution_count": 203,
   "metadata": {
    "collapsed": false
   },
   "outputs": [
    {
     "data": {
      "text/plain": [
       "674"
      ]
     },
     "execution_count": 203,
     "metadata": {},
     "output_type": "execute_result"
    }
   ],
   "source": [
    "fireDispatch_count_shp = pd.merge(fireDispatch_count, censusBlocks, how='inner', left_on='Census_Block' \\\n",
    "                                 , right_on='GEOID10')\n",
    "len(fireDispatch_count_shp)"
   ]
  },
  {
   "cell_type": "code",
   "execution_count": 204,
   "metadata": {
    "collapsed": false
   },
   "outputs": [
    {
     "data": {
      "text/html": [
       "<div>\n",
       "<table border=\"1\" class=\"dataframe\">\n",
       "  <thead>\n",
       "    <tr style=\"text-align: right;\">\n",
       "      <th></th>\n",
       "      <th>Census_Block</th>\n",
       "      <th>Dispatch_Count</th>\n",
       "      <th>geometry</th>\n",
       "      <th>POP100_RE</th>\n",
       "    </tr>\n",
       "  </thead>\n",
       "  <tbody>\n",
       "    <tr>\n",
       "      <th>0</th>\n",
       "      <td>250056527002004</td>\n",
       "      <td>0.271255</td>\n",
       "      <td>POLYGON ((-70.91445700037461 41.61461500017527...</td>\n",
       "      <td>247</td>\n",
       "    </tr>\n",
       "    <tr>\n",
       "      <th>1</th>\n",
       "      <td>250056506001008</td>\n",
       "      <td>0.222222</td>\n",
       "      <td>POLYGON ((-70.92373300059108 41.66328699979272...</td>\n",
       "      <td>207</td>\n",
       "    </tr>\n",
       "    <tr>\n",
       "      <th>2</th>\n",
       "      <td>250056526001001</td>\n",
       "      <td>0.141509</td>\n",
       "      <td>POLYGON ((-70.91743599964278 41.61384600027931...</td>\n",
       "      <td>318</td>\n",
       "    </tr>\n",
       "    <tr>\n",
       "      <th>3</th>\n",
       "      <td>250056507002007</td>\n",
       "      <td>0.357724</td>\n",
       "      <td>POLYGON ((-70.92598500058594 41.65932300016619...</td>\n",
       "      <td>123</td>\n",
       "    </tr>\n",
       "    <tr>\n",
       "      <th>4</th>\n",
       "      <td>250056518002019</td>\n",
       "      <td>0.333333</td>\n",
       "      <td>POLYGON ((-70.92423499993653 41.63190999957919...</td>\n",
       "      <td>129</td>\n",
       "    </tr>\n",
       "  </tbody>\n",
       "</table>\n",
       "</div>"
      ],
      "text/plain": [
       "      Census_Block  Dispatch_Count  \\\n",
       "0  250056527002004        0.271255   \n",
       "1  250056506001008        0.222222   \n",
       "2  250056526001001        0.141509   \n",
       "3  250056507002007        0.357724   \n",
       "4  250056518002019        0.333333   \n",
       "\n",
       "                                            geometry  POP100_RE  \n",
       "0  POLYGON ((-70.91445700037461 41.61461500017527...        247  \n",
       "1  POLYGON ((-70.92373300059108 41.66328699979272...        207  \n",
       "2  POLYGON ((-70.91743599964278 41.61384600027931...        318  \n",
       "3  POLYGON ((-70.92598500058594 41.65932300016619...        123  \n",
       "4  POLYGON ((-70.92423499993653 41.63190999957919...        129  "
      ]
     },
     "execution_count": 204,
     "metadata": {},
     "output_type": "execute_result"
    }
   ],
   "source": [
    "fireDispatch_count_shp.drop('GEOID10', axis=1, inplace=True)\n",
    "fireDispatch_count_shp['Dispatch_Count'] = fireDispatch_count_shp['Dispatch_Count']/fireDispatch_count_shp['POP100_RE']\n",
    "fireDispatch_count_shp.head()"
   ]
  },
  {
   "cell_type": "code",
   "execution_count": 205,
   "metadata": {
    "collapsed": false
   },
   "outputs": [
    {
     "data": {
      "text/html": [
       "<div>\n",
       "<table border=\"1\" class=\"dataframe\">\n",
       "  <thead>\n",
       "    <tr style=\"text-align: right;\">\n",
       "      <th></th>\n",
       "      <th>Dispatch_Count</th>\n",
       "      <th>POP100_RE</th>\n",
       "    </tr>\n",
       "  </thead>\n",
       "  <tbody>\n",
       "    <tr>\n",
       "      <th>count</th>\n",
       "      <td>674.000000</td>\n",
       "      <td>674.000000</td>\n",
       "    </tr>\n",
       "    <tr>\n",
       "      <th>mean</th>\n",
       "      <td>inf</td>\n",
       "      <td>86.227003</td>\n",
       "    </tr>\n",
       "    <tr>\n",
       "      <th>std</th>\n",
       "      <td>NaN</td>\n",
       "      <td>70.064757</td>\n",
       "    </tr>\n",
       "    <tr>\n",
       "      <th>min</th>\n",
       "      <td>0.003378</td>\n",
       "      <td>0.000000</td>\n",
       "    </tr>\n",
       "    <tr>\n",
       "      <th>25%</th>\n",
       "      <td>0.024390</td>\n",
       "      <td>44.000000</td>\n",
       "    </tr>\n",
       "    <tr>\n",
       "      <th>50%</th>\n",
       "      <td>0.050000</td>\n",
       "      <td>70.500000</td>\n",
       "    </tr>\n",
       "    <tr>\n",
       "      <th>75%</th>\n",
       "      <td>0.107555</td>\n",
       "      <td>111.750000</td>\n",
       "    </tr>\n",
       "    <tr>\n",
       "      <th>max</th>\n",
       "      <td>inf</td>\n",
       "      <td>864.000000</td>\n",
       "    </tr>\n",
       "  </tbody>\n",
       "</table>\n",
       "</div>"
      ],
      "text/plain": [
       "       Dispatch_Count   POP100_RE\n",
       "count      674.000000  674.000000\n",
       "mean              inf   86.227003\n",
       "std               NaN   70.064757\n",
       "min          0.003378    0.000000\n",
       "25%          0.024390   44.000000\n",
       "50%          0.050000   70.500000\n",
       "75%          0.107555  111.750000\n",
       "max               inf  864.000000"
      ]
     },
     "execution_count": 205,
     "metadata": {},
     "output_type": "execute_result"
    }
   ],
   "source": [
    "fireDispatch_count_shp.describe()"
   ]
  },
  {
   "cell_type": "code",
   "execution_count": 206,
   "metadata": {
    "collapsed": true
   },
   "outputs": [],
   "source": [
    "fireDispatch_count_shp = fireDispatch_count_shp.replace([np.inf, -np.inf], np.nan)\n",
    "fireDispatch_count_shp.dropna(inplace=True)\n",
    "fireDispatch_count_shp = gpd.GeoDataFrame(fireDispatch_count_shp)\n",
    "#fireDispatch_count_shp.to_file('../Data/New_Bedford_Fire_Shapefiles/fireDispatch_count.shp')"
   ]
  },
  {
   "cell_type": "code",
   "execution_count": 207,
   "metadata": {
    "collapsed": false
   },
   "outputs": [
    {
     "data": {
      "text/html": [
       "<div>\n",
       "<table border=\"1\" class=\"dataframe\">\n",
       "  <thead>\n",
       "    <tr style=\"text-align: right;\">\n",
       "      <th></th>\n",
       "      <th>Dispatch_Count</th>\n",
       "      <th>POP100_RE</th>\n",
       "    </tr>\n",
       "  </thead>\n",
       "  <tbody>\n",
       "    <tr>\n",
       "      <th>count</th>\n",
       "      <td>662.000000</td>\n",
       "      <td>662.000000</td>\n",
       "    </tr>\n",
       "    <tr>\n",
       "      <th>mean</th>\n",
       "      <td>0.102964</td>\n",
       "      <td>87.790030</td>\n",
       "    </tr>\n",
       "    <tr>\n",
       "      <th>std</th>\n",
       "      <td>0.294980</td>\n",
       "      <td>69.719188</td>\n",
       "    </tr>\n",
       "    <tr>\n",
       "      <th>min</th>\n",
       "      <td>0.003378</td>\n",
       "      <td>2.000000</td>\n",
       "    </tr>\n",
       "    <tr>\n",
       "      <th>25%</th>\n",
       "      <td>0.024170</td>\n",
       "      <td>46.000000</td>\n",
       "    </tr>\n",
       "    <tr>\n",
       "      <th>50%</th>\n",
       "      <td>0.049180</td>\n",
       "      <td>72.000000</td>\n",
       "    </tr>\n",
       "    <tr>\n",
       "      <th>75%</th>\n",
       "      <td>0.104303</td>\n",
       "      <td>112.750000</td>\n",
       "    </tr>\n",
       "    <tr>\n",
       "      <th>max</th>\n",
       "      <td>6.500000</td>\n",
       "      <td>864.000000</td>\n",
       "    </tr>\n",
       "  </tbody>\n",
       "</table>\n",
       "</div>"
      ],
      "text/plain": [
       "       Dispatch_Count   POP100_RE\n",
       "count      662.000000  662.000000\n",
       "mean         0.102964   87.790030\n",
       "std          0.294980   69.719188\n",
       "min          0.003378    2.000000\n",
       "25%          0.024170   46.000000\n",
       "50%          0.049180   72.000000\n",
       "75%          0.104303  112.750000\n",
       "max          6.500000  864.000000"
      ]
     },
     "execution_count": 207,
     "metadata": {},
     "output_type": "execute_result"
    }
   ],
   "source": [
    "fireDispatch_count_shp.describe()"
   ]
  },
  {
   "cell_type": "code",
   "execution_count": null,
   "metadata": {
    "collapsed": true
   },
   "outputs": [],
   "source": []
  }
 ],
 "metadata": {
  "anaconda-cloud": {},
  "kernelspec": {
   "display_name": "Python [default]",
   "language": "python",
   "name": "python2"
  },
  "language_info": {
   "codemirror_mode": {
    "name": "ipython",
    "version": 2
   },
   "file_extension": ".py",
   "mimetype": "text/x-python",
   "name": "python",
   "nbconvert_exporter": "python",
   "pygments_lexer": "ipython2",
   "version": "2.7.8"
  }
 },
 "nbformat": 4,
 "nbformat_minor": 2
}
